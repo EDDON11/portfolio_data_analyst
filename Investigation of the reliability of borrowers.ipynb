{
 "cells": [
  {
   "cell_type": "markdown",
   "id": "9f59a838",
   "metadata": {},
   "source": [
    "<div style=\"border:solid Chocolate 2px; padding: 40px\">\n",
    "\n",
    "<b>Эдуард, приветствую!</b>\n",
    "\n",
    "Буду рада с тобой познакомиться. Меня зовут Евгения Маракова и я буду ревьюером твоего проекта. Если ты не против, то предлагаю общаться на \"ты\":) Если удобнее на \"вы\", то нет проблем, только скажи об этом.\n",
    "\n",
    "В процессе работы ты встретишь комментарии <font color='green'>зеленого</font>, <font color='gold'>желтого</font> и <font color='red'>красного</font> цветов. Что они значат, смотри ниже:\n",
    "    <br/>\n",
    "\n",
    "<div class=\"alert alert-success\">\n",
    "<h2> Комментарий ревьюера <a class=\"tocSkip\"> </h2>\n",
    "\n",
    "<b>Отлично!✅:</b> Решение на этом шаге является полностью правильным.\n",
    "</div>\n",
    "\n",
    "<br/>\n",
    "\n",
    "<div class=\"alert alert-warning\">\n",
    "    <h2> Комментарий ревьюера <a class=\"tocSkip\"> </h2>\n",
    "    \n",
    "<b>Можно лучше⚠️:</b> Решение на этом шаге станет еще лучше, если внести небольшие коррективы.\n",
    "</div>\n",
    "\n",
    "\n",
    "<br/>\n",
    "<div class=\"alert alert-block alert-danger\">\n",
    "<h2> Комментарий ревьюера <a class=\"tocSkip\"></h2>\n",
    "\n",
    "    \n",
    "<b>Необходимо исправить❌:</b>\n",
    " Решение на этом шаге требует существенной переработки и внесения правок. Напоминаю, что проект не может быть принят с первого раза, если ревью содержит комментарии, рекомендующие доработать шаги.\n",
    "</div>\n",
    "    \n",
    "Увидев мой комментарий, не удаляй его, он будет очень полезен в случае повторной проверки работы😊\n",
    "    \n",
    "Свой комментарий помечай так, как показано ниже, тогда нам будет легче вести диалог, а мне выполнить повторную проверку проекта.\n",
    "    <div class=\"alert alert-info\"> <b>Комментарий студента: </b> </div>\n",
    "    \n"
   ]
  },
  {
   "cell_type": "markdown",
   "id": "386f2ae7",
   "metadata": {
    "deletable": false,
    "editable": false,
    "id": "386f2ae7"
   },
   "source": [
    "# Исследование надежности заемщиков\n"
   ]
  },
  {
   "cell_type": "markdown",
   "id": "ffe86f65",
   "metadata": {
    "deletable": false,
    "editable": false,
    "id": "ffe86f65"
   },
   "source": [
    "Во второй части проекта вы выполните шаги 3 и 4. Их вручную проверит ревьюер.\n",
    "Чтобы вам не пришлось писать код заново для шагов 1 и 2, мы добавили авторские решения в ячейки с кодом. \n",
    "\n"
   ]
  },
  {
   "cell_type": "markdown",
   "id": "26613308",
   "metadata": {
    "deletable": false,
    "editable": false,
    "id": "26613308"
   },
   "source": [
    "## Откройте таблицу и изучите общую информацию о данных"
   ]
  },
  {
   "cell_type": "markdown",
   "id": "3c9f838e",
   "metadata": {
    "deletable": false,
    "editable": false,
    "id": "3c9f838e"
   },
   "source": [
    "**Задание 1. Импортируйте библиотеку pandas. Считайте данные из csv-файла в датафрейм и сохраните в переменную `data`. Путь к файлу:**\n",
    "\n",
    "`/datasets/data.csv`"
   ]
  },
  {
   "cell_type": "code",
   "execution_count": 4,
   "id": "77a68a90",
   "metadata": {
    "deletable": false,
    "id": "77a68a90"
   },
   "outputs": [],
   "source": [
    "import pandas as pd\n",
    "\n",
    "try:\n",
    "    data = pd.read_csv('/datasets/data.csv')\n",
    "except:\n",
    "    data = pd.read_csv('https://code.s3.yandex.net/datasets/data.csv')"
   ]
  },
  {
   "cell_type": "markdown",
   "id": "45365635",
   "metadata": {
    "deletable": false,
    "editable": false,
    "id": "45365635"
   },
   "source": [
    "**Задание 2. Выведите первые 20 строчек датафрейма `data` на экран.**"
   ]
  },
  {
   "cell_type": "code",
   "execution_count": 5,
   "id": "b0451a9a",
   "metadata": {
    "deletable": false,
    "id": "b0451a9a",
    "outputId": "1a8f3ef2-d323-4ec2-ddf7-89670b5944c4"
   },
   "outputs": [
    {
     "data": {
      "text/html": [
       "<div>\n",
       "<style scoped>\n",
       "    .dataframe tbody tr th:only-of-type {\n",
       "        vertical-align: middle;\n",
       "    }\n",
       "\n",
       "    .dataframe tbody tr th {\n",
       "        vertical-align: top;\n",
       "    }\n",
       "\n",
       "    .dataframe thead th {\n",
       "        text-align: right;\n",
       "    }\n",
       "</style>\n",
       "<table border=\"1\" class=\"dataframe\">\n",
       "  <thead>\n",
       "    <tr style=\"text-align: right;\">\n",
       "      <th></th>\n",
       "      <th>children</th>\n",
       "      <th>days_employed</th>\n",
       "      <th>dob_years</th>\n",
       "      <th>education</th>\n",
       "      <th>education_id</th>\n",
       "      <th>family_status</th>\n",
       "      <th>family_status_id</th>\n",
       "      <th>gender</th>\n",
       "      <th>income_type</th>\n",
       "      <th>debt</th>\n",
       "      <th>total_income</th>\n",
       "      <th>purpose</th>\n",
       "    </tr>\n",
       "  </thead>\n",
       "  <tbody>\n",
       "    <tr>\n",
       "      <th>0</th>\n",
       "      <td>1</td>\n",
       "      <td>-8437.673028</td>\n",
       "      <td>42</td>\n",
       "      <td>высшее</td>\n",
       "      <td>0</td>\n",
       "      <td>женат / замужем</td>\n",
       "      <td>0</td>\n",
       "      <td>F</td>\n",
       "      <td>сотрудник</td>\n",
       "      <td>0</td>\n",
       "      <td>253875.639453</td>\n",
       "      <td>покупка жилья</td>\n",
       "    </tr>\n",
       "    <tr>\n",
       "      <th>1</th>\n",
       "      <td>1</td>\n",
       "      <td>-4024.803754</td>\n",
       "      <td>36</td>\n",
       "      <td>среднее</td>\n",
       "      <td>1</td>\n",
       "      <td>женат / замужем</td>\n",
       "      <td>0</td>\n",
       "      <td>F</td>\n",
       "      <td>сотрудник</td>\n",
       "      <td>0</td>\n",
       "      <td>112080.014102</td>\n",
       "      <td>приобретение автомобиля</td>\n",
       "    </tr>\n",
       "    <tr>\n",
       "      <th>2</th>\n",
       "      <td>0</td>\n",
       "      <td>-5623.422610</td>\n",
       "      <td>33</td>\n",
       "      <td>Среднее</td>\n",
       "      <td>1</td>\n",
       "      <td>женат / замужем</td>\n",
       "      <td>0</td>\n",
       "      <td>M</td>\n",
       "      <td>сотрудник</td>\n",
       "      <td>0</td>\n",
       "      <td>145885.952297</td>\n",
       "      <td>покупка жилья</td>\n",
       "    </tr>\n",
       "    <tr>\n",
       "      <th>3</th>\n",
       "      <td>3</td>\n",
       "      <td>-4124.747207</td>\n",
       "      <td>32</td>\n",
       "      <td>среднее</td>\n",
       "      <td>1</td>\n",
       "      <td>женат / замужем</td>\n",
       "      <td>0</td>\n",
       "      <td>M</td>\n",
       "      <td>сотрудник</td>\n",
       "      <td>0</td>\n",
       "      <td>267628.550329</td>\n",
       "      <td>дополнительное образование</td>\n",
       "    </tr>\n",
       "    <tr>\n",
       "      <th>4</th>\n",
       "      <td>0</td>\n",
       "      <td>340266.072047</td>\n",
       "      <td>53</td>\n",
       "      <td>среднее</td>\n",
       "      <td>1</td>\n",
       "      <td>гражданский брак</td>\n",
       "      <td>1</td>\n",
       "      <td>F</td>\n",
       "      <td>пенсионер</td>\n",
       "      <td>0</td>\n",
       "      <td>158616.077870</td>\n",
       "      <td>сыграть свадьбу</td>\n",
       "    </tr>\n",
       "    <tr>\n",
       "      <th>5</th>\n",
       "      <td>0</td>\n",
       "      <td>-926.185831</td>\n",
       "      <td>27</td>\n",
       "      <td>высшее</td>\n",
       "      <td>0</td>\n",
       "      <td>гражданский брак</td>\n",
       "      <td>1</td>\n",
       "      <td>M</td>\n",
       "      <td>компаньон</td>\n",
       "      <td>0</td>\n",
       "      <td>255763.565419</td>\n",
       "      <td>покупка жилья</td>\n",
       "    </tr>\n",
       "    <tr>\n",
       "      <th>6</th>\n",
       "      <td>0</td>\n",
       "      <td>-2879.202052</td>\n",
       "      <td>43</td>\n",
       "      <td>высшее</td>\n",
       "      <td>0</td>\n",
       "      <td>женат / замужем</td>\n",
       "      <td>0</td>\n",
       "      <td>F</td>\n",
       "      <td>компаньон</td>\n",
       "      <td>0</td>\n",
       "      <td>240525.971920</td>\n",
       "      <td>операции с жильем</td>\n",
       "    </tr>\n",
       "    <tr>\n",
       "      <th>7</th>\n",
       "      <td>0</td>\n",
       "      <td>-152.779569</td>\n",
       "      <td>50</td>\n",
       "      <td>СРЕДНЕЕ</td>\n",
       "      <td>1</td>\n",
       "      <td>женат / замужем</td>\n",
       "      <td>0</td>\n",
       "      <td>M</td>\n",
       "      <td>сотрудник</td>\n",
       "      <td>0</td>\n",
       "      <td>135823.934197</td>\n",
       "      <td>образование</td>\n",
       "    </tr>\n",
       "    <tr>\n",
       "      <th>8</th>\n",
       "      <td>2</td>\n",
       "      <td>-6929.865299</td>\n",
       "      <td>35</td>\n",
       "      <td>ВЫСШЕЕ</td>\n",
       "      <td>0</td>\n",
       "      <td>гражданский брак</td>\n",
       "      <td>1</td>\n",
       "      <td>F</td>\n",
       "      <td>сотрудник</td>\n",
       "      <td>0</td>\n",
       "      <td>95856.832424</td>\n",
       "      <td>на проведение свадьбы</td>\n",
       "    </tr>\n",
       "    <tr>\n",
       "      <th>9</th>\n",
       "      <td>0</td>\n",
       "      <td>-2188.756445</td>\n",
       "      <td>41</td>\n",
       "      <td>среднее</td>\n",
       "      <td>1</td>\n",
       "      <td>женат / замужем</td>\n",
       "      <td>0</td>\n",
       "      <td>M</td>\n",
       "      <td>сотрудник</td>\n",
       "      <td>0</td>\n",
       "      <td>144425.938277</td>\n",
       "      <td>покупка жилья для семьи</td>\n",
       "    </tr>\n",
       "    <tr>\n",
       "      <th>10</th>\n",
       "      <td>2</td>\n",
       "      <td>-4171.483647</td>\n",
       "      <td>36</td>\n",
       "      <td>высшее</td>\n",
       "      <td>0</td>\n",
       "      <td>женат / замужем</td>\n",
       "      <td>0</td>\n",
       "      <td>M</td>\n",
       "      <td>компаньон</td>\n",
       "      <td>0</td>\n",
       "      <td>113943.491460</td>\n",
       "      <td>покупка недвижимости</td>\n",
       "    </tr>\n",
       "    <tr>\n",
       "      <th>11</th>\n",
       "      <td>0</td>\n",
       "      <td>-792.701887</td>\n",
       "      <td>40</td>\n",
       "      <td>среднее</td>\n",
       "      <td>1</td>\n",
       "      <td>женат / замужем</td>\n",
       "      <td>0</td>\n",
       "      <td>F</td>\n",
       "      <td>сотрудник</td>\n",
       "      <td>0</td>\n",
       "      <td>77069.234271</td>\n",
       "      <td>покупка коммерческой недвижимости</td>\n",
       "    </tr>\n",
       "    <tr>\n",
       "      <th>12</th>\n",
       "      <td>0</td>\n",
       "      <td>NaN</td>\n",
       "      <td>65</td>\n",
       "      <td>среднее</td>\n",
       "      <td>1</td>\n",
       "      <td>гражданский брак</td>\n",
       "      <td>1</td>\n",
       "      <td>M</td>\n",
       "      <td>пенсионер</td>\n",
       "      <td>0</td>\n",
       "      <td>NaN</td>\n",
       "      <td>сыграть свадьбу</td>\n",
       "    </tr>\n",
       "    <tr>\n",
       "      <th>13</th>\n",
       "      <td>0</td>\n",
       "      <td>-1846.641941</td>\n",
       "      <td>54</td>\n",
       "      <td>неоконченное высшее</td>\n",
       "      <td>2</td>\n",
       "      <td>женат / замужем</td>\n",
       "      <td>0</td>\n",
       "      <td>F</td>\n",
       "      <td>сотрудник</td>\n",
       "      <td>0</td>\n",
       "      <td>130458.228857</td>\n",
       "      <td>приобретение автомобиля</td>\n",
       "    </tr>\n",
       "    <tr>\n",
       "      <th>14</th>\n",
       "      <td>0</td>\n",
       "      <td>-1844.956182</td>\n",
       "      <td>56</td>\n",
       "      <td>высшее</td>\n",
       "      <td>0</td>\n",
       "      <td>гражданский брак</td>\n",
       "      <td>1</td>\n",
       "      <td>F</td>\n",
       "      <td>компаньон</td>\n",
       "      <td>1</td>\n",
       "      <td>165127.911772</td>\n",
       "      <td>покупка жилой недвижимости</td>\n",
       "    </tr>\n",
       "    <tr>\n",
       "      <th>15</th>\n",
       "      <td>1</td>\n",
       "      <td>-972.364419</td>\n",
       "      <td>26</td>\n",
       "      <td>среднее</td>\n",
       "      <td>1</td>\n",
       "      <td>женат / замужем</td>\n",
       "      <td>0</td>\n",
       "      <td>F</td>\n",
       "      <td>сотрудник</td>\n",
       "      <td>0</td>\n",
       "      <td>116820.904450</td>\n",
       "      <td>строительство собственной недвижимости</td>\n",
       "    </tr>\n",
       "    <tr>\n",
       "      <th>16</th>\n",
       "      <td>0</td>\n",
       "      <td>-1719.934226</td>\n",
       "      <td>35</td>\n",
       "      <td>среднее</td>\n",
       "      <td>1</td>\n",
       "      <td>женат / замужем</td>\n",
       "      <td>0</td>\n",
       "      <td>F</td>\n",
       "      <td>сотрудник</td>\n",
       "      <td>0</td>\n",
       "      <td>289202.704229</td>\n",
       "      <td>недвижимость</td>\n",
       "    </tr>\n",
       "    <tr>\n",
       "      <th>17</th>\n",
       "      <td>0</td>\n",
       "      <td>-2369.999720</td>\n",
       "      <td>33</td>\n",
       "      <td>высшее</td>\n",
       "      <td>0</td>\n",
       "      <td>гражданский брак</td>\n",
       "      <td>1</td>\n",
       "      <td>M</td>\n",
       "      <td>сотрудник</td>\n",
       "      <td>0</td>\n",
       "      <td>90410.586745</td>\n",
       "      <td>строительство недвижимости</td>\n",
       "    </tr>\n",
       "    <tr>\n",
       "      <th>18</th>\n",
       "      <td>0</td>\n",
       "      <td>400281.136913</td>\n",
       "      <td>53</td>\n",
       "      <td>среднее</td>\n",
       "      <td>1</td>\n",
       "      <td>вдовец / вдова</td>\n",
       "      <td>2</td>\n",
       "      <td>F</td>\n",
       "      <td>пенсионер</td>\n",
       "      <td>0</td>\n",
       "      <td>56823.777243</td>\n",
       "      <td>на покупку подержанного автомобиля</td>\n",
       "    </tr>\n",
       "    <tr>\n",
       "      <th>19</th>\n",
       "      <td>0</td>\n",
       "      <td>-10038.818549</td>\n",
       "      <td>48</td>\n",
       "      <td>СРЕДНЕЕ</td>\n",
       "      <td>1</td>\n",
       "      <td>в разводе</td>\n",
       "      <td>3</td>\n",
       "      <td>F</td>\n",
       "      <td>сотрудник</td>\n",
       "      <td>0</td>\n",
       "      <td>242831.107982</td>\n",
       "      <td>на покупку своего автомобиля</td>\n",
       "    </tr>\n",
       "  </tbody>\n",
       "</table>\n",
       "</div>"
      ],
      "text/plain": [
       "    children  days_employed  dob_years            education  education_id  \\\n",
       "0          1   -8437.673028         42               высшее             0   \n",
       "1          1   -4024.803754         36              среднее             1   \n",
       "2          0   -5623.422610         33              Среднее             1   \n",
       "3          3   -4124.747207         32              среднее             1   \n",
       "4          0  340266.072047         53              среднее             1   \n",
       "5          0    -926.185831         27               высшее             0   \n",
       "6          0   -2879.202052         43               высшее             0   \n",
       "7          0    -152.779569         50              СРЕДНЕЕ             1   \n",
       "8          2   -6929.865299         35               ВЫСШЕЕ             0   \n",
       "9          0   -2188.756445         41              среднее             1   \n",
       "10         2   -4171.483647         36               высшее             0   \n",
       "11         0    -792.701887         40              среднее             1   \n",
       "12         0            NaN         65              среднее             1   \n",
       "13         0   -1846.641941         54  неоконченное высшее             2   \n",
       "14         0   -1844.956182         56               высшее             0   \n",
       "15         1    -972.364419         26              среднее             1   \n",
       "16         0   -1719.934226         35              среднее             1   \n",
       "17         0   -2369.999720         33               высшее             0   \n",
       "18         0  400281.136913         53              среднее             1   \n",
       "19         0  -10038.818549         48              СРЕДНЕЕ             1   \n",
       "\n",
       "       family_status  family_status_id gender income_type  debt  \\\n",
       "0    женат / замужем                 0      F   сотрудник     0   \n",
       "1    женат / замужем                 0      F   сотрудник     0   \n",
       "2    женат / замужем                 0      M   сотрудник     0   \n",
       "3    женат / замужем                 0      M   сотрудник     0   \n",
       "4   гражданский брак                 1      F   пенсионер     0   \n",
       "5   гражданский брак                 1      M   компаньон     0   \n",
       "6    женат / замужем                 0      F   компаньон     0   \n",
       "7    женат / замужем                 0      M   сотрудник     0   \n",
       "8   гражданский брак                 1      F   сотрудник     0   \n",
       "9    женат / замужем                 0      M   сотрудник     0   \n",
       "10   женат / замужем                 0      M   компаньон     0   \n",
       "11   женат / замужем                 0      F   сотрудник     0   \n",
       "12  гражданский брак                 1      M   пенсионер     0   \n",
       "13   женат / замужем                 0      F   сотрудник     0   \n",
       "14  гражданский брак                 1      F   компаньон     1   \n",
       "15   женат / замужем                 0      F   сотрудник     0   \n",
       "16   женат / замужем                 0      F   сотрудник     0   \n",
       "17  гражданский брак                 1      M   сотрудник     0   \n",
       "18    вдовец / вдова                 2      F   пенсионер     0   \n",
       "19         в разводе                 3      F   сотрудник     0   \n",
       "\n",
       "     total_income                                 purpose  \n",
       "0   253875.639453                           покупка жилья  \n",
       "1   112080.014102                 приобретение автомобиля  \n",
       "2   145885.952297                           покупка жилья  \n",
       "3   267628.550329              дополнительное образование  \n",
       "4   158616.077870                         сыграть свадьбу  \n",
       "5   255763.565419                           покупка жилья  \n",
       "6   240525.971920                       операции с жильем  \n",
       "7   135823.934197                             образование  \n",
       "8    95856.832424                   на проведение свадьбы  \n",
       "9   144425.938277                 покупка жилья для семьи  \n",
       "10  113943.491460                    покупка недвижимости  \n",
       "11   77069.234271       покупка коммерческой недвижимости  \n",
       "12            NaN                         сыграть свадьбу  \n",
       "13  130458.228857                 приобретение автомобиля  \n",
       "14  165127.911772              покупка жилой недвижимости  \n",
       "15  116820.904450  строительство собственной недвижимости  \n",
       "16  289202.704229                            недвижимость  \n",
       "17   90410.586745              строительство недвижимости  \n",
       "18   56823.777243      на покупку подержанного автомобиля  \n",
       "19  242831.107982            на покупку своего автомобиля  "
      ]
     },
     "execution_count": 5,
     "metadata": {},
     "output_type": "execute_result"
    }
   ],
   "source": [
    "data.head(20)"
   ]
  },
  {
   "cell_type": "markdown",
   "id": "0ed8f27f",
   "metadata": {
    "deletable": false,
    "editable": false,
    "id": "0ed8f27f"
   },
   "source": [
    "**Задание 3. Выведите основную информацию о датафрейме с помощью метода `info()`.**"
   ]
  },
  {
   "cell_type": "code",
   "execution_count": 6,
   "id": "ab3f863b",
   "metadata": {
    "deletable": false,
    "id": "ab3f863b",
    "outputId": "15376089-8dad-46c9-b520-c05248d43158"
   },
   "outputs": [
    {
     "name": "stdout",
     "output_type": "stream",
     "text": [
      "<class 'pandas.core.frame.DataFrame'>\n",
      "RangeIndex: 21525 entries, 0 to 21524\n",
      "Data columns (total 12 columns):\n",
      " #   Column            Non-Null Count  Dtype  \n",
      "---  ------            --------------  -----  \n",
      " 0   children          21525 non-null  int64  \n",
      " 1   days_employed     19351 non-null  float64\n",
      " 2   dob_years         21525 non-null  int64  \n",
      " 3   education         21525 non-null  object \n",
      " 4   education_id      21525 non-null  int64  \n",
      " 5   family_status     21525 non-null  object \n",
      " 6   family_status_id  21525 non-null  int64  \n",
      " 7   gender            21525 non-null  object \n",
      " 8   income_type       21525 non-null  object \n",
      " 9   debt              21525 non-null  int64  \n",
      " 10  total_income      19351 non-null  float64\n",
      " 11  purpose           21525 non-null  object \n",
      "dtypes: float64(2), int64(5), object(5)\n",
      "memory usage: 2.0+ MB\n"
     ]
    }
   ],
   "source": [
    "data.info()"
   ]
  },
  {
   "cell_type": "markdown",
   "id": "60e3e22d",
   "metadata": {
    "deletable": false,
    "editable": false,
    "id": "60e3e22d"
   },
   "source": [
    "## Предобработка данных"
   ]
  },
  {
   "cell_type": "markdown",
   "id": "03dc170c",
   "metadata": {
    "deletable": false,
    "editable": false,
    "id": "03dc170c"
   },
   "source": [
    "### Удаление пропусков"
   ]
  },
  {
   "cell_type": "markdown",
   "id": "a4f54eef",
   "metadata": {
    "deletable": false,
    "editable": false,
    "id": "a4f54eef"
   },
   "source": [
    "**Задание 4. Выведите количество пропущенных значений для каждого столбца. Используйте комбинацию двух методов.**"
   ]
  },
  {
   "cell_type": "code",
   "execution_count": 7,
   "id": "2dc372b2",
   "metadata": {
    "deletable": false,
    "id": "2dc372b2",
    "outputId": "81f4d817-781c-465c-ed15-91ce4446810d"
   },
   "outputs": [
    {
     "data": {
      "text/plain": [
       "children               0\n",
       "days_employed       2174\n",
       "dob_years              0\n",
       "education              0\n",
       "education_id           0\n",
       "family_status          0\n",
       "family_status_id       0\n",
       "gender                 0\n",
       "income_type            0\n",
       "debt                   0\n",
       "total_income        2174\n",
       "purpose                0\n",
       "dtype: int64"
      ]
     },
     "execution_count": 7,
     "metadata": {},
     "output_type": "execute_result"
    }
   ],
   "source": [
    "data.isna().sum()"
   ]
  },
  {
   "cell_type": "markdown",
   "id": "14f011b1",
   "metadata": {
    "deletable": false,
    "editable": false,
    "id": "14f011b1"
   },
   "source": [
    "**Задание 5. В двух столбцах есть пропущенные значения. Один из них — `days_employed`. Пропуски в этом столбце вы обработаете на следующем этапе. Другой столбец с пропущенными значениями — `total_income` — хранит данные о доходах. На сумму дохода сильнее всего влияет тип занятости, поэтому заполнить пропуски в этом столбце нужно медианным значением по каждому типу из столбца `income_type`. Например, у человека с типом занятости `сотрудник` пропуск в столбце `total_income` должен быть заполнен медианным доходом среди всех записей с тем же типом.**"
   ]
  },
  {
   "cell_type": "code",
   "execution_count": 8,
   "id": "bdabfb6e",
   "metadata": {
    "deletable": false,
    "id": "bdabfb6e"
   },
   "outputs": [],
   "source": [
    "for t in data['income_type'].unique():\n",
    "    data.loc[(data['income_type'] == t) & (data['total_income'].isna()), 'total_income'] = \\\n",
    "    data.loc[(data['income_type'] == t), 'total_income'].median()"
   ]
  },
  {
   "cell_type": "markdown",
   "id": "5be34059",
   "metadata": {
    "deletable": false,
    "editable": false,
    "id": "5be34059"
   },
   "source": [
    "### Обработка аномальных значений"
   ]
  },
  {
   "cell_type": "markdown",
   "id": "a87606cb",
   "metadata": {
    "deletable": false,
    "editable": false,
    "id": "a87606cb"
   },
   "source": [
    "**Задание 6. В данных могут встречаться артефакты (аномалии) — значения, которые не отражают действительность и появились по какой-то ошибке. таким артефактом будет отрицательное количество дней трудового стажа в столбце `days_employed`. Для реальных данных это нормально. Обработайте значения в этом столбце: замените все отрицательные значения положительными с помощью метода `abs()`.**"
   ]
  },
  {
   "cell_type": "code",
   "execution_count": 9,
   "id": "020c46cc",
   "metadata": {
    "deletable": false,
    "id": "020c46cc"
   },
   "outputs": [],
   "source": [
    "data['days_employed'] = data['days_employed'].abs()"
   ]
  },
  {
   "cell_type": "markdown",
   "id": "45538a3a",
   "metadata": {
    "deletable": false,
    "editable": false,
    "id": "45538a3a"
   },
   "source": [
    "**Задание 7. Для каждого типа занятости выведите медианное значение трудового стажа `days_employed` в днях.**"
   ]
  },
  {
   "cell_type": "code",
   "execution_count": 10,
   "id": "cd3e6328",
   "metadata": {
    "deletable": false,
    "id": "cd3e6328",
    "outputId": "801ef80e-522b-4668-f34e-565af7432bcf"
   },
   "outputs": [
    {
     "data": {
      "text/plain": [
       "income_type\n",
       "безработный        366413.652744\n",
       "в декрете            3296.759962\n",
       "госслужащий          2689.368353\n",
       "компаньон            1547.382223\n",
       "пенсионер          365213.306266\n",
       "предприниматель       520.848083\n",
       "сотрудник            1574.202821\n",
       "студент               578.751554\n",
       "Name: days_employed, dtype: float64"
      ]
     },
     "execution_count": 10,
     "metadata": {},
     "output_type": "execute_result"
    }
   ],
   "source": [
    "data.groupby('income_type')['days_employed'].agg('median')"
   ]
  },
  {
   "cell_type": "markdown",
   "id": "90c5f058",
   "metadata": {
    "deletable": false,
    "editable": false,
    "id": "90c5f058"
   },
   "source": [
    "У двух типов (безработные и пенсионеры) получатся аномально большие значения. Исправить такие значения сложно, поэтому оставьте их как есть."
   ]
  },
  {
   "cell_type": "markdown",
   "id": "9652e50d",
   "metadata": {
    "deletable": false,
    "editable": false,
    "id": "9652e50d"
   },
   "source": [
    "**Задание 8. Выведите перечень уникальных значений столбца `children`.**"
   ]
  },
  {
   "cell_type": "code",
   "execution_count": 11,
   "id": "dbb37b8e",
   "metadata": {
    "deletable": false,
    "id": "dbb37b8e",
    "outputId": "6975b15c-7f95-4697-d16d-a0c79b657b03"
   },
   "outputs": [
    {
     "data": {
      "text/plain": [
       "array([ 1,  0,  3,  2, -1,  4, 20,  5])"
      ]
     },
     "execution_count": 11,
     "metadata": {},
     "output_type": "execute_result"
    }
   ],
   "source": [
    "data['children'].unique()"
   ]
  },
  {
   "cell_type": "markdown",
   "id": "2b8b0715",
   "metadata": {
    "deletable": false,
    "editable": false,
    "id": "2b8b0715"
   },
   "source": [
    "**Задание 9. В столбце `children` есть два аномальных значения. Удалите строки, в которых встречаются такие аномальные значения из датафрейма `data`.**"
   ]
  },
  {
   "cell_type": "code",
   "execution_count": 12,
   "id": "20009df8",
   "metadata": {
    "deletable": false,
    "id": "20009df8"
   },
   "outputs": [],
   "source": [
    "data = data[(data['children'] != -1) & (data['children'] != 20)]"
   ]
  },
  {
   "cell_type": "markdown",
   "id": "8c6ac9f1",
   "metadata": {
    "deletable": false,
    "editable": false,
    "id": "8c6ac9f1"
   },
   "source": [
    "**Задание 10. Ещё раз выведите перечень уникальных значений столбца `children`, чтобы убедиться, что артефакты удалены.**"
   ]
  },
  {
   "cell_type": "code",
   "execution_count": 13,
   "id": "07337b81",
   "metadata": {
    "deletable": false,
    "id": "07337b81",
    "outputId": "b2097101-d49d-44d9-901b-32a65c9463d1"
   },
   "outputs": [
    {
     "data": {
      "text/plain": [
       "array([1, 0, 3, 2, 4, 5])"
      ]
     },
     "execution_count": 13,
     "metadata": {},
     "output_type": "execute_result"
    }
   ],
   "source": [
    "data['children'].unique()"
   ]
  },
  {
   "cell_type": "markdown",
   "id": "ee3f52d4",
   "metadata": {
    "deletable": false,
    "editable": false,
    "id": "ee3f52d4"
   },
   "source": [
    "### Удаление пропусков (продолжение)"
   ]
  },
  {
   "cell_type": "markdown",
   "id": "a700b0e4",
   "metadata": {
    "deletable": false,
    "editable": false,
    "id": "a700b0e4"
   },
   "source": [
    "**Задание 11. Заполните пропуски в столбце `days_employed` медианными значениями по каждого типа занятости `income_type`.**"
   ]
  },
  {
   "cell_type": "code",
   "execution_count": 14,
   "id": "61946b83",
   "metadata": {
    "deletable": false,
    "id": "61946b83"
   },
   "outputs": [],
   "source": [
    "for t in data['income_type'].unique():\n",
    "    data.loc[(data['income_type'] == t) & (data['days_employed'].isna()), 'days_employed'] = \\\n",
    "    data.loc[(data['income_type'] == t), 'days_employed'].median()"
   ]
  },
  {
   "cell_type": "markdown",
   "id": "550dcd9b",
   "metadata": {
    "deletable": false,
    "editable": false,
    "id": "550dcd9b"
   },
   "source": [
    "**Задание 12. Убедитесь, что все пропуски заполнены. Проверьте себя и ещё раз выведите количество пропущенных значений для каждого столбца с помощью двух методов.**"
   ]
  },
  {
   "cell_type": "code",
   "execution_count": 15,
   "id": "937c7014",
   "metadata": {
    "deletable": false,
    "id": "937c7014",
    "outputId": "8da1e4e1-358e-4e87-98c9-f261bce0a7b2"
   },
   "outputs": [
    {
     "data": {
      "text/plain": [
       "children            0\n",
       "days_employed       0\n",
       "dob_years           0\n",
       "education           0\n",
       "education_id        0\n",
       "family_status       0\n",
       "family_status_id    0\n",
       "gender              0\n",
       "income_type         0\n",
       "debt                0\n",
       "total_income        0\n",
       "purpose             0\n",
       "dtype: int64"
      ]
     },
     "execution_count": 15,
     "metadata": {},
     "output_type": "execute_result"
    }
   ],
   "source": [
    "data.isna().sum()"
   ]
  },
  {
   "cell_type": "markdown",
   "id": "d522e295",
   "metadata": {
    "deletable": false,
    "editable": false,
    "id": "d522e295"
   },
   "source": [
    "### Изменение типов данных"
   ]
  },
  {
   "cell_type": "markdown",
   "id": "c229c581",
   "metadata": {
    "deletable": false,
    "editable": false,
    "id": "c229c581"
   },
   "source": [
    "**Задание 13. Замените вещественный тип данных в столбце `total_income` на целочисленный с помощью метода `astype()`.**"
   ]
  },
  {
   "cell_type": "code",
   "execution_count": 16,
   "id": "31036462",
   "metadata": {
    "deletable": false,
    "id": "31036462"
   },
   "outputs": [],
   "source": [
    "data['total_income'] = data['total_income'].astype(int)"
   ]
  },
  {
   "cell_type": "markdown",
   "id": "b8e3d1d9",
   "metadata": {
    "deletable": false,
    "editable": false,
    "id": "b8e3d1d9"
   },
   "source": [
    "### Обработка дубликатов"
   ]
  },
  {
   "cell_type": "markdown",
   "id": "9be53c49",
   "metadata": {
    "deletable": false,
    "editable": false,
    "id": "9be53c49"
   },
   "source": [
    "**Задание 14. Обработайте неявные дубликаты в столбце `education`. В этом столбце есть одни и те же значения, но записанные по-разному: с использованием заглавных и строчных букв. Приведите их к нижнему регистру.**"
   ]
  },
  {
   "cell_type": "code",
   "execution_count": 17,
   "id": "d89e73e1",
   "metadata": {
    "deletable": false,
    "id": "d89e73e1"
   },
   "outputs": [],
   "source": [
    "data['education'] = data['education'].str.lower()"
   ]
  },
  {
   "cell_type": "markdown",
   "id": "01d4500e",
   "metadata": {
    "deletable": false,
    "editable": false,
    "id": "01d4500e"
   },
   "source": [
    "**Задание 15. Выведите на экран количество строк-дубликатов в данных. Если такие строки присутствуют, удалите их.**"
   ]
  },
  {
   "cell_type": "code",
   "execution_count": 18,
   "id": "e10efb23",
   "metadata": {
    "deletable": false,
    "id": "e10efb23",
    "outputId": "9684deba-1934-42d1-99e1-cda61740f822"
   },
   "outputs": [
    {
     "data": {
      "text/plain": [
       "71"
      ]
     },
     "execution_count": 18,
     "metadata": {},
     "output_type": "execute_result"
    }
   ],
   "source": [
    "data.duplicated().sum()"
   ]
  },
  {
   "cell_type": "code",
   "execution_count": 19,
   "id": "df853f20",
   "metadata": {
    "deletable": false,
    "id": "df853f20"
   },
   "outputs": [],
   "source": [
    "data = data.drop_duplicates()"
   ]
  },
  {
   "cell_type": "markdown",
   "id": "627be38f",
   "metadata": {
    "deletable": false,
    "editable": false,
    "id": "627be38f"
   },
   "source": [
    "### Категоризация данных"
   ]
  },
  {
   "cell_type": "markdown",
   "id": "4684c3e0",
   "metadata": {
    "deletable": false,
    "editable": false,
    "id": "4684c3e0"
   },
   "source": [
    "**Задание 16. На основании диапазонов, указанных ниже, создайте в датафрейме `data` столбец `total_income_category` с категориями:**\n",
    "\n",
    "- 0–30000 — `'E'`;\n",
    "- 30001–50000 — `'D'`;\n",
    "- 50001–200000 — `'C'`;\n",
    "- 200001–1000000 — `'B'`;\n",
    "- 1000001 и выше — `'A'`.\n",
    "\n",
    "\n",
    "**Например, кредитополучателю с доходом 25000 нужно назначить категорию `'E'`, а клиенту, получающему 235000, — `'B'`. Используйте собственную функцию с именем `categorize_income()` и метод `apply()`.**"
   ]
  },
  {
   "cell_type": "code",
   "execution_count": 68,
   "id": "78965238",
   "metadata": {
    "deletable": false,
    "id": "78965238"
   },
   "outputs": [],
   "source": [
    "def categorize_income(income):\n",
    "    try:\n",
    "        if 0 <= income <= 30000:\n",
    "            return 'E'\n",
    "        elif 30001 <= income <= 50000:\n",
    "            return 'D'\n",
    "        elif 50001 <= income <= 200000:\n",
    "            return 'C'\n",
    "        elif 200001 <= income <= 1000000:\n",
    "            return 'B'\n",
    "        elif income >= 1000001:\n",
    "            return 'A'\n",
    "    except:\n",
    "        pass"
   ]
  },
  {
   "cell_type": "code",
   "execution_count": 69,
   "id": "0980ada1",
   "metadata": {
    "deletable": false,
    "id": "0980ada1"
   },
   "outputs": [],
   "source": [
    "data['total_income_category'] = data['total_income'].apply(categorize_income)"
   ]
  },
  {
   "cell_type": "markdown",
   "id": "9917bba0",
   "metadata": {
    "deletable": false,
    "editable": false,
    "id": "9917bba0"
   },
   "source": [
    "**Задание 17. Выведите на экран перечень уникальных целей взятия кредита из столбца `purpose`.**"
   ]
  },
  {
   "cell_type": "code",
   "execution_count": 22,
   "id": "ee07b65e",
   "metadata": {
    "deletable": false,
    "id": "ee07b65e",
    "outputId": "673c12d9-7d7e-4ae0-9812-c622c89dd244"
   },
   "outputs": [
    {
     "data": {
      "text/plain": [
       "array(['покупка жилья', 'приобретение автомобиля',\n",
       "       'дополнительное образование', 'сыграть свадьбу',\n",
       "       'операции с жильем', 'образование', 'на проведение свадьбы',\n",
       "       'покупка жилья для семьи', 'покупка недвижимости',\n",
       "       'покупка коммерческой недвижимости', 'покупка жилой недвижимости',\n",
       "       'строительство собственной недвижимости', 'недвижимость',\n",
       "       'строительство недвижимости', 'на покупку подержанного автомобиля',\n",
       "       'на покупку своего автомобиля',\n",
       "       'операции с коммерческой недвижимостью',\n",
       "       'строительство жилой недвижимости', 'жилье',\n",
       "       'операции со своей недвижимостью', 'автомобили',\n",
       "       'заняться образованием', 'сделка с подержанным автомобилем',\n",
       "       'получение образования', 'автомобиль', 'свадьба',\n",
       "       'получение дополнительного образования', 'покупка своего жилья',\n",
       "       'операции с недвижимостью', 'получение высшего образования',\n",
       "       'свой автомобиль', 'сделка с автомобилем',\n",
       "       'профильное образование', 'высшее образование',\n",
       "       'покупка жилья для сдачи', 'на покупку автомобиля', 'ремонт жилью',\n",
       "       'заняться высшим образованием'], dtype=object)"
      ]
     },
     "execution_count": 22,
     "metadata": {},
     "output_type": "execute_result"
    }
   ],
   "source": [
    "data['purpose'].unique()"
   ]
  },
  {
   "cell_type": "markdown",
   "id": "52b79d56",
   "metadata": {
    "deletable": false,
    "editable": false,
    "id": "52b79d56"
   },
   "source": [
    "**Задание 18. Создайте функцию, которая на основании данных из столбца `purpose` сформирует новый столбец `purpose_category`, в который войдут следующие категории:**\n",
    "\n",
    "- `'операции с автомобилем'`,\n",
    "- `'операции с недвижимостью'`,\n",
    "- `'проведение свадьбы'`,\n",
    "- `'получение образования'`.\n",
    "\n",
    "**Например, если в столбце `purpose` находится подстрока `'на покупку автомобиля'`, то в столбце `purpose_category` должна появиться строка `'операции с автомобилем'`.**\n",
    "\n",
    "**Используйте собственную функцию с именем `categorize_purpose()` и метод `apply()`. Изучите данные в столбце `purpose` и определите, какие подстроки помогут вам правильно определить категорию.**"
   ]
  },
  {
   "cell_type": "code",
   "execution_count": 23,
   "id": "be41da5d",
   "metadata": {
    "deletable": false,
    "id": "be41da5d"
   },
   "outputs": [],
   "source": [
    "def categorize_purpose(row):\n",
    "    try:\n",
    "        if 'автом' in row:\n",
    "            return 'операции с автомобилем'\n",
    "        elif 'жил' in row or 'недвиж' in row:\n",
    "            return 'операции с недвижимостью'\n",
    "        elif 'свад' in row:\n",
    "            return 'проведение свадьбы'\n",
    "        elif 'образов' in row:\n",
    "            return 'получение образования'\n",
    "    except:\n",
    "        return 'нет категории'"
   ]
  },
  {
   "cell_type": "code",
   "execution_count": 24,
   "id": "94c4a19a",
   "metadata": {
    "deletable": false,
    "id": "94c4a19a"
   },
   "outputs": [],
   "source": [
    "data['purpose_category'] = data['purpose'].apply(categorize_purpose)"
   ]
  },
  {
   "cell_type": "markdown",
   "id": "3d596c34",
   "metadata": {
    "deletable": false,
    "editable": false,
    "id": "3d596c34"
   },
   "source": [
    "### Шаг 3. Исследуйте данные и ответьте на вопросы"
   ]
  },
  {
   "cell_type": "markdown",
   "id": "648db036",
   "metadata": {
    "deletable": false,
    "editable": false,
    "id": "648db036"
   },
   "source": [
    "#### 3.1 Есть ли зависимость между количеством детей и возвратом кредита в срок?"
   ]
  },
  {
   "cell_type": "code",
   "execution_count": 31,
   "id": "6e6951f6",
   "metadata": {
    "deletable": false,
    "id": "7fcff25e"
   },
   "outputs": [
    {
     "data": {
      "text/html": [
       "<div>\n",
       "<style scoped>\n",
       "    .dataframe tbody tr th:only-of-type {\n",
       "        vertical-align: middle;\n",
       "    }\n",
       "\n",
       "    .dataframe tbody tr th {\n",
       "        vertical-align: top;\n",
       "    }\n",
       "\n",
       "    .dataframe thead tr th {\n",
       "        text-align: left;\n",
       "    }\n",
       "\n",
       "    .dataframe thead tr:last-of-type th {\n",
       "        text-align: right;\n",
       "    }\n",
       "</style>\n",
       "<table border=\"1\" class=\"dataframe\">\n",
       "  <thead>\n",
       "    <tr>\n",
       "      <th></th>\n",
       "      <th></th>\n",
       "      <th>sum</th>\n",
       "      <th>count</th>\n",
       "      <th>make_percent</th>\n",
       "    </tr>\n",
       "    <tr>\n",
       "      <th></th>\n",
       "      <th></th>\n",
       "      <th>debt</th>\n",
       "      <th>debt</th>\n",
       "      <th>debt</th>\n",
       "    </tr>\n",
       "    <tr>\n",
       "      <th>children</th>\n",
       "      <th>children_count</th>\n",
       "      <th></th>\n",
       "      <th></th>\n",
       "      <th></th>\n",
       "    </tr>\n",
       "  </thead>\n",
       "  <tbody>\n",
       "    <tr>\n",
       "      <th>5</th>\n",
       "      <th>многодетный</th>\n",
       "      <td>0</td>\n",
       "      <td>9</td>\n",
       "      <td>0.0%</td>\n",
       "    </tr>\n",
       "    <tr>\n",
       "      <th>0</th>\n",
       "      <th>нет детей</th>\n",
       "      <td>1063</td>\n",
       "      <td>14091</td>\n",
       "      <td>7.54%</td>\n",
       "    </tr>\n",
       "    <tr>\n",
       "      <th>3</th>\n",
       "      <th>три ребёнка</th>\n",
       "      <td>27</td>\n",
       "      <td>330</td>\n",
       "      <td>8.18%</td>\n",
       "    </tr>\n",
       "    <tr>\n",
       "      <th>1</th>\n",
       "      <th>один ребёнок</th>\n",
       "      <td>444</td>\n",
       "      <td>4808</td>\n",
       "      <td>9.23%</td>\n",
       "    </tr>\n",
       "    <tr>\n",
       "      <th>2</th>\n",
       "      <th>два ребёнка</th>\n",
       "      <td>194</td>\n",
       "      <td>2052</td>\n",
       "      <td>9.45%</td>\n",
       "    </tr>\n",
       "    <tr>\n",
       "      <th>4</th>\n",
       "      <th>четыре ребёнка</th>\n",
       "      <td>4</td>\n",
       "      <td>41</td>\n",
       "      <td>9.76%</td>\n",
       "    </tr>\n",
       "  </tbody>\n",
       "</table>\n",
       "</div>"
      ],
      "text/plain": [
       "                          sum  count make_percent\n",
       "                         debt   debt         debt\n",
       "children children_count                          \n",
       "5        многодетный        0      9         0.0%\n",
       "0        нет детей       1063  14091        7.54%\n",
       "3        три ребёнка       27    330        8.18%\n",
       "1        один ребёнок     444   4808        9.23%\n",
       "2        два ребёнка      194   2052        9.45%\n",
       "4        четыре ребёнка     4     41        9.76%"
      ]
     },
     "execution_count": 31,
     "metadata": {},
     "output_type": "execute_result"
    }
   ],
   "source": [
    "def children_count(count):\n",
    "    if count == 0:\n",
    "        return 'нет детей'\n",
    "    if count == 1:\n",
    "        return 'один ребёнок'\n",
    "    if count == 2:\n",
    "        return 'два ребёнка'\n",
    "    if count == 3:\n",
    "        return 'три ребёнка'\n",
    "    if count == 4:\n",
    "        return 'четыре ребёнка'\n",
    "    return 'многодетный'\n",
    "\n",
    "\n",
    "    \n",
    "def make_percent(percent):\n",
    "    return str(round((percent.sum() / percent.count()) * 100, 2)) + '%'\n",
    "\n",
    "data['children_count'] = data['children'].apply(children_count)\n",
    "\n",
    "\n",
    "data_pivot = data.pivot_table(index=['children', 'children_count'], values='debt', aggfunc=['sum', 'count', make_percent])\n",
    "data_pivot.sort_values(by=('make_percent', 'debt'))\n"
   ]
  },
  {
   "cell_type": "markdown",
   "id": "23fdee69",
   "metadata": {},
   "source": [
    "Вывод: Меньше всего просрочек у многодетных семей, у тех у кого 5 детей и более, так же у тех у кого нет детей и три ребенка, вероятность задолжности ниже. Самая высокая вероятность у тех у кого один, два, 4 ребенка. Одного критерия о детях будет мало. "
   ]
  },
  {
   "cell_type": "markdown",
   "id": "241b92e9",
   "metadata": {},
   "source": [
    "<div class=\"alert alert-warning\">\n",
    "    <h2> Комментарий ревьюера <a class=\"tocSkip\"> </h2>\n",
    "    \n",
    "<b>Можно лучше⚠️:</b> Обрати внимание, что представлено всего 9 семей с 5ю детьми. Их можно даже не рассматривать для выявления зависимости. \n",
    "</div>"
   ]
  },
  {
   "cell_type": "code",
   "execution_count": 51,
   "id": "8e55d929",
   "metadata": {},
   "outputs": [
    {
     "data": {
      "text/plain": [
       "<AxesSubplot:xlabel='children', ylabel='debt'>"
      ]
     },
     "execution_count": 51,
     "metadata": {},
     "output_type": "execute_result"
    },
    {
     "data": {
      "image/png": "[encoded data removed]",
      "text/plain": [
       "<Figure size 432x288 with 1 Axes>"
      ]
     },
     "metadata": {
      "needs_background": "light"
     },
     "output_type": "display_data"
    }
   ],
   "source": [
    "import seaborn as sns\n",
    "seaborn.barplot(data=data, x='children', y='debt') "
   ]
  },
  {
   "cell_type": "markdown",
   "id": "2eb9088e",
   "metadata": {
    "deletable": false,
    "id": "2eb9088e"
   },
   "source": [
    "**Вывод:** "
   ]
  },
  {
   "cell_type": "markdown",
   "id": "74c9b3a7",
   "metadata": {
    "deletable": false,
    "editable": false,
    "id": "74c9b3a7"
   },
   "source": [
    "#### 3.2 Есть ли зависимость между семейным положением и возвратом кредита в срок?"
   ]
  },
  {
   "cell_type": "code",
   "execution_count": 54,
   "id": "8098ab3b",
   "metadata": {
    "deletable": false,
    "id": "8098ab3b"
   },
   "outputs": [
    {
     "data": {
      "text/html": [
       "<div>\n",
       "<style scoped>\n",
       "    .dataframe tbody tr th:only-of-type {\n",
       "        vertical-align: middle;\n",
       "    }\n",
       "\n",
       "    .dataframe tbody tr th {\n",
       "        vertical-align: top;\n",
       "    }\n",
       "\n",
       "    .dataframe thead tr th {\n",
       "        text-align: left;\n",
       "    }\n",
       "\n",
       "    .dataframe thead tr:last-of-type th {\n",
       "        text-align: right;\n",
       "    }\n",
       "</style>\n",
       "<table border=\"1\" class=\"dataframe\">\n",
       "  <thead>\n",
       "    <tr>\n",
       "      <th></th>\n",
       "      <th>sum</th>\n",
       "      <th>count</th>\n",
       "      <th>make_percent</th>\n",
       "    </tr>\n",
       "    <tr>\n",
       "      <th></th>\n",
       "      <th>debt</th>\n",
       "      <th>debt</th>\n",
       "      <th>debt</th>\n",
       "    </tr>\n",
       "    <tr>\n",
       "      <th>family_status</th>\n",
       "      <th></th>\n",
       "      <th></th>\n",
       "      <th></th>\n",
       "    </tr>\n",
       "  </thead>\n",
       "  <tbody>\n",
       "    <tr>\n",
       "      <th>вдовец / вдова</th>\n",
       "      <td>63</td>\n",
       "      <td>951</td>\n",
       "      <td>6.62%</td>\n",
       "    </tr>\n",
       "    <tr>\n",
       "      <th>в разводе</th>\n",
       "      <td>84</td>\n",
       "      <td>1189</td>\n",
       "      <td>7.06%</td>\n",
       "    </tr>\n",
       "    <tr>\n",
       "      <th>женат / замужем</th>\n",
       "      <td>927</td>\n",
       "      <td>12261</td>\n",
       "      <td>7.56%</td>\n",
       "    </tr>\n",
       "    <tr>\n",
       "      <th>гражданский брак</th>\n",
       "      <td>385</td>\n",
       "      <td>4134</td>\n",
       "      <td>9.31%</td>\n",
       "    </tr>\n",
       "    <tr>\n",
       "      <th>Не женат / не замужем</th>\n",
       "      <td>273</td>\n",
       "      <td>2796</td>\n",
       "      <td>9.76%</td>\n",
       "    </tr>\n",
       "  </tbody>\n",
       "</table>\n",
       "</div>"
      ],
      "text/plain": [
       "                       sum  count make_percent\n",
       "                      debt   debt         debt\n",
       "family_status                                 \n",
       "вдовец / вдова          63    951        6.62%\n",
       "в разводе               84   1189        7.06%\n",
       "женат / замужем        927  12261        7.56%\n",
       "гражданский брак       385   4134        9.31%\n",
       "Не женат / не замужем  273   2796        9.76%"
      ]
     },
     "execution_count": 54,
     "metadata": {},
     "output_type": "execute_result"
    }
   ],
   "source": [
    "data_pivot = data.pivot_table(index=['family_status'], values='debt', aggfunc=['sum', 'count', make_percent])\n",
    "data_pivot.sort_values(by=('make_percent', 'debt'))"
   ]
  },
  {
   "cell_type": "code",
   "execution_count": 58,
   "id": "991231c0",
   "metadata": {},
   "outputs": [
    {
     "data": {
      "text/plain": [
       "<AxesSubplot:xlabel='debt', ylabel='family_status'>"
      ]
     },
     "execution_count": 58,
     "metadata": {},
     "output_type": "execute_result"
    },
    {
     "data": {
      "image/png": "[encoded data removed]",
      "text/plain": [
       "<Figure size 432x288 with 1 Axes>"
      ]
     },
     "metadata": {
      "needs_background": "light"
     },
     "output_type": "display_data"
    }
   ],
   "source": [
    "seaborn.barplot(data=data, x='debt', y='family_status') "
   ]
  },
  {
   "cell_type": "markdown",
   "id": "c389ca63",
   "metadata": {
    "deletable": false,
    "id": "c389ca63"
   },
   "source": [
    "**Вывод:** "
   ]
  },
  {
   "cell_type": "markdown",
   "id": "02110a8a",
   "metadata": {},
   "source": [
    "Вывод: вдовец / вдова, в разводе процент задолжности более низкий.  Самый высокий процент задолжности как мы видим, у тех кто в гражданском браке и кто Не женат / не замужем. Я думаю этот критерий более вероятен для предоставления или отказа кредита.  \n"
   ]
  },
  {
   "cell_type": "markdown",
   "id": "c145a85f",
   "metadata": {},
   "source": [
    "<div class=\"alert alert-success\">\n",
    "<h2> Комментарий ревьюера <a class=\"tocSkip\"> </h2>\n",
    "\n",
    "<b>Отлично!✅:</b> Верно!\n",
    "\n",
    "</div>"
   ]
  },
  {
   "cell_type": "markdown",
   "id": "9529de68",
   "metadata": {
    "deletable": false,
    "editable": false,
    "id": "9529de68"
   },
   "source": [
    "#### 3.3 Есть ли зависимость между уровнем дохода и возвратом кредита в срок?"
   ]
  },
  {
   "cell_type": "code",
   "execution_count": 73,
   "id": "8787f44a",
   "metadata": {
    "deletable": false,
    "id": "8787f44a"
   },
   "outputs": [
    {
     "data": {
      "text/html": [
       "<div>\n",
       "<style scoped>\n",
       "    .dataframe tbody tr th:only-of-type {\n",
       "        vertical-align: middle;\n",
       "    }\n",
       "\n",
       "    .dataframe tbody tr th {\n",
       "        vertical-align: top;\n",
       "    }\n",
       "\n",
       "    .dataframe thead tr th {\n",
       "        text-align: left;\n",
       "    }\n",
       "\n",
       "    .dataframe thead tr:last-of-type th {\n",
       "        text-align: right;\n",
       "    }\n",
       "</style>\n",
       "<table border=\"1\" class=\"dataframe\">\n",
       "  <thead>\n",
       "    <tr>\n",
       "      <th></th>\n",
       "      <th>sum</th>\n",
       "      <th>count</th>\n",
       "      <th>make_percent</th>\n",
       "    </tr>\n",
       "    <tr>\n",
       "      <th></th>\n",
       "      <th>debt</th>\n",
       "      <th>debt</th>\n",
       "      <th>debt</th>\n",
       "    </tr>\n",
       "    <tr>\n",
       "      <th>total_income_category</th>\n",
       "      <th></th>\n",
       "      <th></th>\n",
       "      <th></th>\n",
       "    </tr>\n",
       "  </thead>\n",
       "  <tbody>\n",
       "    <tr>\n",
       "      <th>D</th>\n",
       "      <td>21</td>\n",
       "      <td>349</td>\n",
       "      <td>6.02%</td>\n",
       "    </tr>\n",
       "    <tr>\n",
       "      <th>B</th>\n",
       "      <td>354</td>\n",
       "      <td>5014</td>\n",
       "      <td>7.06%</td>\n",
       "    </tr>\n",
       "    <tr>\n",
       "      <th>A</th>\n",
       "      <td>2</td>\n",
       "      <td>25</td>\n",
       "      <td>8.0%</td>\n",
       "    </tr>\n",
       "    <tr>\n",
       "      <th>C</th>\n",
       "      <td>1353</td>\n",
       "      <td>15921</td>\n",
       "      <td>8.5%</td>\n",
       "    </tr>\n",
       "    <tr>\n",
       "      <th>E</th>\n",
       "      <td>2</td>\n",
       "      <td>22</td>\n",
       "      <td>9.09%</td>\n",
       "    </tr>\n",
       "  </tbody>\n",
       "</table>\n",
       "</div>"
      ],
      "text/plain": [
       "                        sum  count make_percent\n",
       "                       debt   debt         debt\n",
       "total_income_category                          \n",
       "D                        21    349        6.02%\n",
       "B                       354   5014        7.06%\n",
       "A                         2     25         8.0%\n",
       "C                      1353  15921         8.5%\n",
       "E                         2     22        9.09%"
      ]
     },
     "execution_count": 73,
     "metadata": {},
     "output_type": "execute_result"
    }
   ],
   "source": [
    "\n",
    "data_pivot = data.pivot_table(index=['total_income_category'], values='debt', aggfunc=['sum', 'count', make_percent])\n",
    "data_pivot.sort_values(by=('make_percent', 'debt'))"
   ]
  },
  {
   "cell_type": "code",
   "execution_count": 71,
   "id": "3d6ecbe1",
   "metadata": {},
   "outputs": [
    {
     "data": {
      "text/plain": [
       "<AxesSubplot:xlabel='total_income_category', ylabel='debt'>"
      ]
     },
     "execution_count": 71,
     "metadata": {},
     "output_type": "execute_result"
    },
    {
     "data": {
      "image/png": "[encoded data removed]",
      "text/plain": [
       "<Figure size 432x288 with 1 Axes>"
      ]
     },
     "metadata": {
      "needs_background": "light"
     },
     "output_type": "display_data"
    }
   ],
   "source": [
    "seaborn.barplot(data=data, x='total_income_category', y='debt') "
   ]
  },
  {
   "cell_type": "markdown",
   "id": "6dd14b57",
   "metadata": {
    "deletable": false,
    "id": "6dd14b57"
   },
   "source": [
    "**Вывод:** "
   ]
  },
  {
   "cell_type": "markdown",
   "id": "e43d1b95",
   "metadata": {},
   "source": [
    "Как мы можем увидеть, возникновение задолжности  \n",
    "0–30000 — 'E';\n",
    "30001–50000 — 'D';\n",
    "50001–200000 — 'C';\n",
    "200001–1000000 — 'B';\n",
    "1000001 и выше — 'A'."
   ]
  },
  {
   "cell_type": "markdown",
   "id": "f89446f5",
   "metadata": {},
   "source": [
    "<div class=\"alert alert-warning\">\n",
    "    <h2> Комментарий ревьюера <a class=\"tocSkip\"> </h2>\n",
    "    \n",
    "<b>Можно лучше⚠️:</b> Здесь также важно обратить внимание на несбалансированность выборок. Рекомендую, для выявления зависимости, сравнить категории с наибольшими показателями - В и С.\n",
    "</div>"
   ]
  },
  {
   "cell_type": "markdown",
   "id": "1dcc9b12",
   "metadata": {
    "deletable": false,
    "editable": false,
    "id": "1dcc9b12"
   },
   "source": [
    "#### 3.4 Как разные цели кредита влияют на его возврат в срок?"
   ]
  },
  {
   "cell_type": "code",
   "execution_count": 51,
   "id": "c602bc8b",
   "metadata": {
    "deletable": false,
    "id": "c602bc8b"
   },
   "outputs": [
    {
     "data": {
      "text/html": [
       "<div>\n",
       "<style scoped>\n",
       "    .dataframe tbody tr th:only-of-type {\n",
       "        vertical-align: middle;\n",
       "    }\n",
       "\n",
       "    .dataframe tbody tr th {\n",
       "        vertical-align: top;\n",
       "    }\n",
       "\n",
       "    .dataframe thead tr th {\n",
       "        text-align: left;\n",
       "    }\n",
       "\n",
       "    .dataframe thead tr:last-of-type th {\n",
       "        text-align: right;\n",
       "    }\n",
       "</style>\n",
       "<table border=\"1\" class=\"dataframe\">\n",
       "  <thead>\n",
       "    <tr>\n",
       "      <th></th>\n",
       "      <th>sum</th>\n",
       "      <th>count</th>\n",
       "      <th>make_percent</th>\n",
       "    </tr>\n",
       "    <tr>\n",
       "      <th></th>\n",
       "      <th>debt</th>\n",
       "      <th>debt</th>\n",
       "      <th>debt</th>\n",
       "    </tr>\n",
       "    <tr>\n",
       "      <th>purpose_category</th>\n",
       "      <th></th>\n",
       "      <th></th>\n",
       "      <th></th>\n",
       "    </tr>\n",
       "  </thead>\n",
       "  <tbody>\n",
       "    <tr>\n",
       "      <th>операции с недвижимостью</th>\n",
       "      <td>780</td>\n",
       "      <td>10751</td>\n",
       "      <td>7.26%</td>\n",
       "    </tr>\n",
       "    <tr>\n",
       "      <th>проведение свадьбы</th>\n",
       "      <td>183</td>\n",
       "      <td>2313</td>\n",
       "      <td>7.91%</td>\n",
       "    </tr>\n",
       "    <tr>\n",
       "      <th>получение образования</th>\n",
       "      <td>369</td>\n",
       "      <td>3988</td>\n",
       "      <td>9.25%</td>\n",
       "    </tr>\n",
       "    <tr>\n",
       "      <th>операции с автомобилем</th>\n",
       "      <td>400</td>\n",
       "      <td>4279</td>\n",
       "      <td>9.35%</td>\n",
       "    </tr>\n",
       "  </tbody>\n",
       "</table>\n",
       "</div>"
      ],
      "text/plain": [
       "                          sum  count make_percent\n",
       "                         debt   debt         debt\n",
       "purpose_category                                 \n",
       "операции с недвижимостью  780  10751        7.26%\n",
       "проведение свадьбы        183   2313        7.91%\n",
       "получение образования     369   3988        9.25%\n",
       "операции с автомобилем    400   4279        9.35%"
      ]
     },
     "execution_count": 51,
     "metadata": {},
     "output_type": "execute_result"
    }
   ],
   "source": [
    "data_pivot = data.pivot_table(index=['purpose_category'], values='debt', aggfunc=['sum', 'count', make_percent])\n",
    "data_pivot.sort_values(by=('make_percent', 'debt'))"
   ]
  },
  {
   "cell_type": "code",
   "execution_count": 64,
   "id": "44da0759",
   "metadata": {},
   "outputs": [
    {
     "data": {
      "text/plain": [
       "<AxesSubplot:xlabel='debt', ylabel='purpose_category'>"
      ]
     },
     "execution_count": 64,
     "metadata": {},
     "output_type": "execute_result"
    },
    {
     "data": {
      "image/png": "[encoded data removed]",
      "text/plain": [
       "<Figure size 432x288 with 1 Axes>"
      ]
     },
     "metadata": {
      "needs_background": "light"
     },
     "output_type": "display_data"
    }
   ],
   "source": [
    "seaborn.barplot(data=data, x='debt', y='purpose_category') "
   ]
  },
  {
   "cell_type": "markdown",
   "id": "cf05ed63",
   "metadata": {
    "deletable": false,
    "id": "cf05ed63"
   },
   "source": [
    "**Вывод:** "
   ]
  },
  {
   "cell_type": "markdown",
   "id": "e7e082a4",
   "metadata": {},
   "source": [
    "Кредиты на недвижимость самые выгодные, так же кредит на проведение свадьбы, вохникает чуть больше задолжности. В зоне рискка кредиты на цель образование и операции с автомобилем, разница между собой небольшая, между недвижимость и авто всего 2% разница заолженности. \n"
   ]
  },
  {
   "cell_type": "markdown",
   "id": "7cfe801c",
   "metadata": {},
   "source": [
    "<br/>\n",
    "<div class=\"alert alert-block alert-danger\">\n",
    "<h2> Комментарий ревьюера <a class=\"tocSkip\"></h2>\n",
    "\n",
    "    \n",
    "<b>Необходимо исправить❌:</b>\n",
    "???\n",
    "</div>"
   ]
  },
  {
   "cell_type": "markdown",
   "id": "2f455785",
   "metadata": {},
   "source": []
  },
  {
   "cell_type": "markdown",
   "id": "46c1f10b",
   "metadata": {
    "deletable": false,
    "editable": false,
    "id": "46c1f10b"
   },
   "source": [
    "#### 3.5 Приведите возможные причины появления пропусков в исходных данных."
   ]
  },
  {
   "cell_type": "markdown",
   "id": "3697d2a9",
   "metadata": {
    "deletable": false,
    "id": "3697d2a9"
   },
   "source": [
    "*Ответ:* Человеческий фактор, забыл занести, пропустил и т.д. Еще влияет заполнение одного из столбцов на заполненность другого столбца. Возможны баги при записи/сохрании програсного обеспечения. "
   ]
  },
  {
   "cell_type": "markdown",
   "id": "7c11a97f",
   "metadata": {},
   "source": [
    "<div class=\"alert alert-warning\">\n",
    "    <h2> Комментарий ревьюера <a class=\"tocSkip\"> </h2>\n",
    "    \n",
    "<b>Можно лучше⚠️:</b> Ты верно указал человеческий фактор. Подумай, какой еще фактор влияет на появление пропусков.\n",
    "</div>"
   ]
  },
  {
   "cell_type": "markdown",
   "id": "3137d257",
   "metadata": {
    "deletable": false,
    "editable": false,
    "id": "3137d257"
   },
   "source": [
    "#### 3.6 Объясните, почему заполнить пропуски медианным значением — лучшее решение для количественных переменных."
   ]
  },
  {
   "cell_type": "markdown",
   "id": "cf40012a",
   "metadata": {
    "deletable": false,
    "id": "cf40012a"
   },
   "source": [
    "*Ответ:* Среднее арифметическое mean() не показывает разброс данных\n",
    "median() отображает и незаполненные данные, так можно получить более корректную выборку. "
   ]
  },
  {
   "cell_type": "markdown",
   "id": "e954a5cd",
   "metadata": {},
   "source": [
    "<div class=\"alert alert-success\">\n",
    "<h2> Комментарий ревьюера <a class=\"tocSkip\"> </h2>\n",
    "\n",
    "<b>Отлично!✅:</b> Можно сказать, что медиана менее чувствительна к выбросам.\n",
    "\n",
    "</div>"
   ]
  },
  {
   "cell_type": "markdown",
   "id": "57bc304e",
   "metadata": {
    "deletable": false,
    "editable": false,
    "id": "57bc304e"
   },
   "source": [
    "### Шаг 4: общий вывод."
   ]
  },
  {
   "cell_type": "markdown",
   "id": "1ab75d1c",
   "metadata": {
    "deletable": false,
    "id": "1ab75d1c"
   },
   "source": [
    "Напишите ваш общий вывод."
   ]
  },
  {
   "cell_type": "markdown",
   "id": "6b773a34",
   "metadata": {},
   "source": [
    "Самый идеальный заемщик - это человек без детей, состоящий в браке, имеющий уровень дохода выше среднего и цель кредита недвижимость.\n",
    "\n",
    "#### Влияние наличия детей на вероятность просрочки платежа:\n",
    "\n",
    "нет детей              задолженность 7.54%\n",
    "четыре ребёнка         задолженность 9.76%\n",
    "\n",
    "Разница 2,22% между большей задолжности и самой  наименьшей.\n",
    "\n",
    "\n",
    "#### Влияние семейного положения: \n",
    "вдовец / вдова\t       задолженность 6.62%\n",
    "Не женат / не замужем  задолженность 9.76%\n",
    "\n",
    "Разница 3,14% между большей задолжности и самой  наименьшей.\n",
    "\n",
    "#### Влияние уровня дохода: \n",
    "30001–50000 — 'D'      задолженность  6.02%\n",
    "0–30000 — 'E'\t       задолженность  9.09%\n",
    "\n",
    "Разница 3,07% между большей задолжности и самой  наименьшей.\n",
    "\n",
    "#### Влияние цели  кредита:\n",
    "операции с недвижимостью\tзадолженность 7.26%\n",
    "операции с автомобилем\t    задолженность 9.35%\n",
    "\n",
    "Разница 2,09% между большей задолжности и самой  наименьшей. \n",
    "\n",
    "\n",
    "Наибольшее влияние на вероятность просрочки показывает именно семейное положение. Во вторую очередь, следует обращать внимание на уровень дохода. Наименьшее влияние оказывают цели кредита и наличие детей.\n"
   ]
  },
  {
   "cell_type": "markdown",
   "id": "5d639725",
   "metadata": {},
   "source": [
    "<br/>\n",
    "<div class=\"alert alert-block alert-danger\">\n",
    "<h2> Комментарий ревьюера <a class=\"tocSkip\"></h2>\n",
    "\n",
    "    \n",
    "<b>Необходимо исправить❌:</b>\n",
    "Эдуард, общий вывод - обязательный и важный элемент работы. Его нужно сформулировать, взяв основные результаты из всех шагов проекта. Начать нужно с того, с какими данными мы работали и какие действия провели на этапе предобработки, а закончить выявленными при ответе на вопросы зависимостями и рекомендациями заказчику по улучшению сбора данных и скоринга. Заказчик, зачастую, читает только общий вывод исследования - поэтому он должен быть максимально информативным. \n",
    "</div>"
   ]
  },
  {
   "cell_type": "markdown",
   "id": "c06c54c4",
   "metadata": {},
   "source": [
    "<div style=\"border:solid Chocolate 2px; padding: 40px\">\n",
    "Давай подведем итоги. Ты молодец, что старался и проделал такую большую работу:)\n",
    "    \n",
    "    Разберем над чем стоит поработать:\n",
    "\n",
    "    1. Необходимо учитывать несбалансированность выборок.\n",
    "    \n",
    "    2. Указать еще один фактор, влияющий на появление пропусков.\n",
    "    \n",
    "    3. Общий вывод нужно раскрыть по всем шагам, он должен быть объемным и информативным:)\n",
    "    \n",
    "    Пересмотри работу и исправь ошибки. Обязательно пиши, если я могу тебе еще чем-то помочь. Удачи!)\n",
    "  "
   ]
  }
 ],
 "metadata": {
  "ExecuteTimeLog": [
   {
    "duration": 62,
    "start_time": "2023-01-19T18:51:44.043Z"
   },
   {
    "duration": 7,
    "start_time": "2023-01-19T18:51:52.689Z"
   },
   {
    "duration": 7,
    "start_time": "2023-01-19T18:52:50.089Z"
   },
   {
    "duration": 551,
    "start_time": "2023-01-19T18:52:54.569Z"
   },
   {
    "duration": 26,
    "start_time": "2023-01-19T18:52:55.122Z"
   },
   {
    "duration": 16,
    "start_time": "2023-01-19T18:52:55.198Z"
   },
   {
    "duration": 11,
    "start_time": "2023-01-19T18:52:55.795Z"
   },
   {
    "duration": 37,
    "start_time": "2023-01-19T18:52:56.086Z"
   },
   {
    "duration": 4,
    "start_time": "2023-01-19T18:52:56.536Z"
   },
   {
    "duration": 13,
    "start_time": "2023-01-19T18:52:56.852Z"
   },
   {
    "duration": 5,
    "start_time": "2023-01-19T18:52:57.285Z"
   },
   {
    "duration": 7,
    "start_time": "2023-01-19T18:52:57.597Z"
   },
   {
    "duration": 5,
    "start_time": "2023-01-19T18:52:57.896Z"
   },
   {
    "duration": 40,
    "start_time": "2023-01-19T18:52:58.345Z"
   },
   {
    "duration": 17,
    "start_time": "2023-01-19T18:52:58.656Z"
   },
   {
    "duration": 5,
    "start_time": "2023-01-19T18:52:59.119Z"
   },
   {
    "duration": 13,
    "start_time": "2023-01-19T18:52:59.579Z"
   },
   {
    "duration": 20,
    "start_time": "2023-01-19T18:52:59.871Z"
   },
   {
    "duration": 19,
    "start_time": "2023-01-19T18:53:00.017Z"
   },
   {
    "duration": 5,
    "start_time": "2023-01-19T18:53:00.449Z"
   },
   {
    "duration": 11,
    "start_time": "2023-01-19T18:53:00.595Z"
   },
   {
    "duration": 6,
    "start_time": "2023-01-19T18:53:00.878Z"
   },
   {
    "duration": 3,
    "start_time": "2023-01-19T18:53:01.168Z"
   },
   {
    "duration": 9,
    "start_time": "2023-01-19T18:53:01.301Z"
   },
   {
    "duration": 23,
    "start_time": "2023-01-19T18:53:01.757Z"
   },
   {
    "duration": 3,
    "start_time": "2023-01-19T18:53:02.210Z"
   },
   {
    "duration": 26,
    "start_time": "2023-01-19T18:53:08.732Z"
   },
   {
    "duration": 17,
    "start_time": "2023-01-19T19:01:04.720Z"
   },
   {
    "duration": 13,
    "start_time": "2023-01-19T19:01:31.274Z"
   },
   {
    "duration": 63,
    "start_time": "2023-01-20T11:16:35.091Z"
   },
   {
    "duration": 523,
    "start_time": "2023-01-20T11:16:40.960Z"
   },
   {
    "duration": 23,
    "start_time": "2023-01-20T11:16:41.485Z"
   },
   {
    "duration": 14,
    "start_time": "2023-01-20T11:16:41.603Z"
   },
   {
    "duration": 11,
    "start_time": "2023-01-20T11:16:42.117Z"
   },
   {
    "duration": 39,
    "start_time": "2023-01-20T11:16:42.462Z"
   },
   {
    "duration": 3,
    "start_time": "2023-01-20T11:16:42.897Z"
   },
   {
    "duration": 9,
    "start_time": "2023-01-20T11:16:43.167Z"
   },
   {
    "duration": 5,
    "start_time": "2023-01-20T11:16:43.641Z"
   },
   {
    "duration": 8,
    "start_time": "2023-01-20T11:16:43.944Z"
   },
   {
    "duration": 5,
    "start_time": "2023-01-20T11:16:44.306Z"
   },
   {
    "duration": 36,
    "start_time": "2023-01-20T11:16:44.841Z"
   },
   {
    "duration": 10,
    "start_time": "2023-01-20T11:16:45.161Z"
   },
   {
    "duration": 4,
    "start_time": "2023-01-20T11:16:45.594Z"
   },
   {
    "duration": 13,
    "start_time": "2023-01-20T11:16:46.023Z"
   },
   {
    "duration": 21,
    "start_time": "2023-01-20T11:16:46.301Z"
   },
   {
    "duration": 29,
    "start_time": "2023-01-20T11:16:46.436Z"
   },
   {
    "duration": 3,
    "start_time": "2023-01-20T11:16:46.872Z"
   },
   {
    "duration": 10,
    "start_time": "2023-01-20T11:16:47.004Z"
   },
   {
    "duration": 6,
    "start_time": "2023-01-20T11:16:47.283Z"
   },
   {
    "duration": 5,
    "start_time": "2023-01-20T11:16:47.578Z"
   },
   {
    "duration": 8,
    "start_time": "2023-01-20T11:16:47.713Z"
   },
   {
    "duration": 27,
    "start_time": "2023-01-20T11:16:48.202Z"
   },
   {
    "duration": 24,
    "start_time": "2023-01-20T11:18:09.000Z"
   },
   {
    "duration": 30,
    "start_time": "2023-01-20T11:26:06.854Z"
   },
   {
    "duration": 35,
    "start_time": "2023-01-20T11:28:24.783Z"
   },
   {
    "duration": 32,
    "start_time": "2023-01-20T11:49:13.247Z"
   },
   {
    "duration": 71,
    "start_time": "2023-01-20T11:50:19.480Z"
   },
   {
    "duration": 37,
    "start_time": "2023-01-20T11:51:19.973Z"
   },
   {
    "duration": 9,
    "start_time": "2023-01-20T11:51:55.311Z"
   },
   {
    "duration": 35,
    "start_time": "2023-01-20T11:52:04.515Z"
   },
   {
    "duration": 1097,
    "start_time": "2023-01-20T11:55:40.008Z"
   },
   {
    "duration": 83,
    "start_time": "2023-01-20T11:56:44.066Z"
   },
   {
    "duration": 17,
    "start_time": "2023-01-20T11:56:59.843Z"
   },
   {
    "duration": 20,
    "start_time": "2023-01-20T11:57:03.761Z"
   },
   {
    "duration": 29,
    "start_time": "2023-01-20T11:58:20.543Z"
   },
   {
    "duration": 32,
    "start_time": "2023-01-20T12:05:43.765Z"
   },
   {
    "duration": 47,
    "start_time": "2023-01-20T12:06:09.608Z"
   },
   {
    "duration": 64,
    "start_time": "2023-01-20T12:06:17.925Z"
   },
   {
    "duration": 43,
    "start_time": "2023-01-20T12:06:55.879Z"
   },
   {
    "duration": 59,
    "start_time": "2023-01-20T12:07:02.430Z"
   },
   {
    "duration": 41,
    "start_time": "2023-01-20T12:07:09.860Z"
   },
   {
    "duration": 45,
    "start_time": "2023-01-20T12:07:17.124Z"
   },
   {
    "duration": 93,
    "start_time": "2023-01-20T12:07:57.362Z"
   },
   {
    "duration": 71,
    "start_time": "2023-01-20T12:08:14.909Z"
   },
   {
    "duration": 36,
    "start_time": "2023-01-20T12:09:12.302Z"
   },
   {
    "duration": 46,
    "start_time": "2023-01-20T12:10:39.240Z"
   },
   {
    "duration": 31,
    "start_time": "2023-01-20T12:10:51.850Z"
   },
   {
    "duration": 69,
    "start_time": "2023-01-20T12:10:58.106Z"
   },
   {
    "duration": 12,
    "start_time": "2023-01-20T12:59:15.973Z"
   },
   {
    "duration": 17,
    "start_time": "2023-01-20T12:59:24.767Z"
   },
   {
    "duration": 96,
    "start_time": "2023-01-20T12:59:59.765Z"
   },
   {
    "duration": 46,
    "start_time": "2023-01-20T13:00:17.731Z"
   },
   {
    "duration": 786,
    "start_time": "2023-01-20T13:01:04.959Z"
   },
   {
    "duration": 38,
    "start_time": "2023-01-20T13:01:21.359Z"
   },
   {
    "duration": 19,
    "start_time": "2023-01-20T13:01:42.465Z"
   },
   {
    "duration": 50,
    "start_time": "2023-01-20T13:02:01.356Z"
   },
   {
    "duration": 48,
    "start_time": "2023-01-20T13:02:15.659Z"
   },
   {
    "duration": 55,
    "start_time": "2023-01-20T13:02:49.188Z"
   },
   {
    "duration": 44,
    "start_time": "2023-01-20T13:03:13.406Z"
   },
   {
    "duration": 38,
    "start_time": "2023-01-20T13:03:16.366Z"
   },
   {
    "duration": 39,
    "start_time": "2023-01-20T13:03:42.749Z"
   },
   {
    "duration": 41,
    "start_time": "2023-01-20T13:03:47.648Z"
   },
   {
    "duration": 41,
    "start_time": "2023-01-20T13:03:54.304Z"
   },
   {
    "duration": 6,
    "start_time": "2023-01-20T13:03:57.141Z"
   },
   {
    "duration": 10,
    "start_time": "2023-01-20T13:03:57.674Z"
   },
   {
    "duration": 54,
    "start_time": "2023-01-20T13:03:59.223Z"
   },
   {
    "duration": 49,
    "start_time": "2023-01-20T13:04:32.815Z"
   },
   {
    "duration": 61,
    "start_time": "2023-01-20T13:06:32.215Z"
   },
   {
    "duration": 57,
    "start_time": "2023-01-20T13:07:44.064Z"
   },
   {
    "duration": 54,
    "start_time": "2023-01-20T13:07:48.294Z"
   },
   {
    "duration": 48,
    "start_time": "2023-01-20T13:07:50.965Z"
   },
   {
    "duration": 541,
    "start_time": "2023-01-20T13:08:31.871Z"
   },
   {
    "duration": 4,
    "start_time": "2023-01-20T13:08:43.837Z"
   },
   {
    "duration": 14,
    "start_time": "2023-01-20T13:08:44.518Z"
   },
   {
    "duration": 536,
    "start_time": "2023-01-20T13:08:45.768Z"
   },
   {
    "duration": 29,
    "start_time": "2023-01-20T13:09:05.667Z"
   },
   {
    "duration": 29,
    "start_time": "2023-01-20T13:09:08.375Z"
   },
   {
    "duration": 519,
    "start_time": "2023-01-20T13:09:52.001Z"
   },
   {
    "duration": 515,
    "start_time": "2023-01-20T13:09:56.410Z"
   },
   {
    "duration": 520,
    "start_time": "2023-01-20T13:09:58.378Z"
   },
   {
    "duration": 77,
    "start_time": "2023-01-20T13:10:03.768Z"
   },
   {
    "duration": 18,
    "start_time": "2023-01-20T13:10:04.070Z"
   },
   {
    "duration": 25,
    "start_time": "2023-01-20T13:10:04.317Z"
   },
   {
    "duration": 13,
    "start_time": "2023-01-20T13:10:04.893Z"
   },
   {
    "duration": 41,
    "start_time": "2023-01-20T13:10:05.188Z"
   },
   {
    "duration": 3,
    "start_time": "2023-01-20T13:10:05.634Z"
   },
   {
    "duration": 8,
    "start_time": "2023-01-20T13:10:05.918Z"
   },
   {
    "duration": 6,
    "start_time": "2023-01-20T13:10:06.368Z"
   },
   {
    "duration": 9,
    "start_time": "2023-01-20T13:10:06.560Z"
   },
   {
    "duration": 13,
    "start_time": "2023-01-20T13:10:06.764Z"
   },
   {
    "duration": 67,
    "start_time": "2023-01-20T13:10:07.033Z"
   },
   {
    "duration": 19,
    "start_time": "2023-01-20T13:10:07.238Z"
   },
   {
    "duration": 4,
    "start_time": "2023-01-20T13:10:07.525Z"
   },
   {
    "duration": 30,
    "start_time": "2023-01-20T13:10:07.829Z"
   },
   {
    "duration": 47,
    "start_time": "2023-01-20T13:10:08.037Z"
   },
   {
    "duration": 35,
    "start_time": "2023-01-20T13:10:08.137Z"
   },
   {
    "duration": 6,
    "start_time": "2023-01-20T13:10:08.457Z"
   },
   {
    "duration": 21,
    "start_time": "2023-01-20T13:10:09.230Z"
   },
   {
    "duration": 47,
    "start_time": "2023-01-20T13:10:09.255Z"
   },
   {
    "duration": 10,
    "start_time": "2023-01-20T13:10:09.304Z"
   },
   {
    "duration": 22,
    "start_time": "2023-01-20T13:10:09.316Z"
   },
   {
    "duration": 65,
    "start_time": "2023-01-20T13:10:09.926Z"
   },
   {
    "duration": 526,
    "start_time": "2023-01-20T13:10:13.996Z"
   },
   {
    "duration": 500,
    "start_time": "2023-01-20T13:10:23.025Z"
   },
   {
    "duration": 519,
    "start_time": "2023-01-20T13:10:25.167Z"
   },
   {
    "duration": 87,
    "start_time": "2023-01-20T13:10:31.694Z"
   },
   {
    "duration": 15,
    "start_time": "2023-01-20T13:10:32.007Z"
   },
   {
    "duration": 16,
    "start_time": "2023-01-20T13:10:32.479Z"
   },
   {
    "duration": 18,
    "start_time": "2023-01-20T13:10:33.159Z"
   },
   {
    "duration": 49,
    "start_time": "2023-01-20T13:10:33.338Z"
   },
   {
    "duration": 4,
    "start_time": "2023-01-20T13:10:33.597Z"
   },
   {
    "duration": 10,
    "start_time": "2023-01-20T13:10:33.779Z"
   },
   {
    "duration": 12,
    "start_time": "2023-01-20T13:10:34.058Z"
   },
   {
    "duration": 7,
    "start_time": "2023-01-20T13:10:34.228Z"
   },
   {
    "duration": 5,
    "start_time": "2023-01-20T13:10:34.411Z"
   },
   {
    "duration": 36,
    "start_time": "2023-01-20T13:10:34.700Z"
   },
   {
    "duration": 11,
    "start_time": "2023-01-20T13:10:34.896Z"
   },
   {
    "duration": 4,
    "start_time": "2023-01-20T13:10:35.200Z"
   },
   {
    "duration": 11,
    "start_time": "2023-01-20T13:10:35.490Z"
   },
   {
    "duration": 22,
    "start_time": "2023-01-20T13:10:35.678Z"
   },
   {
    "duration": 25,
    "start_time": "2023-01-20T13:10:35.798Z"
   },
   {
    "duration": 7,
    "start_time": "2023-01-20T13:10:36.108Z"
   },
   {
    "duration": 11,
    "start_time": "2023-01-20T13:10:36.194Z"
   },
   {
    "duration": 6,
    "start_time": "2023-01-20T13:10:36.724Z"
   },
   {
    "duration": 7,
    "start_time": "2023-01-20T13:10:37.160Z"
   },
   {
    "duration": 12,
    "start_time": "2023-01-20T13:10:37.264Z"
   },
   {
    "duration": 522,
    "start_time": "2023-01-20T13:10:38.166Z"
   },
   {
    "duration": 100,
    "start_time": "2023-01-20T13:10:45.187Z"
   },
   {
    "duration": 470,
    "start_time": "2023-01-20T13:11:06.133Z"
   },
   {
    "duration": 463,
    "start_time": "2023-01-20T13:11:08.095Z"
   },
   {
    "duration": 94,
    "start_time": "2023-01-20T13:11:10.770Z"
   },
   {
    "duration": 70,
    "start_time": "2023-01-20T13:11:17.061Z"
   },
   {
    "duration": 18,
    "start_time": "2023-01-20T13:11:17.594Z"
   },
   {
    "duration": 16,
    "start_time": "2023-01-20T13:11:17.673Z"
   },
   {
    "duration": 12,
    "start_time": "2023-01-20T13:11:17.801Z"
   },
   {
    "duration": 38,
    "start_time": "2023-01-20T13:11:17.878Z"
   },
   {
    "duration": 4,
    "start_time": "2023-01-20T13:11:17.958Z"
   },
   {
    "duration": 9,
    "start_time": "2023-01-20T13:11:18.024Z"
   },
   {
    "duration": 7,
    "start_time": "2023-01-20T13:11:18.134Z"
   },
   {
    "duration": 7,
    "start_time": "2023-01-20T13:11:18.199Z"
   },
   {
    "duration": 9,
    "start_time": "2023-01-20T13:11:18.264Z"
   },
   {
    "duration": 35,
    "start_time": "2023-01-20T13:11:18.374Z"
   },
   {
    "duration": 12,
    "start_time": "2023-01-20T13:11:18.420Z"
   },
   {
    "duration": 4,
    "start_time": "2023-01-20T13:11:18.530Z"
   },
   {
    "duration": 18,
    "start_time": "2023-01-20T13:11:18.626Z"
   },
   {
    "duration": 20,
    "start_time": "2023-01-20T13:11:18.690Z"
   },
   {
    "duration": 19,
    "start_time": "2023-01-20T13:11:18.722Z"
   },
   {
    "duration": 4,
    "start_time": "2023-01-20T13:11:18.814Z"
   },
   {
    "duration": 12,
    "start_time": "2023-01-20T13:11:18.883Z"
   },
   {
    "duration": 7,
    "start_time": "2023-01-20T13:11:18.925Z"
   },
   {
    "duration": 3,
    "start_time": "2023-01-20T13:11:18.994Z"
   },
   {
    "duration": 9,
    "start_time": "2023-01-20T13:11:19.020Z"
   },
   {
    "duration": 53,
    "start_time": "2023-01-20T13:11:19.117Z"
   },
   {
    "duration": 38,
    "start_time": "2023-01-20T13:11:19.259Z"
   },
   {
    "duration": 39,
    "start_time": "2023-01-20T13:11:19.355Z"
   },
   {
    "duration": 31,
    "start_time": "2023-01-20T13:11:19.454Z"
   },
   {
    "duration": 52,
    "start_time": "2023-01-20T13:12:43.468Z"
   },
   {
    "duration": 47,
    "start_time": "2023-01-20T13:13:20.289Z"
   },
   {
    "duration": 676,
    "start_time": "2023-01-20T13:23:49.762Z"
   },
   {
    "duration": 4,
    "start_time": "2023-01-20T13:23:54.492Z"
   },
   {
    "duration": 10,
    "start_time": "2023-01-20T13:23:54.783Z"
   },
   {
    "duration": 721,
    "start_time": "2023-01-20T13:23:55.993Z"
   },
   {
    "duration": 38,
    "start_time": "2023-01-20T13:23:58.683Z"
   },
   {
    "duration": 57,
    "start_time": "2023-01-20T13:24:21.328Z"
   },
   {
    "duration": 525,
    "start_time": "2023-01-20T13:24:50.665Z"
   },
   {
    "duration": 478,
    "start_time": "2023-01-20T13:27:02.036Z"
   },
   {
    "duration": 458,
    "start_time": "2023-01-20T13:27:03.918Z"
   },
   {
    "duration": 488,
    "start_time": "2023-01-20T13:27:20.866Z"
   },
   {
    "duration": 72,
    "start_time": "2023-01-20T13:27:24.564Z"
   },
   {
    "duration": 25,
    "start_time": "2023-01-20T13:27:25.110Z"
   },
   {
    "duration": 18,
    "start_time": "2023-01-20T13:27:25.173Z"
   },
   {
    "duration": 11,
    "start_time": "2023-01-20T13:27:25.299Z"
   },
   {
    "duration": 38,
    "start_time": "2023-01-20T13:27:25.364Z"
   },
   {
    "duration": 4,
    "start_time": "2023-01-20T13:27:25.459Z"
   },
   {
    "duration": 14,
    "start_time": "2023-01-20T13:27:25.537Z"
   },
   {
    "duration": 5,
    "start_time": "2023-01-20T13:27:25.633Z"
   },
   {
    "duration": 6,
    "start_time": "2023-01-20T13:27:25.703Z"
   },
   {
    "duration": 5,
    "start_time": "2023-01-20T13:27:25.759Z"
   },
   {
    "duration": 39,
    "start_time": "2023-01-20T13:27:25.859Z"
   },
   {
    "duration": 22,
    "start_time": "2023-01-20T13:27:25.933Z"
   },
   {
    "duration": 5,
    "start_time": "2023-01-20T13:27:26.036Z"
   },
   {
    "duration": 12,
    "start_time": "2023-01-20T13:27:26.122Z"
   },
   {
    "duration": 22,
    "start_time": "2023-01-20T13:27:26.185Z"
   },
   {
    "duration": 33,
    "start_time": "2023-01-20T13:27:26.232Z"
   },
   {
    "duration": 4,
    "start_time": "2023-01-20T13:27:26.328Z"
   },
   {
    "duration": 12,
    "start_time": "2023-01-20T13:27:26.360Z"
   },
   {
    "duration": 6,
    "start_time": "2023-01-20T13:27:26.423Z"
   },
   {
    "duration": 3,
    "start_time": "2023-01-20T13:27:26.492Z"
   },
   {
    "duration": 9,
    "start_time": "2023-01-20T13:27:26.518Z"
   },
   {
    "duration": 66,
    "start_time": "2023-01-20T13:27:27.766Z"
   },
   {
    "duration": 64,
    "start_time": "2023-01-20T13:27:48.685Z"
   },
   {
    "duration": 59,
    "start_time": "2023-01-20T13:28:59.075Z"
   },
   {
    "duration": 63,
    "start_time": "2023-01-20T13:29:30.820Z"
   },
   {
    "duration": 51,
    "start_time": "2023-01-20T13:29:39.025Z"
   },
   {
    "duration": 480,
    "start_time": "2023-01-20T13:33:32.515Z"
   },
   {
    "duration": 504,
    "start_time": "2023-01-20T13:34:04.623Z"
   },
   {
    "duration": 475,
    "start_time": "2023-01-20T13:34:10.579Z"
   },
   {
    "duration": 470,
    "start_time": "2023-01-20T13:34:16.359Z"
   },
   {
    "duration": 361,
    "start_time": "2023-01-20T13:35:30.883Z"
   },
   {
    "duration": 304,
    "start_time": "2023-01-20T13:35:34.903Z"
   },
   {
    "duration": 330,
    "start_time": "2023-01-20T13:35:40.840Z"
   },
   {
    "duration": 475,
    "start_time": "2023-01-20T13:36:01.293Z"
   },
   {
    "duration": 323,
    "start_time": "2023-01-20T13:36:13.834Z"
   },
   {
    "duration": 330,
    "start_time": "2023-01-20T13:37:19.903Z"
   },
   {
    "duration": 24,
    "start_time": "2023-01-20T13:37:50.681Z"
   },
   {
    "duration": 317,
    "start_time": "2023-01-20T13:37:59.501Z"
   },
   {
    "duration": 352,
    "start_time": "2023-01-20T13:38:16.593Z"
   },
   {
    "duration": 317,
    "start_time": "2023-01-20T13:38:34.161Z"
   },
   {
    "duration": 314,
    "start_time": "2023-01-20T13:38:41.620Z"
   },
   {
    "duration": 483,
    "start_time": "2023-01-20T13:38:44.945Z"
   },
   {
    "duration": 471,
    "start_time": "2023-01-20T13:39:03.861Z"
   },
   {
    "duration": 345,
    "start_time": "2023-01-20T13:40:21.482Z"
   },
   {
    "duration": 1624,
    "start_time": "2023-01-20T13:40:39.713Z"
   },
   {
    "duration": 76,
    "start_time": "2023-01-20T13:40:42.081Z"
   },
   {
    "duration": 1607,
    "start_time": "2023-01-20T13:41:43.866Z"
   },
   {
    "duration": 16,
    "start_time": "2023-01-20T13:42:57.477Z"
   },
   {
    "duration": 130,
    "start_time": "2023-01-20T13:44:20.923Z"
   },
   {
    "duration": 22,
    "start_time": "2023-01-20T13:45:02.504Z"
   },
   {
    "duration": 124,
    "start_time": "2023-01-20T13:45:06.750Z"
   },
   {
    "duration": 460,
    "start_time": "2023-01-20T13:45:25.304Z"
   },
   {
    "duration": 78,
    "start_time": "2023-01-20T13:45:29.665Z"
   },
   {
    "duration": 17,
    "start_time": "2023-01-20T13:45:30.212Z"
   },
   {
    "duration": 15,
    "start_time": "2023-01-20T13:45:30.273Z"
   },
   {
    "duration": 10,
    "start_time": "2023-01-20T13:45:30.398Z"
   },
   {
    "duration": 38,
    "start_time": "2023-01-20T13:45:30.463Z"
   },
   {
    "duration": 4,
    "start_time": "2023-01-20T13:45:30.572Z"
   },
   {
    "duration": 10,
    "start_time": "2023-01-20T13:45:30.633Z"
   },
   {
    "duration": 5,
    "start_time": "2023-01-20T13:45:30.729Z"
   },
   {
    "duration": 7,
    "start_time": "2023-01-20T13:45:30.794Z"
   },
   {
    "duration": 5,
    "start_time": "2023-01-20T13:45:30.857Z"
   },
   {
    "duration": 34,
    "start_time": "2023-01-20T13:45:30.969Z"
   },
   {
    "duration": 17,
    "start_time": "2023-01-20T13:45:31.033Z"
   },
   {
    "duration": 4,
    "start_time": "2023-01-20T13:45:31.129Z"
   },
   {
    "duration": 11,
    "start_time": "2023-01-20T13:45:31.225Z"
   },
   {
    "duration": 21,
    "start_time": "2023-01-20T13:45:31.288Z"
   },
   {
    "duration": 24,
    "start_time": "2023-01-20T13:45:31.332Z"
   },
   {
    "duration": 5,
    "start_time": "2023-01-20T13:45:31.427Z"
   },
   {
    "duration": 47,
    "start_time": "2023-01-20T13:45:31.459Z"
   },
   {
    "duration": 9,
    "start_time": "2023-01-20T13:45:31.521Z"
   },
   {
    "duration": 6,
    "start_time": "2023-01-20T13:45:32.037Z"
   },
   {
    "duration": 9,
    "start_time": "2023-01-20T13:45:32.207Z"
   },
   {
    "duration": 42,
    "start_time": "2023-01-20T13:45:32.656Z"
   },
   {
    "duration": 54,
    "start_time": "2023-01-20T13:45:34.797Z"
   },
   {
    "duration": 27,
    "start_time": "2023-01-20T13:45:36.935Z"
   },
   {
    "duration": 25,
    "start_time": "2023-01-20T13:46:22.149Z"
   },
   {
    "duration": 41,
    "start_time": "2023-01-20T13:46:34.316Z"
   },
   {
    "duration": 34,
    "start_time": "2023-01-20T13:46:56.689Z"
   },
   {
    "duration": 51,
    "start_time": "2023-01-20T13:47:45.608Z"
   },
   {
    "duration": 46,
    "start_time": "2023-01-21T11:38:56.718Z"
   },
   {
    "duration": 7,
    "start_time": "2023-01-21T11:38:58.911Z"
   },
   {
    "duration": 520,
    "start_time": "2023-01-21T11:39:03.109Z"
   },
   {
    "duration": 21,
    "start_time": "2023-01-21T11:39:03.631Z"
   },
   {
    "duration": 14,
    "start_time": "2023-01-21T11:39:03.747Z"
   },
   {
    "duration": 11,
    "start_time": "2023-01-21T11:39:04.364Z"
   },
   {
    "duration": 32,
    "start_time": "2023-01-21T11:39:04.699Z"
   },
   {
    "duration": 3,
    "start_time": "2023-01-21T11:39:05.174Z"
   },
   {
    "duration": 7,
    "start_time": "2023-01-21T11:39:05.507Z"
   },
   {
    "duration": 4,
    "start_time": "2023-01-21T11:39:05.987Z"
   },
   {
    "duration": 7,
    "start_time": "2023-01-21T11:39:06.325Z"
   },
   {
    "duration": 4,
    "start_time": "2023-01-21T11:39:06.688Z"
   },
   {
    "duration": 34,
    "start_time": "2023-01-21T11:39:07.245Z"
   },
   {
    "duration": 12,
    "start_time": "2023-01-21T11:39:07.619Z"
   },
   {
    "duration": 3,
    "start_time": "2023-01-21T11:39:08.171Z"
   },
   {
    "duration": 10,
    "start_time": "2023-01-21T11:39:08.697Z"
   },
   {
    "duration": 19,
    "start_time": "2023-01-21T11:39:09.047Z"
   },
   {
    "duration": 16,
    "start_time": "2023-01-21T11:39:09.246Z"
   },
   {
    "duration": 3,
    "start_time": "2023-01-21T11:39:09.793Z"
   },
   {
    "duration": 10,
    "start_time": "2023-01-21T11:39:09.967Z"
   },
   {
    "duration": 5,
    "start_time": "2023-01-21T11:39:10.318Z"
   },
   {
    "duration": 3,
    "start_time": "2023-01-21T11:39:10.666Z"
   },
   {
    "duration": 10,
    "start_time": "2023-01-21T11:39:10.847Z"
   },
   {
    "duration": 45,
    "start_time": "2023-01-21T11:39:11.358Z"
   },
   {
    "duration": 30,
    "start_time": "2023-01-21T11:39:12.055Z"
   },
   {
    "duration": 27,
    "start_time": "2023-01-21T11:39:12.989Z"
   },
   {
    "duration": 47,
    "start_time": "2023-01-21T11:39:14.136Z"
   },
   {
    "duration": 29,
    "start_time": "2023-01-21T11:56:00.238Z"
   },
   {
    "duration": 26,
    "start_time": "2023-01-21T11:56:15.233Z"
   },
   {
    "duration": 57,
    "start_time": "2023-01-21T11:56:25.586Z"
   },
   {
    "duration": 26,
    "start_time": "2023-01-21T11:56:35.175Z"
   },
   {
    "duration": 30,
    "start_time": "2023-01-21T11:56:52.105Z"
   },
   {
    "duration": 39,
    "start_time": "2023-01-21T11:57:13.717Z"
   },
   {
    "duration": 32,
    "start_time": "2023-01-21T11:57:41.964Z"
   },
   {
    "duration": 35,
    "start_time": "2023-01-21T11:59:18.146Z"
   },
   {
    "duration": 37,
    "start_time": "2023-01-21T11:59:57.588Z"
   },
   {
    "duration": 6,
    "start_time": "2023-01-21T12:00:02.147Z"
   },
   {
    "duration": 62,
    "start_time": "2023-01-21T12:00:05.387Z"
   },
   {
    "duration": 34,
    "start_time": "2023-01-21T12:00:51.490Z"
   },
   {
    "duration": 29,
    "start_time": "2023-01-21T12:02:18.377Z"
   },
   {
    "duration": 34,
    "start_time": "2023-01-21T12:02:37.798Z"
   },
   {
    "duration": 13,
    "start_time": "2023-01-21T12:13:30.086Z"
   },
   {
    "duration": 51,
    "start_time": "2023-01-21T12:13:34.071Z"
   },
   {
    "duration": 46,
    "start_time": "2023-01-22T16:46:53.561Z"
   },
   {
    "duration": 7,
    "start_time": "2023-01-22T16:46:57.721Z"
   },
   {
    "duration": 513,
    "start_time": "2023-01-22T16:47:05.453Z"
   },
   {
    "duration": 24,
    "start_time": "2023-01-22T16:47:05.968Z"
   },
   {
    "duration": 15,
    "start_time": "2023-01-22T16:47:06.046Z"
   },
   {
    "duration": 9,
    "start_time": "2023-01-22T16:47:06.643Z"
   },
   {
    "duration": 32,
    "start_time": "2023-01-22T16:47:07.053Z"
   },
   {
    "duration": 4,
    "start_time": "2023-01-22T16:47:07.537Z"
   },
   {
    "duration": 7,
    "start_time": "2023-01-22T16:47:07.835Z"
   },
   {
    "duration": 4,
    "start_time": "2023-01-22T16:47:08.315Z"
   },
   {
    "duration": 6,
    "start_time": "2023-01-22T16:47:08.626Z"
   },
   {
    "duration": 5,
    "start_time": "2023-01-22T16:47:08.934Z"
   },
   {
    "duration": 33,
    "start_time": "2023-01-22T16:47:09.414Z"
   },
   {
    "duration": 10,
    "start_time": "2023-01-22T16:47:09.722Z"
   },
   {
    "duration": 3,
    "start_time": "2023-01-22T16:47:10.182Z"
   },
   {
    "duration": 11,
    "start_time": "2023-01-22T16:47:10.666Z"
   },
   {
    "duration": 19,
    "start_time": "2023-01-22T16:47:11.027Z"
   },
   {
    "duration": 23,
    "start_time": "2023-01-22T16:47:11.204Z"
   },
   {
    "duration": 4,
    "start_time": "2023-01-22T16:47:11.685Z"
   },
   {
    "duration": 10,
    "start_time": "2023-01-22T16:47:11.847Z"
   },
   {
    "duration": 6,
    "start_time": "2023-01-22T16:47:12.172Z"
   },
   {
    "duration": 3,
    "start_time": "2023-01-22T16:47:12.517Z"
   },
   {
    "duration": 9,
    "start_time": "2023-01-22T16:47:12.687Z"
   },
   {
    "duration": 46,
    "start_time": "2023-01-22T16:47:13.045Z"
   },
   {
    "duration": 33,
    "start_time": "2023-01-22T16:47:13.724Z"
   },
   {
    "duration": 36,
    "start_time": "2023-01-22T16:47:14.260Z"
   },
   {
    "duration": 46,
    "start_time": "2023-01-22T16:47:14.838Z"
   },
   {
    "duration": 38,
    "start_time": "2023-01-22T16:47:27.115Z"
   },
   {
    "duration": 1381,
    "start_time": "2023-01-22T16:47:56.872Z"
   },
   {
    "duration": 30,
    "start_time": "2023-01-22T16:48:03.458Z"
   },
   {
    "duration": 1519,
    "start_time": "2023-01-22T16:52:24.785Z"
   },
   {
    "duration": 42,
    "start_time": "2023-01-22T16:52:30.255Z"
   },
   {
    "duration": 64,
    "start_time": "2023-01-22T16:53:41.176Z"
   },
   {
    "duration": 12,
    "start_time": "2023-01-22T16:53:53.248Z"
   },
   {
    "duration": 39,
    "start_time": "2023-01-22T16:54:03.788Z"
   },
   {
    "duration": 32,
    "start_time": "2023-01-22T16:54:36.478Z"
   },
   {
    "duration": 31,
    "start_time": "2023-01-22T16:54:43.256Z"
   },
   {
    "duration": 29,
    "start_time": "2023-01-22T16:54:53.428Z"
   },
   {
    "duration": 37,
    "start_time": "2023-01-22T16:54:54.770Z"
   },
   {
    "duration": 42,
    "start_time": "2023-01-22T16:55:04.282Z"
   },
   {
    "duration": 33,
    "start_time": "2023-01-22T16:56:09.459Z"
   },
   {
    "duration": 30,
    "start_time": "2023-01-22T16:56:16.873Z"
   },
   {
    "duration": 31,
    "start_time": "2023-01-22T16:56:26.505Z"
   },
   {
    "duration": 29,
    "start_time": "2023-01-22T16:57:00.569Z"
   },
   {
    "duration": 36,
    "start_time": "2023-01-22T16:57:03.426Z"
   },
   {
    "duration": 29,
    "start_time": "2023-01-22T16:57:14.736Z"
   },
   {
    "duration": 75,
    "start_time": "2023-01-22T16:57:22.842Z"
   },
   {
    "duration": 48,
    "start_time": "2023-01-22T16:58:04.689Z"
   },
   {
    "duration": 1322,
    "start_time": "2023-01-22T16:58:24.270Z"
   },
   {
    "duration": 30,
    "start_time": "2023-01-22T16:58:34.305Z"
   },
   {
    "duration": 33,
    "start_time": "2023-01-22T17:01:28.281Z"
   },
   {
    "duration": 69,
    "start_time": "2023-01-22T17:09:35.885Z"
   },
   {
    "duration": 80,
    "start_time": "2023-01-22T17:10:27.008Z"
   },
   {
    "duration": 1429,
    "start_time": "2023-01-24T09:56:00.975Z"
   },
   {
    "duration": 9,
    "start_time": "2023-01-24T09:56:28.609Z"
   },
   {
    "duration": 10,
    "start_time": "2023-01-24T09:56:33.001Z"
   },
   {
    "duration": 299,
    "start_time": "2023-01-24T09:56:36.500Z"
   },
   {
    "duration": 21,
    "start_time": "2023-01-24T09:56:36.811Z"
   },
   {
    "duration": 16,
    "start_time": "2023-01-24T09:56:37.101Z"
   },
   {
    "duration": 11,
    "start_time": "2023-01-24T09:56:37.672Z"
   },
   {
    "duration": 38,
    "start_time": "2023-01-24T09:56:37.960Z"
   },
   {
    "duration": 4,
    "start_time": "2023-01-24T09:56:38.378Z"
   },
   {
    "duration": 10,
    "start_time": "2023-01-24T09:56:38.654Z"
   },
   {
    "duration": 5,
    "start_time": "2023-01-24T09:56:39.097Z"
   },
   {
    "duration": 8,
    "start_time": "2023-01-24T09:56:39.404Z"
   },
   {
    "duration": 5,
    "start_time": "2023-01-24T09:56:39.716Z"
   },
   {
    "duration": 36,
    "start_time": "2023-01-24T09:56:40.190Z"
   },
   {
    "duration": 11,
    "start_time": "2023-01-24T09:56:40.507Z"
   },
   {
    "duration": 5,
    "start_time": "2023-01-24T09:56:40.992Z"
   },
   {
    "duration": 12,
    "start_time": "2023-01-24T09:56:41.492Z"
   },
   {
    "duration": 22,
    "start_time": "2023-01-24T09:56:41.826Z"
   },
   {
    "duration": 19,
    "start_time": "2023-01-24T09:56:41.993Z"
   },
   {
    "duration": 5,
    "start_time": "2023-01-24T09:56:42.491Z"
   },
   {
    "duration": 10,
    "start_time": "2023-01-24T09:56:42.663Z"
   },
   {
    "duration": 6,
    "start_time": "2023-01-24T09:56:43.008Z"
   },
   {
    "duration": 3,
    "start_time": "2023-01-24T09:56:43.550Z"
   },
   {
    "duration": 9,
    "start_time": "2023-01-24T09:56:43.760Z"
   },
   {
    "duration": 51,
    "start_time": "2023-01-24T09:56:44.297Z"
   },
   {
    "duration": 16,
    "start_time": "2023-01-24T09:56:44.640Z"
   },
   {
    "duration": 36,
    "start_time": "2023-01-24T09:56:46.148Z"
   },
   {
    "duration": 14,
    "start_time": "2023-01-24T09:58:34.310Z"
   },
   {
    "duration": 15,
    "start_time": "2023-01-24T10:00:34.009Z"
   },
   {
    "duration": 16,
    "start_time": "2023-01-24T10:01:34.417Z"
   },
   {
    "duration": 42,
    "start_time": "2023-01-24T10:01:37.786Z"
   },
   {
    "duration": 9,
    "start_time": "2023-01-24T10:02:04.788Z"
   },
   {
    "duration": 12,
    "start_time": "2023-01-24T10:02:13.532Z"
   },
   {
    "duration": 14,
    "start_time": "2023-01-24T10:02:33.292Z"
   },
   {
    "duration": 23,
    "start_time": "2023-01-24T10:09:11.617Z"
   },
   {
    "duration": 20,
    "start_time": "2023-01-24T10:09:30.378Z"
   },
   {
    "duration": 19,
    "start_time": "2023-01-24T10:11:49.559Z"
   },
   {
    "duration": 2037,
    "start_time": "2023-01-24T10:12:11.280Z"
   },
   {
    "duration": 1850,
    "start_time": "2023-01-24T10:12:13.590Z"
   },
   {
    "duration": 423,
    "start_time": "2023-01-24T10:12:45.440Z"
   },
   {
    "duration": 372,
    "start_time": "2023-01-24T10:13:23.531Z"
   },
   {
    "duration": 14,
    "start_time": "2023-01-24T10:14:09.212Z"
   },
   {
    "duration": 347,
    "start_time": "2023-01-24T10:14:17.054Z"
   },
   {
    "duration": 19,
    "start_time": "2023-01-24T10:14:47.239Z"
   },
   {
    "duration": 380,
    "start_time": "2023-01-24T10:15:01.150Z"
   },
   {
    "duration": 364,
    "start_time": "2023-01-24T10:15:22.750Z"
   },
   {
    "duration": 12,
    "start_time": "2023-01-24T10:15:53.176Z"
   },
   {
    "duration": 1887,
    "start_time": "2023-01-24T10:15:58.852Z"
   },
   {
    "duration": 53,
    "start_time": "2023-01-24T10:16:53.822Z"
   },
   {
    "duration": 12,
    "start_time": "2023-01-24T10:16:57.915Z"
   },
   {
    "duration": 450,
    "start_time": "2023-01-24T10:17:02.259Z"
   },
   {
    "duration": 12,
    "start_time": "2023-01-24T10:18:27.117Z"
   },
   {
    "duration": 34,
    "start_time": "2023-01-24T10:18:31.056Z"
   },
   {
    "duration": 33,
    "start_time": "2023-01-24T10:18:34.994Z"
   },
   {
    "duration": 12,
    "start_time": "2023-01-24T10:18:35.943Z"
   },
   {
    "duration": 361,
    "start_time": "2023-01-24T10:18:41.841Z"
   },
   {
    "duration": 408,
    "start_time": "2023-01-24T10:19:02.445Z"
   },
   {
    "duration": 337,
    "start_time": "2023-01-24T10:20:33.278Z"
   },
   {
    "duration": 15,
    "start_time": "2023-01-24T10:21:10.146Z"
   },
   {
    "duration": 2006,
    "start_time": "2023-01-24T10:21:15.666Z"
   },
   {
    "duration": 9,
    "start_time": "2023-01-24T10:21:27.276Z"
   },
   {
    "duration": 385,
    "start_time": "2023-01-24T10:21:32.844Z"
   },
   {
    "duration": 417,
    "start_time": "2023-01-24T10:22:12.483Z"
   },
   {
    "duration": 338,
    "start_time": "2023-01-24T10:22:37.013Z"
   },
   {
    "duration": 337,
    "start_time": "2023-01-24T10:23:46.492Z"
   },
   {
    "duration": 354,
    "start_time": "2023-01-24T10:24:18.266Z"
   },
   {
    "duration": 48,
    "start_time": "2023-01-24T10:25:17.599Z"
   },
   {
    "duration": 5,
    "start_time": "2023-01-24T10:26:38.887Z"
   },
   {
    "duration": 17,
    "start_time": "2023-01-24T10:26:39.284Z"
   },
   {
    "duration": 12,
    "start_time": "2023-01-24T10:27:31.839Z"
   },
   {
    "duration": 334,
    "start_time": "2023-01-24T10:27:35.210Z"
   },
   {
    "duration": 1528,
    "start_time": "2023-01-24T10:30:37.479Z"
   },
   {
    "duration": 35,
    "start_time": "2023-01-24T10:30:50.637Z"
   },
   {
    "duration": 4,
    "start_time": "2023-01-24T11:53:56.197Z"
   },
   {
    "duration": 3,
    "start_time": "2023-01-24T11:56:45.314Z"
   },
   {
    "duration": 3,
    "start_time": "2023-01-24T11:56:50.974Z"
   }
  ],
  "colab": {
   "provenance": []
  },
  "kernelspec": {
   "display_name": "Python 3 (ipykernel)",
   "language": "python",
   "name": "python3"
  },
  "language_info": {
   "codemirror_mode": {
    "name": "ipython",
    "version": 3
   },
   "file_extension": ".py",
   "mimetype": "text/x-python",
   "name": "python",
   "nbconvert_exporter": "python",
   "pygments_lexer": "ipython3",
   "version": "3.9.5"
  },
  "toc": {
   "base_numbering": 1,
   "nav_menu": {},
   "number_sections": true,
   "sideBar": true,
   "skip_h1_title": true,
   "title_cell": "Table of Contents",
   "title_sidebar": "Contents",
   "toc_cell": false,
   "toc_position": {},
   "toc_section_display": true,
   "toc_window_display": false
  }
 },
 "nbformat": 4,
 "nbformat_minor": 5
}
