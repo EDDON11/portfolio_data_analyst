{
 "cells": [
  {
   "cell_type": "markdown",
   "metadata": {},
   "source": [
    "#### Эдуард, привет! \n",
    "\n",
    "Меня зовут Максим, и я буду проверять твой проект. Давай будем общаться на «ты». Но если тебе комфортнее на «вы», обязательно сообщи мне об этом. \n",
    "По ходу тетрадки ты найдешь комментарии к проекту, они будут в отдельных ячейках Markdown с заголовком «Комментарий ревьюера». Постарайся учесть эти комментарии для дальнейших проектов.\n",
    "\n",
    "---\n",
    "\n",
    "Я буду отмечать комментарии цветом и примечанием. В конце заголовка комментария будет указан номер итерации проверки. Пожалуйста, не удаляй и не правь мои комментарии\n",
    "\n",
    "Критично - требует исправления, влияет на удачное выполнение проекта\n",
    "\n",
    "Рекомендация - комментарий является рекомендацией или советом. Mожешь учесть их при выполнении будущих заданий. На твое усмотрение\n",
    "\n",
    "Отлично - Так отмечены удачные решения и подходы, на которые стоит опираться в будущих проектах\n",
    "\n",
    "\n",
    "---\n",
    "<div class=\"alert alert-block alert-danger\">\n",
    "    \n",
    "\n",
    "### Комментарий от ревьюера\n",
    "Критично\n",
    "\n",
    "Такой комментарий нужно исправить обязательно, он критически влияет на удачное выполнение проекта.\n",
    "</div>\n",
    "    \n",
    "---\n",
    "\n",
    "<div class=\"alert alert-block alert-warning\">\n",
    "    \n",
    "\n",
    "### Комментарий от ревьюера\n",
    "Рекомендация\n",
    "\n",
    "Такой комментарий является рекомендацией или советом. Mожешь учесть их при выполнении будущих заданий. На твое усмотрение. \n",
    "</div>\n",
    "\n",
    "---\n",
    "\n",
    "<div class=\"alert alert-block alert-success\">\n",
    "    \n",
    "\n",
    "### Комментарий от ревьюера\n",
    "Отлично\n",
    "    \n",
    "Так отмечены удачные решения и подходы, на которые стоит опираться в будущих проектах\n",
    "</div>\n",
    "\n",
    "\n",
    "Желательно реагировать на комментарии ('исправлено', 'не понятно как исправить ошибку' и т.п.) - так мы сможем более эффективно поработать над этим проектом.\n",
    "\n",
    "---\n",
    "\n",
    "Будет здорово, если ты будешь помечать свои действия следующим образом:\n",
    "\n",
    "\n",
    "\n",
    "<div class=\"alert alert-block alert-info\">\n",
    "\n",
    "### Комментарий студента:\n",
    "\n",
    "</div>"
   ]
  },
  {
   "cell_type": "markdown",
   "metadata": {},
   "source": [
    "<div class=\"alert alert-block alert-success\">\n",
    "    \n",
    "    \n",
    "### Комментарий от ревьюера v_1\n",
    "    \n",
    "Эдуард, отличный проект, но следующие моменты надо доработать\n",
    "    \n",
    "1. Расчет доли пользователей, переходящих на следующий шаг воронки\n",
    "2. Т-тесты\n",
    "3. Рассуждения об уровне значимости\n",
    "    \n",
    "Подробные комментарии по ходу работы\n",
    "    \n",
    "Желтые комментарии-рекомендации на твое усмотрение.\n",
    "    \n",
    "Если есть вопросы ко мне, можешь оставить их в отдельном комментарии\n",
    "</div>"
   ]
  },
  {
   "cell_type": "markdown",
   "metadata": {},
   "source": [
    "<div class=\"alert alert-block alert-success\">\n",
    " \n",
    "\n",
    "### Комментарий от ревьюера v_2\n",
    "    \n",
    "Эдуард, привет!\n",
    "    \n",
    "Отлично, все критичные комментарии отработаны!\n",
    "    \n",
    "У тебя получился отличный проект, успеха в дальнейшем обучении!\n",
    "    \n",
    "Если есть желание поглубже познакомиться со статистикой, тервером и аб тестами (при этом глубоко не погружаясь в математические дебри) рекомендую посмотреть цикл лекций Глеба Михайлова (возможно он наставник у тебя)\n",
    "    \n",
    "https://www.youtube.com/playlist?list=PLQJ7ptkRY-xbHLLI66KdscKp_FJt0FsIi\n",
    "    \n",
    "И отличная статья про структуры данных в пандас\n",
    "    \n",
    "http://datalytics.ru/all/uglublennoe-izuchenie-pandas-struktury-dannyh/\n",
    "    \n",
    "\n",
    "</div>"
   ]
  },
  {
   "cell_type": "markdown",
   "metadata": {},
   "source": [
    "Я работаю в стартапе, который занимается продажей продуктов питания через мобильное приложение. Моя задача - изучить поведение пользователей в приложении и проанализировать воронку продаж. Я хочу понять, как пользователи доходят до покупки и на каких этапах возникают проблемы или \"застревания\".\n",
    "\n",
    "Мне предстоит провести детальный анализ каждого шага воронки продаж. Я буду изучать, сколько пользователей переходит от одного этапа к другому и на каком этапе возникает наибольшая потеря пользователей. Это поможет мне определить, где именно нужно сосредоточиться для улучшения процесса продаж.\n",
    "\n",
    "Кроме того, у нас запланирован A/A/B-эксперимент, связанный с изменением шрифтов в приложении. Дизайнеры предложили новые шрифты, но менеджеры выразили опасения относительно реакции пользователей. Чтобы принять окончательное решение, мы решили провести A/A/B-тестирование. Пользователей разделили на три группы: две контрольные группы с текущими шрифтами и одну экспериментальную группу с новыми шрифтами. Моя задача состоит в анализе результатов теста и определении, какой из шрифтов будет лучше влиять на поведение и удовлетворенность пользователей."
   ]
  },
  {
   "cell_type": "markdown",
   "metadata": {},
   "source": [
    "\n",
    "<div class=\"alert alert-block alert-success\">\n",
    "    \n",
    "\n",
    "### Комментарий от ревьюера v_1\n",
    "Отлично\n",
    "    \n",
    "Молодец, что в начале проекте знакомишь с ним, так работа приобретает структуру и лучше воспринимается.\n",
    "    \n",
    "Также стоит дать название проекту, а оглавление из плагина TOC можно перенести, установив галочку \"Add Notebook Toc Cell\"\n",
    "\n",
    "</div>"
   ]
  },
  {
   "cell_type": "markdown",
   "metadata": {},
   "source": [
    "<h3>Шаг</h3>"
   ]
  },
  {
   "cell_type": "code",
   "execution_count": 146,
   "metadata": {},
   "outputs": [],
   "source": [
    "import pandas as pd\n",
    "import matplotlib.pyplot as plt\n",
    "import seaborn as sns\n",
    "from scipy import stats as st\n",
    "from scipy import stats\n",
    "import plotly.graph_objects as go\n",
    "from matplotlib import pyplot\n",
    "import itertools\n",
    "import numpy as np\n",
    "\n",
    "from datetime import datetime, timedelta"
   ]
  },
  {
   "cell_type": "markdown",
   "metadata": {},
   "source": [
    "<div class=\"alert alert-block alert-success\">\n",
    "    \n",
    "### Комментарий от ревьюера v_1\n",
    "Отлично\n",
    "    \n",
    "Отлично, библиотеки импортированы в начале тетрадки, в отдельной ячейке.\n",
    "</div>"
   ]
  },
  {
   "cell_type": "code",
   "execution_count": 147,
   "metadata": {},
   "outputs": [],
   "source": [
    "logs = pd.read_csv('/datasets/logs_exp.csv', sep='\\t')"
   ]
  },
  {
   "cell_type": "code",
   "execution_count": 148,
   "metadata": {},
   "outputs": [
    {
     "data": {
      "text/html": [
       "<div>\n",
       "<style scoped>\n",
       "    .dataframe tbody tr th:only-of-type {\n",
       "        vertical-align: middle;\n",
       "    }\n",
       "\n",
       "    .dataframe tbody tr th {\n",
       "        vertical-align: top;\n",
       "    }\n",
       "\n",
       "    .dataframe thead th {\n",
       "        text-align: right;\n",
       "    }\n",
       "</style>\n",
       "<table border=\"1\" class=\"dataframe\">\n",
       "  <thead>\n",
       "    <tr style=\"text-align: right;\">\n",
       "      <th></th>\n",
       "      <th>EventName</th>\n",
       "      <th>DeviceIDHash</th>\n",
       "      <th>EventTimestamp</th>\n",
       "      <th>ExpId</th>\n",
       "    </tr>\n",
       "  </thead>\n",
       "  <tbody>\n",
       "    <tr>\n",
       "      <th>0</th>\n",
       "      <td>MainScreenAppear</td>\n",
       "      <td>4575588528974610257</td>\n",
       "      <td>1564029816</td>\n",
       "      <td>246</td>\n",
       "    </tr>\n",
       "    <tr>\n",
       "      <th>1</th>\n",
       "      <td>MainScreenAppear</td>\n",
       "      <td>7416695313311560658</td>\n",
       "      <td>1564053102</td>\n",
       "      <td>246</td>\n",
       "    </tr>\n",
       "    <tr>\n",
       "      <th>2</th>\n",
       "      <td>PaymentScreenSuccessful</td>\n",
       "      <td>3518123091307005509</td>\n",
       "      <td>1564054127</td>\n",
       "      <td>248</td>\n",
       "    </tr>\n",
       "    <tr>\n",
       "      <th>3</th>\n",
       "      <td>CartScreenAppear</td>\n",
       "      <td>3518123091307005509</td>\n",
       "      <td>1564054127</td>\n",
       "      <td>248</td>\n",
       "    </tr>\n",
       "    <tr>\n",
       "      <th>4</th>\n",
       "      <td>PaymentScreenSuccessful</td>\n",
       "      <td>6217807653094995999</td>\n",
       "      <td>1564055322</td>\n",
       "      <td>248</td>\n",
       "    </tr>\n",
       "    <tr>\n",
       "      <th>5</th>\n",
       "      <td>CartScreenAppear</td>\n",
       "      <td>6217807653094995999</td>\n",
       "      <td>1564055323</td>\n",
       "      <td>248</td>\n",
       "    </tr>\n",
       "    <tr>\n",
       "      <th>6</th>\n",
       "      <td>OffersScreenAppear</td>\n",
       "      <td>8351860793733343758</td>\n",
       "      <td>1564066242</td>\n",
       "      <td>246</td>\n",
       "    </tr>\n",
       "    <tr>\n",
       "      <th>7</th>\n",
       "      <td>MainScreenAppear</td>\n",
       "      <td>5682100281902512875</td>\n",
       "      <td>1564085677</td>\n",
       "      <td>246</td>\n",
       "    </tr>\n",
       "    <tr>\n",
       "      <th>8</th>\n",
       "      <td>MainScreenAppear</td>\n",
       "      <td>1850981295691852772</td>\n",
       "      <td>1564086702</td>\n",
       "      <td>247</td>\n",
       "    </tr>\n",
       "    <tr>\n",
       "      <th>9</th>\n",
       "      <td>MainScreenAppear</td>\n",
       "      <td>5407636962369102641</td>\n",
       "      <td>1564112112</td>\n",
       "      <td>246</td>\n",
       "    </tr>\n",
       "  </tbody>\n",
       "</table>\n",
       "</div>"
      ],
      "text/plain": [
       "                 EventName         DeviceIDHash  EventTimestamp  ExpId\n",
       "0         MainScreenAppear  4575588528974610257      1564029816    246\n",
       "1         MainScreenAppear  7416695313311560658      1564053102    246\n",
       "2  PaymentScreenSuccessful  3518123091307005509      1564054127    248\n",
       "3         CartScreenAppear  3518123091307005509      1564054127    248\n",
       "4  PaymentScreenSuccessful  6217807653094995999      1564055322    248\n",
       "5         CartScreenAppear  6217807653094995999      1564055323    248\n",
       "6       OffersScreenAppear  8351860793733343758      1564066242    246\n",
       "7         MainScreenAppear  5682100281902512875      1564085677    246\n",
       "8         MainScreenAppear  1850981295691852772      1564086702    247\n",
       "9         MainScreenAppear  5407636962369102641      1564112112    246"
      ]
     },
     "execution_count": 148,
     "metadata": {},
     "output_type": "execute_result"
    }
   ],
   "source": [
    "logs.head(10)"
   ]
  },
  {
   "cell_type": "markdown",
   "metadata": {},
   "source": [
    "Описание данных\n",
    "Каждая запись в логе — это действие пользователя, или событие. \n",
    "EventName — название события;\n",
    "DeviceIDHash — уникальный идентификатор пользователя;\n",
    "EventTimestamp — время события;\n",
    "ExpId — номер эксперимента: 246 и 247 — контрольные группы, а 248 — экспериментальная."
   ]
  },
  {
   "cell_type": "markdown",
   "metadata": {},
   "source": [
    "<h3>Шаг</h3>"
   ]
  },
  {
   "cell_type": "code",
   "execution_count": 149,
   "metadata": {},
   "outputs": [],
   "source": [
    "logs = logs.rename(columns={'EventName': 'event_name', 'DeviceIDHash': 'user_id', \n",
    "                            'EventTimestamp': 'event_timestamp', 'ExpId': 'exp_id'})"
   ]
  },
  {
   "cell_type": "code",
   "execution_count": 150,
   "metadata": {},
   "outputs": [
    {
     "data": {
      "text/html": [
       "<div>\n",
       "<style scoped>\n",
       "    .dataframe tbody tr th:only-of-type {\n",
       "        vertical-align: middle;\n",
       "    }\n",
       "\n",
       "    .dataframe tbody tr th {\n",
       "        vertical-align: top;\n",
       "    }\n",
       "\n",
       "    .dataframe thead th {\n",
       "        text-align: right;\n",
       "    }\n",
       "</style>\n",
       "<table border=\"1\" class=\"dataframe\">\n",
       "  <thead>\n",
       "    <tr style=\"text-align: right;\">\n",
       "      <th></th>\n",
       "      <th>event_name</th>\n",
       "      <th>user_id</th>\n",
       "      <th>event_timestamp</th>\n",
       "      <th>exp_id</th>\n",
       "    </tr>\n",
       "  </thead>\n",
       "  <tbody>\n",
       "    <tr>\n",
       "      <th>0</th>\n",
       "      <td>MainScreenAppear</td>\n",
       "      <td>4575588528974610257</td>\n",
       "      <td>1564029816</td>\n",
       "      <td>246</td>\n",
       "    </tr>\n",
       "    <tr>\n",
       "      <th>1</th>\n",
       "      <td>MainScreenAppear</td>\n",
       "      <td>7416695313311560658</td>\n",
       "      <td>1564053102</td>\n",
       "      <td>246</td>\n",
       "    </tr>\n",
       "    <tr>\n",
       "      <th>2</th>\n",
       "      <td>PaymentScreenSuccessful</td>\n",
       "      <td>3518123091307005509</td>\n",
       "      <td>1564054127</td>\n",
       "      <td>248</td>\n",
       "    </tr>\n",
       "    <tr>\n",
       "      <th>3</th>\n",
       "      <td>CartScreenAppear</td>\n",
       "      <td>3518123091307005509</td>\n",
       "      <td>1564054127</td>\n",
       "      <td>248</td>\n",
       "    </tr>\n",
       "    <tr>\n",
       "      <th>4</th>\n",
       "      <td>PaymentScreenSuccessful</td>\n",
       "      <td>6217807653094995999</td>\n",
       "      <td>1564055322</td>\n",
       "      <td>248</td>\n",
       "    </tr>\n",
       "    <tr>\n",
       "      <th>5</th>\n",
       "      <td>CartScreenAppear</td>\n",
       "      <td>6217807653094995999</td>\n",
       "      <td>1564055323</td>\n",
       "      <td>248</td>\n",
       "    </tr>\n",
       "    <tr>\n",
       "      <th>6</th>\n",
       "      <td>OffersScreenAppear</td>\n",
       "      <td>8351860793733343758</td>\n",
       "      <td>1564066242</td>\n",
       "      <td>246</td>\n",
       "    </tr>\n",
       "    <tr>\n",
       "      <th>7</th>\n",
       "      <td>MainScreenAppear</td>\n",
       "      <td>5682100281902512875</td>\n",
       "      <td>1564085677</td>\n",
       "      <td>246</td>\n",
       "    </tr>\n",
       "    <tr>\n",
       "      <th>8</th>\n",
       "      <td>MainScreenAppear</td>\n",
       "      <td>1850981295691852772</td>\n",
       "      <td>1564086702</td>\n",
       "      <td>247</td>\n",
       "    </tr>\n",
       "    <tr>\n",
       "      <th>9</th>\n",
       "      <td>MainScreenAppear</td>\n",
       "      <td>5407636962369102641</td>\n",
       "      <td>1564112112</td>\n",
       "      <td>246</td>\n",
       "    </tr>\n",
       "  </tbody>\n",
       "</table>\n",
       "</div>"
      ],
      "text/plain": [
       "                event_name              user_id  event_timestamp  exp_id\n",
       "0         MainScreenAppear  4575588528974610257       1564029816     246\n",
       "1         MainScreenAppear  7416695313311560658       1564053102     246\n",
       "2  PaymentScreenSuccessful  3518123091307005509       1564054127     248\n",
       "3         CartScreenAppear  3518123091307005509       1564054127     248\n",
       "4  PaymentScreenSuccessful  6217807653094995999       1564055322     248\n",
       "5         CartScreenAppear  6217807653094995999       1564055323     248\n",
       "6       OffersScreenAppear  8351860793733343758       1564066242     246\n",
       "7         MainScreenAppear  5682100281902512875       1564085677     246\n",
       "8         MainScreenAppear  1850981295691852772       1564086702     247\n",
       "9         MainScreenAppear  5407636962369102641       1564112112     246"
      ]
     },
     "execution_count": 150,
     "metadata": {},
     "output_type": "execute_result"
    }
   ],
   "source": [
    "logs.head(10)"
   ]
  },
  {
   "cell_type": "code",
   "execution_count": 151,
   "metadata": {},
   "outputs": [
    {
     "name": "stdout",
     "output_type": "stream",
     "text": [
      "<class 'pandas.core.frame.DataFrame'>\n",
      "RangeIndex: 244126 entries, 0 to 244125\n",
      "Data columns (total 4 columns):\n",
      " #   Column           Non-Null Count   Dtype \n",
      "---  ------           --------------   ----- \n",
      " 0   event_name       244126 non-null  object\n",
      " 1   user_id          244126 non-null  int64 \n",
      " 2   event_timestamp  244126 non-null  int64 \n",
      " 3   exp_id           244126 non-null  int64 \n",
      "dtypes: int64(3), object(1)\n",
      "memory usage: 7.5+ MB\n"
     ]
    }
   ],
   "source": [
    "logs.info()"
   ]
  },
  {
   "cell_type": "code",
   "execution_count": 152,
   "metadata": {},
   "outputs": [
    {
     "name": "stdout",
     "output_type": "stream",
     "text": [
      "Количество пропусков в каждом столбце:\n",
      " event_name         0\n",
      "user_id            0\n",
      "event_timestamp    0\n",
      "exp_id             0\n",
      "dtype: int64\n"
     ]
    }
   ],
   "source": [
    "print(\"Количество пропусков в каждом столбце:\\n\", logs.isnull().sum())"
   ]
  },
  {
   "cell_type": "code",
   "execution_count": 153,
   "metadata": {},
   "outputs": [
    {
     "name": "stdout",
     "output_type": "stream",
     "text": [
      "Количество дубликатов = 413\n"
     ]
    }
   ],
   "source": [
    "print('Количество дубликатов =', logs.duplicated(['event_name', 'user_id', 'event_timestamp', 'exp_id']).sum())"
   ]
  },
  {
   "cell_type": "code",
   "execution_count": 154,
   "metadata": {},
   "outputs": [
    {
     "name": "stdout",
     "output_type": "stream",
     "text": [
      "Дубликаты в процентах 0.17%\n"
     ]
    }
   ],
   "source": [
    "print('Дубликаты в процентах', f'{logs.duplicated().sum() / logs.shape[0]:.2%}')"
   ]
  },
  {
   "cell_type": "markdown",
   "metadata": {},
   "source": [
    "Количество дубликатов меньше 5% можно удалять, на дальнейший анализ не повлияет "
   ]
  },
  {
   "cell_type": "code",
   "execution_count": 155,
   "metadata": {},
   "outputs": [],
   "source": [
    "logs = logs.drop_duplicates().reset_index(drop=True)"
   ]
  },
  {
   "cell_type": "code",
   "execution_count": 156,
   "metadata": {},
   "outputs": [
    {
     "name": "stdout",
     "output_type": "stream",
     "text": [
      "Дубликаты в процентах после удаления 0.00%\n"
     ]
    }
   ],
   "source": [
    "print('Дубликаты в процентах после удаления', f'{logs.duplicated().sum() / logs.shape[0]:.2%}')"
   ]
  },
  {
   "cell_type": "markdown",
   "metadata": {},
   "source": [
    "Добавил стообцы даты и времени "
   ]
  },
  {
   "cell_type": "code",
   "execution_count": 157,
   "metadata": {},
   "outputs": [
    {
     "data": {
      "text/html": [
       "<div>\n",
       "<style scoped>\n",
       "    .dataframe tbody tr th:only-of-type {\n",
       "        vertical-align: middle;\n",
       "    }\n",
       "\n",
       "    .dataframe tbody tr th {\n",
       "        vertical-align: top;\n",
       "    }\n",
       "\n",
       "    .dataframe thead th {\n",
       "        text-align: right;\n",
       "    }\n",
       "</style>\n",
       "<table border=\"1\" class=\"dataframe\">\n",
       "  <thead>\n",
       "    <tr style=\"text-align: right;\">\n",
       "      <th></th>\n",
       "      <th>event_name</th>\n",
       "      <th>user_id</th>\n",
       "      <th>event_timestamp</th>\n",
       "      <th>exp_id</th>\n",
       "      <th>datetime</th>\n",
       "    </tr>\n",
       "  </thead>\n",
       "  <tbody>\n",
       "    <tr>\n",
       "      <th>0</th>\n",
       "      <td>MainScreenAppear</td>\n",
       "      <td>4575588528974610257</td>\n",
       "      <td>1564029816</td>\n",
       "      <td>246</td>\n",
       "      <td>2019-07-25 04:43:36</td>\n",
       "    </tr>\n",
       "    <tr>\n",
       "      <th>1</th>\n",
       "      <td>MainScreenAppear</td>\n",
       "      <td>7416695313311560658</td>\n",
       "      <td>1564053102</td>\n",
       "      <td>246</td>\n",
       "      <td>2019-07-25 11:11:42</td>\n",
       "    </tr>\n",
       "    <tr>\n",
       "      <th>2</th>\n",
       "      <td>PaymentScreenSuccessful</td>\n",
       "      <td>3518123091307005509</td>\n",
       "      <td>1564054127</td>\n",
       "      <td>248</td>\n",
       "      <td>2019-07-25 11:28:47</td>\n",
       "    </tr>\n",
       "    <tr>\n",
       "      <th>3</th>\n",
       "      <td>CartScreenAppear</td>\n",
       "      <td>3518123091307005509</td>\n",
       "      <td>1564054127</td>\n",
       "      <td>248</td>\n",
       "      <td>2019-07-25 11:28:47</td>\n",
       "    </tr>\n",
       "    <tr>\n",
       "      <th>4</th>\n",
       "      <td>PaymentScreenSuccessful</td>\n",
       "      <td>6217807653094995999</td>\n",
       "      <td>1564055322</td>\n",
       "      <td>248</td>\n",
       "      <td>2019-07-25 11:48:42</td>\n",
       "    </tr>\n",
       "    <tr>\n",
       "      <th>...</th>\n",
       "      <td>...</td>\n",
       "      <td>...</td>\n",
       "      <td>...</td>\n",
       "      <td>...</td>\n",
       "      <td>...</td>\n",
       "    </tr>\n",
       "    <tr>\n",
       "      <th>243708</th>\n",
       "      <td>MainScreenAppear</td>\n",
       "      <td>4599628364049201812</td>\n",
       "      <td>1565212345</td>\n",
       "      <td>247</td>\n",
       "      <td>2019-08-07 21:12:25</td>\n",
       "    </tr>\n",
       "    <tr>\n",
       "      <th>243709</th>\n",
       "      <td>MainScreenAppear</td>\n",
       "      <td>5849806612437486590</td>\n",
       "      <td>1565212439</td>\n",
       "      <td>246</td>\n",
       "      <td>2019-08-07 21:13:59</td>\n",
       "    </tr>\n",
       "    <tr>\n",
       "      <th>243710</th>\n",
       "      <td>MainScreenAppear</td>\n",
       "      <td>5746969938801999050</td>\n",
       "      <td>1565212483</td>\n",
       "      <td>246</td>\n",
       "      <td>2019-08-07 21:14:43</td>\n",
       "    </tr>\n",
       "    <tr>\n",
       "      <th>243711</th>\n",
       "      <td>MainScreenAppear</td>\n",
       "      <td>5746969938801999050</td>\n",
       "      <td>1565212498</td>\n",
       "      <td>246</td>\n",
       "      <td>2019-08-07 21:14:58</td>\n",
       "    </tr>\n",
       "    <tr>\n",
       "      <th>243712</th>\n",
       "      <td>OffersScreenAppear</td>\n",
       "      <td>5746969938801999050</td>\n",
       "      <td>1565212517</td>\n",
       "      <td>246</td>\n",
       "      <td>2019-08-07 21:15:17</td>\n",
       "    </tr>\n",
       "  </tbody>\n",
       "</table>\n",
       "<p>243713 rows × 5 columns</p>\n",
       "</div>"
      ],
      "text/plain": [
       "                     event_name              user_id  event_timestamp  exp_id  \\\n",
       "0              MainScreenAppear  4575588528974610257       1564029816     246   \n",
       "1              MainScreenAppear  7416695313311560658       1564053102     246   \n",
       "2       PaymentScreenSuccessful  3518123091307005509       1564054127     248   \n",
       "3              CartScreenAppear  3518123091307005509       1564054127     248   \n",
       "4       PaymentScreenSuccessful  6217807653094995999       1564055322     248   \n",
       "...                         ...                  ...              ...     ...   \n",
       "243708         MainScreenAppear  4599628364049201812       1565212345     247   \n",
       "243709         MainScreenAppear  5849806612437486590       1565212439     246   \n",
       "243710         MainScreenAppear  5746969938801999050       1565212483     246   \n",
       "243711         MainScreenAppear  5746969938801999050       1565212498     246   \n",
       "243712       OffersScreenAppear  5746969938801999050       1565212517     246   \n",
       "\n",
       "                  datetime  \n",
       "0      2019-07-25 04:43:36  \n",
       "1      2019-07-25 11:11:42  \n",
       "2      2019-07-25 11:28:47  \n",
       "3      2019-07-25 11:28:47  \n",
       "4      2019-07-25 11:48:42  \n",
       "...                    ...  \n",
       "243708 2019-08-07 21:12:25  \n",
       "243709 2019-08-07 21:13:59  \n",
       "243710 2019-08-07 21:14:43  \n",
       "243711 2019-08-07 21:14:58  \n",
       "243712 2019-08-07 21:15:17  \n",
       "\n",
       "[243713 rows x 5 columns]"
      ]
     },
     "execution_count": 157,
     "metadata": {},
     "output_type": "execute_result"
    }
   ],
   "source": [
    "logs['datetime'] = pd.to_datetime(logs['event_timestamp'], unit='s')\n",
    "logs"
   ]
  },
  {
   "cell_type": "markdown",
   "metadata": {},
   "source": [
    "Столбец с датой "
   ]
  },
  {
   "cell_type": "code",
   "execution_count": 158,
   "metadata": {},
   "outputs": [
    {
     "data": {
      "text/html": [
       "<div>\n",
       "<style scoped>\n",
       "    .dataframe tbody tr th:only-of-type {\n",
       "        vertical-align: middle;\n",
       "    }\n",
       "\n",
       "    .dataframe tbody tr th {\n",
       "        vertical-align: top;\n",
       "    }\n",
       "\n",
       "    .dataframe thead th {\n",
       "        text-align: right;\n",
       "    }\n",
       "</style>\n",
       "<table border=\"1\" class=\"dataframe\">\n",
       "  <thead>\n",
       "    <tr style=\"text-align: right;\">\n",
       "      <th></th>\n",
       "      <th>event_name</th>\n",
       "      <th>user_id</th>\n",
       "      <th>event_timestamp</th>\n",
       "      <th>exp_id</th>\n",
       "      <th>datetime</th>\n",
       "      <th>date</th>\n",
       "    </tr>\n",
       "  </thead>\n",
       "  <tbody>\n",
       "    <tr>\n",
       "      <th>0</th>\n",
       "      <td>MainScreenAppear</td>\n",
       "      <td>4575588528974610257</td>\n",
       "      <td>1564029816</td>\n",
       "      <td>246</td>\n",
       "      <td>2019-07-25 04:43:36</td>\n",
       "      <td>2019-07-25</td>\n",
       "    </tr>\n",
       "    <tr>\n",
       "      <th>1</th>\n",
       "      <td>MainScreenAppear</td>\n",
       "      <td>7416695313311560658</td>\n",
       "      <td>1564053102</td>\n",
       "      <td>246</td>\n",
       "      <td>2019-07-25 11:11:42</td>\n",
       "      <td>2019-07-25</td>\n",
       "    </tr>\n",
       "    <tr>\n",
       "      <th>2</th>\n",
       "      <td>PaymentScreenSuccessful</td>\n",
       "      <td>3518123091307005509</td>\n",
       "      <td>1564054127</td>\n",
       "      <td>248</td>\n",
       "      <td>2019-07-25 11:28:47</td>\n",
       "      <td>2019-07-25</td>\n",
       "    </tr>\n",
       "    <tr>\n",
       "      <th>3</th>\n",
       "      <td>CartScreenAppear</td>\n",
       "      <td>3518123091307005509</td>\n",
       "      <td>1564054127</td>\n",
       "      <td>248</td>\n",
       "      <td>2019-07-25 11:28:47</td>\n",
       "      <td>2019-07-25</td>\n",
       "    </tr>\n",
       "    <tr>\n",
       "      <th>4</th>\n",
       "      <td>PaymentScreenSuccessful</td>\n",
       "      <td>6217807653094995999</td>\n",
       "      <td>1564055322</td>\n",
       "      <td>248</td>\n",
       "      <td>2019-07-25 11:48:42</td>\n",
       "      <td>2019-07-25</td>\n",
       "    </tr>\n",
       "    <tr>\n",
       "      <th>...</th>\n",
       "      <td>...</td>\n",
       "      <td>...</td>\n",
       "      <td>...</td>\n",
       "      <td>...</td>\n",
       "      <td>...</td>\n",
       "      <td>...</td>\n",
       "    </tr>\n",
       "    <tr>\n",
       "      <th>243708</th>\n",
       "      <td>MainScreenAppear</td>\n",
       "      <td>4599628364049201812</td>\n",
       "      <td>1565212345</td>\n",
       "      <td>247</td>\n",
       "      <td>2019-08-07 21:12:25</td>\n",
       "      <td>2019-08-07</td>\n",
       "    </tr>\n",
       "    <tr>\n",
       "      <th>243709</th>\n",
       "      <td>MainScreenAppear</td>\n",
       "      <td>5849806612437486590</td>\n",
       "      <td>1565212439</td>\n",
       "      <td>246</td>\n",
       "      <td>2019-08-07 21:13:59</td>\n",
       "      <td>2019-08-07</td>\n",
       "    </tr>\n",
       "    <tr>\n",
       "      <th>243710</th>\n",
       "      <td>MainScreenAppear</td>\n",
       "      <td>5746969938801999050</td>\n",
       "      <td>1565212483</td>\n",
       "      <td>246</td>\n",
       "      <td>2019-08-07 21:14:43</td>\n",
       "      <td>2019-08-07</td>\n",
       "    </tr>\n",
       "    <tr>\n",
       "      <th>243711</th>\n",
       "      <td>MainScreenAppear</td>\n",
       "      <td>5746969938801999050</td>\n",
       "      <td>1565212498</td>\n",
       "      <td>246</td>\n",
       "      <td>2019-08-07 21:14:58</td>\n",
       "      <td>2019-08-07</td>\n",
       "    </tr>\n",
       "    <tr>\n",
       "      <th>243712</th>\n",
       "      <td>OffersScreenAppear</td>\n",
       "      <td>5746969938801999050</td>\n",
       "      <td>1565212517</td>\n",
       "      <td>246</td>\n",
       "      <td>2019-08-07 21:15:17</td>\n",
       "      <td>2019-08-07</td>\n",
       "    </tr>\n",
       "  </tbody>\n",
       "</table>\n",
       "<p>243713 rows × 6 columns</p>\n",
       "</div>"
      ],
      "text/plain": [
       "                     event_name              user_id  event_timestamp  exp_id  \\\n",
       "0              MainScreenAppear  4575588528974610257       1564029816     246   \n",
       "1              MainScreenAppear  7416695313311560658       1564053102     246   \n",
       "2       PaymentScreenSuccessful  3518123091307005509       1564054127     248   \n",
       "3              CartScreenAppear  3518123091307005509       1564054127     248   \n",
       "4       PaymentScreenSuccessful  6217807653094995999       1564055322     248   \n",
       "...                         ...                  ...              ...     ...   \n",
       "243708         MainScreenAppear  4599628364049201812       1565212345     247   \n",
       "243709         MainScreenAppear  5849806612437486590       1565212439     246   \n",
       "243710         MainScreenAppear  5746969938801999050       1565212483     246   \n",
       "243711         MainScreenAppear  5746969938801999050       1565212498     246   \n",
       "243712       OffersScreenAppear  5746969938801999050       1565212517     246   \n",
       "\n",
       "                  datetime        date  \n",
       "0      2019-07-25 04:43:36  2019-07-25  \n",
       "1      2019-07-25 11:11:42  2019-07-25  \n",
       "2      2019-07-25 11:28:47  2019-07-25  \n",
       "3      2019-07-25 11:28:47  2019-07-25  \n",
       "4      2019-07-25 11:48:42  2019-07-25  \n",
       "...                    ...         ...  \n",
       "243708 2019-08-07 21:12:25  2019-08-07  \n",
       "243709 2019-08-07 21:13:59  2019-08-07  \n",
       "243710 2019-08-07 21:14:43  2019-08-07  \n",
       "243711 2019-08-07 21:14:58  2019-08-07  \n",
       "243712 2019-08-07 21:15:17  2019-08-07  \n",
       "\n",
       "[243713 rows x 6 columns]"
      ]
     },
     "execution_count": 158,
     "metadata": {},
     "output_type": "execute_result"
    }
   ],
   "source": [
    "logs['date'] = logs['datetime'].dt.date\n",
    "logs"
   ]
  },
  {
   "cell_type": "markdown",
   "metadata": {},
   "source": [
    "Данные для анализа готовы, удалил дубликаты т.к. их было меньше 5% и в дальнейшем на анализ они не повлияют,\n",
    "то их лучше удалить. Пропусков найдено не было.  "
   ]
  },
  {
   "cell_type": "code",
   "execution_count": 159,
   "metadata": {},
   "outputs": [
    {
     "name": "stdout",
     "output_type": "stream",
     "text": [
      "<class 'pandas.core.frame.DataFrame'>\n",
      "RangeIndex: 243713 entries, 0 to 243712\n",
      "Data columns (total 6 columns):\n",
      " #   Column           Non-Null Count   Dtype         \n",
      "---  ------           --------------   -----         \n",
      " 0   event_name       243713 non-null  object        \n",
      " 1   user_id          243713 non-null  int64         \n",
      " 2   event_timestamp  243713 non-null  int64         \n",
      " 3   exp_id           243713 non-null  int64         \n",
      " 4   datetime         243713 non-null  datetime64[ns]\n",
      " 5   date             243713 non-null  datetime64[ns]\n",
      "dtypes: datetime64[ns](2), int64(3), object(1)\n",
      "memory usage: 11.2+ MB\n"
     ]
    }
   ],
   "source": [
    "logs['date'] = logs['date'].astype('datetime64')\n",
    "logs.info()"
   ]
  },
  {
   "cell_type": "markdown",
   "metadata": {},
   "source": [
    "<div class=\"alert alert-block alert-success\">\n",
    "    \n",
    "\n",
    "### Комментарий от ревьюера v_1\n",
    "Отлично\n",
    "    \n",
    "С подготовкой все ОК, но рекомендую завернуть базовые проверки в функцию и использовать ее и в следующих проектах, и в целом при дальнейшей работы с данными"
   ]
  },
  {
   "cell_type": "markdown",
   "metadata": {},
   "source": [
    "<div class=\"alert alert-block alert-warning\">\n",
    "    \n",
    "### Комментарий от ревьюера v_1\n",
    "Рекомендация\n",
    "\n",
    "Но стоит проверить не попали ли у нас одни и те же пользователи в разные группы\n",
    "</div>"
   ]
  },
  {
   "cell_type": "markdown",
   "metadata": {},
   "source": [
    "<h3>Шаг. Изучите и проверьте данные</h3>"
   ]
  },
  {
   "cell_type": "markdown",
   "metadata": {},
   "source": [
    "1. Количество событий в логе"
   ]
  },
  {
   "cell_type": "code",
   "execution_count": 160,
   "metadata": {},
   "outputs": [
    {
     "name": "stdout",
     "output_type": "stream",
     "text": [
      "Количество событий в логе: 243713\n"
     ]
    }
   ],
   "source": [
    "event_count = len(logs)\n",
    "print(\"Количество событий в логе:\", event_count)"
   ]
  },
  {
   "cell_type": "markdown",
   "metadata": {},
   "source": [
    "\n",
    "В логе содержится 243 713 событий."
   ]
  },
  {
   "cell_type": "code",
   "execution_count": 161,
   "metadata": {},
   "outputs": [
    {
     "data": {
      "text/plain": [
       "MainScreenAppear           119101\n",
       "OffersScreenAppear          46808\n",
       "CartScreenAppear            42668\n",
       "PaymentScreenSuccessful     34118\n",
       "Tutorial                     1018\n",
       "Name: event_name, dtype: int64"
      ]
     },
     "execution_count": 161,
     "metadata": {},
     "output_type": "execute_result"
    }
   ],
   "source": [
    "logs['event_name'].value_counts()"
   ]
  },
  {
   "cell_type": "markdown",
   "metadata": {},
   "source": [
    "2. Сколько всего пользователей в логе."
   ]
  },
  {
   "cell_type": "code",
   "execution_count": 162,
   "metadata": {},
   "outputs": [
    {
     "name": "stdout",
     "output_type": "stream",
     "text": [
      "Общее количество пользователей в логе: 7551\n"
     ]
    }
   ],
   "source": [
    "total_users = logs['user_id'].nunique()\n",
    "print('Общее количество пользователей в логе:', total_users)"
   ]
  },
  {
   "cell_type": "markdown",
   "metadata": {},
   "source": [
    "Всего 7551 пользователей в логе"
   ]
  },
  {
   "cell_type": "code",
   "execution_count": 163,
   "metadata": {},
   "outputs": [
    {
     "data": {
      "text/plain": [
       "6304868067479728361    2307\n",
       "197027893265565660     1998\n",
       "4623191541214045580    1768\n",
       "6932517045703054087    1439\n",
       "1754140665440434215    1221\n",
       "                       ... \n",
       "395376432319166724        1\n",
       "404128138074395619        1\n",
       "6936517579657223951       1\n",
       "5138854326043201424       1\n",
       "3954096321632083010       1\n",
       "Name: user_id, Length: 7551, dtype: int64"
      ]
     },
     "execution_count": 163,
     "metadata": {},
     "output_type": "execute_result"
    }
   ],
   "source": [
    "logs['user_id'].value_counts()"
   ]
  },
  {
   "cell_type": "markdown",
   "metadata": {},
   "source": [
    "3. Сколько в среднем событий приходится на пользователя."
   ]
  },
  {
   "cell_type": "code",
   "execution_count": 164,
   "metadata": {},
   "outputs": [
    {
     "name": "stdout",
     "output_type": "stream",
     "text": [
      "В среднем на пользователя приходится 32.3 событий\n"
     ]
    }
   ],
   "source": [
    "total_events = len(logs)\n",
    "total_users = logs['user_id'].nunique() \n",
    "\n",
    "events_user = total_events / total_users\n",
    "round_events_user = round(events_user, 1)\n",
    "\n",
    "print('В среднем на пользователя приходится', round_events_user, 'событий')"
   ]
  },
  {
   "cell_type": "markdown",
   "metadata": {},
   "source": [
    "<div class=\"alert alert-block alert-warning\">\n",
    "    \n",
    "### Комментарий от ревьюера v_1\n",
    "Рекомендация\n",
    "    \n",
    "Расчеты верны, но было бы еще интересно посмотреть на распределение количества событий по пользователям, построив гистограмму. Явно в задании это не прописано, но такое действие даст тебе более глубокое представление о данных и покажет, какая из описательных статистик лучше охарактеризует распределение\n",
    "    \n",
    "</div>"
   ]
  },
  {
   "cell_type": "code",
   "execution_count": 165,
   "metadata": {},
   "outputs": [],
   "source": [
    "events_per_user = logs['user_id'].value_counts()"
   ]
  },
  {
   "cell_type": "code",
   "execution_count": 166,
   "metadata": {},
   "outputs": [
    {
     "data": {
      "image/png": "[encoded data removed]",
      "text/plain": [
       "<Figure size 720x432 with 1 Axes>"
      ]
     },
     "metadata": {
      "needs_background": "light"
     },
     "output_type": "display_data"
    }
   ],
   "source": [
    "plt.figure(figsize=(10, 6))\n",
    "plt.hist(events_per_user, bins=50, color='red')\n",
    "plt.xlabel('Количество событий')\n",
    "plt.ylabel('Количество пользователей')\n",
    "plt.title('Распределение количества событий по пользователям')\n",
    "plt.show()"
   ]
  },
  {
   "cell_type": "code",
   "execution_count": 167,
   "metadata": {},
   "outputs": [],
   "source": [
    "pivot_table = pd.pivot_table(logs, values='exp_id', index='user_id', aggfunc='count')\n",
    "pivot_table.columns = ['Количество событий']"
   ]
  },
  {
   "cell_type": "markdown",
   "metadata": {},
   "source": [
    "Период исследования "
   ]
  },
  {
   "cell_type": "code",
   "execution_count": 168,
   "metadata": {},
   "outputs": [
    {
     "name": "stdout",
     "output_type": "stream",
     "text": [
      "Начало исследования    : 2019-07-25 04:43:36\n",
      "Окончание исследования : 2019-08-07 21:15:17\n",
      "Продолжительность      : 13 days 16:31:41\n"
     ]
    }
   ],
   "source": [
    "print('Начало исследования    :', logs.datetime.min())\n",
    "print('Окончание исследования :', logs.datetime.max())\n",
    "print('Продолжительность      :', logs.datetime.max() - logs.datetime.min())"
   ]
  },
  {
   "cell_type": "code",
   "execution_count": 169,
   "metadata": {},
   "outputs": [
    {
     "data": {
      "image/png": "[encoded data removed]",
      "text/plain": [
       "<Figure size 864x576 with 1 Axes>"
      ]
     },
     "metadata": {
      "needs_background": "light"
     },
     "output_type": "display_data"
    }
   ],
   "source": [
    "plt.figure(figsize=(12, 8))\n",
    "plt.hist(logs['datetime'], bins=14*24, color='red')\n",
    "plt.xlabel('Дата и время')\n",
    "plt.ylabel('Количество событий')\n",
    "plt.title('Гистограмма событий по дате и времени')\n",
    "plt.xticks(rotation=45)\n",
    "plt.show()"
   ]
  },
  {
   "cell_type": "markdown",
   "metadata": {},
   "source": [
    "<div class=\"alert alert-block alert-warning\">\n",
    "    \n",
    "### Комментарий от ревьюера v_1\n",
    "Рекомендация\n",
    "    \n",
    "При построении гистограмм, отражающих временные отрезки, количество бинов стоит определять так, чтобы каждый бин точно соответствовал определенному временному промежутку\n",
    "    \n",
    "Например, так **bins=14*24**"
   ]
  },
  {
   "cell_type": "markdown",
   "metadata": {},
   "source": [
    "События в логе начинают значительно увеличиваться с 1 августа 2019 года. До этой даты частота событий колеблется в районе 2000.\n",
    "\n",
    "После 1 августа 2019 года наблюдается резкий рост частоты событий, что может указывать на изменение в поведении пользователей или на изменение в самой системе.\n",
    "\n",
    "Учитывая эту особенность и смещение данных в сторону конца периода, предлагается отбросить данные, предшествующие 1 августа 2019 года.\n",
    "\n",
    "Отбрасывание старых данных (до 2019-08-01) может помочь в фокусировке на более актуальных событиях и поведении пользователей после указанной даты. Это позволит получить более точные и актуальные результаты анализа данных и избежать влияния устаревшей информации."
   ]
  },
  {
   "cell_type": "code",
   "execution_count": 170,
   "metadata": {},
   "outputs": [
    {
     "data": {
      "text/html": [
       "<div>\n",
       "<style scoped>\n",
       "    .dataframe tbody tr th:only-of-type {\n",
       "        vertical-align: middle;\n",
       "    }\n",
       "\n",
       "    .dataframe tbody tr th {\n",
       "        vertical-align: top;\n",
       "    }\n",
       "\n",
       "    .dataframe thead th {\n",
       "        text-align: right;\n",
       "    }\n",
       "</style>\n",
       "<table border=\"1\" class=\"dataframe\">\n",
       "  <thead>\n",
       "    <tr style=\"text-align: right;\">\n",
       "      <th></th>\n",
       "      <th>event_name</th>\n",
       "      <th>user_id</th>\n",
       "      <th>event_timestamp</th>\n",
       "      <th>exp_id</th>\n",
       "      <th>datetime</th>\n",
       "      <th>date</th>\n",
       "    </tr>\n",
       "  </thead>\n",
       "  <tbody>\n",
       "    <tr>\n",
       "      <th>2826</th>\n",
       "      <td>Tutorial</td>\n",
       "      <td>3737462046622621720</td>\n",
       "      <td>1564618048</td>\n",
       "      <td>246</td>\n",
       "      <td>2019-08-01 00:07:28</td>\n",
       "      <td>2019-08-01</td>\n",
       "    </tr>\n",
       "    <tr>\n",
       "      <th>2827</th>\n",
       "      <td>MainScreenAppear</td>\n",
       "      <td>3737462046622621720</td>\n",
       "      <td>1564618080</td>\n",
       "      <td>246</td>\n",
       "      <td>2019-08-01 00:08:00</td>\n",
       "      <td>2019-08-01</td>\n",
       "    </tr>\n",
       "    <tr>\n",
       "      <th>2828</th>\n",
       "      <td>MainScreenAppear</td>\n",
       "      <td>3737462046622621720</td>\n",
       "      <td>1564618135</td>\n",
       "      <td>246</td>\n",
       "      <td>2019-08-01 00:08:55</td>\n",
       "      <td>2019-08-01</td>\n",
       "    </tr>\n",
       "    <tr>\n",
       "      <th>2829</th>\n",
       "      <td>OffersScreenAppear</td>\n",
       "      <td>3737462046622621720</td>\n",
       "      <td>1564618138</td>\n",
       "      <td>246</td>\n",
       "      <td>2019-08-01 00:08:58</td>\n",
       "      <td>2019-08-01</td>\n",
       "    </tr>\n",
       "    <tr>\n",
       "      <th>2830</th>\n",
       "      <td>MainScreenAppear</td>\n",
       "      <td>1433840883824088890</td>\n",
       "      <td>1564618139</td>\n",
       "      <td>247</td>\n",
       "      <td>2019-08-01 00:08:59</td>\n",
       "      <td>2019-08-01</td>\n",
       "    </tr>\n",
       "    <tr>\n",
       "      <th>...</th>\n",
       "      <td>...</td>\n",
       "      <td>...</td>\n",
       "      <td>...</td>\n",
       "      <td>...</td>\n",
       "      <td>...</td>\n",
       "      <td>...</td>\n",
       "    </tr>\n",
       "    <tr>\n",
       "      <th>243708</th>\n",
       "      <td>MainScreenAppear</td>\n",
       "      <td>4599628364049201812</td>\n",
       "      <td>1565212345</td>\n",
       "      <td>247</td>\n",
       "      <td>2019-08-07 21:12:25</td>\n",
       "      <td>2019-08-07</td>\n",
       "    </tr>\n",
       "    <tr>\n",
       "      <th>243709</th>\n",
       "      <td>MainScreenAppear</td>\n",
       "      <td>5849806612437486590</td>\n",
       "      <td>1565212439</td>\n",
       "      <td>246</td>\n",
       "      <td>2019-08-07 21:13:59</td>\n",
       "      <td>2019-08-07</td>\n",
       "    </tr>\n",
       "    <tr>\n",
       "      <th>243710</th>\n",
       "      <td>MainScreenAppear</td>\n",
       "      <td>5746969938801999050</td>\n",
       "      <td>1565212483</td>\n",
       "      <td>246</td>\n",
       "      <td>2019-08-07 21:14:43</td>\n",
       "      <td>2019-08-07</td>\n",
       "    </tr>\n",
       "    <tr>\n",
       "      <th>243711</th>\n",
       "      <td>MainScreenAppear</td>\n",
       "      <td>5746969938801999050</td>\n",
       "      <td>1565212498</td>\n",
       "      <td>246</td>\n",
       "      <td>2019-08-07 21:14:58</td>\n",
       "      <td>2019-08-07</td>\n",
       "    </tr>\n",
       "    <tr>\n",
       "      <th>243712</th>\n",
       "      <td>OffersScreenAppear</td>\n",
       "      <td>5746969938801999050</td>\n",
       "      <td>1565212517</td>\n",
       "      <td>246</td>\n",
       "      <td>2019-08-07 21:15:17</td>\n",
       "      <td>2019-08-07</td>\n",
       "    </tr>\n",
       "  </tbody>\n",
       "</table>\n",
       "<p>240887 rows × 6 columns</p>\n",
       "</div>"
      ],
      "text/plain": [
       "                event_name              user_id  event_timestamp  exp_id  \\\n",
       "2826              Tutorial  3737462046622621720       1564618048     246   \n",
       "2827      MainScreenAppear  3737462046622621720       1564618080     246   \n",
       "2828      MainScreenAppear  3737462046622621720       1564618135     246   \n",
       "2829    OffersScreenAppear  3737462046622621720       1564618138     246   \n",
       "2830      MainScreenAppear  1433840883824088890       1564618139     247   \n",
       "...                    ...                  ...              ...     ...   \n",
       "243708    MainScreenAppear  4599628364049201812       1565212345     247   \n",
       "243709    MainScreenAppear  5849806612437486590       1565212439     246   \n",
       "243710    MainScreenAppear  5746969938801999050       1565212483     246   \n",
       "243711    MainScreenAppear  5746969938801999050       1565212498     246   \n",
       "243712  OffersScreenAppear  5746969938801999050       1565212517     246   \n",
       "\n",
       "                  datetime       date  \n",
       "2826   2019-08-01 00:07:28 2019-08-01  \n",
       "2827   2019-08-01 00:08:00 2019-08-01  \n",
       "2828   2019-08-01 00:08:55 2019-08-01  \n",
       "2829   2019-08-01 00:08:58 2019-08-01  \n",
       "2830   2019-08-01 00:08:59 2019-08-01  \n",
       "...                    ...        ...  \n",
       "243708 2019-08-07 21:12:25 2019-08-07  \n",
       "243709 2019-08-07 21:13:59 2019-08-07  \n",
       "243710 2019-08-07 21:14:43 2019-08-07  \n",
       "243711 2019-08-07 21:14:58 2019-08-07  \n",
       "243712 2019-08-07 21:15:17 2019-08-07  \n",
       "\n",
       "[240887 rows x 6 columns]"
      ]
     },
     "execution_count": 170,
     "metadata": {},
     "output_type": "execute_result"
    }
   ],
   "source": [
    "data = logs.loc[logs['date'] > '2019-07-31']\n",
    "data"
   ]
  },
  {
   "cell_type": "markdown",
   "metadata": {},
   "source": [
    "<div class=\"alert alert-block alert-success\">\n",
    "    \n",
    "\n",
    "### Комментарий от ревьюера v_1\n",
    "Отлично\n",
    "    \n",
    "Все верно 👍\n",
    "    \n",
    "Тест был запущен 1-го августа, а предыдущие события - это старые логи, которые \"доехали\" в выборку)\n",
    "\n",
    "</div>"
   ]
  },
  {
   "cell_type": "code",
   "execution_count": 171,
   "metadata": {},
   "outputs": [
    {
     "data": {
      "image/png": "[encoded data removed]",
      "text/plain": [
       "<Figure size 864x576 with 1 Axes>"
      ]
     },
     "metadata": {
      "needs_background": "light"
     },
     "output_type": "display_data"
    }
   ],
   "source": [
    "plt.figure(figsize=(12, 8))\n",
    "plt.hist(data['datetime'], bins=50, color='red')\n",
    "plt.xlabel('Дата и время')\n",
    "plt.ylabel('Количество событий')\n",
    "plt.title('Гистограмма событий по дате и времени')\n",
    "plt.xticks(rotation=45)\n",
    "plt.show()"
   ]
  },
  {
   "cell_type": "code",
   "execution_count": 172,
   "metadata": {},
   "outputs": [
    {
     "name": "stdout",
     "output_type": "stream",
     "text": [
      "Группировка до фильтрации\n"
     ]
    },
    {
     "data": {
      "text/html": [
       "<div>\n",
       "<style scoped>\n",
       "    .dataframe tbody tr th:only-of-type {\n",
       "        vertical-align: middle;\n",
       "    }\n",
       "\n",
       "    .dataframe tbody tr th {\n",
       "        vertical-align: top;\n",
       "    }\n",
       "\n",
       "    .dataframe thead th {\n",
       "        text-align: right;\n",
       "    }\n",
       "</style>\n",
       "<table border=\"1\" class=\"dataframe\">\n",
       "  <thead>\n",
       "    <tr style=\"text-align: right;\">\n",
       "      <th></th>\n",
       "      <th>exp_id</th>\n",
       "      <th>user_id</th>\n",
       "    </tr>\n",
       "  </thead>\n",
       "  <tbody>\n",
       "    <tr>\n",
       "      <th>0</th>\n",
       "      <td>246</td>\n",
       "      <td>2489</td>\n",
       "    </tr>\n",
       "    <tr>\n",
       "      <th>1</th>\n",
       "      <td>247</td>\n",
       "      <td>2520</td>\n",
       "    </tr>\n",
       "    <tr>\n",
       "      <th>2</th>\n",
       "      <td>248</td>\n",
       "      <td>2542</td>\n",
       "    </tr>\n",
       "  </tbody>\n",
       "</table>\n",
       "</div>"
      ],
      "text/plain": [
       "   exp_id  user_id\n",
       "0     246     2489\n",
       "1     247     2520\n",
       "2     248     2542"
      ]
     },
     "metadata": {},
     "output_type": "display_data"
    },
    {
     "name": "stdout",
     "output_type": "stream",
     "text": [
      "Группировка после фильтрации\n"
     ]
    },
    {
     "data": {
      "text/html": [
       "<div>\n",
       "<style scoped>\n",
       "    .dataframe tbody tr th:only-of-type {\n",
       "        vertical-align: middle;\n",
       "    }\n",
       "\n",
       "    .dataframe tbody tr th {\n",
       "        vertical-align: top;\n",
       "    }\n",
       "\n",
       "    .dataframe thead th {\n",
       "        text-align: right;\n",
       "    }\n",
       "</style>\n",
       "<table border=\"1\" class=\"dataframe\">\n",
       "  <thead>\n",
       "    <tr style=\"text-align: right;\">\n",
       "      <th></th>\n",
       "      <th>exp_id</th>\n",
       "      <th>user_id</th>\n",
       "    </tr>\n",
       "  </thead>\n",
       "  <tbody>\n",
       "    <tr>\n",
       "      <th>0</th>\n",
       "      <td>246</td>\n",
       "      <td>2484</td>\n",
       "    </tr>\n",
       "    <tr>\n",
       "      <th>1</th>\n",
       "      <td>247</td>\n",
       "      <td>2513</td>\n",
       "    </tr>\n",
       "    <tr>\n",
       "      <th>2</th>\n",
       "      <td>248</td>\n",
       "      <td>2537</td>\n",
       "    </tr>\n",
       "  </tbody>\n",
       "</table>\n",
       "</div>"
      ],
      "text/plain": [
       "   exp_id  user_id\n",
       "0     246     2484\n",
       "1     247     2513\n",
       "2     248     2537"
      ]
     },
     "metadata": {},
     "output_type": "display_data"
    }
   ],
   "source": [
    "print('Группировка до фильтрации')\n",
    "display(logs.groupby('exp_id').agg({'user_id':'nunique'}).reset_index())\n",
    "\n",
    "print('Группировка после фильтрации')\n",
    "display(data.groupby('exp_id').agg({'user_id':'nunique'}).reset_index())"
   ]
  },
  {
   "cell_type": "code",
   "execution_count": 173,
   "metadata": {},
   "outputs": [
    {
     "name": "stdout",
     "output_type": "stream",
     "text": [
      "Потерянные события: 2826\n",
      "Потерянные пользователи: 17\n",
      "Очищено данных (%): 1.16\n",
      "Очищено пользователей (%): 0.23\n"
     ]
    }
   ],
   "source": [
    "events_before_filter = len(logs)\n",
    "users_before_filter = logs['user_id'].nunique()\n",
    "\n",
    "events_after_filter = len(data)\n",
    "users_after_filter = data['user_id'].nunique()\n",
    "\n",
    "lost_events = events_before_filter - events_after_filter\n",
    "lost_users = users_before_filter - users_after_filter\n",
    "\n",
    "percent_events_lost = round((lost_events / events_before_filter) * 100, 2)\n",
    "percent_users_lost = round((lost_users / users_before_filter) * 100, 2)\n",
    "\n",
    "print(\"Потерянные события:\", lost_events)\n",
    "print(\"Потерянные пользователи:\", lost_users)\n",
    "print(\"Очищено данных (%):\", percent_events_lost)\n",
    "print(\"Очищено пользователей (%):\", percent_users_lost)"
   ]
  },
  {
   "cell_type": "markdown",
   "metadata": {},
   "source": [
    "\n",
    "Процент сохраненных данных составляет 98,84%. Это означает, что почти все данные были успешно сохранены.\n",
    "\n",
    "Также, процент сохраненных пользователей составляет 99,77%. Это говорит о том, что практически все \n",
    "пользователи системы были сохранены."
   ]
  },
  {
   "cell_type": "markdown",
   "metadata": {},
   "source": [
    "<div class=\"alert alert-block alert-success\">\n",
    "    \n",
    "\n",
    "### Комментарий от ревьюера v_1\n",
    "Отлично\n",
    "    \n",
    "Здорово, что считаешь потери по пользователям и событиям, и в абсолютных и в относительных показателях\n",
    "    \n",
    "А для форматирования удобно использовать f-строки\n",
    "    \n",
    "https://www.youtube.com/watch?v=QlkQNWQUCLc&list=PLQAt0m1f9OHvv2wxPGSCWjgy1qER_FvB6&index=14\n",
    "</div>"
   ]
  },
  {
   "cell_type": "markdown",
   "metadata": {},
   "source": [
    "<h3>Шаг. Изучение воронки событий</h3>"
   ]
  },
  {
   "cell_type": "markdown",
   "metadata": {},
   "source": [
    "1. Какие события есть в логах, как часто они встречаютсякакие события есть в логах, как часто они встречаются"
   ]
  },
  {
   "cell_type": "code",
   "execution_count": 174,
   "metadata": {},
   "outputs": [
    {
     "data": {
      "text/html": [
       "<div>\n",
       "<style scoped>\n",
       "    .dataframe tbody tr th:only-of-type {\n",
       "        vertical-align: middle;\n",
       "    }\n",
       "\n",
       "    .dataframe tbody tr th {\n",
       "        vertical-align: top;\n",
       "    }\n",
       "\n",
       "    .dataframe thead th {\n",
       "        text-align: right;\n",
       "    }\n",
       "</style>\n",
       "<table border=\"1\" class=\"dataframe\">\n",
       "  <thead>\n",
       "    <tr style=\"text-align: right;\">\n",
       "      <th></th>\n",
       "      <th>event_name</th>\n",
       "      <th>frequency</th>\n",
       "    </tr>\n",
       "  </thead>\n",
       "  <tbody>\n",
       "    <tr>\n",
       "      <th>0</th>\n",
       "      <td>MainScreenAppear</td>\n",
       "      <td>117328</td>\n",
       "    </tr>\n",
       "    <tr>\n",
       "      <th>1</th>\n",
       "      <td>OffersScreenAppear</td>\n",
       "      <td>46333</td>\n",
       "    </tr>\n",
       "    <tr>\n",
       "      <th>2</th>\n",
       "      <td>CartScreenAppear</td>\n",
       "      <td>42303</td>\n",
       "    </tr>\n",
       "    <tr>\n",
       "      <th>3</th>\n",
       "      <td>PaymentScreenSuccessful</td>\n",
       "      <td>33918</td>\n",
       "    </tr>\n",
       "    <tr>\n",
       "      <th>4</th>\n",
       "      <td>Tutorial</td>\n",
       "      <td>1005</td>\n",
       "    </tr>\n",
       "  </tbody>\n",
       "</table>\n",
       "</div>"
      ],
      "text/plain": [
       "                event_name  frequency\n",
       "0         MainScreenAppear     117328\n",
       "1       OffersScreenAppear      46333\n",
       "2         CartScreenAppear      42303\n",
       "3  PaymentScreenSuccessful      33918\n",
       "4                 Tutorial       1005"
      ]
     },
     "metadata": {},
     "output_type": "display_data"
    }
   ],
   "source": [
    "event_frequency = data['event_name'].value_counts().reset_index()\n",
    "event_frequency.columns = ['event_name', 'frequency']\n",
    "event_frequency = event_frequency.sort_values(by='frequency', ascending=False)\n",
    "\n",
    "display(event_frequency)"
   ]
  },
  {
   "cell_type": "markdown",
   "metadata": {},
   "source": [
    "Главный экран приложения (MainScreenAppear) \n",
    "Экран предложений (OffersScreenAppear)\n",
    "Экран корзины (CartScreenAppear) \n",
    "Экран успешной оплаты (PaymentScreenSuccessful) \n",
    "Руководство (Tutorial)\n",
    "\n",
    "\n",
    "Можно сделать вывод, что пользователи проходят через разные этапы взаимодействия с приложением, начиная с главного экрана, переходя к просмотру предложений, добавлению товаров в корзину и, в конечном итоге, успешной оплате. Также, руководство может быть полезным для обучения новых пользователей основам использования приложения."
   ]
  },
  {
   "cell_type": "markdown",
   "metadata": {},
   "source": [
    "2. Сколько пользователей совершали каждое из этих событий. Сортировка события по числу пользователей"
   ]
  },
  {
   "cell_type": "code",
   "execution_count": 175,
   "metadata": {},
   "outputs": [
    {
     "data": {
      "text/html": [
       "<div>\n",
       "<style scoped>\n",
       "    .dataframe tbody tr th:only-of-type {\n",
       "        vertical-align: middle;\n",
       "    }\n",
       "\n",
       "    .dataframe tbody tr th {\n",
       "        vertical-align: top;\n",
       "    }\n",
       "\n",
       "    .dataframe thead th {\n",
       "        text-align: right;\n",
       "    }\n",
       "</style>\n",
       "<table border=\"1\" class=\"dataframe\">\n",
       "  <thead>\n",
       "    <tr style=\"text-align: right;\">\n",
       "      <th></th>\n",
       "      <th>event_name</th>\n",
       "      <th>users_count</th>\n",
       "      <th>rate, %</th>\n",
       "    </tr>\n",
       "  </thead>\n",
       "  <tbody>\n",
       "    <tr>\n",
       "      <th>1</th>\n",
       "      <td>MainScreenAppear</td>\n",
       "      <td>7419</td>\n",
       "      <td>98.47</td>\n",
       "    </tr>\n",
       "    <tr>\n",
       "      <th>2</th>\n",
       "      <td>OffersScreenAppear</td>\n",
       "      <td>4593</td>\n",
       "      <td>60.96</td>\n",
       "    </tr>\n",
       "    <tr>\n",
       "      <th>0</th>\n",
       "      <td>CartScreenAppear</td>\n",
       "      <td>3734</td>\n",
       "      <td>49.56</td>\n",
       "    </tr>\n",
       "    <tr>\n",
       "      <th>3</th>\n",
       "      <td>PaymentScreenSuccessful</td>\n",
       "      <td>3539</td>\n",
       "      <td>46.97</td>\n",
       "    </tr>\n",
       "    <tr>\n",
       "      <th>4</th>\n",
       "      <td>Tutorial</td>\n",
       "      <td>840</td>\n",
       "      <td>11.15</td>\n",
       "    </tr>\n",
       "  </tbody>\n",
       "</table>\n",
       "</div>"
      ],
      "text/plain": [
       "                event_name  users_count  rate, %\n",
       "1         MainScreenAppear         7419    98.47\n",
       "2       OffersScreenAppear         4593    60.96\n",
       "0         CartScreenAppear         3734    49.56\n",
       "3  PaymentScreenSuccessful         3539    46.97\n",
       "4                 Tutorial          840    11.15"
      ]
     },
     "metadata": {},
     "output_type": "display_data"
    }
   ],
   "source": [
    "users_per_event = data.groupby('event_name')['user_id'].nunique().reset_index()\n",
    "users_per_event.columns = ['event_name', 'users_count']\n",
    "users_per_event = users_per_event.sort_values(by='users_count', ascending=False)\n",
    "\n",
    "total_users = data['user_id'].nunique()\n",
    "users_per_event['rate, %'] = users_per_event['users_count'] / total_users * 100\n",
    "users_per_event['rate, %'] = users_per_event['rate, %'].round(2)\n",
    "\n",
    "display(users_per_event)"
   ]
  },
  {
   "cell_type": "markdown",
   "metadata": {},
   "source": [
    "<div class=\"alert alert-block alert-success\">\n",
    "    \n",
    "### Комментарий от ревьюера v_1\n",
    "\n",
    "Верные расчеты и рассуждения 👍\n",
    "    \n",
    "Справка, скорее, опциональный момент, который может происходит на любом из этапов и не вписывается в платежную воронку\n",
    "    "
   ]
  },
  {
   "cell_type": "markdown",
   "metadata": {},
   "source": [
    "1. Большинство пользователей 98% открывали главный экран приложения.\n",
    "2. 60% пользователей открывали экран предложений.\n",
    "3. 49,5% заходили в корзину.\n",
    "4. 46,9% заходили на экран оплаты.\n",
    "5. 11% руководством."
   ]
  },
  {
   "cell_type": "code",
   "execution_count": 176,
   "metadata": {},
   "outputs": [
    {
     "data": {
      "text/html": [
       "<div>\n",
       "<style scoped>\n",
       "    .dataframe tbody tr th:only-of-type {\n",
       "        vertical-align: middle;\n",
       "    }\n",
       "\n",
       "    .dataframe tbody tr th {\n",
       "        vertical-align: top;\n",
       "    }\n",
       "\n",
       "    .dataframe thead th {\n",
       "        text-align: right;\n",
       "    }\n",
       "</style>\n",
       "<table border=\"1\" class=\"dataframe\">\n",
       "  <thead>\n",
       "    <tr style=\"text-align: right;\">\n",
       "      <th></th>\n",
       "      <th>event_name</th>\n",
       "      <th>event_users</th>\n",
       "      <th>conversion rate, %</th>\n",
       "    </tr>\n",
       "  </thead>\n",
       "  <tbody>\n",
       "    <tr>\n",
       "      <th>0</th>\n",
       "      <td>MainScreenAppear</td>\n",
       "      <td>7419</td>\n",
       "      <td>100.000000</td>\n",
       "    </tr>\n",
       "    <tr>\n",
       "      <th>1</th>\n",
       "      <td>OffersScreenAppear</td>\n",
       "      <td>4593</td>\n",
       "      <td>61.908613</td>\n",
       "    </tr>\n",
       "    <tr>\n",
       "      <th>2</th>\n",
       "      <td>CartScreenAppear</td>\n",
       "      <td>3734</td>\n",
       "      <td>50.330233</td>\n",
       "    </tr>\n",
       "    <tr>\n",
       "      <th>3</th>\n",
       "      <td>PaymentScreenSuccessful</td>\n",
       "      <td>3539</td>\n",
       "      <td>47.701847</td>\n",
       "    </tr>\n",
       "    <tr>\n",
       "      <th>4</th>\n",
       "      <td>Tutorial</td>\n",
       "      <td>840</td>\n",
       "      <td>11.322281</td>\n",
       "    </tr>\n",
       "  </tbody>\n",
       "</table>\n",
       "</div>"
      ],
      "text/plain": [
       "                event_name  event_users  conversion rate, %\n",
       "0         MainScreenAppear         7419          100.000000\n",
       "1       OffersScreenAppear         4593           61.908613\n",
       "2         CartScreenAppear         3734           50.330233\n",
       "3  PaymentScreenSuccessful         3539           47.701847\n",
       "4                 Tutorial          840           11.322281"
      ]
     },
     "metadata": {},
     "output_type": "display_data"
    }
   ],
   "source": [
    "users_per_event = data.groupby('event_name').agg({'user_id':'nunique'})\\\n",
    "                     .sort_values(by='user_id', ascending=False)\n",
    "\n",
    "users_per_event.columns = ['event_users']\n",
    "users_per_event = users_per_event.reset_index()\n",
    "users_per_event['conversion rate, %'] = users_per_event['event_users'] / users_per_event['event_users'].sum() * 100\n",
    "users_per_event['conversion rate, %'] = users_per_event['event_users'] / users_per_event['event_users'].iloc[0] * 100\n",
    "\n",
    "display(users_per_event)"
   ]
  },
  {
   "cell_type": "markdown",
   "metadata": {},
   "source": [
    "<div class=\"alert alert-block alert-danger\">\n",
    "\n",
    "    \n",
    "### Комментарий от ревьюера v_1\n",
    "Критично\n",
    "\n",
    "А здесь у тебя съехали расчеты, например, разве на шаг оплаты доходит 24% процента от предыдущего шага?\n",
    "    \n",
    "</div>"
   ]
  },
  {
   "cell_type": "markdown",
   "metadata": {},
   "source": [
    "<div class=\"alert alert-block alert-warning\">\n",
    "    \n",
    "\n",
    "### Комментарий от ревьюера v_2\n",
    "Рекомендация\n",
    "\n",
    "А сейчас вообще нет расчета. Ты вывел доли на график воронки, но это важный аналитический расчет, анализ метрики на основе своих предыдущих значений (например отношение среднего чека по сравнению с предыдущим заказом).\n",
    "    \n",
    "Оптимальное решение - с помощью метода shift\n",
    "    \n",
    "По ссылке отличное видео про применение оконок в пандасе. Про шифт тоже есть\n",
    "    \n",
    "https://www.youtube.com/watch?v=yQ7qHZBY5xI&t=1s&ab_channel=karpov.courses\n",
    "</div>"
   ]
  },
  {
   "cell_type": "code",
   "execution_count": 177,
   "metadata": {},
   "outputs": [
    {
     "data": {
      "text/html": [
       "<div>\n",
       "<style scoped>\n",
       "    .dataframe tbody tr th:only-of-type {\n",
       "        vertical-align: middle;\n",
       "    }\n",
       "\n",
       "    .dataframe tbody tr th {\n",
       "        vertical-align: top;\n",
       "    }\n",
       "\n",
       "    .dataframe thead th {\n",
       "        text-align: right;\n",
       "    }\n",
       "</style>\n",
       "<table border=\"1\" class=\"dataframe\">\n",
       "  <thead>\n",
       "    <tr style=\"text-align: right;\">\n",
       "      <th></th>\n",
       "      <th>event_name</th>\n",
       "      <th>users</th>\n",
       "      <th>%</th>\n",
       "    </tr>\n",
       "  </thead>\n",
       "  <tbody>\n",
       "    <tr>\n",
       "      <th>0</th>\n",
       "      <td>MainScreenAppear</td>\n",
       "      <td>7419</td>\n",
       "      <td>98.47</td>\n",
       "    </tr>\n",
       "    <tr>\n",
       "      <th>1</th>\n",
       "      <td>OffersScreenAppear</td>\n",
       "      <td>4593</td>\n",
       "      <td>60.96</td>\n",
       "    </tr>\n",
       "    <tr>\n",
       "      <th>2</th>\n",
       "      <td>CartScreenAppear</td>\n",
       "      <td>3734</td>\n",
       "      <td>49.56</td>\n",
       "    </tr>\n",
       "    <tr>\n",
       "      <th>3</th>\n",
       "      <td>PaymentScreenSuccessful</td>\n",
       "      <td>3539</td>\n",
       "      <td>46.97</td>\n",
       "    </tr>\n",
       "    <tr>\n",
       "      <th>4</th>\n",
       "      <td>Tutorial</td>\n",
       "      <td>840</td>\n",
       "      <td>11.15</td>\n",
       "    </tr>\n",
       "  </tbody>\n",
       "</table>\n",
       "</div>"
      ],
      "text/plain": [
       "                event_name  users      %\n",
       "0         MainScreenAppear   7419  98.47\n",
       "1       OffersScreenAppear   4593  60.96\n",
       "2         CartScreenAppear   3734  49.56\n",
       "3  PaymentScreenSuccessful   3539  46.97\n",
       "4                 Tutorial    840  11.15"
      ]
     },
     "execution_count": 177,
     "metadata": {},
     "output_type": "execute_result"
    }
   ],
   "source": [
    "users_events = (\n",
    "    data.groupby('event_name')\n",
    "    .agg({'user_id': 'nunique'})\n",
    "    .sort_values(by='user_id', ascending=False)\n",
    "    .reset_index()\n",
    "    .rename(columns={'user_id': 'users'})\n",
    ")\n",
    "users_events['%'] = round((users_events['users'] / data['user_id'].nunique() * 100), 2)\n",
    "users_events"
   ]
  },
  {
   "cell_type": "code",
   "execution_count": 178,
   "metadata": {},
   "outputs": [
    {
     "data": {
      "image/png": "[encoded data removed]",
      "text/plain": [
       "<Figure size 432x288 with 1 Axes>"
      ]
     },
     "metadata": {
      "needs_background": "light"
     },
     "output_type": "display_data"
    }
   ],
   "source": [
    "data.groupby('event_name')['event_name'].count().sort_values(ascending = False).plot.barh();\n",
    "plt.title('События в логе и их частота',fontsize=16);\n",
    "plt.xlabel('частота событий');\n",
    "plt.ylabel('вид события');\n",
    "plt.yticks(rotation=0,fontsize=12);"
   ]
  },
  {
   "cell_type": "markdown",
   "metadata": {},
   "source": [
    "Наибольшие потери происходят на шаге оплаты, где только 46.97% пользователей, посетивших корзину, завершают оплату."
   ]
  },
  {
   "cell_type": "markdown",
   "metadata": {},
   "source": [
    "Первый шаг воронки, событие \"MainScreenAppear\", не проходит 1.53% пользователей. Это означает, что на главную страницу заходить не обязательно для всех пользователей.\n",
    "\n",
    "Самый большой скачок воронки происходит между главной страницей (\"MainScreenAppear\") и страницей предложений (\"OffersScreenAppear\"). Почти 40% пользователей не доходят до страницы предложений, что может указывать на проблемы или недостаточную привлекательность предложений.\n",
    "\n",
    "На следующих шагах воронки, отсеивается всего 19% пользователей между страницей предложений (\"OffersScreenAppear\") и корзиной (\"CartScreenAppear\"), и 5% пользователей между корзиной и успешной оплатой (\"PaymentScreenSuccessful\").\n",
    "\n",
    "Всего до успешной оплаты доходят 46.97% от всех уникальных пользователей приложения и 47.70% от пользователей, совершивших первое событие (\"MainScreenAppear\")."
   ]
  },
  {
   "cell_type": "code",
   "execution_count": 1,
   "metadata": {},
   "outputs": [
    {
     "ename": "NameError",
     "evalue": "name 'data' is not defined",
     "output_type": "error",
     "traceback": [
      "\u001b[0;31m---------------------------------------------------------------------------\u001b[0m",
      "\u001b[0;31mNameError\u001b[0m                                 Traceback (most recent call last)",
      "\u001b[0;32m/tmp/ipykernel_31/4092350694.py\u001b[0m in \u001b[0;36m<module>\u001b[0;34m\u001b[0m\n\u001b[0;32m----> 1\u001b[0;31m \u001b[0mevent_counts\u001b[0m \u001b[0;34m=\u001b[0m \u001b[0mdata\u001b[0m\u001b[0;34m[\u001b[0m\u001b[0;34m'event_name'\u001b[0m\u001b[0;34m]\u001b[0m\u001b[0;34m.\u001b[0m\u001b[0mvalue_counts\u001b[0m\u001b[0;34m(\u001b[0m\u001b[0;34m)\u001b[0m\u001b[0;34m\u001b[0m\u001b[0;34m\u001b[0m\u001b[0m\n\u001b[0m\u001b[1;32m      2\u001b[0m \u001b[0;34m\u001b[0m\u001b[0m\n\u001b[1;32m      3\u001b[0m fig = go.Figure(go.Funnel(\n\u001b[1;32m      4\u001b[0m     \u001b[0my\u001b[0m\u001b[0;34m=\u001b[0m\u001b[0mevent_counts\u001b[0m\u001b[0;34m.\u001b[0m\u001b[0mindex\u001b[0m\u001b[0;34m,\u001b[0m\u001b[0;34m\u001b[0m\u001b[0;34m\u001b[0m\u001b[0m\n\u001b[1;32m      5\u001b[0m     \u001b[0mx\u001b[0m\u001b[0;34m=\u001b[0m\u001b[0mevent_counts\u001b[0m\u001b[0;34m.\u001b[0m\u001b[0mvalues\u001b[0m\u001b[0;34m,\u001b[0m\u001b[0;34m\u001b[0m\u001b[0;34m\u001b[0m\u001b[0m\n",
      "\u001b[0;31mNameError\u001b[0m: name 'data' is not defined"
     ]
    }
   ],
   "source": [
    "event_counts = data['event_name'].value_counts()\n",
    "\n",
    "fig = go.Figure(go.Funnel(\n",
    "    y=event_counts.index,\n",
    "    x=event_counts.values,\n",
    "    textposition=\"inside\",\n",
    "    textinfo=\"value+percent previous\"\n",
    "))\n",
    "\n",
    "fig.update_layout(\n",
    "    title=\"События в логе и их частота\",\n",
    "    xaxis_title=\"Частота событий\",\n",
    "    yaxis_title=\"Вид события\"\n",
    ")\n",
    "\n",
    "fig.show()"
   ]
  },
  {
   "cell_type": "markdown",
   "metadata": {},
   "source": [
    "<div class=\"alert alert-block alert-success\">\n",
    "\n",
    "    \n",
    "### Комментарий от ревьюера v_1\n",
    "\n",
    "Здорово, что в выводах есть рассуждения о природе результатов 👍\n",
    "    \n",
    "Но стоит также выдвинуть гипотезы как текущие показатели можно было бы улучшить\n",
    "    \n",
    "</div>"
   ]
  },
  {
   "cell_type": "markdown",
   "metadata": {},
   "source": [
    "<div class=\"alert alert-block alert-warning\">\n",
    "    \n",
    "### Комментарий от ревьюера v_1\n",
    "Рекомендация\n",
    "    \n",
    "На этом шаге было бы здорово визуализировать воронку, идеально для этого подходит plotly, funnel график\n",
    "    \n",
    "По ссылке можно ознакомиться с различными графиками воронок\n",
    "    \n",
    "https://plotly.com/python/funnel-charts/\n",
    "    \n",
    "    \n",
    "</div>"
   ]
  },
  {
   "cell_type": "markdown",
   "metadata": {},
   "source": [
    "<h3>Шаг. Изучение результатов эксперимента</h3>"
   ]
  },
  {
   "cell_type": "code",
   "execution_count": 180,
   "metadata": {},
   "outputs": [
    {
     "name": "stdout",
     "output_type": "stream",
     "text": [
      "exp_id\n",
      "246    2484\n",
      "247    2513\n",
      "248    2537\n",
      "Name: user_id, dtype: int64\n"
     ]
    }
   ],
   "source": [
    "users_per_group = data.groupby('exp_id')['user_id'].nunique()\n",
    "print(users_per_group)"
   ]
  },
  {
   "cell_type": "markdown",
   "metadata": {},
   "source": [
    "В группе с exp_id 246: 2484 пользователей.\n",
    "В группе с exp_id 247: 2513 пользователей.\n",
    "В группе с exp_id 248: 2537 пользователей."
   ]
  },
  {
   "cell_type": "markdown",
   "metadata": {},
   "source": [
    "Есть 2 контрольные группы для А/А-эксперимента, чтобы проверить корректность всех механизмов и расчётов. \n",
    "Проверьте, находят ли статистические критерии разницу между выборками 246 и 247."
   ]
  },
  {
   "cell_type": "code",
   "execution_count": 181,
   "metadata": {},
   "outputs": [],
   "source": [
    "data_246 = data[data['exp_id'] == 246]['user_id'].nunique()\n",
    "data_247 = data[data['exp_id'] == 247]['user_id'].nunique()\n",
    "data_248 = data[data['exp_id'] == 248]['user_id'].nunique()\n"
   ]
  },
  {
   "cell_type": "code",
   "execution_count": 182,
   "metadata": {},
   "outputs": [],
   "source": [
    "data_246_247 = 100 - (data_246 / data_247 * 100) if data_247 != 0 else 0\n",
    "data_246_248 = 100 - (data_246 / data_248 * 100) if data_248 != 0 else 0\n",
    "data_247_248 = 100 - (data_247 / data_248 * 100) if data_248 != 0 else 0\n"
   ]
  },
  {
   "cell_type": "code",
   "execution_count": 183,
   "metadata": {},
   "outputs": [
    {
     "name": "stdout",
     "output_type": "stream",
     "text": [
      "Различие между группами 246 и 247: 1.15%\n",
      "Различие между группами 246 и 248: 2.09%\n",
      "Различие между группами 247 и 248: 0.95%\n"
     ]
    }
   ],
   "source": [
    "print(\"Различие между группами 246 и 247: {}%\".format(round(data_246_247, 2)))\n",
    "print(\"Различие между группами 246 и 248: {}%\".format(round(data_246_248, 2)))\n",
    "print(\"Различие между группами 247 и 248: {}%\".format(round(data_247_248, 2)))"
   ]
  },
  {
   "cell_type": "markdown",
   "metadata": {},
   "source": [
    "Различие между группами 246 и 247 составляет 1.15%, что является незначительным.\n",
    "Различие между группами 246 и 248 составляет 2.09%, также является незначительным.\n",
    "Различие между группами 247 и 248 составляет 0.95%, что также является незначительным.\n",
    "На основании этих результатов можно сделать вывод, \n",
    "что разбиение на контрольные группы работает корректно, так как отличия между группами являются незначительными."
   ]
  },
  {
   "cell_type": "markdown",
   "metadata": {},
   "source": [
    "<div class=\"alert alert-block alert-success\">\n",
    "    \n",
    "### Комментарий от ревьюера v_1\n",
    "\n",
    "Когда говорят про разницу не более 1% в первую очередь имеют ввиду процесс сбора данных. Перед проведением теста принимается решение о размере групп и самый простой способ набора этих групп - набрать их равномерно\n",
    "\n",
    "</div>"
   ]
  },
  {
   "cell_type": "markdown",
   "metadata": {},
   "source": [
    "Мы проанализировали четыре события: MainScreenAppear, OffersScreenAppear, CartScreenAppear и PaymentScreenSuccessful.\n",
    "\n",
    "Для каждого события мы посчитали число пользователей, совершивших это событие в каждой из контрольных групп (246 и 247), \n",
    "а также посчитали долю пользователей, совершивших это событие.\n",
    "\n",
    "Затем мы проверили, будет ли отличие между группами статистически достоверным, используя t-тест. Однако,\n",
    "в некоторых случаях возникли предупреждения о потере точности расчетов из-за близости данных. \n",
    "В связи с этим, результаты теста могут быть ненадежными.\n",
    "\n",
    "В целом, отличия в долях пользователей между контрольными группами для всех событий оказались незначительными.\n",
    "Это позволяет предположить, что разбиение на группы работает корректно,\n",
    "поскольку оно не оказывает существенного влияния на результаты эксперимента."
   ]
  },
  {
   "cell_type": "markdown",
   "metadata": {},
   "source": [
    "<div class=\"alert alert-block alert-danger\">\n",
    "\n",
    "    \n",
    "### Комментарий от ревьюера v_1\n",
    "Критично\n",
    "\n",
    "А что это за статистический тест, с какой целью ты его проводишь? К тому же тест невозможно провести между двумя числами (а ты кладешь в тест два числа)\n",
    "    \n",
    "Ниже у тебя идет проверка гипотез о равенстве долей, а тест выше следует убрать из вычислений, он некорректный\n",
    "    \n",
    "    \n",
    "</div>"
   ]
  },
  {
   "cell_type": "markdown",
   "metadata": {},
   "source": [
    "<div class=\"alert alert-block alert-warning\">\n",
    "    \n",
    "### Комментарий от ревьюера v_1\n",
    "Рекомендация\n",
    "    \n",
    "Посчитать доли для каждого события интересно, но для расчета стоит воспользоваться таблицами, сделать сводную, а потом поделить столбцы\n",
    "    \n",
    "Стоит привыкать к табличным расчетам, аналитические отчеты, как правило, преподносятся в табличном виде (не считая визуализация)\n",
    "</div>"
   ]
  },
  {
   "cell_type": "markdown",
   "metadata": {},
   "source": [
    "Гипотезы:"
   ]
  },
  {
   "cell_type": "markdown",
   "metadata": {},
   "source": [
    "Нулевая гипотеза: доли уникальных посетителей, побывавших на каждом этапе воронки, одинаковы.\n",
    "\n",
    "Альтернативная гипотеза: между долями уникальных посетителей, побывавших на каждом этапе воронки, есть статистически значимая разница."
   ]
  },
  {
   "cell_type": "markdown",
   "metadata": {},
   "source": [
    "<div class=\"alert alert-block alert-warning\">\n",
    "    \n",
    "### Комментарий от ревьюера v_1\n",
    "Рекомендация\n",
    "\n",
    "При формулировке гипотез важно указать, в чем именно ищешь различия.\n",
    "    \n",
    "Можно, например, вот так:\n",
    "    \n",
    "**Нулевая гипотеза**: доли уникальных посетителей, побывавших на этапе воронки, одинаковы.\n",
    "\n",
    "**Альтенативная гипотеза**: между долями уникальных посетителей, побывавших на этапе воронки, есть значимая разница.\n",
    "</div>"
   ]
  },
  {
   "cell_type": "code",
   "execution_count": 184,
   "metadata": {},
   "outputs": [],
   "source": [
    "def aab_test(group1, group2, event, alpha):\n",
    "    successes1 = group1[group1['event_name'] == event]['user_id'].nunique()\n",
    "    trials1 = group1['user_id'].nunique()\n",
    "    successes2 = group2[group2['event_name'] == event]['user_id'].nunique()\n",
    "    trials2 = group2['user_id'].nunique()\n",
    "    \n",
    "    p1 = successes1 / trials1\n",
    "    p2 = successes2 / trials2\n",
    "    \n",
    "    p_combined = (successes1 + successes2) / (trials1 + trials2)\n",
    "    difference = p1 - p2\n",
    "\n",
    "    z_value = difference / (p_combined * (1 - p_combined) * (1/trials1 + 1/trials2))**0.5\n",
    "    distr = stats.norm(0, 1)\n",
    "\n",
    "    p_value = (1 - distr.cdf(abs(z_value))) * 2\n",
    "    \n",
    "    print(\"Событие   :\", event)\n",
    "    print(\"p-значение:\", p_value)\n",
    "    \n",
    "    if p_value < alpha:\n",
    "        print(\"Отвергаем нулевую гипотезу: доли уникальных посетителей, побывавших на каждом этапе воронки, одинаковы.\")\n",
    "    else:\n",
    "        print(\"Не получилось отвергнуть нулевую гипотезу: между долями уникальных посетителей, побывавших на этапе воронки, есть значимая разница.\")\n",
    "    print()\n",
    "\n",
    "\n",
    "\n",
    "data_246 = data[data['exp_id'] == 246]\n",
    "data_247 = data[data['exp_id'] == 247]\n",
    "data_248 = data[data['exp_id'] == 248]"
   ]
  },
  {
   "cell_type": "markdown",
   "metadata": {},
   "source": [
    "<div class=\"alert alert-block alert-warning\">\n",
    "    \n",
    "\n",
    "### Комментарий от ревьюера v_1\n",
    "Рекомендация\n",
    "\n",
    "Функция дает правильный результат, но подготовку данных следует вынести за ее пределы, например, сделать сводную таблицу. А в функции уже обращаться к посчитанным значениям. Так ты один раз агрегируешь данные, а в текущей реализации они агрегируются при каждом запуске функции\n",
    "    \n",
    "И аргументами функции следует передавать значения, по которым проводится тест (то есть в теле функции не вести никаких работ с датафреймом) Тогда функция будет универсальной и ее можно будет применять к любым данным\n",
    "\n",
    "</div>"
   ]
  },
  {
   "cell_type": "code",
   "execution_count": 185,
   "metadata": {},
   "outputs": [
    {
     "name": "stdout",
     "output_type": "stream",
     "text": [
      "Событие   : Tutorial\n",
      "p-значение: 0.9376996189257114\n",
      "Не получилось отвергнуть нулевую гипотезу: между долями уникальных посетителей, побывавших на этапе воронки, есть значимая разница.\n",
      "\n",
      "Событие   : MainScreenAppear\n",
      "p-значение: 0.7570597232046099\n",
      "Не получилось отвергнуть нулевую гипотезу: между долями уникальных посетителей, побывавших на этапе воронки, есть значимая разница.\n",
      "\n",
      "Событие   : OffersScreenAppear\n",
      "p-значение: 0.2480954578522181\n",
      "Не получилось отвергнуть нулевую гипотезу: между долями уникальных посетителей, побывавших на этапе воронки, есть значимая разница.\n",
      "\n",
      "Событие   : CartScreenAppear\n",
      "p-значение: 0.22883372237997213\n",
      "Не получилось отвергнуть нулевую гипотезу: между долями уникальных посетителей, побывавших на этапе воронки, есть значимая разница.\n",
      "\n",
      "Событие   : PaymentScreenSuccessful\n",
      "p-значение: 0.11456679313141849\n",
      "Не получилось отвергнуть нулевую гипотезу: между долями уникальных посетителей, побывавших на этапе воронки, есть значимая разница.\n",
      "\n"
     ]
    }
   ],
   "source": [
    "for event in data['event_name'].unique():\n",
    "    aab_test(data_246, data_247 , event, alpha=0.05)   "
   ]
  },
  {
   "cell_type": "code",
   "execution_count": 186,
   "metadata": {},
   "outputs": [
    {
     "name": "stdout",
     "output_type": "stream",
     "text": [
      "Событие   : Tutorial\n",
      "p-значение: 0.765323922474501\n",
      "Не получилось отвергнуть нулевую гипотезу: между долями уникальных посетителей, побывавших на этапе воронки, есть значимая разница.\n",
      "\n",
      "Событие   : MainScreenAppear\n",
      "p-значение: 0.4587053616621515\n",
      "Не получилось отвергнуть нулевую гипотезу: между долями уникальных посетителей, побывавших на этапе воронки, есть значимая разница.\n",
      "\n",
      "Событие   : OffersScreenAppear\n",
      "p-значение: 0.9197817830592261\n",
      "Не получилось отвергнуть нулевую гипотезу: между долями уникальных посетителей, побывавших на этапе воронки, есть значимая разница.\n",
      "\n",
      "Событие   : CartScreenAppear\n",
      "p-значение: 0.5786197879539783\n",
      "Не получилось отвергнуть нулевую гипотезу: между долями уникальных посетителей, побывавших на этапе воронки, есть значимая разница.\n",
      "\n",
      "Событие   : PaymentScreenSuccessful\n",
      "p-значение: 0.7373415053803964\n",
      "Не получилось отвергнуть нулевую гипотезу: между долями уникальных посетителей, побывавших на этапе воронки, есть значимая разница.\n",
      "\n"
     ]
    }
   ],
   "source": [
    "for event in data['event_name'].unique():\n",
    "    aab_test(data_247 , data_248, event, alpha=0.05)"
   ]
  },
  {
   "cell_type": "code",
   "execution_count": 187,
   "metadata": {},
   "outputs": [
    {
     "name": "stdout",
     "output_type": "stream",
     "text": [
      "Событие   : Tutorial\n",
      "p-значение: 0.764862472531507\n",
      "Не получилось отвергнуть нулевую гипотезу: между долями уникальных посетителей, побывавших на этапе воронки, есть значимая разница.\n",
      "\n",
      "\n",
      "Событие   : MainScreenAppear\n",
      "p-значение: 0.29424526837179577\n",
      "Не получилось отвергнуть нулевую гипотезу: между долями уникальных посетителей, побывавших на этапе воронки, есть значимая разница.\n",
      "\n",
      "\n",
      "Событие   : OffersScreenAppear\n",
      "p-значение: 0.43425549655188256\n",
      "Не получилось отвергнуть нулевую гипотезу: между долями уникальных посетителей, побывавших на этапе воронки, есть значимая разница.\n",
      "\n",
      "\n",
      "Событие   : CartScreenAppear\n",
      "p-значение: 0.18175875284404386\n",
      "Не получилось отвергнуть нулевую гипотезу: между долями уникальных посетителей, побывавших на этапе воронки, есть значимая разница.\n",
      "\n",
      "\n",
      "Событие   : PaymentScreenSuccessful\n",
      "p-значение: 0.6004294282308704\n",
      "Не получилось отвергнуть нулевую гипотезу: между долями уникальных посетителей, побывавших на этапе воронки, есть значимая разница.\n",
      "\n",
      "\n"
     ]
    }
   ],
   "source": [
    "data_A = pd.concat([data_246, data_247])\n",
    "\n",
    "\n",
    "for event in data['event_name'].unique():\n",
    "    aab_test(data_A, data_248, event, alpha=0.05)\n",
    "    print()"
   ]
  },
  {
   "cell_type": "markdown",
   "metadata": {},
   "source": [
    "<div class=\"alert alert-block alert-success\">\n",
    "    \n",
    "### Комментарий от ревьюера v_1\n",
    "\n",
    "Все расчеты верны, различия между группами не обнаружены 👍"
   ]
  },
  {
   "cell_type": "markdown",
   "metadata": {},
   "source": [
    "<div class=\"alert alert-block alert-danger\">\n",
    "    \n",
    "### Комментарий от ревьюера v_1\n",
    "Критично\n",
    "    \n",
    "На этом шаге очень важно порассуждать об оптимальном для тестов уровне статистической значимости, учитывая тот факт, что у нас идет множественная проверка гипотез, а значит увеличивается риск ложноположительного результата, найти различия там, где их на самом деле нет.\n",
    "    \n",
    "Вот здесь отлично разбирается этот момент и в целом рекомендую данный курс, мне он многое дал в свое время\n",
    "    \n",
    "https://stepik.org/lesson/8085/step/3?unit=1364\n",
    "     \n",
    "</div>"
   ]
  },
  {
   "cell_type": "code",
   "execution_count": 209,
   "metadata": {},
   "outputs": [
    {
     "data": {
      "image/png": "[encoded data removed]",
      "text/plain": [
       "<Figure size 432x288 with 1 Axes>"
      ]
     },
     "metadata": {
      "needs_background": "light"
     },
     "output_type": "display_data"
    }
   ],
   "source": [
    "M = 0\n",
    "D = 1\n",
    "\n",
    "def ttest(a , b):\n",
    "    se = np.sqrt( a['SD']**2/a['N'] + b['SD']**2/b['N']  )\n",
    "    t = (a['Mx'] - b['Mx'])/se\n",
    "    dfreedom = a['N'] + b['N'] - 2\n",
    "    return stats.t.sf(np.abs(t), dfreedom)*2\n",
    "\n",
    "# n - элементов в выборке\n",
    "# m - количество выборок\n",
    "# a -  вероятность\n",
    "def false_alarm(m, n, a):\n",
    "    trys = 100 # количество экспериментов\n",
    "    hist = {'Да':0, 'Нет':0} # результаты сравнений     \n",
    "    data = list(range(m)) # инициализация групп с выборками\n",
    "    \n",
    "    # запускаем trys экспериментов\n",
    "    for i in range(trys):\n",
    "        \n",
    "        # наполняем m выборок, для ускорения сразу их агрегируем по SD, Mx, N\n",
    "        for j in range(m):\n",
    "            dt = stats.norm.rvs(loc=M, scale=D, size=n)\n",
    "            data[j] = {'SD':np.std(dt, ddof = 1), 'Mx':np.mean(dt), 'N':n}\n",
    "        \n",
    "        #сравниваем выборки по 2 группы, перебор можно реализовать с помощью двух циклов или воспользоваться itertools\n",
    "        for first, second in itertools.combinations(data, 2):\n",
    "            if ttest(first, second) <= a:\n",
    "                hist['Да']+=1\n",
    "                break\n",
    "        else:\n",
    "            hist['Нет']+=1\n",
    "\n",
    "    # рисуем гитограмму частот\n",
    "    barlist = pyplot.bar(hist.keys(), hist.values(), color='b')\n",
    "    barlist[0].set_color('r')\n",
    "    pyplot.title(round(hist['Да'] / trys,3))\n",
    "    pyplot.ylabel('количество')\n",
    "    pyplot.show()\n",
    "    \n",
    "\n",
    "false_alarm(2,30,0.05)"
   ]
  },
  {
   "cell_type": "markdown",
   "metadata": {},
   "source": [
    "Исходя из результатов эксперимента, при использовании уровня статистической значимости α = 0.05 и проведении 100 экспериментов.\n",
    "\n"
   ]
  },
  {
   "cell_type": "markdown",
   "metadata": {},
   "source": [
    " при множественной проверке гипотез уровень статистической значимости следует выбирать \n",
    "    с учетом риска ложноположительных результатов. В данном случае, при α = 0.05, \n",
    "    примерно 5% результатов могут быть ложноположительными."
   ]
  },
  {
   "cell_type": "markdown",
   "metadata": {},
   "source": [
    "Повышение уровня статистической значимости может привести к увеличению количества ложноположительных результатов."
   ]
  },
  {
   "cell_type": "markdown",
   "metadata": {},
   "source": [
    "<div class=\"alert alert-block alert-warning\">\n",
    "    \n",
    "\n",
    "### Комментарий от ревьюера v_2\n",
    "Рекомендация\n",
    "    \n",
    "Это интересное дополнение, но к нашим данным имеет лишь косвенное отношение\n",
    "    \n",
    "Если выбираешь альфу 0.05, то допускаешь, что с вероятностью 5/100 результат можент оказаться ложноположительным\n",
    "    \n",
    "Но если проводим 16 проверок, то вероятность допустимого ложноположительного результата хотя бы в одном тесте увеличивается до 1 - (1 - 0.05)**16 (56/100)\n",
    "    \n",
    "В таких случаях следует использовать поправки на множественное сравнение. Но в нашей работе мы ни в одном тесте не отвергаем нулевую гипотезу, применение поправок результата не поменяет\n",
    "    \n",
    "</div>"
   ]
  },
  {
   "cell_type": "markdown",
   "metadata": {},
   "source": [
    "Общий вывод:"
   ]
  },
  {
   "cell_type": "markdown",
   "metadata": {},
   "source": [
    "После проведения исследования и изучения данных, я пришел к следующим выводам. Пользователи нашего мобильного приложения проявляют значительный отток на ранних этапах воронки, особенно при переходе с главного экрана на страницу предложений. Более 40% пользователей не доходят до этой страницы, что может свидетельствовать о неоптимальном пользовательском интерфейсе или отсутствии привлекательных предложений.\n",
    "\n",
    "Однако, проведенное A/A/B-тестирование показало, что изменение шрифтов в приложении не оказывает значительного влияния на поведение пользователей. Не было обнаружено статистически значимых различий между группами A1 и A2, а также между контрольными группами A1 и B, A2 и B, а также объединенной контрольной группой и группой B.\n",
    "\n",
    "Таким образом, я сделал вывод, что изменение шрифтов в приложении не является фактором, который существенно влияет на поведение и удержание пользователей. Нашим командам дизайнеров и менеджеров можно рекомендовать сосредоточиться на других аспектах развития и улучшения нашего мобильного приложения, которые могут иметь более существенное влияние на пользовательскую активность и конверсию."
   ]
  },
  {
   "cell_type": "markdown",
   "metadata": {},
   "source": [
    "<div class=\"alert alert-block alert-success\">\n",
    "    \n",
    "\n",
    "### Комментарий от ревьюера v_1\n",
    "Отлично\n",
    "    \n",
    "Хороший вывод и ответ на основной вопрос задания 👍\n",
    "    \n",
    "Различий между группами не обнаружено\n",
    "    \n",
    "Но не хватает рекомендаций (на какие показатели стоит обратить внимание и гипотезы как эти показатели улучшить)"
   ]
  },
  {
   "cell_type": "code",
   "execution_count": null,
   "metadata": {},
   "outputs": [],
   "source": []
  }
 ],
 "metadata": {
  "ExecuteTimeLog": [
   {
    "duration": 410,
    "start_time": "2023-05-29T14:48:22.404Z"
   },
   {
    "duration": 1339,
    "start_time": "2023-05-29T14:49:22.997Z"
   },
   {
    "duration": 12,
    "start_time": "2023-05-29T14:49:35.433Z"
   },
   {
    "duration": 187,
    "start_time": "2023-05-29T14:51:44.715Z"
   },
   {
    "duration": 8,
    "start_time": "2023-05-29T14:51:47.626Z"
   },
   {
    "duration": 118,
    "start_time": "2023-05-29T14:55:06.888Z"
   },
   {
    "duration": 152,
    "start_time": "2023-05-29T14:55:10.898Z"
   },
   {
    "duration": 415,
    "start_time": "2023-05-30T11:01:46.379Z"
   },
   {
    "duration": 507,
    "start_time": "2023-05-30T11:01:46.796Z"
   },
   {
    "duration": 16,
    "start_time": "2023-05-30T11:01:47.305Z"
   },
   {
    "duration": 10,
    "start_time": "2023-05-30T11:01:47.323Z"
   },
   {
    "duration": 10,
    "start_time": "2023-05-30T11:02:09.974Z"
   },
   {
    "duration": 8,
    "start_time": "2023-05-30T11:02:25.359Z"
   },
   {
    "duration": 6,
    "start_time": "2023-05-30T11:03:03.944Z"
   },
   {
    "duration": 8,
    "start_time": "2023-05-30T11:03:06.703Z"
   },
   {
    "duration": 9,
    "start_time": "2023-05-30T11:03:43.752Z"
   },
   {
    "duration": 8,
    "start_time": "2023-05-30T11:03:43.925Z"
   },
   {
    "duration": 9,
    "start_time": "2023-05-30T11:04:13.242Z"
   },
   {
    "duration": 8,
    "start_time": "2023-05-30T11:04:13.423Z"
   },
   {
    "duration": 9,
    "start_time": "2023-05-30T11:04:17.555Z"
   },
   {
    "duration": 8,
    "start_time": "2023-05-30T11:04:17.565Z"
   },
   {
    "duration": 2,
    "start_time": "2023-05-30T11:04:20.593Z"
   },
   {
    "duration": 160,
    "start_time": "2023-05-30T11:04:20.744Z"
   },
   {
    "duration": 8,
    "start_time": "2023-05-30T11:04:20.906Z"
   },
   {
    "duration": 7,
    "start_time": "2023-05-30T11:04:21.148Z"
   },
   {
    "duration": 8,
    "start_time": "2023-05-30T11:04:21.285Z"
   },
   {
    "duration": 6,
    "start_time": "2023-05-30T11:05:13.235Z"
   },
   {
    "duration": 7,
    "start_time": "2023-05-30T11:05:13.554Z"
   },
   {
    "duration": 2,
    "start_time": "2023-05-30T11:07:09.078Z"
   },
   {
    "duration": 174,
    "start_time": "2023-05-30T11:07:09.190Z"
   },
   {
    "duration": 12,
    "start_time": "2023-05-30T11:07:09.366Z"
   },
   {
    "duration": 6,
    "start_time": "2023-05-30T11:07:09.612Z"
   },
   {
    "duration": 8,
    "start_time": "2023-05-30T11:07:09.740Z"
   },
   {
    "duration": 7,
    "start_time": "2023-05-30T11:08:09.020Z"
   },
   {
    "duration": 8,
    "start_time": "2023-05-30T11:08:09.195Z"
   },
   {
    "duration": 3,
    "start_time": "2023-05-30T11:08:12.367Z"
   },
   {
    "duration": 164,
    "start_time": "2023-05-30T11:08:12.513Z"
   },
   {
    "duration": 8,
    "start_time": "2023-05-30T11:08:12.679Z"
   },
   {
    "duration": 6,
    "start_time": "2023-05-30T11:08:12.914Z"
   },
   {
    "duration": 11,
    "start_time": "2023-05-30T11:08:13.057Z"
   },
   {
    "duration": 7,
    "start_time": "2023-05-30T11:14:17.353Z"
   },
   {
    "duration": 21,
    "start_time": "2023-05-30T11:14:23.363Z"
   },
   {
    "duration": 15,
    "start_time": "2023-05-30T11:14:59.936Z"
   },
   {
    "duration": 17,
    "start_time": "2023-05-30T11:15:48.163Z"
   },
   {
    "duration": 20,
    "start_time": "2023-05-30T11:15:50.560Z"
   },
   {
    "duration": 16,
    "start_time": "2023-05-30T11:15:50.723Z"
   },
   {
    "duration": 59,
    "start_time": "2023-05-30T11:30:51.008Z"
   },
   {
    "duration": 1842,
    "start_time": "2023-05-30T11:31:07.962Z"
   },
   {
    "duration": 61,
    "start_time": "2023-05-30T11:31:16.469Z"
   },
   {
    "duration": 7,
    "start_time": "2023-05-30T11:32:24.616Z"
   },
   {
    "duration": 9,
    "start_time": "2023-05-30T11:32:45.149Z"
   },
   {
    "duration": 78,
    "start_time": "2023-05-30T11:33:24.208Z"
   },
   {
    "duration": 59,
    "start_time": "2023-05-30T11:33:30.934Z"
   },
   {
    "duration": 64,
    "start_time": "2023-05-30T11:36:21.983Z"
   },
   {
    "duration": 65,
    "start_time": "2023-05-30T11:37:09.423Z"
   },
   {
    "duration": 57,
    "start_time": "2023-05-30T11:38:48.398Z"
   },
   {
    "duration": 63,
    "start_time": "2023-05-30T11:40:34.661Z"
   },
   {
    "duration": 69,
    "start_time": "2023-05-30T11:40:34.960Z"
   },
   {
    "duration": 84,
    "start_time": "2023-05-30T11:40:36.354Z"
   },
   {
    "duration": 63,
    "start_time": "2023-05-30T11:41:41.409Z"
   },
   {
    "duration": 71,
    "start_time": "2023-05-30T11:42:12.145Z"
   },
   {
    "duration": 69,
    "start_time": "2023-05-30T11:42:14.234Z"
   },
   {
    "duration": 3,
    "start_time": "2023-05-30T11:42:50.063Z"
   },
   {
    "duration": 174,
    "start_time": "2023-05-30T11:42:50.256Z"
   },
   {
    "duration": 9,
    "start_time": "2023-05-30T11:42:50.432Z"
   },
   {
    "duration": 8,
    "start_time": "2023-05-30T11:42:50.676Z"
   },
   {
    "duration": 8,
    "start_time": "2023-05-30T11:42:50.809Z"
   },
   {
    "duration": 24,
    "start_time": "2023-05-30T11:42:50.955Z"
   },
   {
    "duration": 15,
    "start_time": "2023-05-30T11:42:51.121Z"
   },
   {
    "duration": 61,
    "start_time": "2023-05-30T11:42:51.249Z"
   },
   {
    "duration": 58,
    "start_time": "2023-05-30T11:42:51.406Z"
   },
   {
    "duration": 79,
    "start_time": "2023-05-30T11:42:51.710Z"
   },
   {
    "duration": 59,
    "start_time": "2023-05-30T11:42:52.257Z"
   },
   {
    "duration": 56,
    "start_time": "2023-05-30T11:43:45.164Z"
   },
   {
    "duration": 67,
    "start_time": "2023-05-30T11:43:56.344Z"
   },
   {
    "duration": 118,
    "start_time": "2023-05-30T11:44:10.071Z"
   },
   {
    "duration": 3,
    "start_time": "2023-05-30T11:46:08.945Z"
   },
   {
    "duration": 7,
    "start_time": "2023-05-30T11:46:18.361Z"
   },
   {
    "duration": 8,
    "start_time": "2023-05-30T11:46:23.161Z"
   },
   {
    "duration": 8,
    "start_time": "2023-05-30T11:46:28.406Z"
   },
   {
    "duration": 7,
    "start_time": "2023-05-30T11:46:33.061Z"
   },
   {
    "duration": 3,
    "start_time": "2023-05-30T11:46:40.355Z"
   },
   {
    "duration": 55,
    "start_time": "2023-05-30T11:47:20.954Z"
   },
   {
    "duration": 3,
    "start_time": "2023-05-30T11:47:30.593Z"
   },
   {
    "duration": 167,
    "start_time": "2023-05-30T11:47:30.752Z"
   },
   {
    "duration": 9,
    "start_time": "2023-05-30T11:47:30.921Z"
   },
   {
    "duration": 7,
    "start_time": "2023-05-30T11:47:31.167Z"
   },
   {
    "duration": 8,
    "start_time": "2023-05-30T11:47:31.273Z"
   },
   {
    "duration": 21,
    "start_time": "2023-05-30T11:47:31.416Z"
   },
   {
    "duration": 17,
    "start_time": "2023-05-30T11:47:31.566Z"
   },
   {
    "duration": 61,
    "start_time": "2023-05-30T11:47:31.719Z"
   },
   {
    "duration": 55,
    "start_time": "2023-05-30T11:47:31.829Z"
   },
   {
    "duration": 49,
    "start_time": "2023-05-30T11:47:53.266Z"
   },
   {
    "duration": 49,
    "start_time": "2023-05-30T11:48:05.742Z"
   },
   {
    "duration": 2,
    "start_time": "2023-05-30T11:48:10.295Z"
   },
   {
    "duration": 154,
    "start_time": "2023-05-30T11:48:10.411Z"
   },
   {
    "duration": 7,
    "start_time": "2023-05-30T11:48:10.581Z"
   },
   {
    "duration": 7,
    "start_time": "2023-05-30T11:48:10.880Z"
   },
   {
    "duration": 9,
    "start_time": "2023-05-30T11:48:10.999Z"
   },
   {
    "duration": 21,
    "start_time": "2023-05-30T11:48:11.450Z"
   },
   {
    "duration": 26,
    "start_time": "2023-05-30T11:48:11.473Z"
   },
   {
    "duration": 90,
    "start_time": "2023-05-30T11:48:11.500Z"
   },
   {
    "duration": 57,
    "start_time": "2023-05-30T11:48:11.592Z"
   },
   {
    "duration": 64,
    "start_time": "2023-05-30T11:48:12.456Z"
   },
   {
    "duration": 52,
    "start_time": "2023-05-30T11:48:13.155Z"
   },
   {
    "duration": 10,
    "start_time": "2023-05-30T11:54:24.021Z"
   },
   {
    "duration": 8,
    "start_time": "2023-05-30T11:55:34.161Z"
   },
   {
    "duration": 54,
    "start_time": "2023-05-30T11:55:40.949Z"
   },
   {
    "duration": 54,
    "start_time": "2023-05-30T11:55:41.525Z"
   },
   {
    "duration": 9,
    "start_time": "2023-05-30T11:55:42.496Z"
   },
   {
    "duration": 8,
    "start_time": "2023-05-30T11:55:53.753Z"
   },
   {
    "duration": 15,
    "start_time": "2023-05-30T11:56:40.773Z"
   },
   {
    "duration": 83,
    "start_time": "2023-05-30T11:57:38.167Z"
   },
   {
    "duration": 9,
    "start_time": "2023-05-30T11:58:25.296Z"
   },
   {
    "duration": 98,
    "start_time": "2023-05-30T11:58:42.271Z"
   },
   {
    "duration": 29,
    "start_time": "2023-05-30T12:00:42.103Z"
   },
   {
    "duration": 66,
    "start_time": "2023-05-30T12:00:42.590Z"
   },
   {
    "duration": 23,
    "start_time": "2023-05-30T12:00:53.052Z"
   },
   {
    "duration": 17,
    "start_time": "2023-05-30T12:00:53.162Z"
   },
   {
    "duration": 54,
    "start_time": "2023-05-30T12:00:53.348Z"
   },
   {
    "duration": 59,
    "start_time": "2023-05-30T12:00:53.503Z"
   },
   {
    "duration": 83,
    "start_time": "2023-05-30T12:00:53.762Z"
   },
   {
    "duration": 69,
    "start_time": "2023-05-30T12:00:54.049Z"
   },
   {
    "duration": 15,
    "start_time": "2023-05-30T12:00:54.204Z"
   },
   {
    "duration": 79,
    "start_time": "2023-05-30T12:00:54.495Z"
   },
   {
    "duration": 98,
    "start_time": "2023-05-30T12:09:07.274Z"
   },
   {
    "duration": 89,
    "start_time": "2023-05-30T12:09:27.064Z"
   },
   {
    "duration": 3,
    "start_time": "2023-05-30T12:11:52.115Z"
   },
   {
    "duration": 3,
    "start_time": "2023-05-30T12:12:31.895Z"
   },
   {
    "duration": 8,
    "start_time": "2023-05-30T12:14:18.119Z"
   },
   {
    "duration": 218,
    "start_time": "2023-05-30T12:14:34.001Z"
   },
   {
    "duration": 8,
    "start_time": "2023-05-30T12:16:11.519Z"
   },
   {
    "duration": 8,
    "start_time": "2023-05-30T12:17:17.111Z"
   },
   {
    "duration": 11,
    "start_time": "2023-05-30T12:18:00.004Z"
   },
   {
    "duration": 8,
    "start_time": "2023-05-30T12:18:04.119Z"
   },
   {
    "duration": 8,
    "start_time": "2023-05-30T12:18:56.662Z"
   },
   {
    "duration": 7,
    "start_time": "2023-05-30T12:29:29.805Z"
   },
   {
    "duration": 4,
    "start_time": "2023-05-30T12:29:39.705Z"
   },
   {
    "duration": 155,
    "start_time": "2023-05-30T12:29:39.890Z"
   },
   {
    "duration": 9,
    "start_time": "2023-05-30T12:29:40.047Z"
   },
   {
    "duration": 5,
    "start_time": "2023-05-30T12:29:40.514Z"
   },
   {
    "duration": 8,
    "start_time": "2023-05-30T12:29:40.654Z"
   },
   {
    "duration": 20,
    "start_time": "2023-05-30T12:29:40.822Z"
   },
   {
    "duration": 2752,
    "start_time": "2023-05-30T12:29:40.950Z"
   },
   {
    "duration": 0,
    "start_time": "2023-05-30T12:29:43.704Z"
   },
   {
    "duration": 0,
    "start_time": "2023-05-30T12:29:43.706Z"
   },
   {
    "duration": 0,
    "start_time": "2023-05-30T12:29:43.707Z"
   },
   {
    "duration": 0,
    "start_time": "2023-05-30T12:29:43.708Z"
   },
   {
    "duration": 0,
    "start_time": "2023-05-30T12:29:43.710Z"
   },
   {
    "duration": 0,
    "start_time": "2023-05-30T12:29:43.712Z"
   },
   {
    "duration": 0,
    "start_time": "2023-05-30T12:29:43.713Z"
   },
   {
    "duration": 0,
    "start_time": "2023-05-30T12:29:43.714Z"
   },
   {
    "duration": 0,
    "start_time": "2023-05-30T12:29:43.716Z"
   },
   {
    "duration": 12,
    "start_time": "2023-05-30T12:29:48.086Z"
   },
   {
    "duration": 8,
    "start_time": "2023-05-30T12:29:49.078Z"
   },
   {
    "duration": 10,
    "start_time": "2023-05-30T12:30:13.800Z"
   },
   {
    "duration": 8,
    "start_time": "2023-05-30T12:34:12.172Z"
   },
   {
    "duration": 877,
    "start_time": "2023-05-30T12:34:42.258Z"
   },
   {
    "duration": 164,
    "start_time": "2023-05-30T12:34:44.959Z"
   },
   {
    "duration": 8,
    "start_time": "2023-05-30T12:34:45.125Z"
   },
   {
    "duration": 5,
    "start_time": "2023-05-30T12:34:45.523Z"
   },
   {
    "duration": 9,
    "start_time": "2023-05-30T12:34:45.692Z"
   },
   {
    "duration": 30,
    "start_time": "2023-05-30T12:34:45.825Z"
   },
   {
    "duration": 2212,
    "start_time": "2023-05-30T12:34:45.985Z"
   },
   {
    "duration": 0,
    "start_time": "2023-05-30T12:34:48.200Z"
   },
   {
    "duration": 0,
    "start_time": "2023-05-30T12:34:48.201Z"
   },
   {
    "duration": 0,
    "start_time": "2023-05-30T12:34:48.202Z"
   },
   {
    "duration": 0,
    "start_time": "2023-05-30T12:34:48.203Z"
   },
   {
    "duration": 0,
    "start_time": "2023-05-30T12:34:48.205Z"
   },
   {
    "duration": 0,
    "start_time": "2023-05-30T12:34:48.206Z"
   },
   {
    "duration": 0,
    "start_time": "2023-05-30T12:34:48.207Z"
   },
   {
    "duration": 0,
    "start_time": "2023-05-30T12:34:48.208Z"
   },
   {
    "duration": 13,
    "start_time": "2023-05-30T12:34:48.213Z"
   },
   {
    "duration": 10,
    "start_time": "2023-05-30T12:34:48.421Z"
   },
   {
    "duration": 254,
    "start_time": "2023-05-30T12:34:59.858Z"
   },
   {
    "duration": 341,
    "start_time": "2023-05-30T12:35:15.805Z"
   },
   {
    "duration": 277,
    "start_time": "2023-05-30T12:35:30.201Z"
   },
   {
    "duration": 275,
    "start_time": "2023-05-30T12:35:44.101Z"
   },
   {
    "duration": 300,
    "start_time": "2023-05-30T12:36:06.856Z"
   },
   {
    "duration": 99,
    "start_time": "2023-05-30T12:36:59.879Z"
   },
   {
    "duration": 266,
    "start_time": "2023-05-30T12:37:49.824Z"
   },
   {
    "duration": 14,
    "start_time": "2023-05-30T12:37:55.525Z"
   },
   {
    "duration": 12,
    "start_time": "2023-05-30T12:38:00.484Z"
   },
   {
    "duration": 84,
    "start_time": "2023-05-30T12:38:10.263Z"
   },
   {
    "duration": 12,
    "start_time": "2023-05-30T12:38:16.303Z"
   },
   {
    "duration": 11,
    "start_time": "2023-05-30T12:39:31.187Z"
   },
   {
    "duration": 10,
    "start_time": "2023-05-30T12:40:05.337Z"
   },
   {
    "duration": 3,
    "start_time": "2023-05-30T12:40:34.298Z"
   },
   {
    "duration": 172,
    "start_time": "2023-05-30T12:40:35.465Z"
   },
   {
    "duration": 8,
    "start_time": "2023-05-30T12:40:35.666Z"
   },
   {
    "duration": 6,
    "start_time": "2023-05-30T12:40:36.061Z"
   },
   {
    "duration": 10,
    "start_time": "2023-05-30T12:40:36.175Z"
   },
   {
    "duration": 29,
    "start_time": "2023-05-30T12:40:36.326Z"
   },
   {
    "duration": 1998,
    "start_time": "2023-05-30T12:40:36.460Z"
   },
   {
    "duration": 0,
    "start_time": "2023-05-30T12:40:38.460Z"
   },
   {
    "duration": 4147,
    "start_time": "2023-05-30T12:40:51.574Z"
   },
   {
    "duration": 0,
    "start_time": "2023-05-30T12:40:55.725Z"
   },
   {
    "duration": 0,
    "start_time": "2023-05-30T12:40:55.734Z"
   },
   {
    "duration": 0,
    "start_time": "2023-05-30T12:40:55.737Z"
   },
   {
    "duration": 0,
    "start_time": "2023-05-30T12:40:55.739Z"
   },
   {
    "duration": 0,
    "start_time": "2023-05-30T12:40:55.740Z"
   },
   {
    "duration": 0,
    "start_time": "2023-05-30T12:40:55.742Z"
   },
   {
    "duration": 0,
    "start_time": "2023-05-30T12:40:55.744Z"
   },
   {
    "duration": 0,
    "start_time": "2023-05-30T12:40:55.746Z"
   },
   {
    "duration": 0,
    "start_time": "2023-05-30T12:40:55.747Z"
   },
   {
    "duration": 11,
    "start_time": "2023-05-30T12:40:55.788Z"
   },
   {
    "duration": 411,
    "start_time": "2023-05-30T12:40:56.001Z"
   },
   {
    "duration": 10,
    "start_time": "2023-05-30T12:40:56.857Z"
   },
   {
    "duration": 12,
    "start_time": "2023-05-30T12:40:59.774Z"
   },
   {
    "duration": 10,
    "start_time": "2023-05-30T12:41:18.678Z"
   },
   {
    "duration": 4,
    "start_time": "2023-05-30T14:58:46.418Z"
   },
   {
    "duration": 159,
    "start_time": "2023-05-30T14:58:46.640Z"
   },
   {
    "duration": 7,
    "start_time": "2023-05-30T14:58:46.812Z"
   },
   {
    "duration": 7,
    "start_time": "2023-05-30T14:58:47.522Z"
   },
   {
    "duration": 8,
    "start_time": "2023-05-30T14:58:47.717Z"
   },
   {
    "duration": 20,
    "start_time": "2023-05-30T14:58:47.903Z"
   },
   {
    "duration": 1479,
    "start_time": "2023-05-30T14:58:48.119Z"
   },
   {
    "duration": 0,
    "start_time": "2023-05-30T14:58:49.599Z"
   },
   {
    "duration": 0,
    "start_time": "2023-05-30T14:58:49.600Z"
   },
   {
    "duration": 0,
    "start_time": "2023-05-30T14:58:49.602Z"
   },
   {
    "duration": 1,
    "start_time": "2023-05-30T14:58:49.602Z"
   },
   {
    "duration": 0,
    "start_time": "2023-05-30T14:58:49.604Z"
   },
   {
    "duration": 0,
    "start_time": "2023-05-30T14:58:49.605Z"
   },
   {
    "duration": 1401,
    "start_time": "2023-05-30T14:58:49.943Z"
   },
   {
    "duration": 0,
    "start_time": "2023-05-30T14:58:51.346Z"
   },
   {
    "duration": 0,
    "start_time": "2023-05-30T14:58:51.347Z"
   },
   {
    "duration": 7,
    "start_time": "2023-05-30T14:58:51.768Z"
   },
   {
    "duration": 267,
    "start_time": "2023-05-30T14:58:51.934Z"
   },
   {
    "duration": 10,
    "start_time": "2023-05-30T14:58:52.413Z"
   },
   {
    "duration": 21,
    "start_time": "2023-05-30T15:51:59.670Z"
   },
   {
    "duration": 16,
    "start_time": "2023-05-30T15:51:59.838Z"
   },
   {
    "duration": 60,
    "start_time": "2023-05-30T15:51:59.999Z"
   },
   {
    "duration": 58,
    "start_time": "2023-05-30T15:52:00.161Z"
   },
   {
    "duration": 67,
    "start_time": "2023-05-30T15:52:00.464Z"
   },
   {
    "duration": 57,
    "start_time": "2023-05-30T15:52:00.619Z"
   },
   {
    "duration": 16,
    "start_time": "2023-05-30T15:52:00.930Z"
   },
   {
    "duration": 79,
    "start_time": "2023-05-30T15:52:01.243Z"
   },
   {
    "duration": 74,
    "start_time": "2023-05-30T15:52:10.989Z"
   },
   {
    "duration": 3,
    "start_time": "2023-05-30T15:52:15.056Z"
   },
   {
    "duration": 10,
    "start_time": "2023-05-30T15:52:16.248Z"
   },
   {
    "duration": 7,
    "start_time": "2023-05-30T15:52:16.824Z"
   },
   {
    "duration": 333,
    "start_time": "2023-05-30T15:52:17.236Z"
   },
   {
    "duration": 10,
    "start_time": "2023-05-30T15:52:18.224Z"
   },
   {
    "duration": 3,
    "start_time": "2023-05-30T15:52:24.443Z"
   },
   {
    "duration": 165,
    "start_time": "2023-05-30T15:52:24.740Z"
   },
   {
    "duration": 8,
    "start_time": "2023-05-30T15:52:24.957Z"
   },
   {
    "duration": 7,
    "start_time": "2023-05-30T15:52:25.223Z"
   },
   {
    "duration": 7,
    "start_time": "2023-05-30T15:52:25.349Z"
   },
   {
    "duration": 20,
    "start_time": "2023-05-30T15:52:25.579Z"
   },
   {
    "duration": 15,
    "start_time": "2023-05-30T15:52:25.779Z"
   },
   {
    "duration": 65,
    "start_time": "2023-05-30T15:52:25.960Z"
   },
   {
    "duration": 62,
    "start_time": "2023-05-30T15:52:26.119Z"
   },
   {
    "duration": 73,
    "start_time": "2023-05-30T15:52:26.422Z"
   },
   {
    "duration": 62,
    "start_time": "2023-05-30T15:52:26.573Z"
   },
   {
    "duration": 21,
    "start_time": "2023-05-30T15:52:26.895Z"
   },
   {
    "duration": 84,
    "start_time": "2023-05-30T15:52:27.233Z"
   },
   {
    "duration": 68,
    "start_time": "2023-05-30T15:52:27.559Z"
   },
   {
    "duration": 4,
    "start_time": "2023-05-30T15:52:28.080Z"
   },
   {
    "duration": 9,
    "start_time": "2023-05-30T15:52:29.260Z"
   },
   {
    "duration": 10,
    "start_time": "2023-05-30T15:52:29.754Z"
   },
   {
    "duration": 275,
    "start_time": "2023-05-30T15:52:29.900Z"
   },
   {
    "duration": 8,
    "start_time": "2023-05-30T15:52:58.833Z"
   },
   {
    "duration": 8,
    "start_time": "2023-05-30T15:54:22.280Z"
   },
   {
    "duration": 7,
    "start_time": "2023-05-30T15:54:23.236Z"
   },
   {
    "duration": 208,
    "start_time": "2023-05-30T16:02:54.545Z"
   },
   {
    "duration": 27,
    "start_time": "2023-05-30T17:24:02.202Z"
   },
   {
    "duration": 7,
    "start_time": "2023-05-30T17:24:25.060Z"
   },
   {
    "duration": 23,
    "start_time": "2023-05-30T17:24:29.103Z"
   },
   {
    "duration": 8,
    "start_time": "2023-05-30T17:24:46.061Z"
   },
   {
    "duration": 125,
    "start_time": "2023-05-30T17:26:02.182Z"
   },
   {
    "duration": 13,
    "start_time": "2023-05-30T17:27:11.412Z"
   },
   {
    "duration": 21,
    "start_time": "2023-05-30T17:27:23.392Z"
   },
   {
    "duration": 14,
    "start_time": "2023-05-30T17:27:32.108Z"
   },
   {
    "duration": 19,
    "start_time": "2023-05-30T17:27:49.306Z"
   },
   {
    "duration": 2211,
    "start_time": "2023-05-30T17:42:08.412Z"
   },
   {
    "duration": 649,
    "start_time": "2023-05-30T17:42:22.031Z"
   },
   {
    "duration": 323,
    "start_time": "2023-05-30T17:43:06.931Z"
   },
   {
    "duration": 362,
    "start_time": "2023-05-30T17:43:16.305Z"
   },
   {
    "duration": 257,
    "start_time": "2023-05-30T17:44:04.973Z"
   },
   {
    "duration": 280,
    "start_time": "2023-05-30T17:44:07.932Z"
   },
   {
    "duration": 8,
    "start_time": "2023-05-30T17:45:36.598Z"
   },
   {
    "duration": 419,
    "start_time": "2023-05-30T17:45:37.330Z"
   },
   {
    "duration": 24,
    "start_time": "2023-05-30T17:48:07.965Z"
   },
   {
    "duration": 256,
    "start_time": "2023-05-30T17:48:48.944Z"
   },
   {
    "duration": 32,
    "start_time": "2023-05-30T17:49:51.093Z"
   },
   {
    "duration": 347,
    "start_time": "2023-05-30T17:49:58.757Z"
   },
   {
    "duration": 22,
    "start_time": "2023-05-30T17:50:03.515Z"
   },
   {
    "duration": 309,
    "start_time": "2023-05-30T17:50:04.005Z"
   },
   {
    "duration": 22,
    "start_time": "2023-05-30T17:50:28.606Z"
   },
   {
    "duration": 284,
    "start_time": "2023-05-30T17:50:30.851Z"
   },
   {
    "duration": 263,
    "start_time": "2023-05-30T17:50:34.665Z"
   },
   {
    "duration": 11,
    "start_time": "2023-05-30T17:50:58.848Z"
   },
   {
    "duration": 20,
    "start_time": "2023-05-30T17:51:20.127Z"
   },
   {
    "duration": 76,
    "start_time": "2023-05-30T17:51:54.896Z"
   },
   {
    "duration": 14,
    "start_time": "2023-05-30T17:56:22.149Z"
   },
   {
    "duration": 12,
    "start_time": "2023-05-30T18:01:56.530Z"
   },
   {
    "duration": 15,
    "start_time": "2023-05-30T18:03:57.765Z"
   },
   {
    "duration": 18,
    "start_time": "2023-05-30T18:04:22.414Z"
   },
   {
    "duration": 22,
    "start_time": "2023-05-30T18:04:41.077Z"
   },
   {
    "duration": 17,
    "start_time": "2023-05-30T18:04:48.807Z"
   },
   {
    "duration": 1376,
    "start_time": "2023-05-31T09:18:48.143Z"
   },
   {
    "duration": 737,
    "start_time": "2023-05-31T09:18:49.522Z"
   },
   {
    "duration": 11,
    "start_time": "2023-05-31T09:18:50.261Z"
   },
   {
    "duration": 15,
    "start_time": "2023-05-31T09:18:50.273Z"
   },
   {
    "duration": 25,
    "start_time": "2023-05-31T09:18:50.290Z"
   },
   {
    "duration": 39,
    "start_time": "2023-05-31T09:18:50.316Z"
   },
   {
    "duration": 16,
    "start_time": "2023-05-31T09:18:50.357Z"
   },
   {
    "duration": 70,
    "start_time": "2023-05-31T09:18:50.374Z"
   },
   {
    "duration": 77,
    "start_time": "2023-05-31T09:18:50.446Z"
   },
   {
    "duration": 90,
    "start_time": "2023-05-31T09:18:50.525Z"
   },
   {
    "duration": 77,
    "start_time": "2023-05-31T09:18:50.617Z"
   },
   {
    "duration": 16,
    "start_time": "2023-05-31T09:18:50.696Z"
   },
   {
    "duration": 79,
    "start_time": "2023-05-31T09:18:51.009Z"
   },
   {
    "duration": 70,
    "start_time": "2023-05-31T09:18:51.397Z"
   },
   {
    "duration": 3,
    "start_time": "2023-05-31T09:18:51.897Z"
   },
   {
    "duration": 23,
    "start_time": "2023-05-31T09:18:52.261Z"
   },
   {
    "duration": 9,
    "start_time": "2023-05-31T09:18:52.632Z"
   },
   {
    "duration": 8,
    "start_time": "2023-05-31T09:18:52.941Z"
   },
   {
    "duration": 101,
    "start_time": "2023-05-31T09:18:53.542Z"
   },
   {
    "duration": 0,
    "start_time": "2023-05-31T09:18:53.644Z"
   },
   {
    "duration": 9,
    "start_time": "2023-05-31T09:18:53.757Z"
   },
   {
    "duration": 437,
    "start_time": "2023-05-31T09:18:53.949Z"
   },
   {
    "duration": 24,
    "start_time": "2023-05-31T09:18:54.389Z"
   },
   {
    "duration": 256,
    "start_time": "2023-05-31T09:18:54.461Z"
   },
   {
    "duration": 96,
    "start_time": "2023-05-31T09:18:54.719Z"
   },
   {
    "duration": 13,
    "start_time": "2023-05-31T09:18:54.817Z"
   },
   {
    "duration": 19,
    "start_time": "2023-05-31T09:18:54.983Z"
   },
   {
    "duration": 10,
    "start_time": "2023-05-31T09:23:51.551Z"
   },
   {
    "duration": 9,
    "start_time": "2023-05-31T09:24:16.861Z"
   },
   {
    "duration": 17,
    "start_time": "2023-05-31T09:26:04.282Z"
   },
   {
    "duration": 11,
    "start_time": "2023-05-31T09:26:14.299Z"
   },
   {
    "duration": 8,
    "start_time": "2023-05-31T09:28:15.007Z"
   },
   {
    "duration": 23,
    "start_time": "2023-05-31T09:29:05.515Z"
   },
   {
    "duration": 235,
    "start_time": "2023-05-31T09:29:05.733Z"
   },
   {
    "duration": 65,
    "start_time": "2023-05-31T09:29:05.969Z"
   },
   {
    "duration": 9,
    "start_time": "2023-05-31T09:29:06.036Z"
   },
   {
    "duration": 7,
    "start_time": "2023-05-31T09:29:07.685Z"
   },
   {
    "duration": 13,
    "start_time": "2023-05-31T09:30:51.903Z"
   },
   {
    "duration": 18,
    "start_time": "2023-05-31T09:31:49.288Z"
   },
   {
    "duration": 11,
    "start_time": "2023-05-31T09:31:49.589Z"
   },
   {
    "duration": 12,
    "start_time": "2023-05-31T09:34:15.147Z"
   },
   {
    "duration": 9,
    "start_time": "2023-05-31T09:34:35.187Z"
   },
   {
    "duration": 7,
    "start_time": "2023-05-31T09:34:56.309Z"
   },
   {
    "duration": 105,
    "start_time": "2023-05-31T09:36:32.020Z"
   },
   {
    "duration": 9,
    "start_time": "2023-05-31T09:38:32.207Z"
   },
   {
    "duration": 1735,
    "start_time": "2023-05-31T09:44:21.547Z"
   },
   {
    "duration": 28,
    "start_time": "2023-05-31T09:44:45.109Z"
   },
   {
    "duration": 118,
    "start_time": "2023-05-31T09:47:08.843Z"
   },
   {
    "duration": 9,
    "start_time": "2023-05-31T09:56:00.338Z"
   },
   {
    "duration": 56,
    "start_time": "2023-05-31T09:56:22.590Z"
   },
   {
    "duration": 55,
    "start_time": "2023-05-31T09:57:49.190Z"
   },
   {
    "duration": 66,
    "start_time": "2023-05-31T09:59:04.761Z"
   },
   {
    "duration": 62,
    "start_time": "2023-05-31T10:00:10.201Z"
   },
   {
    "duration": 63,
    "start_time": "2023-05-31T10:00:25.850Z"
   },
   {
    "duration": 105,
    "start_time": "2023-05-31T10:00:44.194Z"
   },
   {
    "duration": 31,
    "start_time": "2023-05-31T10:00:47.303Z"
   },
   {
    "duration": 25,
    "start_time": "2023-05-31T10:00:52.846Z"
   },
   {
    "duration": 111,
    "start_time": "2023-05-31T10:01:44.330Z"
   },
   {
    "duration": 11,
    "start_time": "2023-05-31T10:09:20.297Z"
   },
   {
    "duration": 14,
    "start_time": "2023-05-31T10:09:36.657Z"
   },
   {
    "duration": 11,
    "start_time": "2023-05-31T10:09:40.427Z"
   },
   {
    "duration": 4,
    "start_time": "2023-05-31T10:11:39.359Z"
   },
   {
    "duration": 208,
    "start_time": "2023-05-31T10:11:39.602Z"
   },
   {
    "duration": 9,
    "start_time": "2023-05-31T10:11:39.813Z"
   },
   {
    "duration": 8,
    "start_time": "2023-05-31T10:11:40.329Z"
   },
   {
    "duration": 8,
    "start_time": "2023-05-31T10:11:40.602Z"
   },
   {
    "duration": 20,
    "start_time": "2023-05-31T10:11:40.848Z"
   },
   {
    "duration": 22,
    "start_time": "2023-05-31T10:11:41.024Z"
   },
   {
    "duration": 59,
    "start_time": "2023-05-31T10:11:41.414Z"
   },
   {
    "duration": 74,
    "start_time": "2023-05-31T10:11:41.750Z"
   },
   {
    "duration": 81,
    "start_time": "2023-05-31T10:11:42.098Z"
   },
   {
    "duration": 72,
    "start_time": "2023-05-31T10:11:42.253Z"
   },
   {
    "duration": 16,
    "start_time": "2023-05-31T10:11:42.600Z"
   },
   {
    "duration": 99,
    "start_time": "2023-05-31T10:11:42.925Z"
   },
   {
    "duration": 107,
    "start_time": "2023-05-31T10:11:43.255Z"
   },
   {
    "duration": 5,
    "start_time": "2023-05-31T10:11:43.806Z"
   },
   {
    "duration": 52,
    "start_time": "2023-05-31T10:11:44.372Z"
   },
   {
    "duration": 9,
    "start_time": "2023-05-31T10:11:44.828Z"
   },
   {
    "duration": 25,
    "start_time": "2023-05-31T10:11:45.271Z"
   },
   {
    "duration": 26,
    "start_time": "2023-05-31T10:11:45.675Z"
   },
   {
    "duration": 38,
    "start_time": "2023-05-31T10:11:45.874Z"
   },
   {
    "duration": 12,
    "start_time": "2023-05-31T10:11:46.290Z"
   },
   {
    "duration": 32,
    "start_time": "2023-05-31T10:11:49.356Z"
   },
   {
    "duration": 122,
    "start_time": "2023-05-31T10:11:49.391Z"
   },
   {
    "duration": 16,
    "start_time": "2023-05-31T10:11:49.517Z"
   },
   {
    "duration": 15,
    "start_time": "2023-05-31T10:14:45.107Z"
   },
   {
    "duration": 12,
    "start_time": "2023-05-31T10:14:54.702Z"
   },
   {
    "duration": 10,
    "start_time": "2023-05-31T10:14:59.901Z"
   },
   {
    "duration": 11,
    "start_time": "2023-05-31T10:15:03.957Z"
   },
   {
    "duration": 25,
    "start_time": "2023-05-31T10:15:16.179Z"
   },
   {
    "duration": 102,
    "start_time": "2023-05-31T10:15:19.624Z"
   },
   {
    "duration": 18,
    "start_time": "2023-05-31T10:15:21.851Z"
   },
   {
    "duration": 29,
    "start_time": "2023-05-31T10:16:08.198Z"
   },
   {
    "duration": 4,
    "start_time": "2023-05-31T10:16:32.419Z"
   },
   {
    "duration": 248,
    "start_time": "2023-05-31T10:16:32.604Z"
   },
   {
    "duration": 15,
    "start_time": "2023-05-31T10:16:32.854Z"
   },
   {
    "duration": 14,
    "start_time": "2023-05-31T10:16:33.202Z"
   },
   {
    "duration": 14,
    "start_time": "2023-05-31T10:16:33.346Z"
   },
   {
    "duration": 43,
    "start_time": "2023-05-31T10:16:33.477Z"
   },
   {
    "duration": 24,
    "start_time": "2023-05-31T10:16:33.624Z"
   },
   {
    "duration": 97,
    "start_time": "2023-05-31T10:16:33.759Z"
   },
   {
    "duration": 103,
    "start_time": "2023-05-31T10:16:33.906Z"
   },
   {
    "duration": 117,
    "start_time": "2023-05-31T10:16:34.217Z"
   },
   {
    "duration": 98,
    "start_time": "2023-05-31T10:16:34.348Z"
   },
   {
    "duration": 21,
    "start_time": "2023-05-31T10:16:34.645Z"
   },
   {
    "duration": 148,
    "start_time": "2023-05-31T10:16:34.899Z"
   },
   {
    "duration": 140,
    "start_time": "2023-05-31T10:16:35.110Z"
   },
   {
    "duration": 4,
    "start_time": "2023-05-31T10:16:35.360Z"
   },
   {
    "duration": 57,
    "start_time": "2023-05-31T10:16:35.566Z"
   },
   {
    "duration": 15,
    "start_time": "2023-05-31T10:16:35.773Z"
   },
   {
    "duration": 12,
    "start_time": "2023-05-31T10:16:35.933Z"
   },
   {
    "duration": 9,
    "start_time": "2023-05-31T10:16:36.122Z"
   },
   {
    "duration": 23,
    "start_time": "2023-05-31T10:16:36.245Z"
   },
   {
    "duration": 10,
    "start_time": "2023-05-31T10:16:36.550Z"
   },
   {
    "duration": 370,
    "start_time": "2023-05-31T10:16:36.648Z"
   },
   {
    "duration": 30,
    "start_time": "2023-05-31T10:16:37.020Z"
   },
   {
    "duration": 548,
    "start_time": "2023-05-31T10:16:37.053Z"
   },
   {
    "duration": 109,
    "start_time": "2023-05-31T10:16:37.603Z"
   },
   {
    "duration": 23,
    "start_time": "2023-05-31T10:16:37.714Z"
   },
   {
    "duration": 54,
    "start_time": "2023-05-31T10:16:37.791Z"
   },
   {
    "duration": 113,
    "start_time": "2023-05-31T10:16:38.132Z"
   },
   {
    "duration": 17,
    "start_time": "2023-05-31T10:16:38.324Z"
   },
   {
    "duration": 16,
    "start_time": "2023-05-31T10:19:41.401Z"
   },
   {
    "duration": 28,
    "start_time": "2023-05-31T10:19:58.596Z"
   },
   {
    "duration": 4,
    "start_time": "2023-05-31T10:20:13.762Z"
   },
   {
    "duration": 275,
    "start_time": "2023-05-31T10:20:13.988Z"
   },
   {
    "duration": 13,
    "start_time": "2023-05-31T10:20:14.266Z"
   },
   {
    "duration": 6,
    "start_time": "2023-05-31T10:20:14.609Z"
   },
   {
    "duration": 7,
    "start_time": "2023-05-31T10:20:14.760Z"
   },
   {
    "duration": 43,
    "start_time": "2023-05-31T10:20:14.846Z"
   },
   {
    "duration": 29,
    "start_time": "2023-05-31T10:20:14.949Z"
   },
   {
    "duration": 108,
    "start_time": "2023-05-31T10:20:15.040Z"
   },
   {
    "duration": 78,
    "start_time": "2023-05-31T10:20:15.153Z"
   },
   {
    "duration": 100,
    "start_time": "2023-05-31T10:20:15.347Z"
   },
   {
    "duration": 93,
    "start_time": "2023-05-31T10:20:15.450Z"
   },
   {
    "duration": 15,
    "start_time": "2023-05-31T10:20:15.657Z"
   },
   {
    "duration": 134,
    "start_time": "2023-05-31T10:20:15.988Z"
   },
   {
    "duration": 124,
    "start_time": "2023-05-31T10:20:16.154Z"
   },
   {
    "duration": 4,
    "start_time": "2023-05-31T10:20:16.504Z"
   },
   {
    "duration": 64,
    "start_time": "2023-05-31T10:20:16.672Z"
   },
   {
    "duration": 13,
    "start_time": "2023-05-31T10:20:16.871Z"
   },
   {
    "duration": 13,
    "start_time": "2023-05-31T10:20:17.098Z"
   },
   {
    "duration": 26,
    "start_time": "2023-05-31T10:20:17.401Z"
   },
   {
    "duration": 32,
    "start_time": "2023-05-31T10:20:17.501Z"
   },
   {
    "duration": 10,
    "start_time": "2023-05-31T10:20:17.721Z"
   },
   {
    "duration": 369,
    "start_time": "2023-05-31T10:20:17.845Z"
   },
   {
    "duration": 38,
    "start_time": "2023-05-31T10:20:18.494Z"
   },
   {
    "duration": 334,
    "start_time": "2023-05-31T10:20:18.727Z"
   },
   {
    "duration": 91,
    "start_time": "2023-05-31T10:20:19.064Z"
   },
   {
    "duration": 13,
    "start_time": "2023-05-31T10:20:19.225Z"
   },
   {
    "duration": 46,
    "start_time": "2023-05-31T10:20:19.995Z"
   },
   {
    "duration": 87,
    "start_time": "2023-05-31T10:20:20.548Z"
   },
   {
    "duration": 18,
    "start_time": "2023-05-31T10:20:20.924Z"
   },
   {
    "duration": 12,
    "start_time": "2023-05-31T10:22:23.543Z"
   },
   {
    "duration": 15,
    "start_time": "2023-05-31T10:23:13.494Z"
   },
   {
    "duration": 11,
    "start_time": "2023-05-31T10:51:14.080Z"
   },
   {
    "duration": 230,
    "start_time": "2023-05-31T10:51:35.376Z"
   },
   {
    "duration": 156,
    "start_time": "2023-05-31T10:51:47.206Z"
   },
   {
    "duration": 164,
    "start_time": "2023-05-31T10:52:11.950Z"
   },
   {
    "duration": 15,
    "start_time": "2023-05-31T10:54:32.775Z"
   },
   {
    "duration": 18,
    "start_time": "2023-05-31T11:25:29.746Z"
   },
   {
    "duration": 3,
    "start_time": "2023-05-31T11:31:44.322Z"
   },
   {
    "duration": 181,
    "start_time": "2023-05-31T11:31:44.481Z"
   },
   {
    "duration": 16,
    "start_time": "2023-05-31T11:31:44.664Z"
   },
   {
    "duration": 11,
    "start_time": "2023-05-31T11:31:45.212Z"
   },
   {
    "duration": 9,
    "start_time": "2023-05-31T11:31:45.255Z"
   },
   {
    "duration": 33,
    "start_time": "2023-05-31T11:31:45.285Z"
   },
   {
    "duration": 25,
    "start_time": "2023-05-31T11:31:45.321Z"
   },
   {
    "duration": 94,
    "start_time": "2023-05-31T11:31:45.359Z"
   },
   {
    "duration": 121,
    "start_time": "2023-05-31T11:31:45.456Z"
   },
   {
    "duration": 77,
    "start_time": "2023-05-31T11:31:45.581Z"
   },
   {
    "duration": 89,
    "start_time": "2023-05-31T11:31:45.660Z"
   },
   {
    "duration": 41,
    "start_time": "2023-05-31T11:31:45.753Z"
   },
   {
    "duration": 107,
    "start_time": "2023-05-31T11:31:45.797Z"
   },
   {
    "duration": 105,
    "start_time": "2023-05-31T11:31:45.906Z"
   },
   {
    "duration": 4,
    "start_time": "2023-05-31T11:31:46.014Z"
   },
   {
    "duration": 76,
    "start_time": "2023-05-31T11:31:46.020Z"
   },
   {
    "duration": 12,
    "start_time": "2023-05-31T11:31:46.098Z"
   },
   {
    "duration": 12,
    "start_time": "2023-05-31T11:31:46.112Z"
   },
   {
    "duration": 53,
    "start_time": "2023-05-31T11:31:46.128Z"
   },
   {
    "duration": 23,
    "start_time": "2023-05-31T11:31:46.184Z"
   },
   {
    "duration": 14,
    "start_time": "2023-05-31T11:31:46.210Z"
   },
   {
    "duration": 456,
    "start_time": "2023-05-31T11:31:46.225Z"
   },
   {
    "duration": 26,
    "start_time": "2023-05-31T11:31:46.683Z"
   },
   {
    "duration": 385,
    "start_time": "2023-05-31T11:31:46.711Z"
   },
   {
    "duration": 108,
    "start_time": "2023-05-31T11:31:47.098Z"
   },
   {
    "duration": 16,
    "start_time": "2023-05-31T11:31:47.209Z"
   },
   {
    "duration": 65,
    "start_time": "2023-05-31T11:31:47.228Z"
   },
   {
    "duration": 80,
    "start_time": "2023-05-31T11:31:47.295Z"
   },
   {
    "duration": 14,
    "start_time": "2023-05-31T11:31:47.378Z"
   },
   {
    "duration": 223,
    "start_time": "2023-05-31T11:31:47.394Z"
   },
   {
    "duration": 16,
    "start_time": "2023-05-31T11:31:48.785Z"
   },
   {
    "duration": 32,
    "start_time": "2023-05-31T11:32:08.252Z"
   },
   {
    "duration": 32,
    "start_time": "2023-05-31T11:32:18.623Z"
   },
   {
    "duration": 1622,
    "start_time": "2023-05-31T11:56:47.325Z"
   },
   {
    "duration": 20,
    "start_time": "2023-05-31T11:57:03.848Z"
   },
   {
    "duration": 1781,
    "start_time": "2023-05-31T11:59:57.761Z"
   },
   {
    "duration": 7,
    "start_time": "2023-05-31T12:21:12.941Z"
   },
   {
    "duration": 7,
    "start_time": "2023-05-31T12:21:56.286Z"
   },
   {
    "duration": 12,
    "start_time": "2023-05-31T12:26:36.089Z"
   },
   {
    "duration": 9,
    "start_time": "2023-05-31T12:40:05.939Z"
   },
   {
    "duration": 134,
    "start_time": "2023-05-31T12:41:00.804Z"
   },
   {
    "duration": 14,
    "start_time": "2023-05-31T12:45:13.540Z"
   },
   {
    "duration": 23,
    "start_time": "2023-05-31T12:46:24.361Z"
   },
   {
    "duration": 3,
    "start_time": "2023-05-31T12:48:33.487Z"
   },
   {
    "duration": 3,
    "start_time": "2023-05-31T12:48:52.250Z"
   },
   {
    "duration": 20,
    "start_time": "2023-05-31T12:49:00.585Z"
   },
   {
    "duration": 3,
    "start_time": "2023-05-31T12:49:02.772Z"
   },
   {
    "duration": 5,
    "start_time": "2023-05-31T12:49:03.045Z"
   },
   {
    "duration": 9,
    "start_time": "2023-05-31T12:49:30.661Z"
   },
   {
    "duration": 20,
    "start_time": "2023-05-31T12:49:59.184Z"
   },
   {
    "duration": 3,
    "start_time": "2023-05-31T12:49:59.483Z"
   },
   {
    "duration": 3,
    "start_time": "2023-05-31T12:49:59.752Z"
   },
   {
    "duration": 34,
    "start_time": "2023-05-31T12:59:28.256Z"
   },
   {
    "duration": 28,
    "start_time": "2023-05-31T12:59:37.347Z"
   },
   {
    "duration": 19,
    "start_time": "2023-05-31T12:59:38.976Z"
   },
   {
    "duration": 3,
    "start_time": "2023-05-31T12:59:39.144Z"
   },
   {
    "duration": 4,
    "start_time": "2023-05-31T12:59:39.333Z"
   },
   {
    "duration": 60,
    "start_time": "2023-05-31T13:03:22.840Z"
   },
   {
    "duration": 178,
    "start_time": "2023-05-31T13:06:41.219Z"
   },
   {
    "duration": 223,
    "start_time": "2023-05-31T13:09:17.494Z"
   },
   {
    "duration": 3,
    "start_time": "2023-05-31T13:10:40.824Z"
   },
   {
    "duration": 239,
    "start_time": "2023-05-31T13:10:41.807Z"
   },
   {
    "duration": 8,
    "start_time": "2023-05-31T13:10:42.048Z"
   },
   {
    "duration": 5,
    "start_time": "2023-05-31T13:10:42.185Z"
   },
   {
    "duration": 8,
    "start_time": "2023-05-31T13:10:42.352Z"
   },
   {
    "duration": 19,
    "start_time": "2023-05-31T13:10:42.506Z"
   },
   {
    "duration": 14,
    "start_time": "2023-05-31T13:10:42.686Z"
   },
   {
    "duration": 57,
    "start_time": "2023-05-31T13:10:42.875Z"
   },
   {
    "duration": 51,
    "start_time": "2023-05-31T13:10:43.115Z"
   },
   {
    "duration": 63,
    "start_time": "2023-05-31T13:10:43.365Z"
   },
   {
    "duration": 57,
    "start_time": "2023-05-31T13:10:43.472Z"
   },
   {
    "duration": 15,
    "start_time": "2023-05-31T13:10:43.642Z"
   },
   {
    "duration": 96,
    "start_time": "2023-05-31T13:10:43.947Z"
   },
   {
    "duration": 94,
    "start_time": "2023-05-31T13:10:44.163Z"
   },
   {
    "duration": 3,
    "start_time": "2023-05-31T13:10:44.512Z"
   },
   {
    "duration": 23,
    "start_time": "2023-05-31T13:10:44.685Z"
   },
   {
    "duration": 9,
    "start_time": "2023-05-31T13:10:44.900Z"
   },
   {
    "duration": 8,
    "start_time": "2023-05-31T13:10:45.095Z"
   },
   {
    "duration": 6,
    "start_time": "2023-05-31T13:10:45.287Z"
   },
   {
    "duration": 16,
    "start_time": "2023-05-31T13:10:45.422Z"
   },
   {
    "duration": 8,
    "start_time": "2023-05-31T13:10:45.619Z"
   },
   {
    "duration": 260,
    "start_time": "2023-05-31T13:10:45.825Z"
   },
   {
    "duration": 18,
    "start_time": "2023-05-31T13:10:46.108Z"
   },
   {
    "duration": 250,
    "start_time": "2023-05-31T13:10:46.148Z"
   },
   {
    "duration": 77,
    "start_time": "2023-05-31T13:10:46.400Z"
   },
   {
    "duration": 11,
    "start_time": "2023-05-31T13:10:46.478Z"
   },
   {
    "duration": 27,
    "start_time": "2023-05-31T13:10:46.936Z"
   },
   {
    "duration": 56,
    "start_time": "2023-05-31T13:10:47.326Z"
   },
   {
    "duration": 13,
    "start_time": "2023-05-31T13:10:47.561Z"
   },
   {
    "duration": 146,
    "start_time": "2023-05-31T13:10:47.685Z"
   },
   {
    "duration": 28,
    "start_time": "2023-05-31T13:10:48.179Z"
   },
   {
    "duration": 21,
    "start_time": "2023-05-31T13:10:48.659Z"
   },
   {
    "duration": 4,
    "start_time": "2023-05-31T13:10:48.903Z"
   },
   {
    "duration": 4,
    "start_time": "2023-05-31T13:10:49.010Z"
   },
   {
    "duration": 167,
    "start_time": "2023-05-31T13:10:49.392Z"
   },
   {
    "duration": 3,
    "start_time": "2023-05-31T13:11:33.180Z"
   },
   {
    "duration": 184,
    "start_time": "2023-05-31T13:11:33.593Z"
   },
   {
    "duration": 182,
    "start_time": "2023-05-31T13:12:05.342Z"
   },
   {
    "duration": 165,
    "start_time": "2023-05-31T13:12:15.833Z"
   },
   {
    "duration": 184,
    "start_time": "2023-05-31T13:13:01.447Z"
   },
   {
    "duration": 8,
    "start_time": "2023-05-31T13:21:13.036Z"
   },
   {
    "duration": 11,
    "start_time": "2023-05-31T13:22:28.380Z"
   },
   {
    "duration": 1622,
    "start_time": "2023-05-31T13:26:32.770Z"
   },
   {
    "duration": 1810,
    "start_time": "2023-05-31T13:31:46.613Z"
   },
   {
    "duration": 354,
    "start_time": "2023-05-31T13:34:23.254Z"
   },
   {
    "duration": 97,
    "start_time": "2023-05-31T13:34:57.679Z"
   },
   {
    "duration": 93,
    "start_time": "2023-05-31T13:35:09.453Z"
   },
   {
    "duration": 50,
    "start_time": "2023-05-31T13:35:20.346Z"
   },
   {
    "duration": 127,
    "start_time": "2023-05-31T13:37:03.376Z"
   },
   {
    "duration": 22,
    "start_time": "2023-05-31T13:38:05.819Z"
   },
   {
    "duration": 19,
    "start_time": "2023-05-31T13:38:09.898Z"
   },
   {
    "duration": 18,
    "start_time": "2023-05-31T13:38:15.180Z"
   },
   {
    "duration": 18,
    "start_time": "2023-05-31T13:38:23.679Z"
   },
   {
    "duration": 127,
    "start_time": "2023-05-31T13:39:02.445Z"
   },
   {
    "duration": 85,
    "start_time": "2023-05-31T13:40:12.156Z"
   },
   {
    "duration": 20,
    "start_time": "2023-05-31T13:41:02.205Z"
   },
   {
    "duration": 84,
    "start_time": "2023-05-31T13:41:04.418Z"
   },
   {
    "duration": 24,
    "start_time": "2023-05-31T13:41:34.139Z"
   },
   {
    "duration": 87,
    "start_time": "2023-05-31T13:41:34.289Z"
   },
   {
    "duration": 89,
    "start_time": "2023-05-31T13:41:34.469Z"
   },
   {
    "duration": 142,
    "start_time": "2023-05-31T13:41:34.766Z"
   },
   {
    "duration": 90,
    "start_time": "2023-05-31T13:41:48.082Z"
   },
   {
    "duration": 88,
    "start_time": "2023-05-31T13:41:52.820Z"
   },
   {
    "duration": 28,
    "start_time": "2023-05-31T13:42:48.224Z"
   },
   {
    "duration": 1150,
    "start_time": "2023-05-31T17:30:37.235Z"
   },
   {
    "duration": 156,
    "start_time": "2023-05-31T17:30:38.388Z"
   },
   {
    "duration": 13,
    "start_time": "2023-05-31T17:30:38.546Z"
   },
   {
    "duration": 18,
    "start_time": "2023-05-31T17:30:38.561Z"
   },
   {
    "duration": 9,
    "start_time": "2023-05-31T17:30:38.581Z"
   },
   {
    "duration": 30,
    "start_time": "2023-05-31T17:30:38.591Z"
   },
   {
    "duration": 15,
    "start_time": "2023-05-31T17:30:38.623Z"
   },
   {
    "duration": 88,
    "start_time": "2023-05-31T17:30:38.640Z"
   },
   {
    "duration": 63,
    "start_time": "2023-05-31T17:30:38.730Z"
   },
   {
    "duration": 79,
    "start_time": "2023-05-31T17:30:38.797Z"
   },
   {
    "duration": 55,
    "start_time": "2023-05-31T17:30:38.879Z"
   },
   {
    "duration": 14,
    "start_time": "2023-05-31T17:30:38.935Z"
   },
   {
    "duration": 94,
    "start_time": "2023-05-31T17:30:38.951Z"
   },
   {
    "duration": 76,
    "start_time": "2023-05-31T17:30:39.046Z"
   },
   {
    "duration": 4,
    "start_time": "2023-05-31T17:30:39.123Z"
   },
   {
    "duration": 35,
    "start_time": "2023-05-31T17:30:39.128Z"
   },
   {
    "duration": 16,
    "start_time": "2023-05-31T17:30:39.165Z"
   },
   {
    "duration": 7,
    "start_time": "2023-05-31T17:30:39.183Z"
   },
   {
    "duration": 6,
    "start_time": "2023-05-31T17:30:39.192Z"
   },
   {
    "duration": 28,
    "start_time": "2023-05-31T17:30:39.199Z"
   },
   {
    "duration": 6,
    "start_time": "2023-05-31T17:30:39.229Z"
   },
   {
    "duration": 353,
    "start_time": "2023-05-31T17:30:39.237Z"
   },
   {
    "duration": 20,
    "start_time": "2023-05-31T17:30:39.593Z"
   },
   {
    "duration": 251,
    "start_time": "2023-05-31T17:30:39.615Z"
   },
   {
    "duration": 66,
    "start_time": "2023-05-31T17:30:39.868Z"
   },
   {
    "duration": 11,
    "start_time": "2023-05-31T17:30:39.935Z"
   },
   {
    "duration": 44,
    "start_time": "2023-05-31T17:30:39.947Z"
   },
   {
    "duration": 56,
    "start_time": "2023-05-31T17:30:39.994Z"
   },
   {
    "duration": 34,
    "start_time": "2023-05-31T17:30:40.052Z"
   },
   {
    "duration": 178,
    "start_time": "2023-05-31T17:30:40.088Z"
   },
   {
    "duration": 32,
    "start_time": "2023-05-31T17:30:40.268Z"
   },
   {
    "duration": 19,
    "start_time": "2023-05-31T17:30:40.302Z"
   },
   {
    "duration": 3,
    "start_time": "2023-05-31T17:30:40.323Z"
   },
   {
    "duration": 9,
    "start_time": "2023-05-31T17:30:40.328Z"
   },
   {
    "duration": 213,
    "start_time": "2023-05-31T17:30:40.339Z"
   },
   {
    "duration": 33,
    "start_time": "2023-05-31T17:30:40.554Z"
   },
   {
    "duration": 112,
    "start_time": "2023-05-31T17:30:40.590Z"
   },
   {
    "duration": 114,
    "start_time": "2023-05-31T17:30:40.704Z"
   },
   {
    "duration": 133,
    "start_time": "2023-05-31T17:30:40.820Z"
   },
   {
    "duration": 226,
    "start_time": "2023-05-31T17:56:31.442Z"
   },
   {
    "duration": 171,
    "start_time": "2023-05-31T17:56:50.268Z"
   },
   {
    "duration": 51,
    "start_time": "2023-06-01T10:50:45.217Z"
   },
   {
    "duration": 1449,
    "start_time": "2023-06-01T10:50:58.944Z"
   },
   {
    "duration": 619,
    "start_time": "2023-06-01T10:51:00.395Z"
   },
   {
    "duration": 12,
    "start_time": "2023-06-01T10:51:01.015Z"
   },
   {
    "duration": 27,
    "start_time": "2023-06-01T10:51:01.028Z"
   },
   {
    "duration": 35,
    "start_time": "2023-06-01T10:51:01.056Z"
   },
   {
    "duration": 56,
    "start_time": "2023-06-01T10:51:01.092Z"
   },
   {
    "duration": 29,
    "start_time": "2023-06-01T10:51:01.149Z"
   },
   {
    "duration": 84,
    "start_time": "2023-06-01T10:51:01.179Z"
   },
   {
    "duration": 60,
    "start_time": "2023-06-01T10:51:01.265Z"
   },
   {
    "duration": 66,
    "start_time": "2023-06-01T10:51:01.327Z"
   },
   {
    "duration": 67,
    "start_time": "2023-06-01T10:51:01.394Z"
   },
   {
    "duration": 33,
    "start_time": "2023-06-01T10:51:01.463Z"
   },
   {
    "duration": 62,
    "start_time": "2023-06-01T10:51:01.592Z"
   },
   {
    "duration": 69,
    "start_time": "2023-06-01T10:51:01.823Z"
   },
   {
    "duration": 3,
    "start_time": "2023-06-01T10:51:02.364Z"
   },
   {
    "duration": 19,
    "start_time": "2023-06-01T10:51:02.624Z"
   },
   {
    "duration": 7,
    "start_time": "2023-06-01T10:51:02.837Z"
   },
   {
    "duration": 7,
    "start_time": "2023-06-01T10:51:03.054Z"
   },
   {
    "duration": 6,
    "start_time": "2023-06-01T10:51:03.277Z"
   },
   {
    "duration": 7,
    "start_time": "2023-06-01T10:51:03.499Z"
   },
   {
    "duration": 18,
    "start_time": "2023-06-01T10:51:03.624Z"
   },
   {
    "duration": 7,
    "start_time": "2023-06-01T10:51:03.870Z"
   },
   {
    "duration": 176,
    "start_time": "2023-06-01T10:51:26.299Z"
   },
   {
    "duration": 186,
    "start_time": "2023-06-01T10:52:13.009Z"
   },
   {
    "duration": 544,
    "start_time": "2023-06-01T10:52:38.271Z"
   },
   {
    "duration": 101,
    "start_time": "2023-06-01T10:55:52.075Z"
   },
   {
    "duration": 11,
    "start_time": "2023-06-01T10:55:56.087Z"
   },
   {
    "duration": 20,
    "start_time": "2023-06-01T10:56:00.969Z"
   },
   {
    "duration": 3,
    "start_time": "2023-06-01T10:56:01.617Z"
   },
   {
    "duration": 20,
    "start_time": "2023-06-01T10:56:02.045Z"
   },
   {
    "duration": 6,
    "start_time": "2023-06-01T10:56:02.503Z"
   },
   {
    "duration": 7,
    "start_time": "2023-06-01T10:56:02.724Z"
   },
   {
    "duration": 7,
    "start_time": "2023-06-01T10:56:02.923Z"
   },
   {
    "duration": 6,
    "start_time": "2023-06-01T10:56:03.379Z"
   },
   {
    "duration": 166,
    "start_time": "2023-06-01T10:56:03.490Z"
   },
   {
    "duration": 14,
    "start_time": "2023-06-01T10:56:03.658Z"
   },
   {
    "duration": 7,
    "start_time": "2023-06-01T10:56:03.825Z"
   },
   {
    "duration": 539,
    "start_time": "2023-06-01T10:56:03.944Z"
   },
   {
    "duration": 18,
    "start_time": "2023-06-01T10:56:04.484Z"
   },
   {
    "duration": 210,
    "start_time": "2023-06-01T10:56:04.649Z"
   },
   {
    "duration": 66,
    "start_time": "2023-06-01T10:56:04.861Z"
   },
   {
    "duration": 9,
    "start_time": "2023-06-01T10:56:04.929Z"
   },
   {
    "duration": 22,
    "start_time": "2023-06-01T10:56:08.846Z"
   },
   {
    "duration": 54,
    "start_time": "2023-06-01T10:56:09.302Z"
   },
   {
    "duration": 11,
    "start_time": "2023-06-01T10:56:10.359Z"
   },
   {
    "duration": 146,
    "start_time": "2023-06-01T10:56:11.386Z"
   },
   {
    "duration": 25,
    "start_time": "2023-06-01T10:56:18.304Z"
   },
   {
    "duration": 174,
    "start_time": "2023-06-01T10:56:32.649Z"
   },
   {
    "duration": 25,
    "start_time": "2023-06-01T10:56:42.802Z"
   },
   {
    "duration": 26,
    "start_time": "2023-06-01T10:57:10.253Z"
   },
   {
    "duration": 3,
    "start_time": "2023-06-01T10:57:23.312Z"
   },
   {
    "duration": 146,
    "start_time": "2023-06-01T10:57:23.607Z"
   },
   {
    "duration": 7,
    "start_time": "2023-06-01T10:57:23.755Z"
   },
   {
    "duration": 6,
    "start_time": "2023-06-01T10:57:24.183Z"
   },
   {
    "duration": 7,
    "start_time": "2023-06-01T10:57:24.305Z"
   },
   {
    "duration": 18,
    "start_time": "2023-06-01T10:57:24.404Z"
   },
   {
    "duration": 12,
    "start_time": "2023-06-01T10:57:24.508Z"
   },
   {
    "duration": 54,
    "start_time": "2023-06-01T10:57:24.731Z"
   },
   {
    "duration": 54,
    "start_time": "2023-06-01T10:57:24.959Z"
   },
   {
    "duration": 60,
    "start_time": "2023-06-01T10:57:25.153Z"
   },
   {
    "duration": 58,
    "start_time": "2023-06-01T10:57:25.234Z"
   },
   {
    "duration": 18,
    "start_time": "2023-06-01T10:57:25.441Z"
   },
   {
    "duration": 77,
    "start_time": "2023-06-01T10:57:25.652Z"
   },
   {
    "duration": 63,
    "start_time": "2023-06-01T10:57:25.976Z"
   },
   {
    "duration": 3,
    "start_time": "2023-06-01T10:57:26.624Z"
   },
   {
    "duration": 20,
    "start_time": "2023-06-01T10:57:26.972Z"
   },
   {
    "duration": 6,
    "start_time": "2023-06-01T10:57:27.174Z"
   },
   {
    "duration": 10,
    "start_time": "2023-06-01T10:57:27.399Z"
   },
   {
    "duration": 7,
    "start_time": "2023-06-01T10:57:27.614Z"
   },
   {
    "duration": 6,
    "start_time": "2023-06-01T10:57:27.822Z"
   },
   {
    "duration": 176,
    "start_time": "2023-06-01T10:57:27.944Z"
   },
   {
    "duration": 16,
    "start_time": "2023-06-01T10:57:28.122Z"
   },
   {
    "duration": 8,
    "start_time": "2023-06-01T10:57:28.273Z"
   },
   {
    "duration": 585,
    "start_time": "2023-06-01T10:57:28.369Z"
   },
   {
    "duration": 21,
    "start_time": "2023-06-01T10:57:28.955Z"
   },
   {
    "duration": 222,
    "start_time": "2023-06-01T10:57:28.977Z"
   },
   {
    "duration": 68,
    "start_time": "2023-06-01T10:57:29.201Z"
   },
   {
    "duration": 12,
    "start_time": "2023-06-01T10:57:29.271Z"
   },
   {
    "duration": 41,
    "start_time": "2023-06-01T10:57:30.488Z"
   },
   {
    "duration": 58,
    "start_time": "2023-06-01T10:57:31.174Z"
   },
   {
    "duration": 13,
    "start_time": "2023-06-01T10:57:31.783Z"
   },
   {
    "duration": 154,
    "start_time": "2023-06-01T10:57:32.563Z"
   },
   {
    "duration": 25,
    "start_time": "2023-06-01T10:57:33.202Z"
   },
   {
    "duration": 26,
    "start_time": "2023-06-01T10:57:34.700Z"
   },
   {
    "duration": 19,
    "start_time": "2023-06-01T10:57:35.575Z"
   },
   {
    "duration": 3,
    "start_time": "2023-06-01T10:57:35.831Z"
   },
   {
    "duration": 3,
    "start_time": "2023-06-01T10:57:36.396Z"
   },
   {
    "duration": 172,
    "start_time": "2023-06-01T10:57:37.209Z"
   },
   {
    "duration": 20,
    "start_time": "2023-06-01T10:57:42.247Z"
   },
   {
    "duration": 88,
    "start_time": "2023-06-01T10:57:42.535Z"
   },
   {
    "duration": 91,
    "start_time": "2023-06-01T10:57:42.705Z"
   },
   {
    "duration": 129,
    "start_time": "2023-06-01T10:57:42.865Z"
   },
   {
    "duration": 1344,
    "start_time": "2023-06-02T07:34:17.246Z"
   },
   {
    "duration": 577,
    "start_time": "2023-06-02T07:34:18.593Z"
   },
   {
    "duration": 11,
    "start_time": "2023-06-02T07:34:19.172Z"
   },
   {
    "duration": 9,
    "start_time": "2023-06-02T07:34:19.186Z"
   },
   {
    "duration": 7,
    "start_time": "2023-06-02T07:34:19.196Z"
   },
   {
    "duration": 30,
    "start_time": "2023-06-02T07:34:19.205Z"
   },
   {
    "duration": 26,
    "start_time": "2023-06-02T07:34:19.243Z"
   },
   {
    "duration": 71,
    "start_time": "2023-06-02T07:34:19.271Z"
   },
   {
    "duration": 66,
    "start_time": "2023-06-02T07:34:19.343Z"
   },
   {
    "duration": 89,
    "start_time": "2023-06-02T07:34:19.411Z"
   },
   {
    "duration": 71,
    "start_time": "2023-06-02T07:34:19.502Z"
   },
   {
    "duration": 16,
    "start_time": "2023-06-02T07:34:19.575Z"
   },
   {
    "duration": 101,
    "start_time": "2023-06-02T07:34:19.592Z"
   },
   {
    "duration": 90,
    "start_time": "2023-06-02T07:34:19.696Z"
   },
   {
    "duration": 3,
    "start_time": "2023-06-02T07:34:20.079Z"
   },
   {
    "duration": 40,
    "start_time": "2023-06-02T07:34:20.309Z"
   },
   {
    "duration": 10,
    "start_time": "2023-06-02T07:34:20.611Z"
   },
   {
    "duration": 10,
    "start_time": "2023-06-02T07:34:20.851Z"
   },
   {
    "duration": 9,
    "start_time": "2023-06-02T07:34:21.106Z"
   },
   {
    "duration": 7,
    "start_time": "2023-06-02T07:34:21.310Z"
   },
   {
    "duration": 251,
    "start_time": "2023-06-02T07:34:21.412Z"
   },
   {
    "duration": 19,
    "start_time": "2023-06-02T07:34:21.665Z"
   },
   {
    "duration": 19,
    "start_time": "2023-06-02T07:34:21.722Z"
   },
   {
    "duration": 659,
    "start_time": "2023-06-02T07:34:21.851Z"
   },
   {
    "duration": 44,
    "start_time": "2023-06-02T07:34:22.512Z"
   },
   {
    "duration": 341,
    "start_time": "2023-06-02T07:34:22.558Z"
   },
   {
    "duration": 95,
    "start_time": "2023-06-02T07:34:22.901Z"
   },
   {
    "duration": 13,
    "start_time": "2023-06-02T07:34:22.997Z"
   },
   {
    "duration": 61,
    "start_time": "2023-06-02T07:34:24.109Z"
   },
   {
    "duration": 104,
    "start_time": "2023-06-02T07:34:24.810Z"
   },
   {
    "duration": 25,
    "start_time": "2023-06-02T07:34:25.218Z"
   },
   {
    "duration": 252,
    "start_time": "2023-06-02T07:34:25.524Z"
   },
   {
    "duration": 291,
    "start_time": "2023-06-02T07:34:30.414Z"
   },
   {
    "duration": 295,
    "start_time": "2023-06-02T07:34:30.821Z"
   },
   {
    "duration": 52,
    "start_time": "2023-06-02T07:34:31.254Z"
   },
   {
    "duration": 38,
    "start_time": "2023-06-02T07:34:31.757Z"
   },
   {
    "duration": 83,
    "start_time": "2023-06-02T07:34:31.893Z"
   },
   {
    "duration": 251,
    "start_time": "2023-06-02T07:34:32.006Z"
   },
   {
    "duration": 285,
    "start_time": "2023-06-02T07:34:32.510Z"
   },
   {
    "duration": 35,
    "start_time": "2023-06-02T07:35:08.821Z"
   },
   {
    "duration": 111,
    "start_time": "2023-06-02T07:35:10.962Z"
   },
   {
    "duration": 101,
    "start_time": "2023-06-02T07:35:11.465Z"
   },
   {
    "duration": 158,
    "start_time": "2023-06-02T07:35:11.851Z"
   },
   {
    "duration": 1573,
    "start_time": "2023-06-02T16:10:51.438Z"
   },
   {
    "duration": 869,
    "start_time": "2023-06-02T16:10:53.013Z"
   },
   {
    "duration": 13,
    "start_time": "2023-06-02T16:10:53.888Z"
   },
   {
    "duration": 16,
    "start_time": "2023-06-02T16:10:53.903Z"
   },
   {
    "duration": 9,
    "start_time": "2023-06-02T16:10:53.920Z"
   },
   {
    "duration": 21,
    "start_time": "2023-06-02T16:10:53.931Z"
   },
   {
    "duration": 21,
    "start_time": "2023-06-02T16:10:53.954Z"
   },
   {
    "duration": 85,
    "start_time": "2023-06-02T16:10:53.976Z"
   },
   {
    "duration": 69,
    "start_time": "2023-06-02T16:10:54.064Z"
   },
   {
    "duration": 92,
    "start_time": "2023-06-02T16:10:54.136Z"
   },
   {
    "duration": 78,
    "start_time": "2023-06-02T16:10:54.230Z"
   },
   {
    "duration": 23,
    "start_time": "2023-06-02T16:10:54.311Z"
   },
   {
    "duration": 84,
    "start_time": "2023-06-02T16:10:54.588Z"
   },
   {
    "duration": 81,
    "start_time": "2023-06-02T16:10:54.935Z"
   },
   {
    "duration": 3,
    "start_time": "2023-06-02T16:10:57.542Z"
   },
   {
    "duration": 24,
    "start_time": "2023-06-02T16:10:57.945Z"
   },
   {
    "duration": 10,
    "start_time": "2023-06-02T16:10:58.285Z"
   },
   {
    "duration": 9,
    "start_time": "2023-06-02T16:10:58.624Z"
   },
   {
    "duration": 13,
    "start_time": "2023-06-02T16:10:58.945Z"
   },
   {
    "duration": 6,
    "start_time": "2023-06-02T16:10:59.970Z"
   },
   {
    "duration": 205,
    "start_time": "2023-06-02T16:11:00.240Z"
   },
   {
    "duration": 22,
    "start_time": "2023-06-02T16:11:00.482Z"
   },
   {
    "duration": 8,
    "start_time": "2023-06-02T16:11:02.002Z"
   },
   {
    "duration": 705,
    "start_time": "2023-06-02T16:11:02.776Z"
   },
   {
    "duration": 30,
    "start_time": "2023-06-02T16:11:03.719Z"
   },
   {
    "duration": 272,
    "start_time": "2023-06-02T16:11:04.303Z"
   },
   {
    "duration": 70,
    "start_time": "2023-06-02T16:11:05.170Z"
   },
   {
    "duration": 15,
    "start_time": "2023-06-02T16:11:05.404Z"
   },
   {
    "duration": 39,
    "start_time": "2023-06-02T16:11:07.638Z"
   },
   {
    "duration": 62,
    "start_time": "2023-06-02T16:11:08.139Z"
   },
   {
    "duration": 20,
    "start_time": "2023-06-02T16:11:08.639Z"
   },
   {
    "duration": 126,
    "start_time": "2023-06-02T16:18:17.092Z"
   },
   {
    "duration": 35,
    "start_time": "2023-06-02T16:18:28.847Z"
   },
   {
    "duration": 122,
    "start_time": "2023-06-02T16:18:29.604Z"
   },
   {
    "duration": 75,
    "start_time": "2023-06-02T16:18:50.492Z"
   },
   {
    "duration": 18,
    "start_time": "2023-06-02T16:18:52.189Z"
   },
   {
    "duration": 98,
    "start_time": "2023-06-02T16:18:53.699Z"
   },
   {
    "duration": 23,
    "start_time": "2023-06-02T16:21:04.577Z"
   },
   {
    "duration": 15,
    "start_time": "2023-06-02T16:21:08.811Z"
   },
   {
    "duration": 18,
    "start_time": "2023-06-02T16:21:09.611Z"
   },
   {
    "duration": 92,
    "start_time": "2023-06-02T16:21:13.594Z"
   },
   {
    "duration": 16,
    "start_time": "2023-06-02T16:21:14.685Z"
   },
   {
    "duration": 17,
    "start_time": "2023-06-02T16:21:15.276Z"
   },
   {
    "duration": 63,
    "start_time": "2023-06-02T16:21:26.240Z"
   },
   {
    "duration": 25,
    "start_time": "2023-06-02T16:21:27.740Z"
   },
   {
    "duration": 96,
    "start_time": "2023-06-02T16:21:54.212Z"
   },
   {
    "duration": 18,
    "start_time": "2023-06-02T16:22:47.851Z"
   },
   {
    "duration": 2420,
    "start_time": "2023-06-02T16:23:01.820Z"
   },
   {
    "duration": 17,
    "start_time": "2023-06-02T16:23:08.250Z"
   },
   {
    "duration": 69,
    "start_time": "2023-06-02T16:23:11.742Z"
   },
   {
    "duration": 14,
    "start_time": "2023-06-02T16:23:13.491Z"
   },
   {
    "duration": 24,
    "start_time": "2023-06-02T16:26:24.322Z"
   },
   {
    "duration": 104,
    "start_time": "2023-06-02T16:26:30.905Z"
   },
   {
    "duration": 44,
    "start_time": "2023-06-02T16:27:53.443Z"
   },
   {
    "duration": 112,
    "start_time": "2023-06-02T16:29:06.056Z"
   },
   {
    "duration": 51,
    "start_time": "2023-06-02T16:29:22.841Z"
   },
   {
    "duration": 34,
    "start_time": "2023-06-02T16:29:58.071Z"
   },
   {
    "duration": 39,
    "start_time": "2023-06-02T16:30:41.757Z"
   },
   {
    "duration": 1870,
    "start_time": "2023-06-02T16:30:53.541Z"
   },
   {
    "duration": 0,
    "start_time": "2023-06-02T16:30:55.413Z"
   },
   {
    "duration": 83,
    "start_time": "2023-06-02T16:31:03.648Z"
   },
   {
    "duration": 14,
    "start_time": "2023-06-02T16:31:06.914Z"
   },
   {
    "duration": 34,
    "start_time": "2023-06-02T16:31:10.093Z"
   },
   {
    "duration": 36,
    "start_time": "2023-06-02T16:31:23.488Z"
   },
   {
    "duration": 98,
    "start_time": "2023-06-02T16:31:36.014Z"
   },
   {
    "duration": 101,
    "start_time": "2023-06-02T16:31:40.458Z"
   },
   {
    "duration": 96,
    "start_time": "2023-06-02T16:31:45.297Z"
   },
   {
    "duration": 15,
    "start_time": "2023-06-02T16:31:57.618Z"
   },
   {
    "duration": 37,
    "start_time": "2023-06-02T16:32:13.406Z"
   },
   {
    "duration": 15,
    "start_time": "2023-06-02T16:32:19.769Z"
   },
   {
    "duration": 22,
    "start_time": "2023-06-02T16:33:19.849Z"
   },
   {
    "duration": 68,
    "start_time": "2023-06-02T16:33:28.242Z"
   },
   {
    "duration": 65,
    "start_time": "2023-06-02T16:33:38.128Z"
   },
   {
    "duration": 2413,
    "start_time": "2023-06-02T16:35:02.810Z"
   },
   {
    "duration": 13,
    "start_time": "2023-06-02T16:35:49.069Z"
   },
   {
    "duration": 2345,
    "start_time": "2023-06-02T16:35:59.297Z"
   },
   {
    "duration": 1969,
    "start_time": "2023-06-02T16:36:04.788Z"
   },
   {
    "duration": 0,
    "start_time": "2023-06-02T16:36:06.760Z"
   },
   {
    "duration": 95,
    "start_time": "2023-06-02T16:36:13.589Z"
   },
   {
    "duration": 2203,
    "start_time": "2023-06-02T16:36:14.981Z"
   },
   {
    "duration": 2087,
    "start_time": "2023-06-02T16:36:52.716Z"
   },
   {
    "duration": 68,
    "start_time": "2023-06-02T16:36:59.671Z"
   },
   {
    "duration": 20,
    "start_time": "2023-06-02T16:37:01.646Z"
   },
   {
    "duration": 71,
    "start_time": "2023-06-02T16:37:07.118Z"
   },
   {
    "duration": 16,
    "start_time": "2023-06-02T16:38:46.441Z"
   },
   {
    "duration": 67,
    "start_time": "2023-06-02T16:38:51.065Z"
   },
   {
    "duration": 18,
    "start_time": "2023-06-02T16:38:52.363Z"
   },
   {
    "duration": 14,
    "start_time": "2023-06-02T16:38:56.948Z"
   },
   {
    "duration": 17,
    "start_time": "2023-06-02T16:39:44.742Z"
   },
   {
    "duration": 77,
    "start_time": "2023-06-02T16:39:48.884Z"
   },
   {
    "duration": 18,
    "start_time": "2023-06-02T16:39:50.179Z"
   },
   {
    "duration": 115,
    "start_time": "2023-06-02T16:41:34.820Z"
   },
   {
    "duration": 90,
    "start_time": "2023-06-02T16:43:11.655Z"
   },
   {
    "duration": 96,
    "start_time": "2023-06-02T16:44:03.603Z"
   },
   {
    "duration": 91,
    "start_time": "2023-06-02T16:44:07.356Z"
   },
   {
    "duration": 129,
    "start_time": "2023-06-02T16:44:08.796Z"
   },
   {
    "duration": 65,
    "start_time": "2023-06-02T16:45:04.154Z"
   },
   {
    "duration": 62,
    "start_time": "2023-06-02T16:45:16.181Z"
   },
   {
    "duration": 72,
    "start_time": "2023-06-02T16:46:19.379Z"
   },
   {
    "duration": 94,
    "start_time": "2023-06-02T16:46:19.904Z"
   },
   {
    "duration": 200,
    "start_time": "2023-06-02T16:46:20.217Z"
   },
   {
    "duration": 449,
    "start_time": "2023-06-02T16:46:21.322Z"
   },
   {
    "duration": 49,
    "start_time": "2023-06-02T16:46:23.677Z"
   },
   {
    "duration": 27,
    "start_time": "2023-06-02T16:46:26.511Z"
   },
   {
    "duration": 4,
    "start_time": "2023-06-02T16:46:26.821Z"
   },
   {
    "duration": 6,
    "start_time": "2023-06-02T16:46:27.045Z"
   },
   {
    "duration": 21,
    "start_time": "2023-06-02T16:48:44.894Z"
   },
   {
    "duration": 113,
    "start_time": "2023-06-02T16:50:25.566Z"
   },
   {
    "duration": 24,
    "start_time": "2023-06-02T16:50:55.979Z"
   },
   {
    "duration": 103,
    "start_time": "2023-06-02T16:51:00.383Z"
   },
   {
    "duration": 132,
    "start_time": "2023-06-02T16:51:08.683Z"
   },
   {
    "duration": 155,
    "start_time": "2023-06-02T16:51:11.361Z"
   },
   {
    "duration": 24,
    "start_time": "2023-06-02T16:51:55.218Z"
   },
   {
    "duration": 116,
    "start_time": "2023-06-02T16:51:56.055Z"
   },
   {
    "duration": 102,
    "start_time": "2023-06-02T16:51:56.693Z"
   },
   {
    "duration": 139,
    "start_time": "2023-06-02T16:51:57.796Z"
   },
   {
    "duration": 97,
    "start_time": "2023-06-02T16:52:50.448Z"
   },
   {
    "duration": 33,
    "start_time": "2023-06-02T16:52:52.893Z"
   },
   {
    "duration": 35,
    "start_time": "2023-06-02T16:52:55.243Z"
   },
   {
    "duration": 27,
    "start_time": "2023-06-02T16:52:55.446Z"
   },
   {
    "duration": 25,
    "start_time": "2023-06-02T16:53:05.674Z"
   },
   {
    "duration": 99,
    "start_time": "2023-06-02T16:53:06.975Z"
   },
   {
    "duration": 94,
    "start_time": "2023-06-02T16:53:07.650Z"
   },
   {
    "duration": 80,
    "start_time": "2023-06-02T16:53:27.945Z"
   },
   {
    "duration": 74,
    "start_time": "2023-06-02T16:53:42.486Z"
   },
   {
    "duration": 1720,
    "start_time": "2023-06-02T16:53:46.583Z"
   },
   {
    "duration": 21,
    "start_time": "2023-06-02T16:54:57.455Z"
   },
   {
    "duration": 5,
    "start_time": "2023-06-02T16:56:25.516Z"
   },
   {
    "duration": 7,
    "start_time": "2023-06-02T16:56:33.277Z"
   },
   {
    "duration": 24,
    "start_time": "2023-06-02T16:56:36.098Z"
   },
   {
    "duration": 23,
    "start_time": "2023-06-02T16:56:36.917Z"
   },
   {
    "duration": 21,
    "start_time": "2023-06-02T16:56:45.781Z"
   },
   {
    "duration": 91,
    "start_time": "2023-06-02T16:56:53.672Z"
   },
   {
    "duration": 91,
    "start_time": "2023-06-02T16:56:54.697Z"
   },
   {
    "duration": 133,
    "start_time": "2023-06-02T16:56:54.914Z"
   },
   {
    "duration": 14,
    "start_time": "2023-06-02T17:00:28.914Z"
   },
   {
    "duration": 141,
    "start_time": "2023-06-02T17:00:36.182Z"
   },
   {
    "duration": 11,
    "start_time": "2023-06-02T17:00:37.651Z"
   },
   {
    "duration": 11,
    "start_time": "2023-06-02T17:00:56.256Z"
   },
   {
    "duration": 12,
    "start_time": "2023-06-02T17:01:00.929Z"
   },
   {
    "duration": 15,
    "start_time": "2023-06-02T17:01:25.690Z"
   },
   {
    "duration": 12,
    "start_time": "2023-06-02T17:02:09.116Z"
   },
   {
    "duration": 635,
    "start_time": "2023-06-02T17:03:13.911Z"
   },
   {
    "duration": 250,
    "start_time": "2023-06-02T17:04:09.155Z"
   },
   {
    "duration": 314,
    "start_time": "2023-06-02T17:10:21.504Z"
   },
   {
    "duration": 478,
    "start_time": "2023-06-02T17:41:56.194Z"
   },
   {
    "duration": 474,
    "start_time": "2023-06-02T17:42:19.556Z"
   },
   {
    "duration": 5,
    "start_time": "2023-06-02T17:42:39.675Z"
   },
   {
    "duration": 163,
    "start_time": "2023-06-02T17:42:40.087Z"
   },
   {
    "duration": 9,
    "start_time": "2023-06-02T17:42:40.256Z"
   },
   {
    "duration": 7,
    "start_time": "2023-06-02T17:42:40.696Z"
   },
   {
    "duration": 13,
    "start_time": "2023-06-02T17:42:41.210Z"
   },
   {
    "duration": 29,
    "start_time": "2023-06-02T17:42:41.246Z"
   },
   {
    "duration": 24,
    "start_time": "2023-06-02T17:42:41.278Z"
   },
   {
    "duration": 102,
    "start_time": "2023-06-02T17:42:41.309Z"
   },
   {
    "duration": 79,
    "start_time": "2023-06-02T17:42:41.413Z"
   },
   {
    "duration": 88,
    "start_time": "2023-06-02T17:42:41.495Z"
   },
   {
    "duration": 59,
    "start_time": "2023-06-02T17:42:41.585Z"
   },
   {
    "duration": 18,
    "start_time": "2023-06-02T17:42:41.657Z"
   },
   {
    "duration": 109,
    "start_time": "2023-06-02T17:42:41.678Z"
   },
   {
    "duration": 82,
    "start_time": "2023-06-02T17:42:41.789Z"
   },
   {
    "duration": 4,
    "start_time": "2023-06-02T17:42:41.873Z"
   },
   {
    "duration": 30,
    "start_time": "2023-06-02T17:42:41.879Z"
   },
   {
    "duration": 11,
    "start_time": "2023-06-02T17:42:41.942Z"
   },
   {
    "duration": 15,
    "start_time": "2023-06-02T17:42:41.995Z"
   },
   {
    "duration": 12,
    "start_time": "2023-06-02T17:42:42.068Z"
   },
   {
    "duration": 10,
    "start_time": "2023-06-02T17:42:42.130Z"
   },
   {
    "duration": 210,
    "start_time": "2023-06-02T17:42:42.162Z"
   },
   {
    "duration": 27,
    "start_time": "2023-06-02T17:42:42.375Z"
   },
   {
    "duration": 9,
    "start_time": "2023-06-02T17:42:42.404Z"
   },
   {
    "duration": 852,
    "start_time": "2023-06-02T17:42:42.416Z"
   },
   {
    "duration": 24,
    "start_time": "2023-06-02T17:42:43.270Z"
   },
   {
    "duration": 290,
    "start_time": "2023-06-02T17:42:43.296Z"
   },
   {
    "duration": 94,
    "start_time": "2023-06-02T17:42:43.588Z"
   },
   {
    "duration": 18,
    "start_time": "2023-06-02T17:42:43.684Z"
   },
   {
    "duration": 29,
    "start_time": "2023-06-02T17:42:43.704Z"
   },
   {
    "duration": 102,
    "start_time": "2023-06-02T17:42:43.758Z"
   },
   {
    "duration": 64,
    "start_time": "2023-06-02T17:42:43.863Z"
   },
   {
    "duration": 86,
    "start_time": "2023-06-02T17:42:43.929Z"
   },
   {
    "duration": 191,
    "start_time": "2023-06-02T17:42:44.017Z"
   },
   {
    "duration": 46,
    "start_time": "2023-06-02T17:42:44.211Z"
   },
   {
    "duration": 37,
    "start_time": "2023-06-02T17:42:44.260Z"
   },
   {
    "duration": 22,
    "start_time": "2023-06-02T17:42:44.300Z"
   },
   {
    "duration": 3,
    "start_time": "2023-06-02T17:42:44.324Z"
   },
   {
    "duration": 32,
    "start_time": "2023-06-02T17:42:44.329Z"
   },
   {
    "duration": 25,
    "start_time": "2023-06-02T17:42:44.364Z"
   },
   {
    "duration": 143,
    "start_time": "2023-06-02T17:42:44.391Z"
   },
   {
    "duration": 123,
    "start_time": "2023-06-02T17:42:44.536Z"
   },
   {
    "duration": 153,
    "start_time": "2023-06-02T17:42:44.661Z"
   },
   {
    "duration": 329,
    "start_time": "2023-06-02T17:42:44.819Z"
   },
   {
    "duration": 0,
    "start_time": "2023-06-02T17:42:45.150Z"
   },
   {
    "duration": 634,
    "start_time": "2023-06-02T17:42:48.375Z"
   },
   {
    "duration": 116,
    "start_time": "2023-06-02T17:50:37.377Z"
   },
   {
    "duration": 144,
    "start_time": "2023-06-02T17:54:41.747Z"
   },
   {
    "duration": 196,
    "start_time": "2023-06-02T17:56:51.775Z"
   },
   {
    "duration": 101,
    "start_time": "2023-06-02T17:57:21.274Z"
   },
   {
    "duration": 8937,
    "start_time": "2023-06-02T18:01:00.775Z"
   },
   {
    "duration": 124,
    "start_time": "2023-06-02T18:01:46.380Z"
   },
   {
    "duration": 147,
    "start_time": "2023-06-02T18:01:52.261Z"
   },
   {
    "duration": 110,
    "start_time": "2023-06-02T18:03:25.537Z"
   },
   {
    "duration": 111,
    "start_time": "2023-06-02T18:03:30.246Z"
   },
   {
    "duration": 116,
    "start_time": "2023-06-02T18:03:35.242Z"
   },
   {
    "duration": 129,
    "start_time": "2023-06-02T18:06:41.197Z"
   },
   {
    "duration": 113,
    "start_time": "2023-06-02T18:06:49.724Z"
   },
   {
    "duration": 111,
    "start_time": "2023-06-02T18:06:55.043Z"
   },
   {
    "duration": 111,
    "start_time": "2023-06-02T18:07:00.696Z"
   },
   {
    "duration": 118,
    "start_time": "2023-06-02T18:08:25.485Z"
   },
   {
    "duration": 139,
    "start_time": "2023-06-02T18:08:44.508Z"
   },
   {
    "duration": 129,
    "start_time": "2023-06-02T18:08:52.007Z"
   },
   {
    "duration": 133,
    "start_time": "2023-06-02T18:08:55.313Z"
   },
   {
    "duration": 157,
    "start_time": "2023-06-02T18:09:05.741Z"
   },
   {
    "duration": 148,
    "start_time": "2023-06-02T18:09:08.039Z"
   },
   {
    "duration": 52,
    "start_time": "2023-06-03T10:57:57.401Z"
   }
  ],
  "kernelspec": {
   "display_name": "Python 3 (ipykernel)",
   "language": "python",
   "name": "python3"
  },
  "language_info": {
   "codemirror_mode": {
    "name": "ipython",
    "version": 3
   },
   "file_extension": ".py",
   "mimetype": "text/x-python",
   "name": "python",
   "nbconvert_exporter": "python",
   "pygments_lexer": "ipython3",
   "version": "3.9.5"
  },
  "toc": {
   "base_numbering": 1,
   "nav_menu": {},
   "number_sections": false,
   "sideBar": true,
   "skip_h1_title": false,
   "title_cell": "Table of Contents",
   "title_sidebar": "Contents",
   "toc_cell": false,
   "toc_position": {
    "height": "calc(100% - 180px)",
    "left": "10px",
    "top": "150px",
    "width": "211px"
   },
   "toc_section_display": true,
   "toc_window_display": true
  }
 },
 "nbformat": 4,
 "nbformat_minor": 2
}
