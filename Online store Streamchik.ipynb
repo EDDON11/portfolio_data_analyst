{
 "cells": [
  {
   "cell_type": "markdown",
   "metadata": {},
   "source": [
    "Привет! Меня зовут Исмаилов Исмаил, я буду проверять твой проект :) Можешь обращаться ко мне на «ты». Если тебе комфортно, то и я буду к тебе так обращаться, если нет, то обязательно скажи об этом.\n",
    "\n",
    "Пожалуйста, не удаляй мои комментарии, которые я буду оставлять в работе. Это особенно поможет, если твои проекты будут отправлены на повторную проверку. При повторных проверках у комментариев будут приписки: \"Вторая итерация\", \"Третья итерация\" и т.д. \n",
    "\n",
    "Ты тоже можешь реагировать на мои комментарии, но в таком случае постарайся, чтобы твои комментарии отличались от моих: например, выделяй их своим любимым цветом — так у нас не возникнет путаницы :)\n",
    "\n",
    "Кстати, про цвета! Мои комментарии будут в следующей цветовой гамме: зелеными, желтыми и красными. Например:\n",
    "\n",
    "<div class=\"alert-success\"> \n",
    "<b>Комментарий ревьюера 👍 </b>\n",
    "    \n",
    "В случае, если решение на отдельном шаге является полностью правильным. </div>\n",
    "\n",
    "<div class=\"alert-warning\"> \n",
    "<b>Комментарий ревьюера 💡</b> \n",
    "    \n",
    "В случае, если решение может стать еще лучше с некоторыми корректировками </div>\n",
    " \n",
    "<div class=\"alert-danger\"> \n",
    "<b>Комментарий ревьюера ❌</b> \n",
    "    \n",
    "В случае, если решение какого-то шага требует значительных изменений. Проект не может быть принят с первого раза, если ревью содержит комментарии, помеченные этим цветом </div>"
   ]
  },
  {
   "cell_type": "markdown",
   "metadata": {},
   "source": [
    "<h2>Описание проекта</h2>\n",
    "Мы работаем с данными в интернет-магазине «Стримчик», который продаёт по всему миру компьютерные игры. \n",
    "Из открытых источников доступны исторические данные о продажах игр, оценки пользователей и экспертов, \n",
    "жанры и платформы (например, Xbox или PlayStation). Вам нужно выявить определяющие успешность игры закономерности. \n",
    "Это позволит сделать ставку на потенциально популярный продукт и спланировать рекламные кампании.\n",
    "Перед вами данные до 2016 года. Представим, что сейчас декабрь 2016 г., и вы планируете кампанию на 2017-й. \n",
    "Нужно отработать принцип работы с данными. Неважно, прогнозируете ли вы продажи на 2017 год \n",
    "по данным 2016-го или же 2027-й — по данным 2026 года.\n",
    "В наборе данных попадается аббревиатура ESRB (Entertainment Software Rating Board) — это ассоциация, \n",
    "определяющая возрастной рейтинг компьютерных игр. ESRB оценивает игровой контент и присваивает ему подходящую \n",
    "возрастную категорию, например, «Для взрослых», «Для детей младшего возраста» или «Для подростков»."
   ]
  },
  {
   "cell_type": "code",
   "execution_count": 357,
   "metadata": {},
   "outputs": [],
   "source": [
    "import pandas as pd \n",
    "import numpy as np\n",
    "import seaborn as sns\n",
    "import matplotlib.pyplot as plt\n",
    "from scipy import stats as st"
   ]
  },
  {
   "cell_type": "markdown",
   "metadata": {},
   "source": [
    "<div class=\"alert-danger\"> \n",
    "<b>Комментарий ревьюера ❌</b> \n",
    "    \n",
    "Нет необходимого вступления в проект: нужно рассказать, что за данные у тебя имеются, что вообще стоит делать, какие цели и задачи, что желаешь получить. Представь, что показываешь проект бизнесу / заказчику: заказчик не поймет даже, где оказался, потому что в проекте нет и названия, поэтому нужно стороннего читателя вводить в курс дела </div>"
   ]
  },
  {
   "cell_type": "markdown",
   "metadata": {},
   "source": [
    "<div class=\"alert-success\"> \n",
    "<b>Комментарий ревьюера 👍 Вторая итерация </b>\n",
    "\n",
    "Принято!"
   ]
  },
  {
   "cell_type": "code",
   "execution_count": 59,
   "metadata": {},
   "outputs": [],
   "source": [
    "data = pd.read_csv('/datasets/games.csv')"
   ]
  },
  {
   "cell_type": "code",
   "execution_count": 61,
   "metadata": {},
   "outputs": [
    {
     "data": {
      "text/html": [
       "<div>\n",
       "<style scoped>\n",
       "    .dataframe tbody tr th:only-of-type {\n",
       "        vertical-align: middle;\n",
       "    }\n",
       "\n",
       "    .dataframe tbody tr th {\n",
       "        vertical-align: top;\n",
       "    }\n",
       "\n",
       "    .dataframe thead th {\n",
       "        text-align: right;\n",
       "    }\n",
       "</style>\n",
       "<table border=\"1\" class=\"dataframe\">\n",
       "  <thead>\n",
       "    <tr style=\"text-align: right;\">\n",
       "      <th></th>\n",
       "      <th>Name</th>\n",
       "      <th>Platform</th>\n",
       "      <th>Year_of_Release</th>\n",
       "      <th>Genre</th>\n",
       "      <th>NA_sales</th>\n",
       "      <th>EU_sales</th>\n",
       "      <th>JP_sales</th>\n",
       "      <th>Other_sales</th>\n",
       "      <th>Critic_Score</th>\n",
       "      <th>User_Score</th>\n",
       "      <th>Rating</th>\n",
       "    </tr>\n",
       "  </thead>\n",
       "  <tbody>\n",
       "    <tr>\n",
       "      <th>0</th>\n",
       "      <td>Wii Sports</td>\n",
       "      <td>Wii</td>\n",
       "      <td>2006.0</td>\n",
       "      <td>Sports</td>\n",
       "      <td>41.36</td>\n",
       "      <td>28.96</td>\n",
       "      <td>3.77</td>\n",
       "      <td>8.45</td>\n",
       "      <td>76.0</td>\n",
       "      <td>8</td>\n",
       "      <td>E</td>\n",
       "    </tr>\n",
       "    <tr>\n",
       "      <th>1</th>\n",
       "      <td>Super Mario Bros.</td>\n",
       "      <td>NES</td>\n",
       "      <td>1985.0</td>\n",
       "      <td>Platform</td>\n",
       "      <td>29.08</td>\n",
       "      <td>3.58</td>\n",
       "      <td>6.81</td>\n",
       "      <td>0.77</td>\n",
       "      <td>NaN</td>\n",
       "      <td>NaN</td>\n",
       "      <td>NaN</td>\n",
       "    </tr>\n",
       "    <tr>\n",
       "      <th>2</th>\n",
       "      <td>Mario Kart Wii</td>\n",
       "      <td>Wii</td>\n",
       "      <td>2008.0</td>\n",
       "      <td>Racing</td>\n",
       "      <td>15.68</td>\n",
       "      <td>12.76</td>\n",
       "      <td>3.79</td>\n",
       "      <td>3.29</td>\n",
       "      <td>82.0</td>\n",
       "      <td>8.3</td>\n",
       "      <td>E</td>\n",
       "    </tr>\n",
       "    <tr>\n",
       "      <th>3</th>\n",
       "      <td>Wii Sports Resort</td>\n",
       "      <td>Wii</td>\n",
       "      <td>2009.0</td>\n",
       "      <td>Sports</td>\n",
       "      <td>15.61</td>\n",
       "      <td>10.93</td>\n",
       "      <td>3.28</td>\n",
       "      <td>2.95</td>\n",
       "      <td>80.0</td>\n",
       "      <td>8</td>\n",
       "      <td>E</td>\n",
       "    </tr>\n",
       "    <tr>\n",
       "      <th>4</th>\n",
       "      <td>Pokemon Red/Pokemon Blue</td>\n",
       "      <td>GB</td>\n",
       "      <td>1996.0</td>\n",
       "      <td>Role-Playing</td>\n",
       "      <td>11.27</td>\n",
       "      <td>8.89</td>\n",
       "      <td>10.22</td>\n",
       "      <td>1.00</td>\n",
       "      <td>NaN</td>\n",
       "      <td>NaN</td>\n",
       "      <td>NaN</td>\n",
       "    </tr>\n",
       "    <tr>\n",
       "      <th>5</th>\n",
       "      <td>Tetris</td>\n",
       "      <td>GB</td>\n",
       "      <td>1989.0</td>\n",
       "      <td>Puzzle</td>\n",
       "      <td>23.20</td>\n",
       "      <td>2.26</td>\n",
       "      <td>4.22</td>\n",
       "      <td>0.58</td>\n",
       "      <td>NaN</td>\n",
       "      <td>NaN</td>\n",
       "      <td>NaN</td>\n",
       "    </tr>\n",
       "    <tr>\n",
       "      <th>6</th>\n",
       "      <td>New Super Mario Bros.</td>\n",
       "      <td>DS</td>\n",
       "      <td>2006.0</td>\n",
       "      <td>Platform</td>\n",
       "      <td>11.28</td>\n",
       "      <td>9.14</td>\n",
       "      <td>6.50</td>\n",
       "      <td>2.88</td>\n",
       "      <td>89.0</td>\n",
       "      <td>8.5</td>\n",
       "      <td>E</td>\n",
       "    </tr>\n",
       "    <tr>\n",
       "      <th>7</th>\n",
       "      <td>Wii Play</td>\n",
       "      <td>Wii</td>\n",
       "      <td>2006.0</td>\n",
       "      <td>Misc</td>\n",
       "      <td>13.96</td>\n",
       "      <td>9.18</td>\n",
       "      <td>2.93</td>\n",
       "      <td>2.84</td>\n",
       "      <td>58.0</td>\n",
       "      <td>6.6</td>\n",
       "      <td>E</td>\n",
       "    </tr>\n",
       "    <tr>\n",
       "      <th>8</th>\n",
       "      <td>New Super Mario Bros. Wii</td>\n",
       "      <td>Wii</td>\n",
       "      <td>2009.0</td>\n",
       "      <td>Platform</td>\n",
       "      <td>14.44</td>\n",
       "      <td>6.94</td>\n",
       "      <td>4.70</td>\n",
       "      <td>2.24</td>\n",
       "      <td>87.0</td>\n",
       "      <td>8.4</td>\n",
       "      <td>E</td>\n",
       "    </tr>\n",
       "    <tr>\n",
       "      <th>9</th>\n",
       "      <td>Duck Hunt</td>\n",
       "      <td>NES</td>\n",
       "      <td>1984.0</td>\n",
       "      <td>Shooter</td>\n",
       "      <td>26.93</td>\n",
       "      <td>0.63</td>\n",
       "      <td>0.28</td>\n",
       "      <td>0.47</td>\n",
       "      <td>NaN</td>\n",
       "      <td>NaN</td>\n",
       "      <td>NaN</td>\n",
       "    </tr>\n",
       "  </tbody>\n",
       "</table>\n",
       "</div>"
      ],
      "text/plain": [
       "                        Name Platform  Year_of_Release         Genre  \\\n",
       "0                 Wii Sports      Wii           2006.0        Sports   \n",
       "1          Super Mario Bros.      NES           1985.0      Platform   \n",
       "2             Mario Kart Wii      Wii           2008.0        Racing   \n",
       "3          Wii Sports Resort      Wii           2009.0        Sports   \n",
       "4   Pokemon Red/Pokemon Blue       GB           1996.0  Role-Playing   \n",
       "5                     Tetris       GB           1989.0        Puzzle   \n",
       "6      New Super Mario Bros.       DS           2006.0      Platform   \n",
       "7                   Wii Play      Wii           2006.0          Misc   \n",
       "8  New Super Mario Bros. Wii      Wii           2009.0      Platform   \n",
       "9                  Duck Hunt      NES           1984.0       Shooter   \n",
       "\n",
       "   NA_sales  EU_sales  JP_sales  Other_sales  Critic_Score User_Score Rating  \n",
       "0     41.36     28.96      3.77         8.45          76.0          8      E  \n",
       "1     29.08      3.58      6.81         0.77           NaN        NaN    NaN  \n",
       "2     15.68     12.76      3.79         3.29          82.0        8.3      E  \n",
       "3     15.61     10.93      3.28         2.95          80.0          8      E  \n",
       "4     11.27      8.89     10.22         1.00           NaN        NaN    NaN  \n",
       "5     23.20      2.26      4.22         0.58           NaN        NaN    NaN  \n",
       "6     11.28      9.14      6.50         2.88          89.0        8.5      E  \n",
       "7     13.96      9.18      2.93         2.84          58.0        6.6      E  \n",
       "8     14.44      6.94      4.70         2.24          87.0        8.4      E  \n",
       "9     26.93      0.63      0.28         0.47           NaN        NaN    NaN  "
      ]
     },
     "execution_count": 61,
     "metadata": {},
     "output_type": "execute_result"
    }
   ],
   "source": [
    "data.head(10)"
   ]
  },
  {
   "cell_type": "code",
   "execution_count": 63,
   "metadata": {},
   "outputs": [
    {
     "name": "stdout",
     "output_type": "stream",
     "text": [
      "<class 'pandas.core.frame.DataFrame'>\n",
      "RangeIndex: 16715 entries, 0 to 16714\n",
      "Data columns (total 11 columns):\n",
      " #   Column           Non-Null Count  Dtype  \n",
      "---  ------           --------------  -----  \n",
      " 0   Name             16713 non-null  object \n",
      " 1   Platform         16715 non-null  object \n",
      " 2   Year_of_Release  16446 non-null  float64\n",
      " 3   Genre            16713 non-null  object \n",
      " 4   NA_sales         16715 non-null  float64\n",
      " 5   EU_sales         16715 non-null  float64\n",
      " 6   JP_sales         16715 non-null  float64\n",
      " 7   Other_sales      16715 non-null  float64\n",
      " 8   Critic_Score     8137 non-null   float64\n",
      " 9   User_Score       10014 non-null  object \n",
      " 10  Rating           9949 non-null   object \n",
      "dtypes: float64(6), object(5)\n",
      "memory usage: 1.4+ MB\n"
     ]
    }
   ],
   "source": [
    "data.info()"
   ]
  },
  {
   "cell_type": "code",
   "execution_count": 65,
   "metadata": {},
   "outputs": [],
   "source": [
    "data.columns = map(str.lower, data.columns)"
   ]
  },
  {
   "cell_type": "code",
   "execution_count": 75,
   "metadata": {},
   "outputs": [
    {
     "data": {
      "image/png": "[encoded data removed]",
      "text/plain": [
       "<Figure size 1080x1440 with 6 Axes>"
      ]
     },
     "metadata": {
      "needs_background": "light"
     },
     "output_type": "display_data"
    }
   ],
   "source": [
    "data.hist(figsize=(15, 20));"
   ]
  },
  {
   "cell_type": "code",
   "execution_count": 77,
   "metadata": {
    "scrolled": true
   },
   "outputs": [
    {
     "data": {
      "text/html": [
       "<div>\n",
       "<style scoped>\n",
       "    .dataframe tbody tr th:only-of-type {\n",
       "        vertical-align: middle;\n",
       "    }\n",
       "\n",
       "    .dataframe tbody tr th {\n",
       "        vertical-align: top;\n",
       "    }\n",
       "\n",
       "    .dataframe thead th {\n",
       "        text-align: right;\n",
       "    }\n",
       "</style>\n",
       "<table border=\"1\" class=\"dataframe\">\n",
       "  <thead>\n",
       "    <tr style=\"text-align: right;\">\n",
       "      <th></th>\n",
       "      <th>year_of_release</th>\n",
       "      <th>na_sales</th>\n",
       "      <th>eu_sales</th>\n",
       "      <th>jp_sales</th>\n",
       "      <th>other_sales</th>\n",
       "      <th>critic_score</th>\n",
       "    </tr>\n",
       "  </thead>\n",
       "  <tbody>\n",
       "    <tr>\n",
       "      <th>count</th>\n",
       "      <td>16446.000000</td>\n",
       "      <td>16715.000000</td>\n",
       "      <td>16715.000000</td>\n",
       "      <td>16715.000000</td>\n",
       "      <td>16715.000000</td>\n",
       "      <td>8137.000000</td>\n",
       "    </tr>\n",
       "    <tr>\n",
       "      <th>mean</th>\n",
       "      <td>2006.484616</td>\n",
       "      <td>0.263377</td>\n",
       "      <td>0.145060</td>\n",
       "      <td>0.077617</td>\n",
       "      <td>0.047342</td>\n",
       "      <td>68.967679</td>\n",
       "    </tr>\n",
       "    <tr>\n",
       "      <th>std</th>\n",
       "      <td>5.877050</td>\n",
       "      <td>0.813604</td>\n",
       "      <td>0.503339</td>\n",
       "      <td>0.308853</td>\n",
       "      <td>0.186731</td>\n",
       "      <td>13.938165</td>\n",
       "    </tr>\n",
       "    <tr>\n",
       "      <th>min</th>\n",
       "      <td>1980.000000</td>\n",
       "      <td>0.000000</td>\n",
       "      <td>0.000000</td>\n",
       "      <td>0.000000</td>\n",
       "      <td>0.000000</td>\n",
       "      <td>13.000000</td>\n",
       "    </tr>\n",
       "    <tr>\n",
       "      <th>25%</th>\n",
       "      <td>2003.000000</td>\n",
       "      <td>0.000000</td>\n",
       "      <td>0.000000</td>\n",
       "      <td>0.000000</td>\n",
       "      <td>0.000000</td>\n",
       "      <td>60.000000</td>\n",
       "    </tr>\n",
       "    <tr>\n",
       "      <th>50%</th>\n",
       "      <td>2007.000000</td>\n",
       "      <td>0.080000</td>\n",
       "      <td>0.020000</td>\n",
       "      <td>0.000000</td>\n",
       "      <td>0.010000</td>\n",
       "      <td>71.000000</td>\n",
       "    </tr>\n",
       "    <tr>\n",
       "      <th>75%</th>\n",
       "      <td>2010.000000</td>\n",
       "      <td>0.240000</td>\n",
       "      <td>0.110000</td>\n",
       "      <td>0.040000</td>\n",
       "      <td>0.030000</td>\n",
       "      <td>79.000000</td>\n",
       "    </tr>\n",
       "    <tr>\n",
       "      <th>max</th>\n",
       "      <td>2016.000000</td>\n",
       "      <td>41.360000</td>\n",
       "      <td>28.960000</td>\n",
       "      <td>10.220000</td>\n",
       "      <td>10.570000</td>\n",
       "      <td>98.000000</td>\n",
       "    </tr>\n",
       "  </tbody>\n",
       "</table>\n",
       "</div>"
      ],
      "text/plain": [
       "       year_of_release      na_sales      eu_sales      jp_sales  \\\n",
       "count     16446.000000  16715.000000  16715.000000  16715.000000   \n",
       "mean       2006.484616      0.263377      0.145060      0.077617   \n",
       "std           5.877050      0.813604      0.503339      0.308853   \n",
       "min        1980.000000      0.000000      0.000000      0.000000   \n",
       "25%        2003.000000      0.000000      0.000000      0.000000   \n",
       "50%        2007.000000      0.080000      0.020000      0.000000   \n",
       "75%        2010.000000      0.240000      0.110000      0.040000   \n",
       "max        2016.000000     41.360000     28.960000     10.220000   \n",
       "\n",
       "        other_sales  critic_score  \n",
       "count  16715.000000   8137.000000  \n",
       "mean       0.047342     68.967679  \n",
       "std        0.186731     13.938165  \n",
       "min        0.000000     13.000000  \n",
       "25%        0.000000     60.000000  \n",
       "50%        0.010000     71.000000  \n",
       "75%        0.030000     79.000000  \n",
       "max       10.570000     98.000000  "
      ]
     },
     "execution_count": 77,
     "metadata": {},
     "output_type": "execute_result"
    }
   ],
   "source": [
    "data.describe()"
   ]
  },
  {
   "cell_type": "code",
   "execution_count": 105,
   "metadata": {},
   "outputs": [
    {
     "data": {
      "text/plain": [
       "name                  0\n",
       "platform              0\n",
       "year_of_release       0\n",
       "genre                 0\n",
       "na_sales              0\n",
       "eu_sales              0\n",
       "jp_sales              0\n",
       "other_sales           0\n",
       "critic_score       8461\n",
       "user_score         8981\n",
       "rating                0\n",
       "sum_sales             0\n",
       "dtype: int64"
      ]
     },
     "execution_count": 105,
     "metadata": {},
     "output_type": "execute_result"
    }
   ],
   "source": [
    "data.isna().sum()"
   ]
  },
  {
   "cell_type": "code",
   "execution_count": 106,
   "metadata": {},
   "outputs": [],
   "source": [
    "# check\n",
    "# пропущенные значения бары\n",
    "\n",
    "def pass_value_barh(df):\n",
    "    try:\n",
    "        (\n",
    "            (df.isna().mean()*100)\n",
    "            .to_frame()\n",
    "            .rename(columns = {0:'space'})\n",
    "            .query('space > 0')\n",
    "            .sort_values(by = 'space', ascending = True)\n",
    "            .plot(kind = 'barh', figsize = (19,6), rot = -5, legend = False, fontsize = 16)\n",
    "            .set_title('Пример' + \"\\n\", fontsize = 22, color = 'SteelBlue')    \n",
    "        );    \n",
    "    except:\n",
    "        print('пропусков не осталось :) или произошла ошибка в первой части функции ')"
   ]
  },
  {
   "cell_type": "code",
   "execution_count": 107,
   "metadata": {},
   "outputs": [
    {
     "data": {
      "image/png": "[encoded data removed]",
      "text/plain": [
       "<Figure size 1368x432 with 1 Axes>"
      ]
     },
     "metadata": {
      "needs_background": "light"
     },
     "output_type": "display_data"
    }
   ],
   "source": [
    "pass_value_barh(data)"
   ]
  },
  {
   "cell_type": "code",
   "execution_count": 108,
   "metadata": {},
   "outputs": [
    {
     "data": {
      "text/plain": [
       "name                  0\n",
       "platform              0\n",
       "year_of_release       0\n",
       "genre                 0\n",
       "na_sales              0\n",
       "eu_sales              0\n",
       "jp_sales              0\n",
       "other_sales           0\n",
       "critic_score       8461\n",
       "user_score         8981\n",
       "rating                0\n",
       "sum_sales             0\n",
       "dtype: int64"
      ]
     },
     "execution_count": 108,
     "metadata": {},
     "output_type": "execute_result"
    }
   ],
   "source": [
    "data.isna().sum()"
   ]
  },
  {
   "cell_type": "code",
   "execution_count": 109,
   "metadata": {},
   "outputs": [
    {
     "data": {
      "text/plain": [
       "0"
      ]
     },
     "execution_count": 109,
     "metadata": {},
     "output_type": "execute_result"
    }
   ],
   "source": [
    "# Определяем количество явных дубликатов\n",
    "data.duplicated().sum()"
   ]
  },
  {
   "cell_type": "code",
   "execution_count": 110,
   "metadata": {},
   "outputs": [
    {
     "name": "stdout",
     "output_type": "stream",
     "text": [
      "user_score         55.0\n",
      "critic_score       51.0\n",
      "name                0.0\n",
      "platform            0.0\n",
      "year_of_release     0.0\n",
      "genre               0.0\n",
      "na_sales            0.0\n",
      "eu_sales            0.0\n",
      "jp_sales            0.0\n",
      "other_sales         0.0\n",
      "rating              0.0\n",
      "sum_sales           0.0\n",
      "dtype: float64\n"
     ]
    }
   ],
   "source": [
    "#Расчитаем процент пропусков\n",
    "percent_prossing = round(data.isna().sum() * 100 / len(data))\n",
    "print(percent_prossing.sort_values(ascending =False))"
   ]
  },
  {
   "cell_type": "markdown",
   "metadata": {},
   "source": [
    "Большой процент пропусков \n",
    "critic_score       51.0\n",
    "user_score         40.0\n",
    "rating             40.0"
   ]
  },
  {
   "cell_type": "markdown",
   "metadata": {},
   "source": [
    "Описание данных\n",
    "<h5>Name</h5> — название игры\n",
    "<h5>Platform</h5> — платформа\n",
    "<h5>Year_of_Release</h5> — год выпуска\n",
    "<h5>Genre</h5> — жанр игры\n",
    "<h5>NA_sales</h5> — продажи в Северной Америке (миллионы проданных копий)\n",
    "<h5>EU_sales</h5> — продажи в Европе (миллионы проданных копий)\n",
    "<h5>JP_sales</h5> — продажи в Японии (миллионы проданных копий)\n",
    "<h5>Other_sales</h5> — продажи в других странах (миллионы проданных копий)\n",
    "<h5>Critic_Score</h5> — оценка критиков (максимум 100)\n",
    "<h5>User_Score</h5> — оценка пользователей (максимум 10)\n",
    "<h5>Rating</h5> — рейтинг от организации ESRB (англ. Entertainment Software Rating Board). Эта ассоциация определяет рейтинг компьютерных игр и присваивает им подходящую возрастную категорию.\n",
    "Данные за 2016 год могут быть неполными."
   ]
  },
  {
   "cell_type": "markdown",
   "metadata": {},
   "source": [
    "<div class=\"alert-success\"> \n",
    "<b>Комментарий ревьюера 👍</b>\n",
    "\n",
    "Хороший первичный обзор данных"
   ]
  },
  {
   "cell_type": "code",
   "execution_count": 111,
   "metadata": {},
   "outputs": [
    {
     "data": {
      "text/plain": [
       "count    16444.000000\n",
       "mean      2006.486256\n",
       "std          5.875525\n",
       "min       1980.000000\n",
       "25%       2003.000000\n",
       "50%       2007.000000\n",
       "75%       2010.000000\n",
       "max       2016.000000\n",
       "Name: year_of_release, dtype: float64"
      ]
     },
     "execution_count": 111,
     "metadata": {},
     "output_type": "execute_result"
    }
   ],
   "source": [
    "data['year_of_release'].describe()"
   ]
  },
  {
   "cell_type": "code",
   "execution_count": 112,
   "metadata": {},
   "outputs": [],
   "source": [
    "data = data.dropna(subset=['name', 'genre', 'year_of_release'])"
   ]
  },
  {
   "cell_type": "code",
   "execution_count": 113,
   "metadata": {},
   "outputs": [],
   "source": [
    "data['year_of_release'] = data['year_of_release'].astype('int64')"
   ]
  },
  {
   "cell_type": "code",
   "execution_count": 114,
   "metadata": {},
   "outputs": [
    {
     "data": {
      "text/plain": [
       "0        2006\n",
       "1        1985\n",
       "2        2008\n",
       "3        2009\n",
       "4        1996\n",
       "         ... \n",
       "16710    2016\n",
       "16711    2006\n",
       "16712    2016\n",
       "16713    2003\n",
       "16714    2016\n",
       "Name: year_of_release, Length: 16444, dtype: int64"
      ]
     },
     "execution_count": 114,
     "metadata": {},
     "output_type": "execute_result"
    }
   ],
   "source": [
    "data['year_of_release']"
   ]
  },
  {
   "cell_type": "code",
   "execution_count": 115,
   "metadata": {},
   "outputs": [
    {
     "name": "stdout",
     "output_type": "stream",
     "text": [
      "user_score         55.0\n",
      "critic_score       51.0\n",
      "name                0.0\n",
      "platform            0.0\n",
      "year_of_release     0.0\n",
      "genre               0.0\n",
      "na_sales            0.0\n",
      "eu_sales            0.0\n",
      "jp_sales            0.0\n",
      "other_sales         0.0\n",
      "rating              0.0\n",
      "sum_sales           0.0\n",
      "dtype: float64\n"
     ]
    }
   ],
   "source": [
    "#Расчитаем процент пропусков\n",
    "percent_prossing = round(data.isna().sum() * 100 / len(data))\n",
    "print(percent_prossing.sort_values(ascending =False))"
   ]
  },
  {
   "cell_type": "code",
   "execution_count": 116,
   "metadata": {},
   "outputs": [
    {
     "data": {
      "text/plain": [
       "count    7983.000000\n",
       "mean       68.994363\n",
       "std        13.920060\n",
       "min        13.000000\n",
       "25%        60.000000\n",
       "50%        71.000000\n",
       "75%        79.000000\n",
       "max        98.000000\n",
       "Name: critic_score, dtype: float64"
      ]
     },
     "execution_count": 116,
     "metadata": {},
     "output_type": "execute_result"
    }
   ],
   "source": [
    "data['critic_score'].describe()"
   ]
  },
  {
   "cell_type": "code",
   "execution_count": 117,
   "metadata": {},
   "outputs": [
    {
     "name": "stdout",
     "output_type": "stream",
     "text": [
      "Количество  пропусков critic_score: 8461\n"
     ]
    }
   ],
   "source": [
    "print('Количество  пропусков critic_score:', data['critic_score'].isna().sum())"
   ]
  },
  {
   "cell_type": "code",
   "execution_count": 118,
   "metadata": {},
   "outputs": [
    {
     "name": "stdout",
     "output_type": "stream",
     "text": [
      "Медиана 71.0\n",
      "Среднее 68.99436302142053\n"
     ]
    }
   ],
   "source": [
    "critic_score_median = data['critic_score'].median()\n",
    "critic_score_mean = data['critic_score'].mean()\n",
    "print('Медиана', critic_score_median)\n",
    "print('Среднее', critic_score_mean)"
   ]
  },
  {
   "cell_type": "code",
   "execution_count": 119,
   "metadata": {},
   "outputs": [
    {
     "data": {
      "text/html": [
       "<div>\n",
       "<style scoped>\n",
       "    .dataframe tbody tr th:only-of-type {\n",
       "        vertical-align: middle;\n",
       "    }\n",
       "\n",
       "    .dataframe tbody tr th {\n",
       "        vertical-align: top;\n",
       "    }\n",
       "\n",
       "    .dataframe thead th {\n",
       "        text-align: right;\n",
       "    }\n",
       "</style>\n",
       "<table border=\"1\" class=\"dataframe\">\n",
       "  <thead>\n",
       "    <tr style=\"text-align: right;\">\n",
       "      <th></th>\n",
       "      <th>name</th>\n",
       "      <th>platform</th>\n",
       "      <th>year_of_release</th>\n",
       "      <th>genre</th>\n",
       "      <th>na_sales</th>\n",
       "      <th>eu_sales</th>\n",
       "      <th>jp_sales</th>\n",
       "      <th>other_sales</th>\n",
       "      <th>critic_score</th>\n",
       "      <th>user_score</th>\n",
       "      <th>rating</th>\n",
       "      <th>sum_sales</th>\n",
       "    </tr>\n",
       "  </thead>\n",
       "  <tbody>\n",
       "    <tr>\n",
       "      <th>1</th>\n",
       "      <td>Super Mario Bros.</td>\n",
       "      <td>NES</td>\n",
       "      <td>1985</td>\n",
       "      <td>Platform</td>\n",
       "      <td>29.08</td>\n",
       "      <td>3.58</td>\n",
       "      <td>6.81</td>\n",
       "      <td>0.77</td>\n",
       "      <td>NaN</td>\n",
       "      <td>NaN</td>\n",
       "      <td>unknown</td>\n",
       "      <td>40.24</td>\n",
       "    </tr>\n",
       "    <tr>\n",
       "      <th>4</th>\n",
       "      <td>Pokemon Red/Pokemon Blue</td>\n",
       "      <td>GB</td>\n",
       "      <td>1996</td>\n",
       "      <td>Role-Playing</td>\n",
       "      <td>11.27</td>\n",
       "      <td>8.89</td>\n",
       "      <td>10.22</td>\n",
       "      <td>1.00</td>\n",
       "      <td>NaN</td>\n",
       "      <td>NaN</td>\n",
       "      <td>unknown</td>\n",
       "      <td>31.38</td>\n",
       "    </tr>\n",
       "    <tr>\n",
       "      <th>5</th>\n",
       "      <td>Tetris</td>\n",
       "      <td>GB</td>\n",
       "      <td>1989</td>\n",
       "      <td>Puzzle</td>\n",
       "      <td>23.20</td>\n",
       "      <td>2.26</td>\n",
       "      <td>4.22</td>\n",
       "      <td>0.58</td>\n",
       "      <td>NaN</td>\n",
       "      <td>NaN</td>\n",
       "      <td>unknown</td>\n",
       "      <td>30.26</td>\n",
       "    </tr>\n",
       "    <tr>\n",
       "      <th>9</th>\n",
       "      <td>Duck Hunt</td>\n",
       "      <td>NES</td>\n",
       "      <td>1984</td>\n",
       "      <td>Shooter</td>\n",
       "      <td>26.93</td>\n",
       "      <td>0.63</td>\n",
       "      <td>0.28</td>\n",
       "      <td>0.47</td>\n",
       "      <td>NaN</td>\n",
       "      <td>NaN</td>\n",
       "      <td>unknown</td>\n",
       "      <td>28.31</td>\n",
       "    </tr>\n",
       "    <tr>\n",
       "      <th>10</th>\n",
       "      <td>Nintendogs</td>\n",
       "      <td>DS</td>\n",
       "      <td>2005</td>\n",
       "      <td>Simulation</td>\n",
       "      <td>9.05</td>\n",
       "      <td>10.95</td>\n",
       "      <td>1.93</td>\n",
       "      <td>2.74</td>\n",
       "      <td>NaN</td>\n",
       "      <td>NaN</td>\n",
       "      <td>unknown</td>\n",
       "      <td>24.67</td>\n",
       "    </tr>\n",
       "    <tr>\n",
       "      <th>...</th>\n",
       "      <td>...</td>\n",
       "      <td>...</td>\n",
       "      <td>...</td>\n",
       "      <td>...</td>\n",
       "      <td>...</td>\n",
       "      <td>...</td>\n",
       "      <td>...</td>\n",
       "      <td>...</td>\n",
       "      <td>...</td>\n",
       "      <td>...</td>\n",
       "      <td>...</td>\n",
       "      <td>...</td>\n",
       "    </tr>\n",
       "    <tr>\n",
       "      <th>16710</th>\n",
       "      <td>Samurai Warriors: Sanada Maru</td>\n",
       "      <td>PS3</td>\n",
       "      <td>2016</td>\n",
       "      <td>Action</td>\n",
       "      <td>0.00</td>\n",
       "      <td>0.00</td>\n",
       "      <td>0.01</td>\n",
       "      <td>0.00</td>\n",
       "      <td>NaN</td>\n",
       "      <td>NaN</td>\n",
       "      <td>unknown</td>\n",
       "      <td>0.01</td>\n",
       "    </tr>\n",
       "    <tr>\n",
       "      <th>16711</th>\n",
       "      <td>LMA Manager 2007</td>\n",
       "      <td>X360</td>\n",
       "      <td>2006</td>\n",
       "      <td>Sports</td>\n",
       "      <td>0.00</td>\n",
       "      <td>0.01</td>\n",
       "      <td>0.00</td>\n",
       "      <td>0.00</td>\n",
       "      <td>NaN</td>\n",
       "      <td>NaN</td>\n",
       "      <td>unknown</td>\n",
       "      <td>0.01</td>\n",
       "    </tr>\n",
       "    <tr>\n",
       "      <th>16712</th>\n",
       "      <td>Haitaka no Psychedelica</td>\n",
       "      <td>PSV</td>\n",
       "      <td>2016</td>\n",
       "      <td>Adventure</td>\n",
       "      <td>0.00</td>\n",
       "      <td>0.00</td>\n",
       "      <td>0.01</td>\n",
       "      <td>0.00</td>\n",
       "      <td>NaN</td>\n",
       "      <td>NaN</td>\n",
       "      <td>unknown</td>\n",
       "      <td>0.01</td>\n",
       "    </tr>\n",
       "    <tr>\n",
       "      <th>16713</th>\n",
       "      <td>Spirits &amp; Spells</td>\n",
       "      <td>GBA</td>\n",
       "      <td>2003</td>\n",
       "      <td>Platform</td>\n",
       "      <td>0.01</td>\n",
       "      <td>0.00</td>\n",
       "      <td>0.00</td>\n",
       "      <td>0.00</td>\n",
       "      <td>NaN</td>\n",
       "      <td>NaN</td>\n",
       "      <td>unknown</td>\n",
       "      <td>0.01</td>\n",
       "    </tr>\n",
       "    <tr>\n",
       "      <th>16714</th>\n",
       "      <td>Winning Post 8 2016</td>\n",
       "      <td>PSV</td>\n",
       "      <td>2016</td>\n",
       "      <td>Simulation</td>\n",
       "      <td>0.00</td>\n",
       "      <td>0.00</td>\n",
       "      <td>0.01</td>\n",
       "      <td>0.00</td>\n",
       "      <td>NaN</td>\n",
       "      <td>NaN</td>\n",
       "      <td>unknown</td>\n",
       "      <td>0.01</td>\n",
       "    </tr>\n",
       "  </tbody>\n",
       "</table>\n",
       "<p>8461 rows × 12 columns</p>\n",
       "</div>"
      ],
      "text/plain": [
       "                                name platform  year_of_release         genre  \\\n",
       "1                  Super Mario Bros.      NES             1985      Platform   \n",
       "4           Pokemon Red/Pokemon Blue       GB             1996  Role-Playing   \n",
       "5                             Tetris       GB             1989        Puzzle   \n",
       "9                          Duck Hunt      NES             1984       Shooter   \n",
       "10                        Nintendogs       DS             2005    Simulation   \n",
       "...                              ...      ...              ...           ...   \n",
       "16710  Samurai Warriors: Sanada Maru      PS3             2016        Action   \n",
       "16711               LMA Manager 2007     X360             2006        Sports   \n",
       "16712        Haitaka no Psychedelica      PSV             2016     Adventure   \n",
       "16713               Spirits & Spells      GBA             2003      Platform   \n",
       "16714            Winning Post 8 2016      PSV             2016    Simulation   \n",
       "\n",
       "       na_sales  eu_sales  jp_sales  other_sales  critic_score user_score  \\\n",
       "1         29.08      3.58      6.81         0.77           NaN        NaN   \n",
       "4         11.27      8.89     10.22         1.00           NaN        NaN   \n",
       "5         23.20      2.26      4.22         0.58           NaN        NaN   \n",
       "9         26.93      0.63      0.28         0.47           NaN        NaN   \n",
       "10         9.05     10.95      1.93         2.74           NaN        NaN   \n",
       "...         ...       ...       ...          ...           ...        ...   \n",
       "16710      0.00      0.00      0.01         0.00           NaN        NaN   \n",
       "16711      0.00      0.01      0.00         0.00           NaN        NaN   \n",
       "16712      0.00      0.00      0.01         0.00           NaN        NaN   \n",
       "16713      0.01      0.00      0.00         0.00           NaN        NaN   \n",
       "16714      0.00      0.00      0.01         0.00           NaN        NaN   \n",
       "\n",
       "        rating  sum_sales  \n",
       "1      unknown      40.24  \n",
       "4      unknown      31.38  \n",
       "5      unknown      30.26  \n",
       "9      unknown      28.31  \n",
       "10     unknown      24.67  \n",
       "...        ...        ...  \n",
       "16710  unknown       0.01  \n",
       "16711  unknown       0.01  \n",
       "16712  unknown       0.01  \n",
       "16713  unknown       0.01  \n",
       "16714  unknown       0.01  \n",
       "\n",
       "[8461 rows x 12 columns]"
      ]
     },
     "execution_count": 119,
     "metadata": {},
     "output_type": "execute_result"
    }
   ],
   "source": [
    "data[data['critic_score'].isna()]"
   ]
  },
  {
   "cell_type": "code",
   "execution_count": 120,
   "metadata": {},
   "outputs": [
    {
     "data": {
      "text/plain": [
       "array([76., nan, 82., 80., 89., 58., 87., 91., 61., 97., 95., 77., 88.,\n",
       "       83., 94., 93., 85., 86., 98., 96., 90., 84., 73., 74., 78., 92.,\n",
       "       71., 72., 68., 62., 49., 67., 81., 66., 56., 79., 70., 59., 64.,\n",
       "       75., 60., 63., 69., 50., 25., 42., 44., 55., 48., 57., 29., 47.,\n",
       "       65., 54., 20., 53., 37., 38., 33., 52., 30., 32., 43., 45., 51.,\n",
       "       40., 46., 39., 34., 41., 36., 31., 27., 35., 26., 19., 28., 23.,\n",
       "       24., 21., 17., 13.])"
      ]
     },
     "execution_count": 120,
     "metadata": {},
     "output_type": "execute_result"
    }
   ],
   "source": [
    "data['critic_score'].unique()"
   ]
  },
  {
   "cell_type": "code",
   "execution_count": 121,
   "metadata": {},
   "outputs": [
    {
     "data": {
      "text/plain": [
       "array(['8', nan, '8.3', '8.5', '6.6', '8.4', '8.6', '7.7', '6.3', '7.4',\n",
       "       '8.2', '9', '7.9', '8.1', '8.7', '7.1', '3.4', '5.3', '4.8', '3.2',\n",
       "       '8.9', '6.4', '7.8', '7.5', '2.6', '7.2', '9.2', '7', '7.3', '4.3',\n",
       "       '7.6', '5.7', '5', '9.1', '6.5', '8.8', '6.9', '9.4', '6.8', '6.1',\n",
       "       '6.7', '5.4', '4', '4.9', '4.5', '9.3', '6.2', '4.2', '6', '3.7',\n",
       "       '4.1', '5.8', '5.6', '5.5', '4.4', '4.6', '5.9', '3.9', '3.1',\n",
       "       '2.9', '5.2', '3.3', '4.7', '5.1', '3.5', '2.5', '1.9', '3', '2.7',\n",
       "       '2.2', '2', '9.5', '2.1', '3.6', '2.8', '1.8', '3.8', '0', '1.6',\n",
       "       '9.6', '2.4', '1.7', '1.1', '0.3', '1.5', '0.7', '1.2', '2.3',\n",
       "       '0.5', '1.3', '0.2', '0.6', '1.4', '0.9', '1', '9.7'], dtype=object)"
      ]
     },
     "execution_count": 121,
     "metadata": {},
     "output_type": "execute_result"
    }
   ],
   "source": [
    "data['user_score'].unique()"
   ]
  },
  {
   "cell_type": "markdown",
   "metadata": {},
   "source": [
    "Есть значение 'tbd' - Рейтинг еще неизвестен, думаю что лучше будет заменить на nan "
   ]
  },
  {
   "cell_type": "code",
   "execution_count": 122,
   "metadata": {},
   "outputs": [],
   "source": [
    "data['user_score'] = data['user_score'].replace('tbd', np.nan)\n"
   ]
  },
  {
   "cell_type": "markdown",
   "metadata": {},
   "source": [
    "<div class=\"alert-success\"> \n",
    "<b>Комментарий ревьюера 👍 </b>\n",
    "\n",
    "Верное решение обработать tbd, как nan"
   ]
  },
  {
   "cell_type": "code",
   "execution_count": 123,
   "metadata": {},
   "outputs": [
    {
     "data": {
      "text/plain": [
       "array(['8', nan, '8.3', '8.5', '6.6', '8.4', '8.6', '7.7', '6.3', '7.4',\n",
       "       '8.2', '9', '7.9', '8.1', '8.7', '7.1', '3.4', '5.3', '4.8', '3.2',\n",
       "       '8.9', '6.4', '7.8', '7.5', '2.6', '7.2', '9.2', '7', '7.3', '4.3',\n",
       "       '7.6', '5.7', '5', '9.1', '6.5', '8.8', '6.9', '9.4', '6.8', '6.1',\n",
       "       '6.7', '5.4', '4', '4.9', '4.5', '9.3', '6.2', '4.2', '6', '3.7',\n",
       "       '4.1', '5.8', '5.6', '5.5', '4.4', '4.6', '5.9', '3.9', '3.1',\n",
       "       '2.9', '5.2', '3.3', '4.7', '5.1', '3.5', '2.5', '1.9', '3', '2.7',\n",
       "       '2.2', '2', '9.5', '2.1', '3.6', '2.8', '1.8', '3.8', '0', '1.6',\n",
       "       '9.6', '2.4', '1.7', '1.1', '0.3', '1.5', '0.7', '1.2', '2.3',\n",
       "       '0.5', '1.3', '0.2', '0.6', '1.4', '0.9', '1', '9.7'], dtype=object)"
      ]
     },
     "execution_count": 123,
     "metadata": {},
     "output_type": "execute_result"
    }
   ],
   "source": [
    "data['user_score'].unique()"
   ]
  },
  {
   "cell_type": "markdown",
   "metadata": {},
   "source": [
    "Оценки пользователей и критиков не получится заполнить логически, \n",
    "заполнение каким-либо средним значением - это ошибочное решение, т.к. можно сильно промахнуться и будет создана аномалия"
   ]
  },
  {
   "cell_type": "code",
   "execution_count": 124,
   "metadata": {},
   "outputs": [
    {
     "data": {
      "text/plain": [
       "array(['E', 'unknown', 'M', 'T', 'E10+', 'K-A', 'AO', 'EC', 'RP'],\n",
       "      dtype=object)"
      ]
     },
     "execution_count": 124,
     "metadata": {},
     "output_type": "execute_result"
    }
   ],
   "source": [
    "data['rating'].unique()"
   ]
  },
  {
   "cell_type": "markdown",
   "metadata": {},
   "source": [
    "Есть рейтинг nan, Возможно это игра без рейтинга, \n",
    "это может быть новый релиз, может быть технический сбой записей, может быть игра которой просто не ставили никаких оценок.\n",
    "Рейтинг медианой или нулем тоже не совсем корректно заполнять, можно поставить заклушку 'unknown' что бы в дальнейшем в анаализе\n",
    "мы могли видеть игру с неизвестным рейтингом."
   ]
  },
  {
   "cell_type": "code",
   "execution_count": 125,
   "metadata": {},
   "outputs": [],
   "source": [
    "data['rating'] = data['rating'].replace(np.nan, 'unknown', regex=True)\n"
   ]
  },
  {
   "cell_type": "markdown",
   "metadata": {},
   "source": [
    "<div class=\"alert-success\"> \n",
    "<b>Комментарий ревьюера 👍 </b>\n",
    "\n",
    "Хорошее решение использовать значения-заглушки, так мы не потеряем важные данные"
   ]
  },
  {
   "cell_type": "code",
   "execution_count": 126,
   "metadata": {},
   "outputs": [
    {
     "data": {
      "text/plain": [
       "array(['E', 'unknown', 'M', 'T', 'E10+', 'K-A', 'AO', 'EC', 'RP'],\n",
       "      dtype=object)"
      ]
     },
     "execution_count": 126,
     "metadata": {},
     "output_type": "execute_result"
    }
   ],
   "source": [
    "data['rating'].unique()"
   ]
  },
  {
   "cell_type": "markdown",
   "metadata": {},
   "source": [
    "<h3>Cуммарные продажи во всех регионах</h3>"
   ]
  },
  {
   "cell_type": "code",
   "execution_count": 127,
   "metadata": {
    "scrolled": true
   },
   "outputs": [
    {
     "data": {
      "text/html": [
       "<div>\n",
       "<style scoped>\n",
       "    .dataframe tbody tr th:only-of-type {\n",
       "        vertical-align: middle;\n",
       "    }\n",
       "\n",
       "    .dataframe tbody tr th {\n",
       "        vertical-align: top;\n",
       "    }\n",
       "\n",
       "    .dataframe thead th {\n",
       "        text-align: right;\n",
       "    }\n",
       "</style>\n",
       "<table border=\"1\" class=\"dataframe\">\n",
       "  <thead>\n",
       "    <tr style=\"text-align: right;\">\n",
       "      <th></th>\n",
       "      <th>name</th>\n",
       "      <th>platform</th>\n",
       "      <th>year_of_release</th>\n",
       "      <th>genre</th>\n",
       "      <th>na_sales</th>\n",
       "      <th>eu_sales</th>\n",
       "      <th>jp_sales</th>\n",
       "      <th>other_sales</th>\n",
       "      <th>critic_score</th>\n",
       "      <th>user_score</th>\n",
       "      <th>rating</th>\n",
       "      <th>sum_sales</th>\n",
       "    </tr>\n",
       "  </thead>\n",
       "  <tbody>\n",
       "    <tr>\n",
       "      <th>0</th>\n",
       "      <td>Wii Sports</td>\n",
       "      <td>Wii</td>\n",
       "      <td>2006</td>\n",
       "      <td>Sports</td>\n",
       "      <td>41.36</td>\n",
       "      <td>28.96</td>\n",
       "      <td>3.77</td>\n",
       "      <td>8.45</td>\n",
       "      <td>76.0</td>\n",
       "      <td>8</td>\n",
       "      <td>E</td>\n",
       "      <td>82.54</td>\n",
       "    </tr>\n",
       "    <tr>\n",
       "      <th>1</th>\n",
       "      <td>Super Mario Bros.</td>\n",
       "      <td>NES</td>\n",
       "      <td>1985</td>\n",
       "      <td>Platform</td>\n",
       "      <td>29.08</td>\n",
       "      <td>3.58</td>\n",
       "      <td>6.81</td>\n",
       "      <td>0.77</td>\n",
       "      <td>NaN</td>\n",
       "      <td>NaN</td>\n",
       "      <td>unknown</td>\n",
       "      <td>40.24</td>\n",
       "    </tr>\n",
       "    <tr>\n",
       "      <th>2</th>\n",
       "      <td>Mario Kart Wii</td>\n",
       "      <td>Wii</td>\n",
       "      <td>2008</td>\n",
       "      <td>Racing</td>\n",
       "      <td>15.68</td>\n",
       "      <td>12.76</td>\n",
       "      <td>3.79</td>\n",
       "      <td>3.29</td>\n",
       "      <td>82.0</td>\n",
       "      <td>8.3</td>\n",
       "      <td>E</td>\n",
       "      <td>35.52</td>\n",
       "    </tr>\n",
       "    <tr>\n",
       "      <th>3</th>\n",
       "      <td>Wii Sports Resort</td>\n",
       "      <td>Wii</td>\n",
       "      <td>2009</td>\n",
       "      <td>Sports</td>\n",
       "      <td>15.61</td>\n",
       "      <td>10.93</td>\n",
       "      <td>3.28</td>\n",
       "      <td>2.95</td>\n",
       "      <td>80.0</td>\n",
       "      <td>8</td>\n",
       "      <td>E</td>\n",
       "      <td>32.77</td>\n",
       "    </tr>\n",
       "    <tr>\n",
       "      <th>4</th>\n",
       "      <td>Pokemon Red/Pokemon Blue</td>\n",
       "      <td>GB</td>\n",
       "      <td>1996</td>\n",
       "      <td>Role-Playing</td>\n",
       "      <td>11.27</td>\n",
       "      <td>8.89</td>\n",
       "      <td>10.22</td>\n",
       "      <td>1.00</td>\n",
       "      <td>NaN</td>\n",
       "      <td>NaN</td>\n",
       "      <td>unknown</td>\n",
       "      <td>31.38</td>\n",
       "    </tr>\n",
       "    <tr>\n",
       "      <th>5</th>\n",
       "      <td>Tetris</td>\n",
       "      <td>GB</td>\n",
       "      <td>1989</td>\n",
       "      <td>Puzzle</td>\n",
       "      <td>23.20</td>\n",
       "      <td>2.26</td>\n",
       "      <td>4.22</td>\n",
       "      <td>0.58</td>\n",
       "      <td>NaN</td>\n",
       "      <td>NaN</td>\n",
       "      <td>unknown</td>\n",
       "      <td>30.26</td>\n",
       "    </tr>\n",
       "    <tr>\n",
       "      <th>6</th>\n",
       "      <td>New Super Mario Bros.</td>\n",
       "      <td>DS</td>\n",
       "      <td>2006</td>\n",
       "      <td>Platform</td>\n",
       "      <td>11.28</td>\n",
       "      <td>9.14</td>\n",
       "      <td>6.50</td>\n",
       "      <td>2.88</td>\n",
       "      <td>89.0</td>\n",
       "      <td>8.5</td>\n",
       "      <td>E</td>\n",
       "      <td>29.80</td>\n",
       "    </tr>\n",
       "    <tr>\n",
       "      <th>7</th>\n",
       "      <td>Wii Play</td>\n",
       "      <td>Wii</td>\n",
       "      <td>2006</td>\n",
       "      <td>Misc</td>\n",
       "      <td>13.96</td>\n",
       "      <td>9.18</td>\n",
       "      <td>2.93</td>\n",
       "      <td>2.84</td>\n",
       "      <td>58.0</td>\n",
       "      <td>6.6</td>\n",
       "      <td>E</td>\n",
       "      <td>28.91</td>\n",
       "    </tr>\n",
       "    <tr>\n",
       "      <th>8</th>\n",
       "      <td>New Super Mario Bros. Wii</td>\n",
       "      <td>Wii</td>\n",
       "      <td>2009</td>\n",
       "      <td>Platform</td>\n",
       "      <td>14.44</td>\n",
       "      <td>6.94</td>\n",
       "      <td>4.70</td>\n",
       "      <td>2.24</td>\n",
       "      <td>87.0</td>\n",
       "      <td>8.4</td>\n",
       "      <td>E</td>\n",
       "      <td>28.32</td>\n",
       "    </tr>\n",
       "    <tr>\n",
       "      <th>9</th>\n",
       "      <td>Duck Hunt</td>\n",
       "      <td>NES</td>\n",
       "      <td>1984</td>\n",
       "      <td>Shooter</td>\n",
       "      <td>26.93</td>\n",
       "      <td>0.63</td>\n",
       "      <td>0.28</td>\n",
       "      <td>0.47</td>\n",
       "      <td>NaN</td>\n",
       "      <td>NaN</td>\n",
       "      <td>unknown</td>\n",
       "      <td>28.31</td>\n",
       "    </tr>\n",
       "  </tbody>\n",
       "</table>\n",
       "</div>"
      ],
      "text/plain": [
       "                        name platform  year_of_release         genre  \\\n",
       "0                 Wii Sports      Wii             2006        Sports   \n",
       "1          Super Mario Bros.      NES             1985      Platform   \n",
       "2             Mario Kart Wii      Wii             2008        Racing   \n",
       "3          Wii Sports Resort      Wii             2009        Sports   \n",
       "4   Pokemon Red/Pokemon Blue       GB             1996  Role-Playing   \n",
       "5                     Tetris       GB             1989        Puzzle   \n",
       "6      New Super Mario Bros.       DS             2006      Platform   \n",
       "7                   Wii Play      Wii             2006          Misc   \n",
       "8  New Super Mario Bros. Wii      Wii             2009      Platform   \n",
       "9                  Duck Hunt      NES             1984       Shooter   \n",
       "\n",
       "   na_sales  eu_sales  jp_sales  other_sales  critic_score user_score  \\\n",
       "0     41.36     28.96      3.77         8.45          76.0          8   \n",
       "1     29.08      3.58      6.81         0.77           NaN        NaN   \n",
       "2     15.68     12.76      3.79         3.29          82.0        8.3   \n",
       "3     15.61     10.93      3.28         2.95          80.0          8   \n",
       "4     11.27      8.89     10.22         1.00           NaN        NaN   \n",
       "5     23.20      2.26      4.22         0.58           NaN        NaN   \n",
       "6     11.28      9.14      6.50         2.88          89.0        8.5   \n",
       "7     13.96      9.18      2.93         2.84          58.0        6.6   \n",
       "8     14.44      6.94      4.70         2.24          87.0        8.4   \n",
       "9     26.93      0.63      0.28         0.47           NaN        NaN   \n",
       "\n",
       "    rating  sum_sales  \n",
       "0        E      82.54  \n",
       "1  unknown      40.24  \n",
       "2        E      35.52  \n",
       "3        E      32.77  \n",
       "4  unknown      31.38  \n",
       "5  unknown      30.26  \n",
       "6        E      29.80  \n",
       "7        E      28.91  \n",
       "8        E      28.32  \n",
       "9  unknown      28.31  "
      ]
     },
     "execution_count": 127,
     "metadata": {},
     "output_type": "execute_result"
    }
   ],
   "source": [
    "data_sum_all = data \n",
    "data['sum_sales'] = data[['na_sales','eu_sales','jp_sales', 'other_sales']].sum(axis = 1)\n",
    "data_sum_all.head(10)"
   ]
  },
  {
   "cell_type": "code",
   "execution_count": 128,
   "metadata": {},
   "outputs": [
    {
     "data": {
      "text/plain": [
       "year_of_release\n",
       "2008    671.50\n",
       "2009    658.82\n",
       "2007    604.75\n",
       "2010    590.13\n",
       "2006    517.71\n",
       "Name: sum_sales, dtype: float64"
      ]
     },
     "execution_count": 128,
     "metadata": {},
     "output_type": "execute_result"
    }
   ],
   "source": [
    "data_sum_all.groupby('year_of_release')['sum_sales'].sum().sort_values(ascending=False).head()"
   ]
  },
  {
   "cell_type": "markdown",
   "metadata": {},
   "source": [
    "<div class=\"alert-danger\"> \n",
    "<b>Комментарий ревьюера ❌</b>\n",
    "\n",
    "Не выполнен пункт: \"Опишите причины, которые могли привести к пропускам\".\n",
    "    \n",
    "Не выполнен пункт: \"Объясните, почему заполнили пропуски определённым образом или почему не стали это делать\""
   ]
  },
  {
   "cell_type": "markdown",
   "metadata": {},
   "source": [
    "Значения могли быть пропущенны по технологическим причинам или по причине не существования на момент \n",
    "выхода игры оценивающего издания , \n",
    "или игра просто не оценивалась (игра выпускалась только для внутреннего рынка, не популярный жанр, \n",
    "определенная возрастная аудитория)."
   ]
  },
  {
   "cell_type": "markdown",
   "metadata": {},
   "source": [
    "Есть рейтинг nan, Возможно это игра без рейтинга, \n",
    "это может быть новый релиз, может быть технический сбой записей, может быть игра которой просто не ставили никаких оценок.\n",
    "Рейтинг медианой или нулем тоже не совсем корректно заполнять, можно поставить заклушку 'unknown' что бы в дальнейшем в анаализе\n",
    "мы могли видеть игру с неизвестным рейтингом."
   ]
  },
  {
   "cell_type": "markdown",
   "metadata": {},
   "source": [
    "Оценки пользователей и критиков не получится заполнить логически, \n",
    "заполнение каким-либо средним значением - это ошибочное решение, т.к. можно сильно промахнуться и будет создана аномалия"
   ]
  },
  {
   "cell_type": "markdown",
   "metadata": {},
   "source": [
    "Строк с пропусками в колонках \"name\" и \"genre\" всего две. Возможно данные не указали при составлении таблицы.\n",
    "Слишком маленький процент пропусков и они в дальнейшем при удалени не повлияют на анализ\n"
   ]
  },
  {
   "cell_type": "markdown",
   "metadata": {},
   "source": [
    "В 2008 было больше всего продаж, по всем регионам"
   ]
  },
  {
   "cell_type": "markdown",
   "metadata": {},
   "source": [
    "<div class=\"alert-success\"> \n",
    "<b>Комментарий ревьюера 👍 Вторая итерация </b>\n",
    "\n",
    "Согласен с названными тобою возможными причинами пропусков"
   ]
  },
  {
   "cell_type": "markdown",
   "metadata": {},
   "source": [
    "<h3>Исследовательский анализ данных</h3>"
   ]
  },
  {
   "cell_type": "markdown",
   "metadata": {},
   "source": [
    "<h4>Cколько игр выпускалось в разные годы</h4>"
   ]
  },
  {
   "cell_type": "code",
   "execution_count": 129,
   "metadata": {},
   "outputs": [
    {
     "data": {
      "text/plain": [
       "year_of_release\n",
       "1980       9\n",
       "1981      46\n",
       "1982      36\n",
       "1983      17\n",
       "1984      14\n",
       "1985      14\n",
       "1986      21\n",
       "1987      16\n",
       "1988      15\n",
       "1989      17\n",
       "1990      16\n",
       "1991      41\n",
       "1992      43\n",
       "1993      60\n",
       "1994     121\n",
       "1995     219\n",
       "1996     263\n",
       "1997     289\n",
       "1998     379\n",
       "1999     338\n",
       "2000     350\n",
       "2001     482\n",
       "2002     829\n",
       "2003     775\n",
       "2004     762\n",
       "2005     939\n",
       "2006    1006\n",
       "2007    1197\n",
       "2008    1427\n",
       "2009    1426\n",
       "2010    1255\n",
       "2011    1136\n",
       "2012     653\n",
       "2013     544\n",
       "2014     581\n",
       "2015     606\n",
       "2016     502\n",
       "Name: name, dtype: int64"
      ]
     },
     "execution_count": 129,
     "metadata": {},
     "output_type": "execute_result"
    }
   ],
   "source": [
    "data_year_release = data\n",
    "data_year_release.groupby('year_of_release')['name'].count()"
   ]
  },
  {
   "cell_type": "code",
   "execution_count": 130,
   "metadata": {},
   "outputs": [
    {
     "data": {
      "image/png": "[encoded data removed]",
      "text/plain": [
       "<Figure size 1080x432 with 1 Axes>"
      ]
     },
     "metadata": {
      "needs_background": "light"
     },
     "output_type": "display_data"
    }
   ],
   "source": [
    "data_year_release = data.pivot_table(index='year_of_release', values='name', aggfunc='count')\n",
    "plt.figure(figsize=(15,6))\n",
    "sns.lineplot(data=data_year_release)\n",
    "plt.title('Релизы игр')\n",
    "plt.xlabel('Год релиза')\n",
    "plt.ylabel('Количество релизов')\n",
    "plt.legend('')\n",
    "plt.show()"
   ]
  },
  {
   "cell_type": "markdown",
   "metadata": {},
   "source": [
    "c 2000 по 2009 был бурный рост релизов, с 2010 пошел спад по новым релизам  "
   ]
  },
  {
   "cell_type": "code",
   "execution_count": 131,
   "metadata": {},
   "outputs": [
    {
     "data": {
      "text/html": [
       "<div>\n",
       "<style scoped>\n",
       "    .dataframe tbody tr th:only-of-type {\n",
       "        vertical-align: middle;\n",
       "    }\n",
       "\n",
       "    .dataframe tbody tr th {\n",
       "        vertical-align: top;\n",
       "    }\n",
       "\n",
       "    .dataframe thead th {\n",
       "        text-align: right;\n",
       "    }\n",
       "</style>\n",
       "<table border=\"1\" class=\"dataframe\">\n",
       "  <thead>\n",
       "    <tr style=\"text-align: right;\">\n",
       "      <th></th>\n",
       "      <th>name</th>\n",
       "      <th>platform</th>\n",
       "      <th>year_of_release</th>\n",
       "      <th>genre</th>\n",
       "      <th>na_sales</th>\n",
       "      <th>eu_sales</th>\n",
       "      <th>jp_sales</th>\n",
       "      <th>other_sales</th>\n",
       "      <th>critic_score</th>\n",
       "      <th>user_score</th>\n",
       "      <th>rating</th>\n",
       "      <th>sum_sales</th>\n",
       "    </tr>\n",
       "  </thead>\n",
       "  <tbody>\n",
       "    <tr>\n",
       "      <th>2</th>\n",
       "      <td>Mario Kart Wii</td>\n",
       "      <td>Wii</td>\n",
       "      <td>2008</td>\n",
       "      <td>Racing</td>\n",
       "      <td>15.68</td>\n",
       "      <td>12.76</td>\n",
       "      <td>3.79</td>\n",
       "      <td>3.29</td>\n",
       "      <td>82.0</td>\n",
       "      <td>8.3</td>\n",
       "      <td>E</td>\n",
       "      <td>35.52</td>\n",
       "    </tr>\n",
       "    <tr>\n",
       "      <th>39</th>\n",
       "      <td>Super Smash Bros. Brawl</td>\n",
       "      <td>Wii</td>\n",
       "      <td>2008</td>\n",
       "      <td>Fighting</td>\n",
       "      <td>6.62</td>\n",
       "      <td>2.55</td>\n",
       "      <td>2.66</td>\n",
       "      <td>1.01</td>\n",
       "      <td>93.0</td>\n",
       "      <td>8.9</td>\n",
       "      <td>T</td>\n",
       "      <td>12.84</td>\n",
       "    </tr>\n",
       "    <tr>\n",
       "      <th>51</th>\n",
       "      <td>Grand Theft Auto IV</td>\n",
       "      <td>X360</td>\n",
       "      <td>2008</td>\n",
       "      <td>Action</td>\n",
       "      <td>6.76</td>\n",
       "      <td>3.07</td>\n",
       "      <td>0.14</td>\n",
       "      <td>1.03</td>\n",
       "      <td>98.0</td>\n",
       "      <td>7.9</td>\n",
       "      <td>M</td>\n",
       "      <td>11.00</td>\n",
       "    </tr>\n",
       "    <tr>\n",
       "      <th>57</th>\n",
       "      <td>Grand Theft Auto IV</td>\n",
       "      <td>PS3</td>\n",
       "      <td>2008</td>\n",
       "      <td>Action</td>\n",
       "      <td>4.76</td>\n",
       "      <td>3.69</td>\n",
       "      <td>0.44</td>\n",
       "      <td>1.61</td>\n",
       "      <td>98.0</td>\n",
       "      <td>7.5</td>\n",
       "      <td>M</td>\n",
       "      <td>10.50</td>\n",
       "    </tr>\n",
       "    <tr>\n",
       "      <th>90</th>\n",
       "      <td>Pokémon Platinum Version</td>\n",
       "      <td>DS</td>\n",
       "      <td>2008</td>\n",
       "      <td>Role-Playing</td>\n",
       "      <td>2.76</td>\n",
       "      <td>1.72</td>\n",
       "      <td>2.69</td>\n",
       "      <td>0.54</td>\n",
       "      <td>83.0</td>\n",
       "      <td>8.5</td>\n",
       "      <td>E</td>\n",
       "      <td>7.71</td>\n",
       "    </tr>\n",
       "    <tr>\n",
       "      <th>100</th>\n",
       "      <td>Call of Duty: World at War</td>\n",
       "      <td>X360</td>\n",
       "      <td>2008</td>\n",
       "      <td>Shooter</td>\n",
       "      <td>4.81</td>\n",
       "      <td>1.88</td>\n",
       "      <td>0.00</td>\n",
       "      <td>0.69</td>\n",
       "      <td>84.0</td>\n",
       "      <td>7.6</td>\n",
       "      <td>M</td>\n",
       "      <td>7.38</td>\n",
       "    </tr>\n",
       "    <tr>\n",
       "      <th>117</th>\n",
       "      <td>Gears of War 2</td>\n",
       "      <td>X360</td>\n",
       "      <td>2008</td>\n",
       "      <td>Shooter</td>\n",
       "      <td>4.15</td>\n",
       "      <td>1.90</td>\n",
       "      <td>0.06</td>\n",
       "      <td>0.64</td>\n",
       "      <td>93.0</td>\n",
       "      <td>7.7</td>\n",
       "      <td>M</td>\n",
       "      <td>6.75</td>\n",
       "    </tr>\n",
       "    <tr>\n",
       "      <th>147</th>\n",
       "      <td>Metal Gear Solid 4: Guns of the Patriots</td>\n",
       "      <td>PS3</td>\n",
       "      <td>2008</td>\n",
       "      <td>Action</td>\n",
       "      <td>2.63</td>\n",
       "      <td>1.71</td>\n",
       "      <td>0.83</td>\n",
       "      <td>0.82</td>\n",
       "      <td>94.0</td>\n",
       "      <td>8.7</td>\n",
       "      <td>M</td>\n",
       "      <td>5.99</td>\n",
       "    </tr>\n",
       "    <tr>\n",
       "      <th>150</th>\n",
       "      <td>LittleBigPlanet</td>\n",
       "      <td>PS3</td>\n",
       "      <td>2008</td>\n",
       "      <td>Platform</td>\n",
       "      <td>2.80</td>\n",
       "      <td>1.98</td>\n",
       "      <td>0.17</td>\n",
       "      <td>0.87</td>\n",
       "      <td>95.0</td>\n",
       "      <td>6.8</td>\n",
       "      <td>E</td>\n",
       "      <td>5.82</td>\n",
       "    </tr>\n",
       "    <tr>\n",
       "      <th>163</th>\n",
       "      <td>Monster Hunter Freedom Unite</td>\n",
       "      <td>PSP</td>\n",
       "      <td>2008</td>\n",
       "      <td>Role-Playing</td>\n",
       "      <td>0.47</td>\n",
       "      <td>0.55</td>\n",
       "      <td>4.13</td>\n",
       "      <td>0.34</td>\n",
       "      <td>81.0</td>\n",
       "      <td>8.7</td>\n",
       "      <td>T</td>\n",
       "      <td>5.49</td>\n",
       "    </tr>\n",
       "  </tbody>\n",
       "</table>\n",
       "</div>"
      ],
      "text/plain": [
       "                                         name platform  year_of_release  \\\n",
       "2                              Mario Kart Wii      Wii             2008   \n",
       "39                    Super Smash Bros. Brawl      Wii             2008   \n",
       "51                        Grand Theft Auto IV     X360             2008   \n",
       "57                        Grand Theft Auto IV      PS3             2008   \n",
       "90                   Pokémon Platinum Version       DS             2008   \n",
       "100                Call of Duty: World at War     X360             2008   \n",
       "117                            Gears of War 2     X360             2008   \n",
       "147  Metal Gear Solid 4: Guns of the Patriots      PS3             2008   \n",
       "150                           LittleBigPlanet      PS3             2008   \n",
       "163              Monster Hunter Freedom Unite      PSP             2008   \n",
       "\n",
       "            genre  na_sales  eu_sales  jp_sales  other_sales  critic_score  \\\n",
       "2          Racing     15.68     12.76      3.79         3.29          82.0   \n",
       "39       Fighting      6.62      2.55      2.66         1.01          93.0   \n",
       "51         Action      6.76      3.07      0.14         1.03          98.0   \n",
       "57         Action      4.76      3.69      0.44         1.61          98.0   \n",
       "90   Role-Playing      2.76      1.72      2.69         0.54          83.0   \n",
       "100       Shooter      4.81      1.88      0.00         0.69          84.0   \n",
       "117       Shooter      4.15      1.90      0.06         0.64          93.0   \n",
       "147        Action      2.63      1.71      0.83         0.82          94.0   \n",
       "150      Platform      2.80      1.98      0.17         0.87          95.0   \n",
       "163  Role-Playing      0.47      0.55      4.13         0.34          81.0   \n",
       "\n",
       "    user_score rating  sum_sales  \n",
       "2          8.3      E      35.52  \n",
       "39         8.9      T      12.84  \n",
       "51         7.9      M      11.00  \n",
       "57         7.5      M      10.50  \n",
       "90         8.5      E       7.71  \n",
       "100        7.6      M       7.38  \n",
       "117        7.7      M       6.75  \n",
       "147        8.7      M       5.99  \n",
       "150        6.8      E       5.82  \n",
       "163        8.7      T       5.49  "
      ]
     },
     "execution_count": 131,
     "metadata": {},
     "output_type": "execute_result"
    }
   ],
   "source": [
    "game_2008 = data.query('year_of_release == 2008').sort_values('sum_sales',ascending=False).head(10)\n",
    "game_2008 "
   ]
  },
  {
   "cell_type": "markdown",
   "metadata": {},
   "source": [
    "Популярные игры Mario и Gta в 2008"
   ]
  },
  {
   "cell_type": "markdown",
   "metadata": {},
   "source": [
    "<h4>Как менялись продажи по платформам</h4>"
   ]
  },
  {
   "cell_type": "code",
   "execution_count": 132,
   "metadata": {},
   "outputs": [
    {
     "data": {
      "text/plain": [
       "platform\n",
       "PS2     1233.56\n",
       "X360     961.24\n",
       "PS3      931.34\n",
       "Wii      891.18\n",
       "DS       802.78\n",
       "PS       727.58\n",
       "PS4      314.14\n",
       "GBA      312.88\n",
       "PSP      289.53\n",
       "3DS      257.81\n",
       "Name: sum_sales, dtype: float64"
      ]
     },
     "execution_count": 132,
     "metadata": {},
     "output_type": "execute_result"
    }
   ],
   "source": [
    "sales_platform = data.groupby('platform')['sum_sales'].sum().sort_values(ascending=False)\n",
    "sales_platform.head(10)"
   ]
  },
  {
   "cell_type": "markdown",
   "metadata": {},
   "source": [
    "Топ 3 по количеству продаж PS2 X360 PS3"
   ]
  },
  {
   "cell_type": "code",
   "execution_count": 133,
   "metadata": {},
   "outputs": [
    {
     "data": {
      "image/png": "[encoded data removed]",
      "text/plain": [
       "<Figure size 864x360 with 1 Axes>"
      ]
     },
     "metadata": {
      "needs_background": "light"
     },
     "output_type": "display_data"
    }
   ],
   "source": [
    "(data    \n",
    "         .pivot_table(index='platform', values='sum_sales', aggfunc='sum')\n",
    "         .plot(kind='bar', grid=True, figsize=(12, 5), title='Продажи по платформам')\n",
    ");\n",
    "plt.xlabel('Платформа');\n",
    "plt.ylabel('Продажи');"
   ]
  },
  {
   "cell_type": "markdown",
   "metadata": {},
   "source": [
    "<div class=\"alert-success\"> \n",
    "<b>Комментарий ревьюера 👍 </b>\n",
    "\n",
    "Молодец, что не забываешь подписывать графики, это важно"
   ]
  },
  {
   "cell_type": "markdown",
   "metadata": {},
   "source": [
    "Лидер PS"
   ]
  },
  {
   "cell_type": "code",
   "execution_count": 134,
   "metadata": {},
   "outputs": [
    {
     "data": {
      "text/plain": [
       "platform\n",
       "PS2     1233.56\n",
       "X360     961.24\n",
       "PS3      931.34\n",
       "Wii      891.18\n",
       "DS       802.78\n",
       "Name: sum_sales, dtype: float64"
      ]
     },
     "execution_count": 134,
     "metadata": {},
     "output_type": "execute_result"
    }
   ],
   "source": [
    "#топ 5\n",
    "sales_platform = data.groupby('platform')['sum_sales'].sum().sort_values(ascending=False)\n",
    "sales_platform.head(5)"
   ]
  },
  {
   "cell_type": "code",
   "execution_count": 140,
   "metadata": {
    "scrolled": true
   },
   "outputs": [
    {
     "data": {
      "text/html": [
       "<div>\n",
       "<style scoped>\n",
       "    .dataframe tbody tr th:only-of-type {\n",
       "        vertical-align: middle;\n",
       "    }\n",
       "\n",
       "    .dataframe tbody tr th {\n",
       "        vertical-align: top;\n",
       "    }\n",
       "\n",
       "    .dataframe thead th {\n",
       "        text-align: right;\n",
       "    }\n",
       "</style>\n",
       "<table border=\"1\" class=\"dataframe\">\n",
       "  <thead>\n",
       "    <tr style=\"text-align: right;\">\n",
       "      <th></th>\n",
       "      <th>name</th>\n",
       "      <th>platform</th>\n",
       "      <th>year_of_release</th>\n",
       "      <th>genre</th>\n",
       "      <th>na_sales</th>\n",
       "      <th>eu_sales</th>\n",
       "      <th>jp_sales</th>\n",
       "      <th>other_sales</th>\n",
       "      <th>critic_score</th>\n",
       "      <th>user_score</th>\n",
       "      <th>rating</th>\n",
       "      <th>sum_sales</th>\n",
       "    </tr>\n",
       "  </thead>\n",
       "  <tbody>\n",
       "    <tr>\n",
       "      <th>16</th>\n",
       "      <td>Grand Theft Auto V</td>\n",
       "      <td>PS3</td>\n",
       "      <td>2013</td>\n",
       "      <td>Action</td>\n",
       "      <td>7.02</td>\n",
       "      <td>9.09</td>\n",
       "      <td>0.98</td>\n",
       "      <td>3.96</td>\n",
       "      <td>97.0</td>\n",
       "      <td>8.2</td>\n",
       "      <td>M</td>\n",
       "      <td>21.05</td>\n",
       "    </tr>\n",
       "    <tr>\n",
       "      <th>23</th>\n",
       "      <td>Grand Theft Auto V</td>\n",
       "      <td>X360</td>\n",
       "      <td>2013</td>\n",
       "      <td>Action</td>\n",
       "      <td>9.66</td>\n",
       "      <td>5.14</td>\n",
       "      <td>0.06</td>\n",
       "      <td>1.41</td>\n",
       "      <td>97.0</td>\n",
       "      <td>8.1</td>\n",
       "      <td>M</td>\n",
       "      <td>16.27</td>\n",
       "    </tr>\n",
       "    <tr>\n",
       "      <th>29</th>\n",
       "      <td>Call of Duty: Modern Warfare 3</td>\n",
       "      <td>X360</td>\n",
       "      <td>2011</td>\n",
       "      <td>Shooter</td>\n",
       "      <td>9.04</td>\n",
       "      <td>4.24</td>\n",
       "      <td>0.13</td>\n",
       "      <td>1.32</td>\n",
       "      <td>88.0</td>\n",
       "      <td>3.4</td>\n",
       "      <td>M</td>\n",
       "      <td>14.73</td>\n",
       "    </tr>\n",
       "    <tr>\n",
       "      <th>31</th>\n",
       "      <td>Call of Duty: Black Ops 3</td>\n",
       "      <td>PS4</td>\n",
       "      <td>2015</td>\n",
       "      <td>Shooter</td>\n",
       "      <td>6.03</td>\n",
       "      <td>5.86</td>\n",
       "      <td>0.36</td>\n",
       "      <td>2.38</td>\n",
       "      <td>NaN</td>\n",
       "      <td>NaN</td>\n",
       "      <td>unknown</td>\n",
       "      <td>14.63</td>\n",
       "    </tr>\n",
       "    <tr>\n",
       "      <th>33</th>\n",
       "      <td>Pokemon X/Pokemon Y</td>\n",
       "      <td>3DS</td>\n",
       "      <td>2013</td>\n",
       "      <td>Role-Playing</td>\n",
       "      <td>5.28</td>\n",
       "      <td>4.19</td>\n",
       "      <td>4.35</td>\n",
       "      <td>0.78</td>\n",
       "      <td>NaN</td>\n",
       "      <td>NaN</td>\n",
       "      <td>unknown</td>\n",
       "      <td>14.60</td>\n",
       "    </tr>\n",
       "  </tbody>\n",
       "</table>\n",
       "</div>"
      ],
      "text/plain": [
       "                              name platform  year_of_release         genre  \\\n",
       "16              Grand Theft Auto V      PS3             2013        Action   \n",
       "23              Grand Theft Auto V     X360             2013        Action   \n",
       "29  Call of Duty: Modern Warfare 3     X360             2011       Shooter   \n",
       "31       Call of Duty: Black Ops 3      PS4             2015       Shooter   \n",
       "33             Pokemon X/Pokemon Y      3DS             2013  Role-Playing   \n",
       "\n",
       "    na_sales  eu_sales  jp_sales  other_sales  critic_score user_score  \\\n",
       "16      7.02      9.09      0.98         3.96          97.0        8.2   \n",
       "23      9.66      5.14      0.06         1.41          97.0        8.1   \n",
       "29      9.04      4.24      0.13         1.32          88.0        3.4   \n",
       "31      6.03      5.86      0.36         2.38           NaN        NaN   \n",
       "33      5.28      4.19      4.35         0.78           NaN        NaN   \n",
       "\n",
       "     rating  sum_sales  \n",
       "16        M      21.05  \n",
       "23        M      16.27  \n",
       "29        M      14.73  \n",
       "31  unknown      14.63  \n",
       "33  unknown      14.60  "
      ]
     },
     "execution_count": 140,
     "metadata": {},
     "output_type": "execute_result"
    }
   ],
   "source": [
    "#топ 5 современные\n",
    "platform_actual = data.query('year_of_release >= 2011')\n",
    "platform_actual.groupby('platform')['sum_sales'].sum().sort_values(ascending=False)\n",
    "platform_actual.head(5)"
   ]
  },
  {
   "cell_type": "markdown",
   "metadata": {},
   "source": [
    "Топ современных платформ по продажам PS3, X360, PS4"
   ]
  },
  {
   "cell_type": "code",
   "execution_count": 142,
   "metadata": {
    "scrolled": true
   },
   "outputs": [
    {
     "name": "stderr",
     "output_type": "stream",
     "text": [
      "/tmp/ipykernel_48/1756692024.py:1: FutureWarning: Indexing with multiple keys (implicitly converted to a tuple of keys) will be deprecated, use a list instead.\n",
      "  platform_actual.groupby(['platform'])['na_sales', 'eu_sales', 'jp_sales', 'other_sales', 'sum_sales'].sum()\n"
     ]
    },
    {
     "data": {
      "text/html": [
       "<div>\n",
       "<style scoped>\n",
       "    .dataframe tbody tr th:only-of-type {\n",
       "        vertical-align: middle;\n",
       "    }\n",
       "\n",
       "    .dataframe tbody tr th {\n",
       "        vertical-align: top;\n",
       "    }\n",
       "\n",
       "    .dataframe thead th {\n",
       "        text-align: right;\n",
       "    }\n",
       "</style>\n",
       "<table border=\"1\" class=\"dataframe\">\n",
       "  <thead>\n",
       "    <tr style=\"text-align: right;\">\n",
       "      <th></th>\n",
       "      <th>na_sales</th>\n",
       "      <th>eu_sales</th>\n",
       "      <th>jp_sales</th>\n",
       "      <th>other_sales</th>\n",
       "      <th>sum_sales</th>\n",
       "    </tr>\n",
       "    <tr>\n",
       "      <th>platform</th>\n",
       "      <th></th>\n",
       "      <th></th>\n",
       "      <th></th>\n",
       "      <th></th>\n",
       "      <th></th>\n",
       "    </tr>\n",
       "  </thead>\n",
       "  <tbody>\n",
       "    <tr>\n",
       "      <th>3DS</th>\n",
       "      <td>82.65</td>\n",
       "      <td>61.27</td>\n",
       "      <td>100.62</td>\n",
       "      <td>13.27</td>\n",
       "      <td>257.81</td>\n",
       "    </tr>\n",
       "    <tr>\n",
       "      <th>DS</th>\n",
       "      <td>18.86</td>\n",
       "      <td>9.24</td>\n",
       "      <td>8.04</td>\n",
       "      <td>2.59</td>\n",
       "      <td>38.73</td>\n",
       "    </tr>\n",
       "    <tr>\n",
       "      <th>PC</th>\n",
       "      <td>29.88</td>\n",
       "      <td>56.70</td>\n",
       "      <td>0.00</td>\n",
       "      <td>11.10</td>\n",
       "      <td>97.68</td>\n",
       "    </tr>\n",
       "    <tr>\n",
       "      <th>PS2</th>\n",
       "      <td>0.13</td>\n",
       "      <td>0.13</td>\n",
       "      <td>0.09</td>\n",
       "      <td>0.10</td>\n",
       "      <td>0.45</td>\n",
       "    </tr>\n",
       "    <tr>\n",
       "      <th>PS3</th>\n",
       "      <td>168.26</td>\n",
       "      <td>163.10</td>\n",
       "      <td>49.39</td>\n",
       "      <td>64.82</td>\n",
       "      <td>445.57</td>\n",
       "    </tr>\n",
       "    <tr>\n",
       "      <th>PS4</th>\n",
       "      <td>108.74</td>\n",
       "      <td>141.09</td>\n",
       "      <td>15.96</td>\n",
       "      <td>48.35</td>\n",
       "      <td>314.14</td>\n",
       "    </tr>\n",
       "    <tr>\n",
       "      <th>PSP</th>\n",
       "      <td>2.19</td>\n",
       "      <td>1.77</td>\n",
       "      <td>24.04</td>\n",
       "      <td>1.01</td>\n",
       "      <td>29.01</td>\n",
       "    </tr>\n",
       "    <tr>\n",
       "      <th>PSV</th>\n",
       "      <td>12.47</td>\n",
       "      <td>13.07</td>\n",
       "      <td>21.84</td>\n",
       "      <td>6.43</td>\n",
       "      <td>53.81</td>\n",
       "    </tr>\n",
       "    <tr>\n",
       "      <th>Wii</th>\n",
       "      <td>48.56</td>\n",
       "      <td>29.60</td>\n",
       "      <td>8.97</td>\n",
       "      <td>7.89</td>\n",
       "      <td>95.02</td>\n",
       "    </tr>\n",
       "    <tr>\n",
       "      <th>WiiU</th>\n",
       "      <td>38.10</td>\n",
       "      <td>25.13</td>\n",
       "      <td>13.01</td>\n",
       "      <td>5.95</td>\n",
       "      <td>82.19</td>\n",
       "    </tr>\n",
       "    <tr>\n",
       "      <th>X360</th>\n",
       "      <td>226.80</td>\n",
       "      <td>117.10</td>\n",
       "      <td>3.35</td>\n",
       "      <td>33.13</td>\n",
       "      <td>380.38</td>\n",
       "    </tr>\n",
       "    <tr>\n",
       "      <th>XOne</th>\n",
       "      <td>93.12</td>\n",
       "      <td>51.59</td>\n",
       "      <td>0.34</td>\n",
       "      <td>14.27</td>\n",
       "      <td>159.32</td>\n",
       "    </tr>\n",
       "  </tbody>\n",
       "</table>\n",
       "</div>"
      ],
      "text/plain": [
       "          na_sales  eu_sales  jp_sales  other_sales  sum_sales\n",
       "platform                                                      \n",
       "3DS          82.65     61.27    100.62        13.27     257.81\n",
       "DS           18.86      9.24      8.04         2.59      38.73\n",
       "PC           29.88     56.70      0.00        11.10      97.68\n",
       "PS2           0.13      0.13      0.09         0.10       0.45\n",
       "PS3         168.26    163.10     49.39        64.82     445.57\n",
       "PS4         108.74    141.09     15.96        48.35     314.14\n",
       "PSP           2.19      1.77     24.04         1.01      29.01\n",
       "PSV          12.47     13.07     21.84         6.43      53.81\n",
       "Wii          48.56     29.60      8.97         7.89      95.02\n",
       "WiiU         38.10     25.13     13.01         5.95      82.19\n",
       "X360        226.80    117.10      3.35        33.13     380.38\n",
       "XOne         93.12     51.59      0.34        14.27     159.32"
      ]
     },
     "execution_count": 142,
     "metadata": {},
     "output_type": "execute_result"
    }
   ],
   "source": [
    "platform_actual.groupby(['platform'])['na_sales', 'eu_sales', 'jp_sales', 'other_sales', 'sum_sales'].sum()\n"
   ]
  },
  {
   "cell_type": "markdown",
   "metadata": {},
   "source": [
    "Топ 5 по продажам PS3, PS4, X360, 3DS, XOne"
   ]
  },
  {
   "cell_type": "markdown",
   "metadata": {},
   "source": [
    "Как менялись продажи по платформамм "
   ]
  },
  {
   "cell_type": "code",
   "execution_count": 406,
   "metadata": {},
   "outputs": [],
   "source": [
    "data_year = data.query('year_of_release >= 2000')\n",
    "data_platform_sales = data_year.pivot_table(index='platform', \n",
    "                                       values='sum_sales', aggfunc='sum').sort_values(by='sum_sales', ascending=False)\n"
   ]
  },
  {
   "cell_type": "code",
   "execution_count": 407,
   "metadata": {},
   "outputs": [],
   "source": [
    "top_platforms = list(data_platform_sales[:5].index)"
   ]
  },
  {
   "cell_type": "code",
   "execution_count": 408,
   "metadata": {},
   "outputs": [],
   "source": [
    "data_top_platform_year = data_clear_year.pivot_table(index='platform', columns='year_of_release', values='sum_sales', \n",
    "                                          aggfunc='sum').query('platform in @top_platforms').T"
   ]
  },
  {
   "cell_type": "code",
   "execution_count": 411,
   "metadata": {
    "scrolled": true
   },
   "outputs": [
    {
     "data": {
      "image/png": "[encoded data removed]",
      "text/plain": [
       "<Figure size 1080x360 with 1 Axes>"
      ]
     },
     "metadata": {
      "needs_background": "light"
     },
     "output_type": "display_data"
    }
   ],
   "source": [
    "data_top_platform_year.plot(kind='bar', figsize=(15,5))\n",
    "plt.title('Количество продаж по годам 2000-2016гг')\n",
    "plt.xlabel('Год')\n",
    "plt.ylabel('Количество продаж')\n",
    "plt.show()"
   ]
  },
  {
   "cell_type": "markdown",
   "metadata": {},
   "source": [
    "У DS почти 5 лет держались на примерно одном уровне продажт, PS2 так же 5 лет, PS 3 так же 5-6 лет.\n",
    "Жизнь платформы около 5 лет\n",
    "\n"
   ]
  },
  {
   "cell_type": "markdown",
   "metadata": {},
   "source": [
    "Актуальным периодом  будут считаться платформы не более 5 лет "
   ]
  },
  {
   "cell_type": "code",
   "execution_count": 185,
   "metadata": {
    "scrolled": true
   },
   "outputs": [
    {
     "data": {
      "text/html": [
       "<div>\n",
       "<style scoped>\n",
       "    .dataframe tbody tr th:only-of-type {\n",
       "        vertical-align: middle;\n",
       "    }\n",
       "\n",
       "    .dataframe tbody tr th {\n",
       "        vertical-align: top;\n",
       "    }\n",
       "\n",
       "    .dataframe thead th {\n",
       "        text-align: right;\n",
       "    }\n",
       "</style>\n",
       "<table border=\"1\" class=\"dataframe\">\n",
       "  <thead>\n",
       "    <tr style=\"text-align: right;\">\n",
       "      <th></th>\n",
       "      <th>name</th>\n",
       "      <th>platform</th>\n",
       "      <th>year_of_release</th>\n",
       "      <th>genre</th>\n",
       "      <th>na_sales</th>\n",
       "      <th>eu_sales</th>\n",
       "      <th>jp_sales</th>\n",
       "      <th>other_sales</th>\n",
       "      <th>critic_score</th>\n",
       "      <th>user_score</th>\n",
       "      <th>rating</th>\n",
       "      <th>sum_sales</th>\n",
       "    </tr>\n",
       "  </thead>\n",
       "  <tbody>\n",
       "    <tr>\n",
       "      <th>31</th>\n",
       "      <td>Call of Duty: Black Ops 3</td>\n",
       "      <td>PS4</td>\n",
       "      <td>2015</td>\n",
       "      <td>Shooter</td>\n",
       "      <td>6.03</td>\n",
       "      <td>5.86</td>\n",
       "      <td>0.36</td>\n",
       "      <td>2.38</td>\n",
       "      <td>NaN</td>\n",
       "      <td>NaN</td>\n",
       "      <td>unknown</td>\n",
       "      <td>14.63</td>\n",
       "    </tr>\n",
       "    <tr>\n",
       "      <th>42</th>\n",
       "      <td>Grand Theft Auto V</td>\n",
       "      <td>PS4</td>\n",
       "      <td>2014</td>\n",
       "      <td>Action</td>\n",
       "      <td>3.96</td>\n",
       "      <td>6.31</td>\n",
       "      <td>0.38</td>\n",
       "      <td>1.97</td>\n",
       "      <td>97.0</td>\n",
       "      <td>8.3</td>\n",
       "      <td>M</td>\n",
       "      <td>12.62</td>\n",
       "    </tr>\n",
       "    <tr>\n",
       "      <th>47</th>\n",
       "      <td>Pokemon Omega Ruby/Pokemon Alpha Sapphire</td>\n",
       "      <td>3DS</td>\n",
       "      <td>2014</td>\n",
       "      <td>Role-Playing</td>\n",
       "      <td>4.35</td>\n",
       "      <td>3.49</td>\n",
       "      <td>3.10</td>\n",
       "      <td>0.74</td>\n",
       "      <td>NaN</td>\n",
       "      <td>NaN</td>\n",
       "      <td>unknown</td>\n",
       "      <td>11.68</td>\n",
       "    </tr>\n",
       "    <tr>\n",
       "      <th>77</th>\n",
       "      <td>FIFA 16</td>\n",
       "      <td>PS4</td>\n",
       "      <td>2015</td>\n",
       "      <td>Sports</td>\n",
       "      <td>1.12</td>\n",
       "      <td>6.12</td>\n",
       "      <td>0.06</td>\n",
       "      <td>1.28</td>\n",
       "      <td>82.0</td>\n",
       "      <td>4.3</td>\n",
       "      <td>E</td>\n",
       "      <td>8.58</td>\n",
       "    </tr>\n",
       "    <tr>\n",
       "      <th>87</th>\n",
       "      <td>Star Wars Battlefront (2015)</td>\n",
       "      <td>PS4</td>\n",
       "      <td>2015</td>\n",
       "      <td>Shooter</td>\n",
       "      <td>2.99</td>\n",
       "      <td>3.49</td>\n",
       "      <td>0.22</td>\n",
       "      <td>1.28</td>\n",
       "      <td>NaN</td>\n",
       "      <td>NaN</td>\n",
       "      <td>unknown</td>\n",
       "      <td>7.98</td>\n",
       "    </tr>\n",
       "    <tr>\n",
       "      <th>...</th>\n",
       "      <td>...</td>\n",
       "      <td>...</td>\n",
       "      <td>...</td>\n",
       "      <td>...</td>\n",
       "      <td>...</td>\n",
       "      <td>...</td>\n",
       "      <td>...</td>\n",
       "      <td>...</td>\n",
       "      <td>...</td>\n",
       "      <td>...</td>\n",
       "      <td>...</td>\n",
       "      <td>...</td>\n",
       "    </tr>\n",
       "    <tr>\n",
       "      <th>16703</th>\n",
       "      <td>Strawberry Nauts</td>\n",
       "      <td>PSV</td>\n",
       "      <td>2016</td>\n",
       "      <td>Adventure</td>\n",
       "      <td>0.00</td>\n",
       "      <td>0.00</td>\n",
       "      <td>0.01</td>\n",
       "      <td>0.00</td>\n",
       "      <td>NaN</td>\n",
       "      <td>NaN</td>\n",
       "      <td>unknown</td>\n",
       "      <td>0.01</td>\n",
       "    </tr>\n",
       "    <tr>\n",
       "      <th>16707</th>\n",
       "      <td>Aiyoku no Eustia</td>\n",
       "      <td>PSV</td>\n",
       "      <td>2014</td>\n",
       "      <td>Misc</td>\n",
       "      <td>0.00</td>\n",
       "      <td>0.00</td>\n",
       "      <td>0.01</td>\n",
       "      <td>0.00</td>\n",
       "      <td>NaN</td>\n",
       "      <td>NaN</td>\n",
       "      <td>unknown</td>\n",
       "      <td>0.01</td>\n",
       "    </tr>\n",
       "    <tr>\n",
       "      <th>16710</th>\n",
       "      <td>Samurai Warriors: Sanada Maru</td>\n",
       "      <td>PS3</td>\n",
       "      <td>2016</td>\n",
       "      <td>Action</td>\n",
       "      <td>0.00</td>\n",
       "      <td>0.00</td>\n",
       "      <td>0.01</td>\n",
       "      <td>0.00</td>\n",
       "      <td>NaN</td>\n",
       "      <td>NaN</td>\n",
       "      <td>unknown</td>\n",
       "      <td>0.01</td>\n",
       "    </tr>\n",
       "    <tr>\n",
       "      <th>16712</th>\n",
       "      <td>Haitaka no Psychedelica</td>\n",
       "      <td>PSV</td>\n",
       "      <td>2016</td>\n",
       "      <td>Adventure</td>\n",
       "      <td>0.00</td>\n",
       "      <td>0.00</td>\n",
       "      <td>0.01</td>\n",
       "      <td>0.00</td>\n",
       "      <td>NaN</td>\n",
       "      <td>NaN</td>\n",
       "      <td>unknown</td>\n",
       "      <td>0.01</td>\n",
       "    </tr>\n",
       "    <tr>\n",
       "      <th>16714</th>\n",
       "      <td>Winning Post 8 2016</td>\n",
       "      <td>PSV</td>\n",
       "      <td>2016</td>\n",
       "      <td>Simulation</td>\n",
       "      <td>0.00</td>\n",
       "      <td>0.00</td>\n",
       "      <td>0.01</td>\n",
       "      <td>0.00</td>\n",
       "      <td>NaN</td>\n",
       "      <td>NaN</td>\n",
       "      <td>unknown</td>\n",
       "      <td>0.01</td>\n",
       "    </tr>\n",
       "  </tbody>\n",
       "</table>\n",
       "<p>1689 rows × 12 columns</p>\n",
       "</div>"
      ],
      "text/plain": [
       "                                            name platform  year_of_release  \\\n",
       "31                     Call of Duty: Black Ops 3      PS4             2015   \n",
       "42                            Grand Theft Auto V      PS4             2014   \n",
       "47     Pokemon Omega Ruby/Pokemon Alpha Sapphire      3DS             2014   \n",
       "77                                       FIFA 16      PS4             2015   \n",
       "87                  Star Wars Battlefront (2015)      PS4             2015   \n",
       "...                                          ...      ...              ...   \n",
       "16703                           Strawberry Nauts      PSV             2016   \n",
       "16707                           Aiyoku no Eustia      PSV             2014   \n",
       "16710              Samurai Warriors: Sanada Maru      PS3             2016   \n",
       "16712                    Haitaka no Psychedelica      PSV             2016   \n",
       "16714                        Winning Post 8 2016      PSV             2016   \n",
       "\n",
       "              genre  na_sales  eu_sales  jp_sales  other_sales  critic_score  \\\n",
       "31          Shooter      6.03      5.86      0.36         2.38           NaN   \n",
       "42           Action      3.96      6.31      0.38         1.97          97.0   \n",
       "47     Role-Playing      4.35      3.49      3.10         0.74           NaN   \n",
       "77           Sports      1.12      6.12      0.06         1.28          82.0   \n",
       "87          Shooter      2.99      3.49      0.22         1.28           NaN   \n",
       "...             ...       ...       ...       ...          ...           ...   \n",
       "16703     Adventure      0.00      0.00      0.01         0.00           NaN   \n",
       "16707          Misc      0.00      0.00      0.01         0.00           NaN   \n",
       "16710        Action      0.00      0.00      0.01         0.00           NaN   \n",
       "16712     Adventure      0.00      0.00      0.01         0.00           NaN   \n",
       "16714    Simulation      0.00      0.00      0.01         0.00           NaN   \n",
       "\n",
       "      user_score   rating  sum_sales  \n",
       "31           NaN  unknown      14.63  \n",
       "42           8.3        M      12.62  \n",
       "47           NaN  unknown      11.68  \n",
       "77           4.3        E       8.58  \n",
       "87           NaN  unknown       7.98  \n",
       "...          ...      ...        ...  \n",
       "16703        NaN  unknown       0.01  \n",
       "16707        NaN  unknown       0.01  \n",
       "16710        NaN  unknown       0.01  \n",
       "16712        NaN  unknown       0.01  \n",
       "16714        NaN  unknown       0.01  \n",
       "\n",
       "[1689 rows x 12 columns]"
      ]
     },
     "execution_count": 185,
     "metadata": {},
     "output_type": "execute_result"
    }
   ],
   "source": [
    "platform_actual_new = data.query('year_of_release >= 2014')\n",
    "platform_actual_new"
   ]
  },
  {
   "cell_type": "markdown",
   "metadata": {},
   "source": [
    "<div class=\"alert-success\"> \n",
    "<b>Комментарий ревьюера 👍 </b>\n",
    "\n",
    "Согласен со сроком"
   ]
  },
  {
   "cell_type": "code",
   "execution_count": 177,
   "metadata": {
    "scrolled": true
   },
   "outputs": [
    {
     "name": "stdout",
     "output_type": "stream",
     "text": [
      "<class 'pandas.core.frame.DataFrame'>\n",
      "Int64Index: 1689 entries, 31 to 16714\n",
      "Data columns (total 12 columns):\n",
      " #   Column           Non-Null Count  Dtype  \n",
      "---  ------           --------------  -----  \n",
      " 0   name             1689 non-null   object \n",
      " 1   platform         1689 non-null   object \n",
      " 2   year_of_release  1689 non-null   int64  \n",
      " 3   genre            1689 non-null   object \n",
      " 4   na_sales         1689 non-null   float64\n",
      " 5   eu_sales         1689 non-null   float64\n",
      " 6   jp_sales         1689 non-null   float64\n",
      " 7   other_sales      1689 non-null   float64\n",
      " 8   critic_score     718 non-null    float64\n",
      " 9   user_score       888 non-null    object \n",
      " 10  rating           1689 non-null   object \n",
      " 11  sum_sales        1689 non-null   float64\n",
      "dtypes: float64(6), int64(1), object(5)\n",
      "memory usage: 171.5+ KB\n"
     ]
    }
   ],
   "source": [
    "platform_actual_new.info()"
   ]
  },
  {
   "cell_type": "code",
   "execution_count": 178,
   "metadata": {},
   "outputs": [
    {
     "data": {
      "text/plain": [
       "array(['PS4', '3DS', 'XOne', 'WiiU', 'PS3', 'X360', 'PC', 'Wii', 'PSV',\n",
       "       'PSP'], dtype=object)"
      ]
     },
     "execution_count": 178,
     "metadata": {},
     "output_type": "execute_result"
    }
   ],
   "source": [
    "platform_actual_new['platform'].unique()"
   ]
  },
  {
   "cell_type": "code",
   "execution_count": 182,
   "metadata": {},
   "outputs": [
    {
     "data": {
      "text/html": [
       "<div>\n",
       "<style scoped>\n",
       "    .dataframe tbody tr th:only-of-type {\n",
       "        vertical-align: middle;\n",
       "    }\n",
       "\n",
       "    .dataframe tbody tr th {\n",
       "        vertical-align: top;\n",
       "    }\n",
       "\n",
       "    .dataframe thead th {\n",
       "        text-align: right;\n",
       "    }\n",
       "</style>\n",
       "<table border=\"1\" class=\"dataframe\">\n",
       "  <thead>\n",
       "    <tr style=\"text-align: right;\">\n",
       "      <th></th>\n",
       "      <th>platform</th>\n",
       "      <th>sum_sales</th>\n",
       "    </tr>\n",
       "  </thead>\n",
       "  <tbody>\n",
       "    <tr>\n",
       "      <th>3</th>\n",
       "      <td>PS4</td>\n",
       "      <td>288.15</td>\n",
       "    </tr>\n",
       "    <tr>\n",
       "      <th>9</th>\n",
       "      <td>XOne</td>\n",
       "      <td>140.36</td>\n",
       "    </tr>\n",
       "    <tr>\n",
       "      <th>0</th>\n",
       "      <td>3DS</td>\n",
       "      <td>86.68</td>\n",
       "    </tr>\n",
       "    <tr>\n",
       "      <th>2</th>\n",
       "      <td>PS3</td>\n",
       "      <td>68.18</td>\n",
       "    </tr>\n",
       "    <tr>\n",
       "      <th>8</th>\n",
       "      <td>X360</td>\n",
       "      <td>48.22</td>\n",
       "    </tr>\n",
       "  </tbody>\n",
       "</table>\n",
       "</div>"
      ],
      "text/plain": [
       "  platform  sum_sales\n",
       "3      PS4     288.15\n",
       "9     XOne     140.36\n",
       "0      3DS      86.68\n",
       "2      PS3      68.18\n",
       "8     X360      48.22"
      ]
     },
     "execution_count": 182,
     "metadata": {},
     "output_type": "execute_result"
    }
   ],
   "source": [
    "platform_actual_new_top = (platform_actual_new\n",
    "                    .groupby('platform')['sum_sales']\n",
    "                    .sum()\n",
    "                    .reset_index()\n",
    "                    .sort_values('sum_sales',ascending=False)\n",
    "                    .head(5)\n",
    "                 )\n",
    "platform_actual_new_top"
   ]
  },
  {
   "cell_type": "markdown",
   "metadata": {},
   "source": [
    "Получаем топ-5 в период с 2014 года "
   ]
  },
  {
   "cell_type": "markdown",
   "metadata": {},
   "source": [
    "Дата выхода PS4   15 ноября 2013\n",
    "Дата выхода XOne  22 ноября 2013\n",
    "Дата выхода 3DS   27 марта 2011\n",
    "\n",
    "Начало продаж обновленных платформ PS и Xbox"
   ]
  },
  {
   "cell_type": "code",
   "execution_count": 192,
   "metadata": {},
   "outputs": [
    {
     "data": {
      "text/html": [
       "<div>\n",
       "<style scoped>\n",
       "    .dataframe tbody tr th:only-of-type {\n",
       "        vertical-align: middle;\n",
       "    }\n",
       "\n",
       "    .dataframe tbody tr th {\n",
       "        vertical-align: top;\n",
       "    }\n",
       "\n",
       "    .dataframe thead th {\n",
       "        text-align: right;\n",
       "    }\n",
       "</style>\n",
       "<table border=\"1\" class=\"dataframe\">\n",
       "  <thead>\n",
       "    <tr style=\"text-align: right;\">\n",
       "      <th></th>\n",
       "      <th>count</th>\n",
       "      <th>mean</th>\n",
       "      <th>std</th>\n",
       "      <th>min</th>\n",
       "      <th>25%</th>\n",
       "      <th>50%</th>\n",
       "      <th>75%</th>\n",
       "      <th>max</th>\n",
       "    </tr>\n",
       "    <tr>\n",
       "      <th>platform</th>\n",
       "      <th></th>\n",
       "      <th></th>\n",
       "      <th></th>\n",
       "      <th></th>\n",
       "      <th></th>\n",
       "      <th></th>\n",
       "      <th></th>\n",
       "      <th></th>\n",
       "    </tr>\n",
       "  </thead>\n",
       "  <tbody>\n",
       "    <tr>\n",
       "      <th>3DS</th>\n",
       "      <td>1.0</td>\n",
       "      <td>86.68</td>\n",
       "      <td>NaN</td>\n",
       "      <td>86.68</td>\n",
       "      <td>86.68</td>\n",
       "      <td>86.68</td>\n",
       "      <td>86.68</td>\n",
       "      <td>86.68</td>\n",
       "    </tr>\n",
       "    <tr>\n",
       "      <th>PS3</th>\n",
       "      <td>1.0</td>\n",
       "      <td>68.18</td>\n",
       "      <td>NaN</td>\n",
       "      <td>68.18</td>\n",
       "      <td>68.18</td>\n",
       "      <td>68.18</td>\n",
       "      <td>68.18</td>\n",
       "      <td>68.18</td>\n",
       "    </tr>\n",
       "    <tr>\n",
       "      <th>PS4</th>\n",
       "      <td>1.0</td>\n",
       "      <td>288.15</td>\n",
       "      <td>NaN</td>\n",
       "      <td>288.15</td>\n",
       "      <td>288.15</td>\n",
       "      <td>288.15</td>\n",
       "      <td>288.15</td>\n",
       "      <td>288.15</td>\n",
       "    </tr>\n",
       "    <tr>\n",
       "      <th>X360</th>\n",
       "      <td>1.0</td>\n",
       "      <td>48.22</td>\n",
       "      <td>NaN</td>\n",
       "      <td>48.22</td>\n",
       "      <td>48.22</td>\n",
       "      <td>48.22</td>\n",
       "      <td>48.22</td>\n",
       "      <td>48.22</td>\n",
       "    </tr>\n",
       "    <tr>\n",
       "      <th>XOne</th>\n",
       "      <td>1.0</td>\n",
       "      <td>140.36</td>\n",
       "      <td>NaN</td>\n",
       "      <td>140.36</td>\n",
       "      <td>140.36</td>\n",
       "      <td>140.36</td>\n",
       "      <td>140.36</td>\n",
       "      <td>140.36</td>\n",
       "    </tr>\n",
       "  </tbody>\n",
       "</table>\n",
       "</div>"
      ],
      "text/plain": [
       "          count    mean  std     min     25%     50%     75%     max\n",
       "platform                                                            \n",
       "3DS         1.0   86.68  NaN   86.68   86.68   86.68   86.68   86.68\n",
       "PS3         1.0   68.18  NaN   68.18   68.18   68.18   68.18   68.18\n",
       "PS4         1.0  288.15  NaN  288.15  288.15  288.15  288.15  288.15\n",
       "X360        1.0   48.22  NaN   48.22   48.22   48.22   48.22   48.22\n",
       "XOne        1.0  140.36  NaN  140.36  140.36  140.36  140.36  140.36"
      ]
     },
     "execution_count": 192,
     "metadata": {},
     "output_type": "execute_result"
    }
   ],
   "source": [
    "platform_actual_new_top.groupby('platform')['sum_sales'].describe()"
   ]
  },
  {
   "cell_type": "code",
   "execution_count": 201,
   "metadata": {
    "scrolled": false
   },
   "outputs": [
    {
     "data": {
      "image/png": "[encoded data removed]",
      "text/plain": [
       "<Figure size 432x288 with 1 Axes>"
      ]
     },
     "metadata": {
      "needs_background": "light"
     },
     "output_type": "display_data"
    }
   ],
   "source": [
    "platform_actual_new_top.boxplot(column='sum_sales', by='platform')\n",
    "plt.show()"
   ]
  },
  {
   "cell_type": "code",
   "execution_count": 386,
   "metadata": {
    "scrolled": true
   },
   "outputs": [
    {
     "data": {
      "text/plain": [
       "Text(0, 0.5, 'Кол-во копий')"
      ]
     },
     "execution_count": 386,
     "metadata": {},
     "output_type": "execute_result"
    },
    {
     "data": {
      "image/png": "[encoded data removed]",
      "text/plain": [
       "<Figure size 864x288 with 1 Axes>"
      ]
     },
     "metadata": {
      "needs_background": "light"
     },
     "output_type": "display_data"
    }
   ],
   "source": [
    "# График платформ \n",
    "plt.figure(figsize = (12, 4))\n",
    "sns.barplot(data = platform_actual_new_top, x = 'platform', y = 'sum_sales')\n",
    "plt.title('Платформы с наибольшими суммарными продажами с 2014 года')\n",
    "plt.xlabel('Платформы')\n",
    "plt.ylabel('Кол-во копий')"
   ]
  },
  {
   "cell_type": "markdown",
   "metadata": {},
   "source": [
    "Больше всего продаж платформы PS4, следом идет Xone уступаю почти в  половину"
   ]
  },
  {
   "cell_type": "markdown",
   "metadata": {},
   "source": [
    "Как влияют на продажи внутри одной популярной платформы отзывы пользователей и критиков"
   ]
  },
  {
   "cell_type": "markdown",
   "metadata": {},
   "source": [
    "Рассмотрим 2 акиуальные платформы. PS4 и XOne"
   ]
  },
  {
   "cell_type": "code",
   "execution_count": 248,
   "metadata": {},
   "outputs": [],
   "source": [
    "ps4_data = data.query('platform == \"PS4\"')\n",
    "xone_data = data.query('platform == \"XOne\"')\n",
    "ds3_data = data.query('platform == \"3DS\"')\n",
    "ps3_data = data.query('platform == \"PS3\"')\n",
    "x360_data = data.query('platform == \"X360\"')"
   ]
  },
  {
   "cell_type": "code",
   "execution_count": 249,
   "metadata": {},
   "outputs": [],
   "source": [
    "data['user_score'] = data['user_score'].astype('float64')"
   ]
  },
  {
   "cell_type": "markdown",
   "metadata": {},
   "source": [
    "Влияние на PS4\n"
   ]
  },
  {
   "cell_type": "code",
   "execution_count": 250,
   "metadata": {},
   "outputs": [
    {
     "data": {
      "image/png": "[encoded data removed]",
      "text/plain": [
       "<Figure size 1080x432 with 1 Axes>"
      ]
     },
     "metadata": {
      "needs_background": "light"
     },
     "output_type": "display_data"
    },
    {
     "name": "stdout",
     "output_type": "stream",
     "text": [
      "Коэффицент корреляции: 0.40656790206178095\n"
     ]
    }
   ],
   "source": [
    "ps4_data.plot(kind='scatter', x='critic_score', y='sum_sales', figsize=(15,6))\n",
    "plt.title('Влияние на продажи PS4 оценки критиков')\n",
    "plt.xlabel('Оценка критиков')\n",
    "plt.ylabel('Продажи, млн')\n",
    "plt.show()\n",
    "\n",
    "print('Коэффицент корреляции:',ps4_data['critic_score'].corr(ps4_data['sum_sales']))"
   ]
  },
  {
   "cell_type": "code",
   "execution_count": 277,
   "metadata": {},
   "outputs": [
    {
     "data": {
      "image/png": "[encoded data removed]",
      "text/plain": [
       "<Figure size 1080x432 with 1 Axes>"
      ]
     },
     "metadata": {
      "needs_background": "light"
     },
     "output_type": "display_data"
    },
    {
     "name": "stdout",
     "output_type": "stream",
     "text": [
      "Коэффицент корреляции: -0.031957110204556376\n"
     ]
    }
   ],
   "source": [
    "ps4_data.plot(kind='scatter', x='user_score', y='sum_sales', color='red', figsize=(15,6))\n",
    "plt.title('Влияние на продажи PS4 оценки пользователей')\n",
    "plt.xlabel('Оценка критиков')\n",
    "plt.ylabel('Продажи, млн')\n",
    "plt.show()\n",
    "\n",
    "print('Коэффицент корреляции:',ps4_data['user_score'].corr(ps4_data['sum_sales']))"
   ]
  },
  {
   "cell_type": "markdown",
   "metadata": {},
   "source": [
    "Влияние на XOne"
   ]
  },
  {
   "cell_type": "code",
   "execution_count": 255,
   "metadata": {},
   "outputs": [
    {
     "data": {
      "image/png": "[encoded data removed]",
      "text/plain": [
       "<Figure size 1080x432 with 1 Axes>"
      ]
     },
     "metadata": {
      "needs_background": "light"
     },
     "output_type": "display_data"
    },
    {
     "name": "stdout",
     "output_type": "stream",
     "text": [
      "Коэффицент корреляции: 0.4169983280084017\n"
     ]
    }
   ],
   "source": [
    "xone_data.plot(kind='scatter', x='critic_score', y='sum_sales', figsize=(15,6))\n",
    "plt.title('Влияние на продажи XOne оценки критиков')\n",
    "plt.xlabel('Оценка критиков')\n",
    "plt.ylabel('Продажи, млн')\n",
    "plt.show()\n",
    "\n",
    "print('Коэффицент корреляции:',xone_data['critic_score'].corr(xone_data['sum_sales']))"
   ]
  },
  {
   "cell_type": "code",
   "execution_count": 278,
   "metadata": {
    "scrolled": true
   },
   "outputs": [
    {
     "data": {
      "image/png": "[encoded data removed]",
      "text/plain": [
       "<Figure size 1080x288 with 1 Axes>"
      ]
     },
     "metadata": {
      "needs_background": "light"
     },
     "output_type": "display_data"
    },
    {
     "name": "stdout",
     "output_type": "stream",
     "text": [
      "Коэффицент корреляции: -0.06892505328279414\n"
     ]
    }
   ],
   "source": [
    "xone_data.plot(kind='scatter', x='user_score', y='sum_sales', color='red', figsize=(15,4))\n",
    "plt.title('Влияние на продажи XOne оценки пользователей')\n",
    "plt.xlabel('Оценка критиков')\n",
    "plt.ylabel('Продажи, млн')\n",
    "plt.show()\n",
    "\n",
    "print('Коэффицент корреляции:',xone_data['user_score'].corr(xone_data['sum_sales']))"
   ]
  },
  {
   "cell_type": "markdown",
   "metadata": {},
   "source": [
    "Влияние на 3DS"
   ]
  },
  {
   "cell_type": "code",
   "execution_count": 264,
   "metadata": {},
   "outputs": [
    {
     "data": {
      "image/png": "[encoded data removed]",
      "text/plain": [
       "<Figure size 1080x432 with 1 Axes>"
      ]
     },
     "metadata": {
      "needs_background": "light"
     },
     "output_type": "display_data"
    },
    {
     "name": "stdout",
     "output_type": "stream",
     "text": [
      "Коэффицент корреляции: 0.3487397305984834\n"
     ]
    }
   ],
   "source": [
    "ds3_data.plot(kind='scatter', x='critic_score', y='sum_sales', figsize=(15,6))\n",
    "plt.title('Влияние на продажи DS3 оценки критиков')\n",
    "plt.xlabel('Оценка критиков')\n",
    "plt.ylabel('Продажи, млн')\n",
    "plt.show()\n",
    "\n",
    "print('Коэффицент корреляции:',ds3_data['critic_score'].corr(ds3_data['sum_sales']))"
   ]
  },
  {
   "cell_type": "code",
   "execution_count": 279,
   "metadata": {},
   "outputs": [
    {
     "data": {
      "image/png": "[encoded data removed]",
      "text/plain": [
       "<Figure size 1080x288 with 1 Axes>"
      ]
     },
     "metadata": {
      "needs_background": "light"
     },
     "output_type": "display_data"
    },
    {
     "name": "stdout",
     "output_type": "stream",
     "text": [
      "Коэффицент корреляции: 0.22207843643390882\n"
     ]
    }
   ],
   "source": [
    "ds3_data.plot(kind='scatter', x='user_score', y='sum_sales', color='red', figsize=(15,4))\n",
    "plt.title('Влияние на продажи DS3 оценки пользователей')\n",
    "plt.xlabel('Оценка критиков')\n",
    "plt.ylabel('Продажи, млн')\n",
    "plt.show()\n",
    "\n",
    "print('Коэффицент корреляции:',ds3_data['user_score'].corr(ds3_data['sum_sales']))"
   ]
  },
  {
   "cell_type": "markdown",
   "metadata": {},
   "source": [
    "Влияние оценок на PS3"
   ]
  },
  {
   "cell_type": "code",
   "execution_count": 270,
   "metadata": {
    "scrolled": false
   },
   "outputs": [
    {
     "data": {
      "image/png": "[encoded data removed]",
      "text/plain": [
       "<Figure size 1080x432 with 1 Axes>"
      ]
     },
     "metadata": {
      "needs_background": "light"
     },
     "output_type": "display_data"
    },
    {
     "name": "stdout",
     "output_type": "stream",
     "text": [
      "Коэффицент корреляции: 0.4327589578997135\n"
     ]
    }
   ],
   "source": [
    "ps3_data.plot(kind='scatter', x='critic_score', y='sum_sales', figsize=(15,6))\n",
    "plt.title('Влияние на продажи PS3 оценки критиков')\n",
    "plt.xlabel('Оценка критиков')\n",
    "plt.ylabel('Продажи, млн')\n",
    "plt.show()\n",
    "\n",
    "print('Коэффицент корреляции:',ps3_data['critic_score'].corr(ps3_data['sum_sales']))"
   ]
  },
  {
   "cell_type": "code",
   "execution_count": 280,
   "metadata": {
    "scrolled": false
   },
   "outputs": [
    {
     "data": {
      "image/png": "[encoded data removed]",
      "text/plain": [
       "<Figure size 1080x288 with 1 Axes>"
      ]
     },
     "metadata": {
      "needs_background": "light"
     },
     "output_type": "display_data"
    },
    {
     "name": "stdout",
     "output_type": "stream",
     "text": [
      "Коэффицент корреляции: 0.12841562938563006\n"
     ]
    }
   ],
   "source": [
    "ps3_data.plot(kind='scatter', x='user_score', y='sum_sales', color='red', figsize=(15,4))\n",
    "plt.title('Влияние на продажи PS3 оценки пользователей')\n",
    "plt.xlabel('Оценка критиков')\n",
    "plt.ylabel('Продажи, млн')\n",
    "plt.show()\n",
    "\n",
    "print('Коэффицент корреляции:',ps3_data['user_score'].corr(ps3_data['sum_sales']))"
   ]
  },
  {
   "cell_type": "markdown",
   "metadata": {},
   "source": [
    "Влияние оценок на X360"
   ]
  },
  {
   "cell_type": "code",
   "execution_count": 385,
   "metadata": {
    "scrolled": true
   },
   "outputs": [
    {
     "data": {
      "image/png": "[encoded data removed]",
      "text/plain": [
       "<Figure size 864x216 with 1 Axes>"
      ]
     },
     "metadata": {
      "needs_background": "light"
     },
     "output_type": "display_data"
    },
    {
     "name": "stdout",
     "output_type": "stream",
     "text": [
      "Коэффицент корреляции: 0.39286589254006954\n"
     ]
    }
   ],
   "source": [
    "x360_data.plot(kind='scatter', x='critic_score', y='sum_sales', figsize=(12,3))\n",
    "plt.title('Влияние на продажи X360 оценки критиков')\n",
    "plt.xlabel('Оценка критиков')\n",
    "plt.ylabel('Продажи, млн')\n",
    "plt.show()\n",
    "\n",
    "print('Коэффицент корреляции:',x360_data['critic_score'].corr(x360_data['sum_sales']))"
   ]
  },
  {
   "cell_type": "code",
   "execution_count": 282,
   "metadata": {
    "scrolled": true
   },
   "outputs": [
    {
     "data": {
      "image/png": "[encoded data removed]",
      "text/plain": [
       "<Figure size 1080x288 with 1 Axes>"
      ]
     },
     "metadata": {
      "needs_background": "light"
     },
     "output_type": "display_data"
    },
    {
     "name": "stdout",
     "output_type": "stream",
     "text": [
      "Коэффицент корреляции: 0.11418661214018049\n"
     ]
    }
   ],
   "source": [
    "x360_data.plot(kind='scatter', x='user_score', y='sum_sales', color='red', figsize=(15,4))\n",
    "plt.title('Влияние на продажи X360 оценки пользователей')\n",
    "plt.xlabel('Оценка критиков')\n",
    "plt.ylabel('Продажи, млн')\n",
    "plt.show()\n",
    "\n",
    "print('Коэффицент корреляции:',x360_data['user_score'].corr(x360_data['sum_sales']))"
   ]
  },
  {
   "cell_type": "markdown",
   "metadata": {},
   "source": [
    "<div class=\"alert-success\"> \n",
    "<b>Комментарий ревьюера 👍 </b>\n",
    "\n",
    "Хорошие диаграммы рассеивания. Корреляция тоже подсчитана верно"
   ]
  },
  {
   "cell_type": "markdown",
   "metadata": {},
   "source": [
    "Большее влияние на продажи влияют оценки критиков, меньше оценки пользователей. \n"
   ]
  },
  {
   "cell_type": "code",
   "execution_count": 381,
   "metadata": {},
   "outputs": [
    {
     "data": {
      "text/html": [
       "<div>\n",
       "<style scoped>\n",
       "    .dataframe tbody tr th:only-of-type {\n",
       "        vertical-align: middle;\n",
       "    }\n",
       "\n",
       "    .dataframe tbody tr th {\n",
       "        vertical-align: top;\n",
       "    }\n",
       "\n",
       "    .dataframe thead th {\n",
       "        text-align: right;\n",
       "    }\n",
       "</style>\n",
       "<table border=\"1\" class=\"dataframe\">\n",
       "  <thead>\n",
       "    <tr style=\"text-align: right;\">\n",
       "      <th></th>\n",
       "      <th>sum_sales</th>\n",
       "    </tr>\n",
       "    <tr>\n",
       "      <th>genre</th>\n",
       "      <th></th>\n",
       "    </tr>\n",
       "  </thead>\n",
       "  <tbody>\n",
       "    <tr>\n",
       "      <th>Platform</th>\n",
       "      <td>0.27</td>\n",
       "    </tr>\n",
       "    <tr>\n",
       "      <th>Shooter</th>\n",
       "      <td>0.24</td>\n",
       "    </tr>\n",
       "    <tr>\n",
       "      <th>Sports</th>\n",
       "      <td>0.22</td>\n",
       "    </tr>\n",
       "    <tr>\n",
       "      <th>Fighting</th>\n",
       "      <td>0.21</td>\n",
       "    </tr>\n",
       "    <tr>\n",
       "      <th>Action</th>\n",
       "      <td>0.19</td>\n",
       "    </tr>\n",
       "  </tbody>\n",
       "</table>\n",
       "</div>"
      ],
      "text/plain": [
       "          sum_sales\n",
       "genre              \n",
       "Platform       0.27\n",
       "Shooter        0.24\n",
       "Sports         0.22\n",
       "Fighting       0.21\n",
       "Action         0.19"
      ]
     },
     "execution_count": 381,
     "metadata": {},
     "output_type": "execute_result"
    }
   ],
   "source": [
    "top_genre = (\n",
    "    data.pivot_table(index='genre', values=['sum_sales'], aggfunc='median')\n",
    "             .sort_values('sum_sales', ascending=False).head(5)\n",
    "            )\n",
    "top_genre   #Создание сводной таблицы"
   ]
  },
  {
   "cell_type": "code",
   "execution_count": 286,
   "metadata": {},
   "outputs": [
    {
     "data": {
      "text/plain": [
       "Text(0, 0.5, 'Кол-во копий')"
      ]
     },
     "execution_count": 286,
     "metadata": {},
     "output_type": "execute_result"
    },
    {
     "data": {
      "image/png": "[encoded data removed]",
      "text/plain": [
       "<Figure size 720x288 with 1 Axes>"
      ]
     },
     "metadata": {
      "needs_background": "light"
     },
     "output_type": "display_data"
    }
   ],
   "source": [
    "# График по жанрам\n",
    "data.groupby('genre')['sum_sales'].median().sort_values(ascending=False).plot(figsize=(10,4),kind=\"bar\")\n",
    "plt.title('Распределение игр по жанрам')\n",
    "plt.xlabel('Жанры')\n",
    "plt.ylabel('Кол-во копий')"
   ]
  },
  {
   "cell_type": "markdown",
   "metadata": {},
   "source": [
    "Самый популярный жанр - platform, так же популярны шутеры и спорт, а меньше всего у adventure, этот жанр менее популярен.\n",
    "\n",
    "\n",
    "Вывод\n",
    "Средний срок жизни игровой платформы составляет около 5 лет. Мы определили актуальный срок с 2014, в это время как вышли обновденные версии PS4 и XOne, они появились недавно, и имею положительную динамику роста количества продаж игр.\n",
    "\n",
    "Мнения критиков влияет на количество продаж, хоть и не сильно, жанр игр оказывает влияние на продажи, если компания выпускаает больше платформенных игр, шутеров и спорт, значит будет влиять на продажи, нежели делать акцент к примеру жанр adventure ли стратегии."
   ]
  },
  {
   "cell_type": "markdown",
   "metadata": {},
   "source": [
    "<div class=\"alert-warning\"> \n",
    "<b>Комментарий ревьюера 💡 </b> \n",
    "\n",
    "Хотелось бы более подробный вывод"
   ]
  },
  {
   "cell_type": "markdown",
   "metadata": {},
   "source": [
    "<h3>Портрет пользователя каждого региона</h3>"
   ]
  },
  {
   "cell_type": "markdown",
   "metadata": {},
   "source": [
    "Пользователи NA"
   ]
  },
  {
   "cell_type": "code",
   "execution_count": 380,
   "metadata": {},
   "outputs": [
    {
     "data": {
      "image/png": "[encoded data removed]",
      "text/plain": [
       "<Figure size 1440x576 with 1 Axes>"
      ]
     },
     "metadata": {
      "needs_background": "light"
     },
     "output_type": "display_data"
    }
   ],
   "source": [
    "# ТОП-5 самых популярных платформ в Северной Америке\n",
    "\n",
    "platform_na = data.groupby('platform')['na_sales'].sum().sort_values(ascending=False).head(5)\n",
    "platform_na.plot(x = 'platform', y = 'na_sales', \n",
    "                 kind = 'bar', figsize=(20,8), grid=True, title = 'ТОП-5 самых популярных платформ в Северной Америке')\n",
    "plt.xlabel('Платформа')\n",
    "plt.ylabel('Продажи экземпляров (млн.)')\n",
    "plt.show()"
   ]
  },
  {
   "cell_type": "markdown",
   "metadata": {},
   "source": [
    "За все время самая популярна Xbox 360."
   ]
  },
  {
   "cell_type": "code",
   "execution_count": 390,
   "metadata": {
    "scrolled": true
   },
   "outputs": [
    {
     "data": {
      "image/png": "[encoded data removed]",
      "text/plain": [
       "<Figure size 1152x288 with 1 Axes>"
      ]
     },
     "metadata": {
      "needs_background": "light"
     },
     "output_type": "display_data"
    }
   ],
   "source": [
    "platform_actual_na = platform_actual_new.groupby('platform')['na_sales'].sum().sort_values(ascending=False).head(5)\n",
    "platform_actual_na.plot(x = 'platform', y = 'na_sales', \n",
    "                        kind = 'bar', color='orange', figsize=(16,4), \n",
    "                        grid=True, title = 'ТОП-5 самых популярных платформ в Северной Америке')\n",
    "plt.xlabel('Платформа')\n",
    "plt.ylabel('Продажи экземпляров (млн.)')\n",
    "plt.show()"
   ]
  },
  {
   "cell_type": "markdown",
   "metadata": {},
   "source": [
    "После 2014 года PS4 обогнала Xbox в Северной Америке "
   ]
  },
  {
   "cell_type": "markdown",
   "metadata": {},
   "source": [
    "Теперь посмотрим топ 5 игр в Северной Америке за все время и за пеериод после 2014 года "
   ]
  },
  {
   "cell_type": "code",
   "execution_count": 376,
   "metadata": {},
   "outputs": [
    {
     "data": {
      "image/png": "[encoded data removed]",
      "text/plain": [
       "<Figure size 1440x576 with 1 Axes>"
      ]
     },
     "metadata": {
      "needs_background": "light"
     },
     "output_type": "display_data"
    }
   ],
   "source": [
    "genre_na = data.groupby('genre')['sum_sales'].sum()\n",
    "genre_na = data.groupby('genre')['na_sales'].sum().sort_values(ascending=False).head(5)\n",
    "genre_na.plot(x = 'genre', y = 'na_sales', \n",
    "              kind = 'bar', figsize=(20,8), grid=True, title = 'ТОП-5 самых популярных жанров в Северной Америке')\n",
    "plt.xlabel('Жанр')\n",
    "plt.ylabel('Продажи экземпляров (млн.)')\n",
    "plt.show()"
   ]
  },
  {
   "cell_type": "markdown",
   "metadata": {},
   "source": [
    "Самые популярные игры в Северной Америке за все время"
   ]
  },
  {
   "cell_type": "code",
   "execution_count": 375,
   "metadata": {},
   "outputs": [
    {
     "data": {
      "image/png": "[encoded data removed]",
      "text/plain": [
       "<Figure size 1440x576 with 1 Axes>"
      ]
     },
     "metadata": {
      "needs_background": "light"
     },
     "output_type": "display_data"
    }
   ],
   "source": [
    "genre_na_actual = platform_actual_new.groupby('genre')['sum_sales'].sum()\n",
    "genre_na_actual = platform_actual_new.groupby('genre')['na_sales'].sum().sort_values(ascending=False).head(5)\n",
    "genre_na_actual.plot(x = 'genre', y = 'na_sales', \n",
    "                     kind = 'bar', figsize=(20,8), grid=True, color='orange', title = 'ТОП-5 самых популярных жанров в Северной Америке')\n",
    "plt.xlabel('Жанр')\n",
    "plt.ylabel('Продажи экземпляров (млн.)')\n",
    "plt.show()"
   ]
  },
  {
   "cell_type": "markdown",
   "metadata": {},
   "source": [
    "После 2014 года Шутеры обогнали Экшн игры"
   ]
  },
  {
   "cell_type": "code",
   "execution_count": 371,
   "metadata": {},
   "outputs": [
    {
     "data": {
      "text/html": [
       "<div>\n",
       "<style scoped>\n",
       "    .dataframe tbody tr th:only-of-type {\n",
       "        vertical-align: middle;\n",
       "    }\n",
       "\n",
       "    .dataframe tbody tr th {\n",
       "        vertical-align: top;\n",
       "    }\n",
       "\n",
       "    .dataframe thead th {\n",
       "        text-align: right;\n",
       "    }\n",
       "</style>\n",
       "<table border=\"1\" class=\"dataframe\">\n",
       "  <thead>\n",
       "    <tr style=\"text-align: right;\">\n",
       "      <th></th>\n",
       "      <th>na_sales</th>\n",
       "    </tr>\n",
       "    <tr>\n",
       "      <th>rating</th>\n",
       "      <th></th>\n",
       "    </tr>\n",
       "  </thead>\n",
       "  <tbody>\n",
       "    <tr>\n",
       "      <th>M</th>\n",
       "      <td>96.42</td>\n",
       "    </tr>\n",
       "    <tr>\n",
       "      <th>unknown</th>\n",
       "      <td>64.72</td>\n",
       "    </tr>\n",
       "    <tr>\n",
       "      <th>E</th>\n",
       "      <td>50.74</td>\n",
       "    </tr>\n",
       "    <tr>\n",
       "      <th>T</th>\n",
       "      <td>38.95</td>\n",
       "    </tr>\n",
       "    <tr>\n",
       "      <th>E10+</th>\n",
       "      <td>33.23</td>\n",
       "    </tr>\n",
       "  </tbody>\n",
       "</table>\n",
       "</div>"
      ],
      "text/plain": [
       "         na_sales\n",
       "rating           \n",
       "M           96.42\n",
       "unknown     64.72\n",
       "E           50.74\n",
       "T           38.95\n",
       "E10+        33.23"
      ]
     },
     "execution_count": 371,
     "metadata": {},
     "output_type": "execute_result"
    }
   ],
   "source": [
    "top_rating_na = (\n",
    "    df_new.pivot_table(index='rating', values='na_sales', aggfunc='sum')\n",
    "    .sort_values('na_sales', ascending=False).head(5)\n",
    ")\n",
    "top_rating_na"
   ]
  },
  {
   "cell_type": "code",
   "execution_count": 405,
   "metadata": {},
   "outputs": [
    {
     "data": {
      "text/plain": [
       "<AxesSubplot:xlabel='rating'>"
      ]
     },
     "execution_count": 405,
     "metadata": {},
     "output_type": "execute_result"
    },
    {
     "data": {
      "image/png": "[encoded data removed]",
      "text/plain": [
       "<Figure size 432x288 with 1 Axes>"
      ]
     },
     "metadata": {
      "needs_background": "light"
     },
     "output_type": "display_data"
    }
   ],
   "source": [
    "top_rating_na.plot()"
   ]
  },
  {
   "cell_type": "markdown",
   "metadata": {},
   "source": [
    "<div class=\"alert-warning\"> \n",
    "<b>Комментарий ревьюера 💡</b> \n",
    "\n",
    "График не информативен толком, не подписан еще"
   ]
  },
  {
   "cell_type": "markdown",
   "metadata": {},
   "source": [
    "Пользователи EU"
   ]
  },
  {
   "cell_type": "code",
   "execution_count": 372,
   "metadata": {},
   "outputs": [
    {
     "data": {
      "image/png": "[encoded data removed]",
      "text/plain": [
       "<Figure size 1440x576 with 1 Axes>"
      ]
     },
     "metadata": {
      "needs_background": "light"
     },
     "output_type": "display_data"
    }
   ],
   "source": [
    "# ТОП-5 самых популярных платформ в Европе\n",
    "\n",
    "platform_na = data.groupby('platform')['eu_sales'].sum().sort_values(ascending=False).head(5)\n",
    "platform_na.plot(x = 'platform', y = 'eu_sales', \n",
    "                 kind = 'bar', figsize=(20,8), grid=True, title = 'ТОП-5 самых популярных платформ в Европе')\n",
    "plt.xlabel('Платформа')\n",
    "plt.ylabel('Продажи экземпляров (млн.)')\n",
    "plt.show()"
   ]
  },
  {
   "cell_type": "markdown",
   "metadata": {},
   "source": [
    "За все время самая популярная платформа в Европе это PS"
   ]
  },
  {
   "cell_type": "code",
   "execution_count": 389,
   "metadata": {},
   "outputs": [
    {
     "data": {
      "image/png": "[encoded data removed]",
      "text/plain": [
       "<Figure size 1440x576 with 1 Axes>"
      ]
     },
     "metadata": {
      "needs_background": "light"
     },
     "output_type": "display_data"
    }
   ],
   "source": [
    "platform_actual_eu = platform_actual_new.groupby('platform')['eu_sales'].sum().sort_values(ascending=False).head(5)\n",
    "platform_actual_eu.plot(x = 'platform', y = 'eu_sales', \n",
    "                        kind = 'bar', color='red', figsize=(20,8), grid=True, \n",
    "                        title = 'ТОП-5 самых популярных платформ в Европе после 2014г.')\n",
    "plt.xlabel('Платформа')\n",
    "plt.ylabel('Продажи экземпляров (млн.)')\n",
    "plt.show()"
   ]
  },
  {
   "cell_type": "markdown",
   "metadata": {},
   "source": [
    "После 2014 года в Европе лидером так же осталасть, но уже обновленная PS4"
   ]
  },
  {
   "cell_type": "markdown",
   "metadata": {},
   "source": [
    "Теперь посмотрим на жанры в Европе "
   ]
  },
  {
   "cell_type": "code",
   "execution_count": 388,
   "metadata": {},
   "outputs": [
    {
     "data": {
      "image/png": "[encoded data removed]",
      "text/plain": [
       "<Figure size 1440x576 with 1 Axes>"
      ]
     },
     "metadata": {
      "needs_background": "light"
     },
     "output_type": "display_data"
    }
   ],
   "source": [
    "genre_eu = data.groupby('genre')['sum_sales'].sum()\n",
    "genre_eu = data.groupby('genre')['eu_sales'].sum().sort_values(ascending=False).head(5)\n",
    "genre_eu.plot(x = 'genre', y = 'eu_sales', \n",
    "              kind = 'bar', figsize=(20,8), grid=True, \n",
    "              title = 'ТОП-5 самых популярных жанров в Европе')\n",
    "plt.xlabel('Жанр')\n",
    "plt.ylabel('Продажи экземпляров (млн.)')\n",
    "plt.show()"
   ]
  },
  {
   "cell_type": "code",
   "execution_count": 391,
   "metadata": {
    "scrolled": true
   },
   "outputs": [
    {
     "data": {
      "image/png": "[encoded data removed]",
      "text/plain": [
       "<Figure size 1440x576 with 1 Axes>"
      ]
     },
     "metadata": {
      "needs_background": "light"
     },
     "output_type": "display_data"
    }
   ],
   "source": [
    "genre_eu_actual = platform_actual_new.groupby('genre')['sum_sales'].sum()\n",
    "genre_eu_actual = platform_actual_new.groupby('genre')['eu_sales'].sum().sort_values(ascending=False).head(5)\n",
    "genre_eu_actual.plot(x = 'genre', y = 'na_sales', \n",
    "                     kind = 'bar', figsize=(20,8), grid=True, color='red', \n",
    "                     title = 'ТОП-5 самых популярных жанров в Европе после 2014 года')\n",
    "plt.xlabel('Жанр')\n",
    "plt.ylabel('Продажи экземпляров (млн.)')\n",
    "plt.show()"
   ]
  },
  {
   "cell_type": "code",
   "execution_count": 394,
   "metadata": {},
   "outputs": [
    {
     "data": {
      "text/html": [
       "<div>\n",
       "<style scoped>\n",
       "    .dataframe tbody tr th:only-of-type {\n",
       "        vertical-align: middle;\n",
       "    }\n",
       "\n",
       "    .dataframe tbody tr th {\n",
       "        vertical-align: top;\n",
       "    }\n",
       "\n",
       "    .dataframe thead th {\n",
       "        text-align: right;\n",
       "    }\n",
       "</style>\n",
       "<table border=\"1\" class=\"dataframe\">\n",
       "  <thead>\n",
       "    <tr style=\"text-align: right;\">\n",
       "      <th></th>\n",
       "      <th>eu_sales</th>\n",
       "    </tr>\n",
       "    <tr>\n",
       "      <th>rating</th>\n",
       "      <th></th>\n",
       "    </tr>\n",
       "  </thead>\n",
       "  <tbody>\n",
       "    <tr>\n",
       "      <th>M</th>\n",
       "      <td>93.44</td>\n",
       "    </tr>\n",
       "    <tr>\n",
       "      <th>unknown</th>\n",
       "      <td>58.95</td>\n",
       "    </tr>\n",
       "    <tr>\n",
       "      <th>E</th>\n",
       "      <td>58.06</td>\n",
       "    </tr>\n",
       "    <tr>\n",
       "      <th>T</th>\n",
       "      <td>34.07</td>\n",
       "    </tr>\n",
       "    <tr>\n",
       "      <th>E10+</th>\n",
       "      <td>26.16</td>\n",
       "    </tr>\n",
       "  </tbody>\n",
       "</table>\n",
       "</div>"
      ],
      "text/plain": [
       "         eu_sales\n",
       "rating           \n",
       "M           93.44\n",
       "unknown     58.95\n",
       "E           58.06\n",
       "T           34.07\n",
       "E10+        26.16"
      ]
     },
     "execution_count": 394,
     "metadata": {},
     "output_type": "execute_result"
    }
   ],
   "source": [
    "top_rating_eu = (\n",
    "    platform_actual_new.pivot_table(index='rating', values='eu_sales', aggfunc='sum')\n",
    "    .sort_values('eu_sales', ascending=False).head(5)\n",
    ")\n",
    "top_rating_eu"
   ]
  },
  {
   "cell_type": "code",
   "execution_count": 404,
   "metadata": {},
   "outputs": [
    {
     "data": {
      "text/plain": [
       "<AxesSubplot:xlabel='rating'>"
      ]
     },
     "execution_count": 404,
     "metadata": {},
     "output_type": "execute_result"
    },
    {
     "data": {
      "image/png": "[encoded data removed]",
      "text/plain": [
       "<Figure size 432x288 with 1 Axes>"
      ]
     },
     "metadata": {
      "needs_background": "light"
     },
     "output_type": "display_data"
    }
   ],
   "source": [
    "top_rating_eu.plot()"
   ]
  },
  {
   "cell_type": "markdown",
   "metadata": {},
   "source": [
    "Предпочтения по жанрам в Европе пояти не изменились "
   ]
  },
  {
   "cell_type": "markdown",
   "metadata": {},
   "source": [
    "Пользователи Jp"
   ]
  },
  {
   "cell_type": "code",
   "execution_count": 333,
   "metadata": {},
   "outputs": [
    {
     "data": {
      "image/png": "[encoded data removed]",
      "text/plain": [
       "<Figure size 1440x576 with 1 Axes>"
      ]
     },
     "metadata": {
      "needs_background": "light"
     },
     "output_type": "display_data"
    }
   ],
   "source": [
    "# ТОП-5 самых популярных платформ в Японии\n",
    "\n",
    "platform_jp = data.groupby('platform')['jp_sales'].sum().sort_values(ascending=False).head(5)\n",
    "platform_jp.plot(x = 'platform', y = 'jp_sales', kind = 'bar', figsize=(20,8), grid=True, title = 'ТОП-5 самых популярных платформ в Японии')\n",
    "plt.xlabel('Платформа')\n",
    "plt.ylabel('Продажи экземпляров (млн.)')\n",
    "plt.show()"
   ]
  },
  {
   "cell_type": "markdown",
   "metadata": {},
   "source": [
    "В Японии популярна платформам  Нинтендо, поколение карманных игровых консолей"
   ]
  },
  {
   "cell_type": "code",
   "execution_count": 336,
   "metadata": {},
   "outputs": [
    {
     "data": {
      "image/png": "[encoded data removed]",
      "text/plain": [
       "<Figure size 1440x576 with 1 Axes>"
      ]
     },
     "metadata": {
      "needs_background": "light"
     },
     "output_type": "display_data"
    }
   ],
   "source": [
    "platform_actual_jp = platform_actual_new.groupby('platform')['jp_sales'].sum().sort_values(ascending=False).head(5)\n",
    "platform_actual_jp.plot(x = 'platform', y = 'jp_sales', kind = 'bar', color='green', figsize=(20,8), grid=True, title = 'ТОП-5 самых популярных платформ в Японии после 2014г.')\n",
    "plt.xlabel('Платформа')\n",
    "plt.ylabel('Продажи экземпляров (млн.)')\n",
    "plt.show()"
   ]
  },
  {
   "cell_type": "markdown",
   "metadata": {},
   "source": [
    "После 2014 года, так же нинтенда самая популярная платформа, что интересно, в Японии не популярна платформа Xbox"
   ]
  },
  {
   "cell_type": "markdown",
   "metadata": {},
   "source": [
    "Теперь посмотрим на жанры в Японии"
   ]
  },
  {
   "cell_type": "code",
   "execution_count": 335,
   "metadata": {},
   "outputs": [
    {
     "data": {
      "image/png": "[encoded data removed]",
      "text/plain": [
       "<Figure size 1440x576 with 1 Axes>"
      ]
     },
     "metadata": {
      "needs_background": "light"
     },
     "output_type": "display_data"
    }
   ],
   "source": [
    "genre_jp = data.groupby('genre')['sum_sales'].sum()\n",
    "genre_jp = data.groupby('genre')['jp_sales'].sum().sort_values(ascending=False).head(5)\n",
    "genre_jp.plot(x = 'genre', y = 'jp_sales', kind = 'bar', figsize=(20,8), grid=True, title = 'ТОП-5 самых популярных жанров в Японни')\n",
    "plt.xlabel('Жанр')\n",
    "plt.ylabel('Продажи экземпляров (млн.)')\n",
    "plt.show()"
   ]
  },
  {
   "cell_type": "markdown",
   "metadata": {},
   "source": [
    "Самый популярный жанр за все время, RPG, этот жанр можно отнести к Нинтендо "
   ]
  },
  {
   "cell_type": "code",
   "execution_count": 338,
   "metadata": {},
   "outputs": [
    {
     "data": {
      "image/png": "[encoded data removed]",
      "text/plain": [
       "<Figure size 1440x576 with 1 Axes>"
      ]
     },
     "metadata": {
      "needs_background": "light"
     },
     "output_type": "display_data"
    }
   ],
   "source": [
    "genre_jp_actual = platform_actual_new.groupby('genre')['sum_sales'].sum()\n",
    "genre_jp_actual = platform_actual_new.groupby('genre')['jp_sales'].sum().sort_values(ascending=False).head(5)\n",
    "genre_jp_actual.plot(x = 'genre', y = 'na_sales', kind = 'bar', figsize=(20,8), grid=True, color='green', title = 'ТОП-5 самых популярных жанров в Японии после 2014 года')\n",
    "plt.xlabel('Жанр')\n",
    "plt.ylabel('Продажи экземпляров (млн.)')\n",
    "plt.show()"
   ]
  },
  {
   "cell_type": "markdown",
   "metadata": {},
   "source": [
    "Также самым поппулярным остался жанр RPG, так как нинтендо осталась самой популярной платформай, \n",
    "Экшн жанры так жее имеют популярность, Платформа PS вторая по популярности у Японцев "
   ]
  },
  {
   "cell_type": "markdown",
   "metadata": {},
   "source": [
    "Ну и для полной картины посмотрим во всех остальных регионах"
   ]
  },
  {
   "cell_type": "code",
   "execution_count": 395,
   "metadata": {},
   "outputs": [
    {
     "data": {
      "text/html": [
       "<div>\n",
       "<style scoped>\n",
       "    .dataframe tbody tr th:only-of-type {\n",
       "        vertical-align: middle;\n",
       "    }\n",
       "\n",
       "    .dataframe tbody tr th {\n",
       "        vertical-align: top;\n",
       "    }\n",
       "\n",
       "    .dataframe thead th {\n",
       "        text-align: right;\n",
       "    }\n",
       "</style>\n",
       "<table border=\"1\" class=\"dataframe\">\n",
       "  <thead>\n",
       "    <tr style=\"text-align: right;\">\n",
       "      <th></th>\n",
       "      <th>jp_sales</th>\n",
       "    </tr>\n",
       "    <tr>\n",
       "      <th>rating</th>\n",
       "      <th></th>\n",
       "    </tr>\n",
       "  </thead>\n",
       "  <tbody>\n",
       "    <tr>\n",
       "      <th>unknown</th>\n",
       "      <td>56.90</td>\n",
       "    </tr>\n",
       "    <tr>\n",
       "      <th>T</th>\n",
       "      <td>14.78</td>\n",
       "    </tr>\n",
       "    <tr>\n",
       "      <th>E</th>\n",
       "      <td>8.94</td>\n",
       "    </tr>\n",
       "    <tr>\n",
       "      <th>M</th>\n",
       "      <td>8.01</td>\n",
       "    </tr>\n",
       "    <tr>\n",
       "      <th>E10+</th>\n",
       "      <td>4.46</td>\n",
       "    </tr>\n",
       "  </tbody>\n",
       "</table>\n",
       "</div>"
      ],
      "text/plain": [
       "         jp_sales\n",
       "rating           \n",
       "unknown     56.90\n",
       "T           14.78\n",
       "E            8.94\n",
       "M            8.01\n",
       "E10+         4.46"
      ]
     },
     "execution_count": 395,
     "metadata": {},
     "output_type": "execute_result"
    }
   ],
   "source": [
    "top_rating_jp = (\n",
    "    platform_actual_new.pivot_table(index='rating', values='jp_sales', aggfunc='sum')\n",
    "    .sort_values('jp_sales', ascending=False).head(5)\n",
    ")\n",
    "top_rating_jp"
   ]
  },
  {
   "cell_type": "code",
   "execution_count": 403,
   "metadata": {},
   "outputs": [
    {
     "data": {
      "text/plain": [
       "<AxesSubplot:xlabel='rating'>"
      ]
     },
     "execution_count": 403,
     "metadata": {},
     "output_type": "execute_result"
    },
    {
     "data": {
      "image/png": "[encoded data removed]",
      "text/plain": [
       "<Figure size 432x288 with 1 Axes>"
      ]
     },
     "metadata": {
      "needs_background": "light"
     },
     "output_type": "display_data"
    }
   ],
   "source": [
    "top_rating_jp.plot()"
   ]
  },
  {
   "cell_type": "code",
   "execution_count": 339,
   "metadata": {},
   "outputs": [
    {
     "data": {
      "image/png": "[encoded data removed]",
      "text/plain": [
       "<Figure size 1440x576 with 1 Axes>"
      ]
     },
     "metadata": {
      "needs_background": "light"
     },
     "output_type": "display_data"
    }
   ],
   "source": [
    "# ТОП-5 самых популярных платформ в других регионах \n",
    "\n",
    "platform_other = data.groupby('platform')['other_sales'].sum().sort_values(ascending=False).head(5)\n",
    "platform_other.plot(x = 'platform', y = 'other_sales', kind = 'bar', figsize=(20,8), grid=True, title = 'ТОП-5 самых популярных платформ в Других регионах')\n",
    "plt.xlabel('Платформа')\n",
    "plt.ylabel('Продажи экземпляров (млн.)')\n",
    "plt.show()"
   ]
  },
  {
   "cell_type": "code",
   "execution_count": 341,
   "metadata": {},
   "outputs": [
    {
     "data": {
      "image/png": "[encoded data removed]",
      "text/plain": [
       "<Figure size 1440x576 with 1 Axes>"
      ]
     },
     "metadata": {
      "needs_background": "light"
     },
     "output_type": "display_data"
    }
   ],
   "source": [
    "platform_actual_other = platform_actual_new.groupby('platform')['other_sales'].sum().sort_values(ascending=False).head(5)\n",
    "platform_actual_other.plot(x = 'platform', y = 'other_sales', kind = 'bar', color='pink', figsize=(20,8), grid=True, title = 'ТОП-5 самых популярных платформ в других регионах после 2014г.')\n",
    "plt.xlabel('Платформа')\n",
    "plt.ylabel('Продажи экземпляров (млн.)')\n",
    "plt.show()"
   ]
  },
  {
   "cell_type": "markdown",
   "metadata": {},
   "source": [
    "По всем другим регионам самая  популярна платформа PS, так же после 2014 года обновленная PS4 заняла лидирующие позиции"
   ]
  },
  {
   "cell_type": "code",
   "execution_count": 342,
   "metadata": {},
   "outputs": [
    {
     "data": {
      "image/png": "[encoded data removed]",
      "text/plain": [
       "<Figure size 1440x576 with 1 Axes>"
      ]
     },
     "metadata": {
      "needs_background": "light"
     },
     "output_type": "display_data"
    }
   ],
   "source": [
    "genre_other = data.groupby('genre')['sum_sales'].sum()\n",
    "genre_other = data.groupby('genre')['other_sales'].sum().sort_values(ascending=False).head(5)\n",
    "genre_other.plot(x = 'genre', y = 'other_sales', kind = 'bar', figsize=(20,8), grid=True, title = 'ТОП-5 самых популярных жанров в в других регионах')\n",
    "plt.xlabel('Жанр')\n",
    "plt.ylabel('Продажи экземпляров (млн.)')\n",
    "plt.show()"
   ]
  },
  {
   "cell_type": "code",
   "execution_count": 344,
   "metadata": {},
   "outputs": [
    {
     "data": {
      "image/png": "[encoded data removed]",
      "text/plain": [
       "<Figure size 1440x576 with 1 Axes>"
      ]
     },
     "metadata": {
      "needs_background": "light"
     },
     "output_type": "display_data"
    }
   ],
   "source": [
    "genre_other_actual = platform_actual_new.groupby('genre')['sum_sales'].sum()\n",
    "genre_other_actual = platform_actual_new.groupby('genre')['other_sales'].sum().sort_values(ascending=False).head(5)\n",
    "genre_other_actual.plot(x = 'genre', y = 'other_sales', kind = 'bar', figsize=(20,8), grid=True, color='pink', title = 'ТОП-5 самых популярных жанров в дрругих регионах после 2014 года')\n",
    "plt.xlabel('Жанр')\n",
    "plt.ylabel('Продажи экземпляров (млн.)')\n",
    "plt.show()"
   ]
  },
  {
   "cell_type": "code",
   "execution_count": 401,
   "metadata": {},
   "outputs": [
    {
     "data": {
      "text/html": [
       "<div>\n",
       "<style scoped>\n",
       "    .dataframe tbody tr th:only-of-type {\n",
       "        vertical-align: middle;\n",
       "    }\n",
       "\n",
       "    .dataframe tbody tr th {\n",
       "        vertical-align: top;\n",
       "    }\n",
       "\n",
       "    .dataframe thead th {\n",
       "        text-align: right;\n",
       "    }\n",
       "</style>\n",
       "<table border=\"1\" class=\"dataframe\">\n",
       "  <thead>\n",
       "    <tr style=\"text-align: right;\">\n",
       "      <th></th>\n",
       "      <th>other_sales</th>\n",
       "    </tr>\n",
       "    <tr>\n",
       "      <th>rating</th>\n",
       "      <th></th>\n",
       "    </tr>\n",
       "  </thead>\n",
       "  <tbody>\n",
       "    <tr>\n",
       "      <th>M</th>\n",
       "      <td>28.67</td>\n",
       "    </tr>\n",
       "    <tr>\n",
       "      <th>unknown</th>\n",
       "      <td>18.40</td>\n",
       "    </tr>\n",
       "    <tr>\n",
       "      <th>E</th>\n",
       "      <td>15.39</td>\n",
       "    </tr>\n",
       "    <tr>\n",
       "      <th>T</th>\n",
       "      <td>11.33</td>\n",
       "    </tr>\n",
       "    <tr>\n",
       "      <th>E10+</th>\n",
       "      <td>7.83</td>\n",
       "    </tr>\n",
       "  </tbody>\n",
       "</table>\n",
       "</div>"
      ],
      "text/plain": [
       "         other_sales\n",
       "rating              \n",
       "M              28.67\n",
       "unknown        18.40\n",
       "E              15.39\n",
       "T              11.33\n",
       "E10+            7.83"
      ]
     },
     "execution_count": 401,
     "metadata": {},
     "output_type": "execute_result"
    }
   ],
   "source": [
    "top_rating_other = (\n",
    "    platform_actual_new.pivot_table(index='rating', values='other_sales', aggfunc='sum')\n",
    "    .sort_values('other_sales', ascending=False).head(5)\n",
    ")\n",
    "top_rating_other\n"
   ]
  },
  {
   "cell_type": "code",
   "execution_count": 402,
   "metadata": {},
   "outputs": [
    {
     "data": {
      "text/plain": [
       "<AxesSubplot:xlabel='rating'>"
      ]
     },
     "execution_count": 402,
     "metadata": {},
     "output_type": "execute_result"
    },
    {
     "data": {
      "image/png": "[encoded data removed]",
      "text/plain": [
       "<Figure size 432x288 with 1 Axes>"
      ]
     },
     "metadata": {
      "needs_background": "light"
     },
     "output_type": "display_data"
    }
   ],
   "source": [
    "top_rating_other.plot()"
   ]
  },
  {
   "cell_type": "markdown",
   "metadata": {},
   "source": [
    "<ul>Для Северной Америки самыми популярными являются игры с возрастным ограничением:</ul>\n",
    "<li>Для взрослых</li>\n",
    "<li>Без рейтинга</li>\n",
    "<li>Для подростков</li>\n",
    "<li>Для всех от 10 лет</li>\n",
    "<ul>Для Европейского региона самыми популярными являются игры с возрастным ограничением:</ul>\n",
    "<li>Для взрослых</li>\n",
    "<li>Без рейтинга</li>\n",
    "<li>Для подростков</li>\n",
    "<li>Для всех от 10 лет</li>\n",
    "<ul>Для Японии самыми популярными являются игры с возрастным ограничением:</ul>\n",
    "<li>Без рейтинга</li>\n",
    "<li>Для подростков</li>\n",
    "<li>Для всех</li>\n",
    "<li>Для взрослых</li>\n",
    "<li>Для всех от 10 лет</li>"
   ]
  },
  {
   "cell_type": "markdown",
   "metadata": {},
   "source": [
    "Экшн самый популярный жанр во всех остальных регионах "
   ]
  },
  {
   "cell_type": "markdown",
   "metadata": {},
   "source": [
    "По общему выводу Япония отличается от всех остальных регионах, у них популярны протативные платформы нинтендо и жанр rpg. \n",
    "В Америке популярна платформа xbox, как ни странно это Американский производитель,\n",
    "после 2014 года PS4 обогнала Xbox, самые популярные жанры это экшн и шутер. \n",
    "В Европе и остальых регионах популярна платфора PS. "
   ]
  },
  {
   "cell_type": "markdown",
   "metadata": {},
   "source": [
    "По рейтингу ESRB самые популярные игры \"17+\" и \"для всех\", на Японский рынок стоит идти в том числе с \"13+\".\n",
    "в Северной Америке - M\n",
    "в Европе - M\n",
    "в Японии - жанр неопределён\n",
    "в других странах - M\n",
    "\n"
   ]
  },
  {
   "cell_type": "markdown",
   "metadata": {},
   "source": [
    "<div class=\"alert-danger\"> \n",
    "<b>Комментарий ревьюера ❌</b> \n",
    "\n",
    "Как-то не очень связано, стоит испрваить. Например, сначала график про ESRB, потом про action, потом снова \"Влияние рейтинга ESRB на продажи\""
   ]
  },
  {
   "cell_type": "markdown",
   "metadata": {},
   "source": [
    "<h3>Проверка гипотиз</h3>"
   ]
  },
  {
   "cell_type": "markdown",
   "metadata": {},
   "source": [
    "Нулевая гипотеза (H₀) всегда формируется так, чтобы использовать знак равенства.\n",
    "Исходя из формулировки H₀ формуриуется альтернативная гипотеза (H₁). Это утверждение, \n",
    "которое принимается верным, когда отбрасывается нулевая гипотеза.\n",
    "Логика проверки.\n"
   ]
  },
  {
   "cell_type": "markdown",
   "metadata": {},
   "source": [
    "Сформируем гипотезу.*\n",
    "\n",
    "Задача сравнить средние значения двух совокупносетей, XBox - это игровая консоль, PC - это персональный компьютер. \n",
    "Для сравнения будем использовать независимый выборочный t-критерий.  "
   ]
  },
  {
   "cell_type": "markdown",
   "metadata": {},
   "source": [
    "наиболее распространенным выбором альфа-уровня проверки гипотезы является 0,05, будем испоьзовавать это значение"
   ]
  },
  {
   "cell_type": "code",
   "execution_count": 366,
   "metadata": {},
   "outputs": [],
   "source": [
    "xone_hypot = data.query('platform == \"XOne\" and user_score != 0')\n",
    "pc_hypot = data.query('platform == \"PC\" and user_score != 0')"
   ]
  },
  {
   "cell_type": "code",
   "execution_count": 367,
   "metadata": {},
   "outputs": [
    {
     "data": {
      "image/png": "[encoded data removed]",
      "text/plain": [
       "<Figure size 432x288 with 1 Axes>"
      ]
     },
     "metadata": {
      "needs_background": "light"
     },
     "output_type": "display_data"
    }
   ],
   "source": [
    "xone_hypot['user_score'].hist(bins=100, alpha=0.7, label='Action')\n",
    "pc_hypot['user_score'].hist(bins=100, alpha=0.7, label='Sports')\n",
    "plt.title('Гистограмма по пользовательскому рейтингу')\n",
    "plt.xlabel('рейтинг')\n",
    "plt.legend(loc='best')\n",
    "plt.show()"
   ]
  },
  {
   "cell_type": "code",
   "execution_count": 368,
   "metadata": {},
   "outputs": [
    {
     "name": "stdout",
     "output_type": "stream",
     "text": [
      "p-значение:  1.303797962014908e-05\n",
      "Отвергаем нулевую гипотезу\n"
     ]
    }
   ],
   "source": [
    "alpha = .05\n",
    "results = st.ttest_ind(xone_hypot['user_score'], pc_hypot['user_score'], nan_policy='omit')\n",
    "print('p-значение: ', results.pvalue)\n",
    "\n",
    "if results.pvalue < alpha:\n",
    "    print(\"Отвергаем нулевую гипотезу\")\n",
    "else:\n",
    "    print(\"Не получилось отвергнуть нулевую гипотезу\") "
   ]
  },
  {
   "cell_type": "markdown",
   "metadata": {},
   "source": [
    "Сформируем гипотезу.*\n",
    "\n",
    "H₀: Средние пользовательские рейтинги жанра Action равны cредним пользовательским рейтингам жанра Sports.\n",
    "\n",
    "H₁: Средние пользовательские рейтинги жанров Action и cредние пользовательские рейтинги пжанра Sports различаются. \n",
    "Альтернативная гипотеза говорит о проверке равенства средних двух генеральных совокупностей.\n",
    "\n",
    "Дополнительно сравним дисперсии выборок до проверки гипотез, чтобы понять с каким параметром equal_var использовать \n",
    "метод проверки ttest_ind"
   ]
  },
  {
   "cell_type": "code",
   "execution_count": 353,
   "metadata": {},
   "outputs": [],
   "source": [
    "action_hypot = data.query('genre == \"Action\" and user_score != 0')\n",
    "sports_hypot = data.query('genre == \"Sports\" and user_score != 0')"
   ]
  },
  {
   "cell_type": "code",
   "execution_count": 355,
   "metadata": {},
   "outputs": [
    {
     "data": {
      "image/png": "[encoded data removed]",
      "text/plain": [
       "<Figure size 432x288 with 1 Axes>"
      ]
     },
     "metadata": {
      "needs_background": "light"
     },
     "output_type": "display_data"
    }
   ],
   "source": [
    "action_hypot['user_score'].hist(bins=100, alpha=0.7, label='Action')\n",
    "sports_hypot['user_score'].hist(bins=100, alpha=0.7, label='Sports')\n",
    "plt.title('Гистограмма по пользовательскому рейтингу')\n",
    "plt.xlabel('рейтинг')\n",
    "plt.legend(loc='best')\n",
    "plt.show()"
   ]
  },
  {
   "cell_type": "code",
   "execution_count": 363,
   "metadata": {},
   "outputs": [
    {
     "name": "stdout",
     "output_type": "stream",
     "text": [
      "p-значение:  0.06480928064421196\n",
      "Не получилось отвергнуть нулевую гипотезу\n"
     ]
    }
   ],
   "source": [
    "alpha = .05\n",
    "results = st.ttest_ind(action_hypot['user_score'], sports_hypot['user_score'], nan_policy='omit')\n",
    "print('p-значение: ', results.pvalue)\n",
    "\n",
    "if results.pvalue < alpha:\n",
    "    print(\"Отвергаем нулевую гипотезу\")\n",
    "else:\n",
    "    print(\"Не получилось отвергнуть нулевую гипотезу\") "
   ]
  },
  {
   "cell_type": "markdown",
   "metadata": {},
   "source": [
    "<div class=\"alert-danger\"> \n",
    "<b>Комментарий ревьюера ❌</b> \n",
    "\n",
    "Ничего не сказано про выбранный статистический тест (критерий). Подробнее: https://habr.com/en/company/uchi_ru/blog/500918/"
   ]
  },
  {
   "cell_type": "markdown",
   "metadata": {},
   "source": [
    "<div class=\"alert-danger\"> \n",
    "<b>Комментарий ревьюера ❌</b> \n",
    "\n",
    "Не сформулированы гипотезы. Подробнее: https://allatambov.github.io/psms/pdf/hypo-test.pdf"
   ]
  },
  {
   "cell_type": "markdown",
   "metadata": {},
   "source": [
    "<div class=\"alert-success\"> \n",
    "<b>Комментарий ревьюера 👍 Вторая итерация </b>\n",
    "\n",
    "Все исправлено)"
   ]
  },
  {
   "cell_type": "markdown",
   "metadata": {},
   "source": [
    "<h3>Общий вывод</h3>"
   ]
  },
  {
   "cell_type": "markdown",
   "metadata": {},
   "source": [
    "С 90х годов и по 2008 был активный рост релизов игр, после 2008 года пошел спад релизов. \n",
    "Актуальность жизни платформ в среднем 5 лет, ладее вызодит обновленная версия игра, пользователи активно скупают и переходят \n",
    "на новые версии платформ. У старых платформ идет спад. \n",
    "Определили актуальный период начиная с 2014 года, когда вышли новые версии PS4 и Xone.\n",
    "Большее влияние на продажи оказывают отзывы критиков, а отзывы пользователей в большинстве случаев не имеет влияния на продажи.\n",
    "Основные жанры игр - Action, Shooter, Sports, в Японии это RPG так как уних долгое время популярона платформа нинтендо. \n",
    "Рейтинг ESRB не влияет на продажи игр.\n",
    "Проверенные гипотезы:\n",
    "Средние пользовательские рейтинги платформ Xbox One и PC различаются\n",
    "Средние пользовательские рейтинги жанров Action и Sports одинаковые\n"
   ]
  },
  {
   "cell_type": "markdown",
   "metadata": {},
   "source": [
    "<div class=\"alert-warning\"> \n",
    "<b>Комментарий ревьюера 💡</b> \n",
    "\n",
    "Вывод можно расширить, дополнить. Рассказать о том, как ты к этому пришел. Построил какие-то графики, провел исследовательский анализ данных и т.д., т.е. в нем стоит описывать не только итоги проекта, но и некоторый путь к этим итогам, краткую выжимку твоей работы. \n",
    "    \n",
    "Также можно представить, что ты готовишь какие-то рекомендации бизнесу, поэтому презентовать им некоторые рекомендации, идеи, как они могут использовать результаты твоего проекта"
   ]
  },
  {
   "cell_type": "markdown",
   "metadata": {},
   "source": [
    "<div class=\"alert-danger\"> \n",
    "<b>Комментарий ревьюера ❌</b> \n",
    "    \n",
    "Отличный проект, тобою проделана большая работа, ты молодец!\n",
    "    \n",
    "Сперва похвалю за наличие везде в проекте промежуточных выводов, комментариев и рассуждений. По коду вопросов также практически нет, в том числе у тебя хорошие графики и визуализация имеющихся данных. Каждый пункт у тебя достаточно хороший, просто в каждом из них есть по ошибке. Тем не менее, я уверен, что ты довольно легко с ними сможешь справиться\n",
    "\n",
    "Что обязательно стоит доработать: написать, какой статистический критерий для проверки гипотез был выбран и почему именно он; сформулировать гипотезы; немного исправить пункт составления портретов пользователей; доработать пункт с подготовкой данных; добавить вступление в проект.\n",
    "\n",
    "Также я оставил несколько желтых комментариев. Думаю, и они будут тебе полезны.\n",
    "\n",
    "Буду ждать доработок :) Удачи!"
   ]
  },
  {
   "cell_type": "markdown",
   "metadata": {},
   "source": [
    "<div class=\"alert-success\"> \n",
    "<b>Комментарий ревьюера 👍 Вторая итерация </b>\n",
    "\n",
    "Все ошибки исправлены, проект стал еще лучше, принимаю. Успехов в дальнейшей учебе!"
   ]
  }
 ],
 "metadata": {
  "ExecuteTimeLog": [
   {
    "duration": 417,
    "start_time": "2023-03-03T15:29:35.684Z"
   },
   {
    "duration": 226,
    "start_time": "2023-03-03T15:30:02.335Z"
   },
   {
    "duration": 60,
    "start_time": "2023-03-03T15:30:09.812Z"
   },
   {
    "duration": 95,
    "start_time": "2023-03-03T15:30:16.620Z"
   },
   {
    "duration": 24,
    "start_time": "2023-03-03T15:30:29.796Z"
   },
   {
    "duration": 18,
    "start_time": "2023-03-03T15:30:42.692Z"
   },
   {
    "duration": 10,
    "start_time": "2023-03-03T15:30:51.078Z"
   },
   {
    "duration": 7,
    "start_time": "2023-03-03T15:30:53.829Z"
   },
   {
    "duration": 8,
    "start_time": "2023-03-03T15:31:07.283Z"
   },
   {
    "duration": 9,
    "start_time": "2023-03-03T15:31:10.636Z"
   },
   {
    "duration": 8,
    "start_time": "2023-03-03T15:31:13.288Z"
   },
   {
    "duration": 9,
    "start_time": "2023-03-03T15:31:17.783Z"
   },
   {
    "duration": 3,
    "start_time": "2023-03-03T15:32:03.392Z"
   },
   {
    "duration": 16,
    "start_time": "2023-03-03T15:32:17.467Z"
   },
   {
    "duration": 12,
    "start_time": "2023-03-03T15:34:49.332Z"
   },
   {
    "duration": 13,
    "start_time": "2023-03-03T15:35:43.737Z"
   },
   {
    "duration": 35,
    "start_time": "2023-03-03T15:49:26.287Z"
   },
   {
    "duration": 9,
    "start_time": "2023-03-03T15:50:43.802Z"
   },
   {
    "duration": 19,
    "start_time": "2023-03-03T15:52:26.603Z"
   },
   {
    "duration": 67,
    "start_time": "2023-03-03T15:52:35.301Z"
   },
   {
    "duration": 18,
    "start_time": "2023-03-03T15:56:01.464Z"
   },
   {
    "duration": 10,
    "start_time": "2023-03-03T16:02:56.084Z"
   },
   {
    "duration": 10,
    "start_time": "2023-03-03T16:03:06.300Z"
   },
   {
    "duration": 1297,
    "start_time": "2023-03-03T16:03:41.580Z"
   },
   {
    "duration": 28,
    "start_time": "2023-03-03T16:04:06.969Z"
   },
   {
    "duration": 12,
    "start_time": "2023-03-03T16:04:08.665Z"
   },
   {
    "duration": 5,
    "start_time": "2023-03-03T16:05:17.184Z"
   },
   {
    "duration": 211,
    "start_time": "2023-03-03T16:05:34.086Z"
   },
   {
    "duration": 9,
    "start_time": "2023-03-03T16:06:48.328Z"
   },
   {
    "duration": 10,
    "start_time": "2023-03-03T16:06:53.889Z"
   },
   {
    "duration": 17,
    "start_time": "2023-03-03T16:07:16.028Z"
   },
   {
    "duration": 12,
    "start_time": "2023-03-03T16:07:35.402Z"
   },
   {
    "duration": 7,
    "start_time": "2023-03-03T16:12:04.476Z"
   },
   {
    "duration": 20,
    "start_time": "2023-03-03T16:12:25.302Z"
   },
   {
    "duration": 13,
    "start_time": "2023-03-03T16:12:31.879Z"
   },
   {
    "duration": 11,
    "start_time": "2023-03-03T16:12:49.535Z"
   },
   {
    "duration": 121,
    "start_time": "2023-03-03T16:13:38.205Z"
   },
   {
    "duration": 10,
    "start_time": "2023-03-03T16:13:51.597Z"
   },
   {
    "duration": 9,
    "start_time": "2023-03-03T16:13:54.872Z"
   },
   {
    "duration": 129,
    "start_time": "2023-03-03T16:13:55.384Z"
   },
   {
    "duration": 4,
    "start_time": "2023-03-03T16:14:04.295Z"
   },
   {
    "duration": 52,
    "start_time": "2023-03-03T16:14:04.475Z"
   },
   {
    "duration": 17,
    "start_time": "2023-03-03T16:14:04.618Z"
   },
   {
    "duration": 21,
    "start_time": "2023-03-03T16:14:04.784Z"
   },
   {
    "duration": 3,
    "start_time": "2023-03-03T16:14:04.912Z"
   },
   {
    "duration": 829,
    "start_time": "2023-03-03T16:14:05.067Z"
   },
   {
    "duration": 32,
    "start_time": "2023-03-03T16:14:05.898Z"
   },
   {
    "duration": 20,
    "start_time": "2023-03-03T16:14:05.933Z"
   },
   {
    "duration": 17,
    "start_time": "2023-03-03T16:14:05.955Z"
   },
   {
    "duration": 203,
    "start_time": "2023-03-03T16:14:05.974Z"
   },
   {
    "duration": 10,
    "start_time": "2023-03-03T16:14:06.178Z"
   },
   {
    "duration": 47,
    "start_time": "2023-03-03T16:14:06.190Z"
   },
   {
    "duration": 44,
    "start_time": "2023-03-03T16:14:06.240Z"
   },
   {
    "duration": 14,
    "start_time": "2023-03-03T16:14:06.286Z"
   },
   {
    "duration": 11,
    "start_time": "2023-03-03T16:14:06.640Z"
   },
   {
    "duration": 128,
    "start_time": "2023-03-03T16:14:06.796Z"
   },
   {
    "duration": 7,
    "start_time": "2023-03-03T16:26:20.979Z"
   },
   {
    "duration": 3,
    "start_time": "2023-03-03T16:27:33.472Z"
   },
   {
    "duration": 55,
    "start_time": "2023-03-03T16:27:33.623Z"
   },
   {
    "duration": 18,
    "start_time": "2023-03-03T16:27:33.789Z"
   },
   {
    "duration": 14,
    "start_time": "2023-03-03T16:27:33.941Z"
   },
   {
    "duration": 3,
    "start_time": "2023-03-03T16:27:34.098Z"
   },
   {
    "duration": 868,
    "start_time": "2023-03-03T16:27:34.284Z"
   },
   {
    "duration": 33,
    "start_time": "2023-03-03T16:27:35.154Z"
   },
   {
    "duration": 10,
    "start_time": "2023-03-03T16:27:35.188Z"
   },
   {
    "duration": 14,
    "start_time": "2023-03-03T16:27:35.200Z"
   },
   {
    "duration": 190,
    "start_time": "2023-03-03T16:27:35.216Z"
   },
   {
    "duration": 12,
    "start_time": "2023-03-03T16:27:35.407Z"
   },
   {
    "duration": 38,
    "start_time": "2023-03-03T16:27:35.421Z"
   },
   {
    "duration": 15,
    "start_time": "2023-03-03T16:27:35.537Z"
   },
   {
    "duration": 13,
    "start_time": "2023-03-03T16:27:36.012Z"
   },
   {
    "duration": 9,
    "start_time": "2023-03-03T16:27:36.176Z"
   },
   {
    "duration": 13,
    "start_time": "2023-03-03T16:27:42.093Z"
   },
   {
    "duration": 3,
    "start_time": "2023-03-03T16:27:47.332Z"
   },
   {
    "duration": 52,
    "start_time": "2023-03-03T16:27:47.483Z"
   },
   {
    "duration": 18,
    "start_time": "2023-03-03T16:27:47.618Z"
   },
   {
    "duration": 19,
    "start_time": "2023-03-03T16:27:47.776Z"
   },
   {
    "duration": 4,
    "start_time": "2023-03-03T16:27:47.907Z"
   },
   {
    "duration": 834,
    "start_time": "2023-03-03T16:27:48.068Z"
   },
   {
    "duration": 42,
    "start_time": "2023-03-03T16:27:48.904Z"
   },
   {
    "duration": 10,
    "start_time": "2023-03-03T16:27:48.948Z"
   },
   {
    "duration": 5,
    "start_time": "2023-03-03T16:27:48.960Z"
   },
   {
    "duration": 205,
    "start_time": "2023-03-03T16:27:48.966Z"
   },
   {
    "duration": 12,
    "start_time": "2023-03-03T16:27:49.174Z"
   },
   {
    "duration": 26,
    "start_time": "2023-03-03T16:27:49.188Z"
   },
   {
    "duration": 17,
    "start_time": "2023-03-03T16:27:49.292Z"
   },
   {
    "duration": 12,
    "start_time": "2023-03-03T16:27:49.776Z"
   },
   {
    "duration": 10,
    "start_time": "2023-03-03T16:28:07.210Z"
   },
   {
    "duration": 10,
    "start_time": "2023-03-03T16:28:11.003Z"
   },
   {
    "duration": 11,
    "start_time": "2023-03-03T16:28:38.315Z"
   },
   {
    "duration": 11,
    "start_time": "2023-03-03T16:29:03.740Z"
   },
   {
    "duration": 11,
    "start_time": "2023-03-03T16:29:18.211Z"
   },
   {
    "duration": 11,
    "start_time": "2023-03-03T16:29:26.071Z"
   },
   {
    "duration": 5,
    "start_time": "2023-03-03T16:29:41.712Z"
   },
   {
    "duration": 51,
    "start_time": "2023-03-03T16:30:22.693Z"
   },
   {
    "duration": 62,
    "start_time": "2023-03-03T16:30:26.680Z"
   },
   {
    "duration": 5,
    "start_time": "2023-03-03T16:30:33.200Z"
   },
   {
    "duration": 6,
    "start_time": "2023-03-03T16:32:01.991Z"
   },
   {
    "duration": 10,
    "start_time": "2023-03-03T16:32:16.224Z"
   },
   {
    "duration": 9,
    "start_time": "2023-03-03T16:32:23.592Z"
   },
   {
    "duration": 4,
    "start_time": "2023-03-03T16:32:33.885Z"
   },
   {
    "duration": 6,
    "start_time": "2023-03-03T16:33:01.876Z"
   },
   {
    "duration": 4,
    "start_time": "2023-03-03T16:38:13.200Z"
   },
   {
    "duration": 13,
    "start_time": "2023-03-03T16:38:15.571Z"
   },
   {
    "duration": 10,
    "start_time": "2023-03-03T16:38:15.995Z"
   },
   {
    "duration": 5,
    "start_time": "2023-03-03T16:38:16.175Z"
   },
   {
    "duration": 7,
    "start_time": "2023-03-03T16:38:23.839Z"
   },
   {
    "duration": 21,
    "start_time": "2023-03-03T16:46:51.140Z"
   },
   {
    "duration": 7,
    "start_time": "2023-03-03T16:47:42.681Z"
   },
   {
    "duration": 6,
    "start_time": "2023-03-03T16:51:35.685Z"
   },
   {
    "duration": 5,
    "start_time": "2023-03-03T18:05:22.995Z"
   },
   {
    "duration": 188,
    "start_time": "2023-03-03T18:06:44.182Z"
   },
   {
    "duration": 8,
    "start_time": "2023-03-03T18:08:03.629Z"
   },
   {
    "duration": 3,
    "start_time": "2023-03-03T18:08:34.724Z"
   },
   {
    "duration": 50,
    "start_time": "2023-03-03T18:08:34.910Z"
   },
   {
    "duration": 16,
    "start_time": "2023-03-03T18:08:35.057Z"
   },
   {
    "duration": 16,
    "start_time": "2023-03-03T18:08:35.194Z"
   },
   {
    "duration": 3,
    "start_time": "2023-03-03T18:08:35.354Z"
   },
   {
    "duration": 880,
    "start_time": "2023-03-03T18:08:35.478Z"
   },
   {
    "duration": 33,
    "start_time": "2023-03-03T18:08:36.360Z"
   },
   {
    "duration": 10,
    "start_time": "2023-03-03T18:08:36.395Z"
   },
   {
    "duration": 5,
    "start_time": "2023-03-03T18:08:36.407Z"
   },
   {
    "duration": 196,
    "start_time": "2023-03-03T18:08:36.414Z"
   },
   {
    "duration": 10,
    "start_time": "2023-03-03T18:08:36.612Z"
   },
   {
    "duration": 34,
    "start_time": "2023-03-03T18:08:36.624Z"
   },
   {
    "duration": 11,
    "start_time": "2023-03-03T18:08:36.660Z"
   },
   {
    "duration": 9,
    "start_time": "2023-03-03T18:08:36.690Z"
   },
   {
    "duration": 8,
    "start_time": "2023-03-03T18:08:36.773Z"
   },
   {
    "duration": 5,
    "start_time": "2023-03-03T18:08:36.897Z"
   },
   {
    "duration": 5,
    "start_time": "2023-03-03T18:08:37.092Z"
   },
   {
    "duration": 11,
    "start_time": "2023-03-03T18:08:37.305Z"
   },
   {
    "duration": 13,
    "start_time": "2023-03-03T18:08:37.389Z"
   },
   {
    "duration": 4,
    "start_time": "2023-03-03T18:08:37.524Z"
   },
   {
    "duration": 6,
    "start_time": "2023-03-03T18:08:37.599Z"
   },
   {
    "duration": 20,
    "start_time": "2023-03-03T18:08:37.726Z"
   },
   {
    "duration": 6,
    "start_time": "2023-03-03T18:08:37.977Z"
   },
   {
    "duration": 5,
    "start_time": "2023-03-03T18:08:38.074Z"
   },
   {
    "duration": 9,
    "start_time": "2023-03-03T18:08:38.285Z"
   },
   {
    "duration": 4,
    "start_time": "2023-03-03T18:10:06.563Z"
   },
   {
    "duration": 19,
    "start_time": "2023-03-03T18:10:07.224Z"
   },
   {
    "duration": 6,
    "start_time": "2023-03-03T18:10:13.811Z"
   },
   {
    "duration": 4,
    "start_time": "2023-03-03T18:10:27.324Z"
   },
   {
    "duration": 6,
    "start_time": "2023-03-03T18:10:27.785Z"
   },
   {
    "duration": 4,
    "start_time": "2023-03-03T18:11:44.720Z"
   },
   {
    "duration": 5,
    "start_time": "2023-03-03T18:11:45.232Z"
   },
   {
    "duration": 826,
    "start_time": "2023-03-03T18:12:12.118Z"
   },
   {
    "duration": 6,
    "start_time": "2023-03-03T18:12:30.427Z"
   },
   {
    "duration": 4,
    "start_time": "2023-03-03T18:16:56.715Z"
   },
   {
    "duration": 6,
    "start_time": "2023-03-03T18:17:00.925Z"
   },
   {
    "duration": 5,
    "start_time": "2023-03-03T18:35:38.568Z"
   },
   {
    "duration": 5,
    "start_time": "2023-03-03T18:35:39.020Z"
   },
   {
    "duration": 40,
    "start_time": "2023-03-03T18:38:19.632Z"
   },
   {
    "duration": 7,
    "start_time": "2023-03-03T18:46:36.175Z"
   },
   {
    "duration": 23,
    "start_time": "2023-03-03T18:46:45.858Z"
   },
   {
    "duration": 50,
    "start_time": "2023-03-03T18:48:56.123Z"
   },
   {
    "duration": 84,
    "start_time": "2023-03-03T18:49:00.015Z"
   },
   {
    "duration": 581,
    "start_time": "2023-03-03T18:51:29.324Z"
   },
   {
    "duration": 50,
    "start_time": "2023-03-03T18:51:29.907Z"
   },
   {
    "duration": 17,
    "start_time": "2023-03-03T18:51:29.959Z"
   },
   {
    "duration": 29,
    "start_time": "2023-03-03T18:51:29.979Z"
   },
   {
    "duration": 11,
    "start_time": "2023-03-03T18:51:30.010Z"
   },
   {
    "duration": 903,
    "start_time": "2023-03-03T18:51:30.089Z"
   },
   {
    "duration": 52,
    "start_time": "2023-03-03T18:51:30.994Z"
   },
   {
    "duration": 12,
    "start_time": "2023-03-03T18:51:31.048Z"
   },
   {
    "duration": 17,
    "start_time": "2023-03-03T18:51:31.063Z"
   },
   {
    "duration": 199,
    "start_time": "2023-03-03T18:51:31.082Z"
   },
   {
    "duration": 11,
    "start_time": "2023-03-03T18:51:31.320Z"
   },
   {
    "duration": 17,
    "start_time": "2023-03-03T18:51:31.869Z"
   },
   {
    "duration": 12,
    "start_time": "2023-03-03T18:51:32.064Z"
   },
   {
    "duration": 10,
    "start_time": "2023-03-03T18:51:32.471Z"
   },
   {
    "duration": 9,
    "start_time": "2023-03-03T18:51:32.607Z"
   },
   {
    "duration": 6,
    "start_time": "2023-03-03T18:51:32.835Z"
   },
   {
    "duration": 5,
    "start_time": "2023-03-03T18:51:32.923Z"
   },
   {
    "duration": 20,
    "start_time": "2023-03-03T18:51:33.081Z"
   },
   {
    "duration": 13,
    "start_time": "2023-03-03T18:51:33.321Z"
   },
   {
    "duration": 5,
    "start_time": "2023-03-03T18:51:33.445Z"
   },
   {
    "duration": 6,
    "start_time": "2023-03-03T18:51:33.589Z"
   },
   {
    "duration": 34,
    "start_time": "2023-03-03T18:51:33.690Z"
   },
   {
    "duration": 8,
    "start_time": "2023-03-03T18:51:33.864Z"
   },
   {
    "duration": 6,
    "start_time": "2023-03-03T18:51:33.937Z"
   },
   {
    "duration": 7,
    "start_time": "2023-03-03T18:51:34.188Z"
   },
   {
    "duration": 5,
    "start_time": "2023-03-03T18:51:34.328Z"
   },
   {
    "duration": 5,
    "start_time": "2023-03-03T18:51:34.582Z"
   },
   {
    "duration": 5,
    "start_time": "2023-03-03T18:51:34.803Z"
   },
   {
    "duration": 5,
    "start_time": "2023-03-03T18:51:35.007Z"
   },
   {
    "duration": 21,
    "start_time": "2023-03-03T18:51:35.339Z"
   },
   {
    "duration": 3,
    "start_time": "2023-03-03T18:53:05.469Z"
   },
   {
    "duration": 9,
    "start_time": "2023-03-03T18:54:48.230Z"
   },
   {
    "duration": 47,
    "start_time": "2023-03-03T18:56:23.601Z"
   },
   {
    "duration": 3,
    "start_time": "2023-03-03T18:56:59.373Z"
   },
   {
    "duration": 24,
    "start_time": "2023-03-03T18:57:04.200Z"
   },
   {
    "duration": 3836,
    "start_time": "2023-03-03T18:57:39.822Z"
   },
   {
    "duration": 29,
    "start_time": "2023-03-03T18:59:27.066Z"
   },
   {
    "duration": 148,
    "start_time": "2023-03-03T19:04:14.705Z"
   },
   {
    "duration": 6,
    "start_time": "2023-03-03T19:11:49.888Z"
   },
   {
    "duration": 10,
    "start_time": "2023-03-03T19:13:00.514Z"
   },
   {
    "duration": 678,
    "start_time": "2023-03-03T19:13:14.946Z"
   },
   {
    "duration": 207,
    "start_time": "2023-03-03T19:15:05.971Z"
   },
   {
    "duration": 47,
    "start_time": "2023-03-03T19:16:31.078Z"
   },
   {
    "duration": 13,
    "start_time": "2023-03-03T19:18:38.659Z"
   },
   {
    "duration": 7,
    "start_time": "2023-03-03T19:18:56.427Z"
   },
   {
    "duration": 8,
    "start_time": "2023-03-03T19:19:02.767Z"
   },
   {
    "duration": 8,
    "start_time": "2023-03-03T19:19:24.509Z"
   },
   {
    "duration": 200,
    "start_time": "2023-03-03T19:19:28.083Z"
   },
   {
    "duration": 7,
    "start_time": "2023-03-03T19:19:29.610Z"
   },
   {
    "duration": 21,
    "start_time": "2023-03-03T19:19:35.091Z"
   },
   {
    "duration": 70,
    "start_time": "2023-03-03T19:20:30.583Z"
   },
   {
    "duration": 68,
    "start_time": "2023-03-03T19:22:57.329Z"
   },
   {
    "duration": 3,
    "start_time": "2023-03-03T19:23:18.640Z"
   },
   {
    "duration": 6,
    "start_time": "2023-03-03T19:36:36.800Z"
   },
   {
    "duration": 10,
    "start_time": "2023-03-03T19:36:46.856Z"
   },
   {
    "duration": 298,
    "start_time": "2023-03-03T19:38:43.954Z"
   },
   {
    "duration": 764,
    "start_time": "2023-03-03T19:40:53.162Z"
   },
   {
    "duration": 326,
    "start_time": "2023-03-03T20:07:10.619Z"
   },
   {
    "duration": 48,
    "start_time": "2023-03-03T20:10:26.315Z"
   },
   {
    "duration": 327,
    "start_time": "2023-03-03T20:11:32.871Z"
   },
   {
    "duration": 330,
    "start_time": "2023-03-03T20:11:40.963Z"
   },
   {
    "duration": 416,
    "start_time": "2023-03-03T20:11:53.296Z"
   },
   {
    "duration": 14,
    "start_time": "2023-03-03T20:14:06.810Z"
   },
   {
    "duration": 58,
    "start_time": "2023-03-03T20:14:15.396Z"
   },
   {
    "duration": 46,
    "start_time": "2023-03-03T20:14:29.512Z"
   },
   {
    "duration": 16,
    "start_time": "2023-03-03T20:16:33.155Z"
   },
   {
    "duration": 20,
    "start_time": "2023-03-03T20:17:02.651Z"
   },
   {
    "duration": 17,
    "start_time": "2023-03-03T20:49:21.176Z"
   },
   {
    "duration": 14,
    "start_time": "2023-03-03T20:49:31.337Z"
   },
   {
    "duration": 10,
    "start_time": "2023-03-03T20:51:56.466Z"
   },
   {
    "duration": 9,
    "start_time": "2023-03-03T20:52:02.161Z"
   },
   {
    "duration": 7,
    "start_time": "2023-03-03T20:55:34.089Z"
   },
   {
    "duration": 24,
    "start_time": "2023-03-03T20:55:41.081Z"
   },
   {
    "duration": 28,
    "start_time": "2023-03-03T20:56:03.073Z"
   },
   {
    "duration": 19,
    "start_time": "2023-03-03T20:56:27.553Z"
   },
   {
    "duration": 10,
    "start_time": "2023-03-03T20:57:57.941Z"
   },
   {
    "duration": 5,
    "start_time": "2023-03-03T20:58:32.728Z"
   },
   {
    "duration": 22,
    "start_time": "2023-03-03T21:00:09.791Z"
   },
   {
    "duration": 20,
    "start_time": "2023-03-03T21:00:18.976Z"
   },
   {
    "duration": 54,
    "start_time": "2023-03-03T21:04:00.764Z"
   },
   {
    "duration": 79,
    "start_time": "2023-03-03T21:04:05.062Z"
   },
   {
    "duration": 58,
    "start_time": "2023-03-05T12:13:23.193Z"
   },
   {
    "duration": 1351,
    "start_time": "2023-03-05T12:13:31.002Z"
   },
   {
    "duration": 106,
    "start_time": "2023-03-05T12:13:32.355Z"
   },
   {
    "duration": 19,
    "start_time": "2023-03-05T12:13:32.463Z"
   },
   {
    "duration": 45,
    "start_time": "2023-03-05T12:13:32.484Z"
   },
   {
    "duration": 25,
    "start_time": "2023-03-05T12:13:32.531Z"
   },
   {
    "duration": 849,
    "start_time": "2023-03-05T12:13:32.557Z"
   },
   {
    "duration": 38,
    "start_time": "2023-03-05T12:13:33.408Z"
   },
   {
    "duration": 10,
    "start_time": "2023-03-05T12:13:33.447Z"
   },
   {
    "duration": 6,
    "start_time": "2023-03-05T12:13:33.459Z"
   },
   {
    "duration": 217,
    "start_time": "2023-03-05T12:13:33.466Z"
   },
   {
    "duration": 10,
    "start_time": "2023-03-05T12:13:33.684Z"
   },
   {
    "duration": 28,
    "start_time": "2023-03-05T12:13:33.704Z"
   },
   {
    "duration": 9,
    "start_time": "2023-03-05T12:13:33.733Z"
   },
   {
    "duration": 12,
    "start_time": "2023-03-05T12:13:33.745Z"
   },
   {
    "duration": 8,
    "start_time": "2023-03-05T12:13:33.759Z"
   },
   {
    "duration": 4,
    "start_time": "2023-03-05T12:13:33.768Z"
   },
   {
    "duration": 32,
    "start_time": "2023-03-05T12:13:33.773Z"
   },
   {
    "duration": 15,
    "start_time": "2023-03-05T12:13:33.807Z"
   },
   {
    "duration": 11,
    "start_time": "2023-03-05T12:13:33.824Z"
   },
   {
    "duration": 4,
    "start_time": "2023-03-05T12:13:33.837Z"
   },
   {
    "duration": 14,
    "start_time": "2023-03-05T12:13:33.843Z"
   },
   {
    "duration": 67,
    "start_time": "2023-03-05T12:13:33.858Z"
   },
   {
    "duration": 6,
    "start_time": "2023-03-05T12:13:33.926Z"
   },
   {
    "duration": 12,
    "start_time": "2023-03-05T12:13:33.934Z"
   },
   {
    "duration": 9,
    "start_time": "2023-03-05T12:13:33.947Z"
   },
   {
    "duration": 10,
    "start_time": "2023-03-05T12:13:33.958Z"
   },
   {
    "duration": 36,
    "start_time": "2023-03-05T12:13:33.969Z"
   },
   {
    "duration": 7,
    "start_time": "2023-03-05T12:13:34.007Z"
   },
   {
    "duration": 14,
    "start_time": "2023-03-05T12:13:34.016Z"
   },
   {
    "duration": 25,
    "start_time": "2023-03-05T12:13:34.032Z"
   },
   {
    "duration": 8,
    "start_time": "2023-03-05T12:13:34.059Z"
   },
   {
    "duration": 42,
    "start_time": "2023-03-05T12:13:34.068Z"
   },
   {
    "duration": 242,
    "start_time": "2023-03-05T12:13:34.115Z"
   },
   {
    "duration": 20,
    "start_time": "2023-03-05T12:13:34.359Z"
   },
   {
    "duration": 24,
    "start_time": "2023-03-05T12:13:34.381Z"
   },
   {
    "duration": 339,
    "start_time": "2023-03-05T12:13:34.406Z"
   },
   {
    "duration": 8,
    "start_time": "2023-03-05T12:13:34.746Z"
   },
   {
    "duration": 19,
    "start_time": "2023-03-05T12:13:34.756Z"
   },
   {
    "duration": 16,
    "start_time": "2023-03-05T12:15:51.586Z"
   },
   {
    "duration": 151,
    "start_time": "2023-03-05T12:16:17.003Z"
   },
   {
    "duration": 24,
    "start_time": "2023-03-05T12:16:32.675Z"
   },
   {
    "duration": 19,
    "start_time": "2023-03-05T12:16:40.474Z"
   },
   {
    "duration": 12,
    "start_time": "2023-03-05T12:16:52.271Z"
   },
   {
    "duration": 15,
    "start_time": "2023-03-05T12:16:59.034Z"
   },
   {
    "duration": 15,
    "start_time": "2023-03-05T12:17:03.118Z"
   },
   {
    "duration": 16,
    "start_time": "2023-03-05T12:17:07.616Z"
   },
   {
    "duration": 62,
    "start_time": "2023-03-05T12:18:31.073Z"
   },
   {
    "duration": 19,
    "start_time": "2023-03-05T12:19:48.606Z"
   },
   {
    "duration": 3,
    "start_time": "2023-03-05T12:23:57.847Z"
   },
   {
    "duration": 72,
    "start_time": "2023-03-05T12:23:57.876Z"
   },
   {
    "duration": 15,
    "start_time": "2023-03-05T12:23:57.980Z"
   },
   {
    "duration": 33,
    "start_time": "2023-03-05T12:23:58.043Z"
   },
   {
    "duration": 29,
    "start_time": "2023-03-05T12:23:58.106Z"
   },
   {
    "duration": 784,
    "start_time": "2023-03-05T12:23:59.234Z"
   },
   {
    "duration": 29,
    "start_time": "2023-03-05T12:24:00.030Z"
   },
   {
    "duration": 34,
    "start_time": "2023-03-05T12:24:00.073Z"
   },
   {
    "duration": 11,
    "start_time": "2023-03-05T12:26:37.725Z"
   },
   {
    "duration": 4,
    "start_time": "2023-03-05T12:26:37.926Z"
   },
   {
    "duration": 140,
    "start_time": "2023-03-05T12:26:38.123Z"
   },
   {
    "duration": 10,
    "start_time": "2023-03-05T12:26:42.265Z"
   },
   {
    "duration": 16,
    "start_time": "2023-03-05T12:26:42.740Z"
   },
   {
    "duration": 12,
    "start_time": "2023-03-05T12:26:43.295Z"
   },
   {
    "duration": 8,
    "start_time": "2023-03-05T12:26:51.219Z"
   },
   {
    "duration": 9,
    "start_time": "2023-03-05T12:26:51.478Z"
   },
   {
    "duration": 4,
    "start_time": "2023-03-05T12:26:51.755Z"
   },
   {
    "duration": 5,
    "start_time": "2023-03-05T12:26:51.979Z"
   },
   {
    "duration": 19,
    "start_time": "2023-03-05T12:26:52.202Z"
   },
   {
    "duration": 12,
    "start_time": "2023-03-05T12:26:52.398Z"
   },
   {
    "duration": 4,
    "start_time": "2023-03-05T12:26:52.590Z"
   },
   {
    "duration": 5,
    "start_time": "2023-03-05T12:26:52.775Z"
   },
   {
    "duration": 21,
    "start_time": "2023-03-05T12:26:52.956Z"
   },
   {
    "duration": 5,
    "start_time": "2023-03-05T12:26:53.118Z"
   },
   {
    "duration": 6,
    "start_time": "2023-03-05T12:26:53.289Z"
   },
   {
    "duration": 4,
    "start_time": "2023-03-05T12:26:53.645Z"
   },
   {
    "duration": 5,
    "start_time": "2023-03-05T12:26:53.823Z"
   },
   {
    "duration": 5,
    "start_time": "2023-03-05T12:26:54.189Z"
   },
   {
    "duration": 4,
    "start_time": "2023-03-05T12:26:54.698Z"
   },
   {
    "duration": 5,
    "start_time": "2023-03-05T12:26:54.876Z"
   },
   {
    "duration": 19,
    "start_time": "2023-03-05T12:26:55.225Z"
   },
   {
    "duration": 8,
    "start_time": "2023-03-05T12:26:55.393Z"
   },
   {
    "duration": 7,
    "start_time": "2023-03-05T12:26:56.079Z"
   },
   {
    "duration": 212,
    "start_time": "2023-03-05T12:26:56.255Z"
   },
   {
    "duration": 22,
    "start_time": "2023-03-05T12:26:56.567Z"
   },
   {
    "duration": 9,
    "start_time": "2023-03-05T12:26:57.063Z"
   },
   {
    "duration": 303,
    "start_time": "2023-03-05T12:26:57.382Z"
   },
   {
    "duration": 14,
    "start_time": "2023-03-05T12:26:57.691Z"
   },
   {
    "duration": 18,
    "start_time": "2023-03-05T12:26:57.849Z"
   },
   {
    "duration": 17,
    "start_time": "2023-03-05T12:26:58.167Z"
   },
   {
    "duration": 60262,
    "start_time": "2023-03-05T12:26:58.339Z"
   },
   {
    "duration": 38,
    "start_time": "2023-03-05T12:27:58.612Z"
   },
   {
    "duration": 19,
    "start_time": "2023-03-05T12:27:58.652Z"
   },
   {
    "duration": 13,
    "start_time": "2023-03-05T13:44:14.521Z"
   },
   {
    "duration": 15,
    "start_time": "2023-03-05T13:44:20.623Z"
   },
   {
    "duration": 14,
    "start_time": "2023-03-05T13:44:21.969Z"
   },
   {
    "duration": 244,
    "start_time": "2023-03-05T13:44:49.905Z"
   },
   {
    "duration": 3,
    "start_time": "2023-03-05T13:46:52.314Z"
   },
   {
    "duration": 10,
    "start_time": "2023-03-05T13:46:53.229Z"
   },
   {
    "duration": 9,
    "start_time": "2023-03-05T13:47:11.808Z"
   },
   {
    "duration": 15,
    "start_time": "2023-03-05T13:48:20.283Z"
   },
   {
    "duration": 3,
    "start_time": "2023-03-05T13:48:20.496Z"
   },
   {
    "duration": 16,
    "start_time": "2023-03-05T13:48:21.430Z"
   },
   {
    "duration": 13,
    "start_time": "2023-03-05T13:48:40.531Z"
   },
   {
    "duration": 3,
    "start_time": "2023-03-05T13:48:41.213Z"
   },
   {
    "duration": 16,
    "start_time": "2023-03-05T13:48:41.664Z"
   },
   {
    "duration": 365,
    "start_time": "2023-03-05T13:48:54.130Z"
   },
   {
    "duration": 14,
    "start_time": "2023-03-05T13:49:10.216Z"
   },
   {
    "duration": 419,
    "start_time": "2023-03-05T13:49:10.820Z"
   },
   {
    "duration": 15,
    "start_time": "2023-03-05T13:49:31.001Z"
   },
   {
    "duration": 369,
    "start_time": "2023-03-05T13:49:31.811Z"
   },
   {
    "duration": 17,
    "start_time": "2023-03-05T13:52:56.852Z"
   },
   {
    "duration": 3,
    "start_time": "2023-03-05T13:52:57.363Z"
   },
   {
    "duration": 15,
    "start_time": "2023-03-05T13:52:57.528Z"
   },
   {
    "duration": 340,
    "start_time": "2023-03-05T13:52:57.670Z"
   },
   {
    "duration": 14,
    "start_time": "2023-03-05T13:53:08.858Z"
   },
   {
    "duration": 3,
    "start_time": "2023-03-05T13:53:09.047Z"
   },
   {
    "duration": 15,
    "start_time": "2023-03-05T13:53:09.195Z"
   },
   {
    "duration": 345,
    "start_time": "2023-03-05T13:53:09.335Z"
   },
   {
    "duration": 17,
    "start_time": "2023-03-05T13:55:36.908Z"
   },
   {
    "duration": 3,
    "start_time": "2023-03-05T13:55:38.377Z"
   },
   {
    "duration": 16,
    "start_time": "2023-03-05T13:55:38.562Z"
   },
   {
    "duration": 359,
    "start_time": "2023-03-05T13:55:38.733Z"
   },
   {
    "duration": 44,
    "start_time": "2023-03-05T13:56:02.748Z"
   },
   {
    "duration": 6,
    "start_time": "2023-03-05T13:56:53.899Z"
   },
   {
    "duration": 25,
    "start_time": "2023-03-05T13:56:59.982Z"
   },
   {
    "duration": 25,
    "start_time": "2023-03-05T13:57:22.789Z"
   },
   {
    "duration": 36,
    "start_time": "2023-03-05T13:57:39.374Z"
   },
   {
    "duration": 23,
    "start_time": "2023-03-05T13:58:43.143Z"
   },
   {
    "duration": 12,
    "start_time": "2023-03-05T13:58:53.196Z"
   },
   {
    "duration": 5,
    "start_time": "2023-03-05T13:59:57.923Z"
   },
   {
    "duration": 11,
    "start_time": "2023-03-05T14:00:53.411Z"
   },
   {
    "duration": 6,
    "start_time": "2023-03-05T14:01:10.263Z"
   },
   {
    "duration": 6,
    "start_time": "2023-03-05T14:01:15.161Z"
   },
   {
    "duration": 10,
    "start_time": "2023-03-05T14:01:24.387Z"
   },
   {
    "duration": 75,
    "start_time": "2023-03-05T14:23:11.598Z"
   },
   {
    "duration": 23,
    "start_time": "2023-03-05T14:29:08.748Z"
   },
   {
    "duration": 44357,
    "start_time": "2023-03-05T14:29:53.748Z"
   },
   {
    "duration": 77,
    "start_time": "2023-03-05T14:30:38.118Z"
   },
   {
    "duration": 35,
    "start_time": "2023-03-05T14:32:08.539Z"
   },
   {
    "duration": 131,
    "start_time": "2023-03-05T14:32:42.973Z"
   },
   {
    "duration": 257,
    "start_time": "2023-03-05T14:32:50.965Z"
   },
   {
    "duration": 32,
    "start_time": "2023-03-05T14:33:06.887Z"
   },
   {
    "duration": 177,
    "start_time": "2023-03-05T14:33:07.649Z"
   },
   {
    "duration": 45,
    "start_time": "2023-03-05T14:35:24.489Z"
   },
   {
    "duration": 535,
    "start_time": "2023-03-05T14:35:48.753Z"
   },
   {
    "duration": 592,
    "start_time": "2023-03-05T14:36:06.144Z"
   },
   {
    "duration": 577,
    "start_time": "2023-03-05T14:36:21.216Z"
   },
   {
    "duration": 9,
    "start_time": "2023-03-05T15:29:31.368Z"
   },
   {
    "duration": 89,
    "start_time": "2023-03-05T15:29:43.462Z"
   },
   {
    "duration": 182,
    "start_time": "2023-03-05T15:30:04.808Z"
   },
   {
    "duration": 142,
    "start_time": "2023-03-05T15:30:10.262Z"
   },
   {
    "duration": 16,
    "start_time": "2023-03-05T15:31:41.230Z"
   },
   {
    "duration": 107,
    "start_time": "2023-03-05T15:32:28.355Z"
   },
   {
    "duration": 18,
    "start_time": "2023-03-05T15:32:43.364Z"
   },
   {
    "duration": 523,
    "start_time": "2023-03-05T15:33:29.921Z"
   },
   {
    "duration": 579,
    "start_time": "2023-03-05T15:34:04.103Z"
   },
   {
    "duration": 32,
    "start_time": "2023-03-05T15:34:30.706Z"
   },
   {
    "duration": 215,
    "start_time": "2023-03-05T15:35:00.174Z"
   },
   {
    "duration": 14,
    "start_time": "2023-03-05T15:37:19.125Z"
   },
   {
    "duration": 193,
    "start_time": "2023-03-05T15:38:36.240Z"
   },
   {
    "duration": 214,
    "start_time": "2023-03-05T15:38:54.500Z"
   },
   {
    "duration": 171,
    "start_time": "2023-03-05T15:39:29.028Z"
   },
   {
    "duration": 162,
    "start_time": "2023-03-05T15:40:28.598Z"
   },
   {
    "duration": 4,
    "start_time": "2023-03-05T15:46:38.001Z"
   },
   {
    "duration": 6,
    "start_time": "2023-03-05T15:47:16.508Z"
   },
   {
    "duration": 893,
    "start_time": "2023-03-05T15:48:53.120Z"
   },
   {
    "duration": 11,
    "start_time": "2023-03-05T15:49:21.985Z"
   },
   {
    "duration": 10,
    "start_time": "2023-03-05T15:49:28.235Z"
   },
   {
    "duration": 8,
    "start_time": "2023-03-05T15:50:24.044Z"
   },
   {
    "duration": 393,
    "start_time": "2023-03-05T15:50:24.579Z"
   },
   {
    "duration": 9,
    "start_time": "2023-03-05T15:50:59.499Z"
   },
   {
    "duration": 389,
    "start_time": "2023-03-05T15:51:00.105Z"
   },
   {
    "duration": 8,
    "start_time": "2023-03-05T15:51:08.508Z"
   },
   {
    "duration": 356,
    "start_time": "2023-03-05T15:51:09.571Z"
   },
   {
    "duration": 378,
    "start_time": "2023-03-05T15:51:33.399Z"
   },
   {
    "duration": 972,
    "start_time": "2023-03-05T15:53:02.197Z"
   },
   {
    "duration": 158,
    "start_time": "2023-03-05T15:53:11.142Z"
   },
   {
    "duration": 138,
    "start_time": "2023-03-05T15:53:33.403Z"
   },
   {
    "duration": 159,
    "start_time": "2023-03-05T15:53:40.485Z"
   },
   {
    "duration": 147,
    "start_time": "2023-03-05T15:54:49.737Z"
   },
   {
    "duration": 927,
    "start_time": "2023-03-05T15:55:29.035Z"
   },
   {
    "duration": 190,
    "start_time": "2023-03-05T15:55:38.412Z"
   },
   {
    "duration": 17,
    "start_time": "2023-03-05T16:52:00.159Z"
   },
   {
    "duration": 18,
    "start_time": "2023-03-05T16:52:47.118Z"
   },
   {
    "duration": 208,
    "start_time": "2023-03-05T16:52:57.472Z"
   },
   {
    "duration": 232,
    "start_time": "2023-03-05T16:53:30.932Z"
   },
   {
    "duration": 210,
    "start_time": "2023-03-05T16:53:36.267Z"
   },
   {
    "duration": 206,
    "start_time": "2023-03-05T16:53:51.116Z"
   },
   {
    "duration": 173,
    "start_time": "2023-03-05T16:53:58.583Z"
   },
   {
    "duration": 386,
    "start_time": "2023-03-05T16:55:39.824Z"
   },
   {
    "duration": 11,
    "start_time": "2023-03-05T16:58:53.833Z"
   },
   {
    "duration": 12,
    "start_time": "2023-03-05T16:59:15.231Z"
   },
   {
    "duration": 887,
    "start_time": "2023-03-05T16:59:37.816Z"
   },
   {
    "duration": 151,
    "start_time": "2023-03-05T17:02:07.000Z"
   },
   {
    "duration": 143,
    "start_time": "2023-03-05T17:02:45.081Z"
   },
   {
    "duration": 136,
    "start_time": "2023-03-05T17:03:25.336Z"
   },
   {
    "duration": 5,
    "start_time": "2023-03-05T17:04:51.668Z"
   },
   {
    "duration": 16,
    "start_time": "2023-03-05T17:04:53.532Z"
   },
   {
    "duration": 4,
    "start_time": "2023-03-05T17:04:53.724Z"
   },
   {
    "duration": 168,
    "start_time": "2023-03-05T17:04:54.092Z"
   },
   {
    "duration": 163,
    "start_time": "2023-03-05T17:04:54.488Z"
   },
   {
    "duration": 166,
    "start_time": "2023-03-05T17:04:55.817Z"
   },
   {
    "duration": 143,
    "start_time": "2023-03-05T17:04:56.884Z"
   },
   {
    "duration": 165,
    "start_time": "2023-03-05T17:06:02.472Z"
   },
   {
    "duration": 160,
    "start_time": "2023-03-05T17:06:22.027Z"
   },
   {
    "duration": 166,
    "start_time": "2023-03-05T17:06:54.010Z"
   },
   {
    "duration": 45,
    "start_time": "2023-03-05T17:07:19.777Z"
   },
   {
    "duration": 143,
    "start_time": "2023-03-05T17:07:33.017Z"
   },
   {
    "duration": 152,
    "start_time": "2023-03-05T17:07:36.023Z"
   },
   {
    "duration": 149,
    "start_time": "2023-03-05T17:07:39.520Z"
   },
   {
    "duration": 161,
    "start_time": "2023-03-05T17:07:57.792Z"
   },
   {
    "duration": 160,
    "start_time": "2023-03-05T17:08:03.414Z"
   },
   {
    "duration": 161,
    "start_time": "2023-03-05T17:08:06.209Z"
   },
   {
    "duration": 170,
    "start_time": "2023-03-05T17:08:53.066Z"
   },
   {
    "duration": 144,
    "start_time": "2023-03-05T17:09:24.484Z"
   },
   {
    "duration": 152,
    "start_time": "2023-03-05T17:10:18.869Z"
   },
   {
    "duration": 57,
    "start_time": "2023-03-05T17:10:34.797Z"
   },
   {
    "duration": 160,
    "start_time": "2023-03-05T17:11:02.124Z"
   },
   {
    "duration": 189,
    "start_time": "2023-03-05T17:11:06.690Z"
   },
   {
    "duration": 141,
    "start_time": "2023-03-05T17:11:18.696Z"
   },
   {
    "duration": 14,
    "start_time": "2023-03-05T17:22:16.740Z"
   },
   {
    "duration": 146,
    "start_time": "2023-03-05T17:22:23.173Z"
   },
   {
    "duration": 897,
    "start_time": "2023-03-05T17:28:07.999Z"
   },
   {
    "duration": 904,
    "start_time": "2023-03-05T17:28:52.279Z"
   },
   {
    "duration": 805,
    "start_time": "2023-03-05T17:29:12.176Z"
   },
   {
    "duration": 173,
    "start_time": "2023-03-05T17:30:17.256Z"
   },
   {
    "duration": 171,
    "start_time": "2023-03-05T17:30:22.224Z"
   },
   {
    "duration": 206,
    "start_time": "2023-03-05T17:30:36.684Z"
   },
   {
    "duration": 181,
    "start_time": "2023-03-05T17:30:43.302Z"
   },
   {
    "duration": 145,
    "start_time": "2023-03-05T17:30:52.320Z"
   },
   {
    "duration": 164,
    "start_time": "2023-03-05T17:31:58.089Z"
   },
   {
    "duration": 140,
    "start_time": "2023-03-05T17:32:33.696Z"
   },
   {
    "duration": 9,
    "start_time": "2023-03-05T17:50:22.535Z"
   },
   {
    "duration": 19,
    "start_time": "2023-03-05T17:50:42.697Z"
   },
   {
    "duration": 2130,
    "start_time": "2023-03-05T17:50:53.362Z"
   },
   {
    "duration": 181,
    "start_time": "2023-03-05T17:52:07.471Z"
   },
   {
    "duration": 10,
    "start_time": "2023-03-05T17:54:11.025Z"
   },
   {
    "duration": 12,
    "start_time": "2023-03-05T17:54:16.571Z"
   },
   {
    "duration": 10,
    "start_time": "2023-03-05T17:54:22.709Z"
   },
   {
    "duration": 17,
    "start_time": "2023-03-05T17:54:40.228Z"
   },
   {
    "duration": 50,
    "start_time": "2023-03-05T17:59:08.515Z"
   },
   {
    "duration": 13,
    "start_time": "2023-03-05T18:00:49.737Z"
   },
   {
    "duration": 772,
    "start_time": "2023-03-05T18:03:09.605Z"
   },
   {
    "duration": 48,
    "start_time": "2023-03-05T18:04:12.760Z"
   },
   {
    "duration": 82,
    "start_time": "2023-03-05T18:04:20.670Z"
   },
   {
    "duration": 171,
    "start_time": "2023-03-05T18:04:36.949Z"
   },
   {
    "duration": 171,
    "start_time": "2023-03-05T18:07:26.367Z"
   },
   {
    "duration": 6,
    "start_time": "2023-03-05T18:07:37.816Z"
   },
   {
    "duration": 176,
    "start_time": "2023-03-05T18:07:53.968Z"
   },
   {
    "duration": 7,
    "start_time": "2023-03-05T18:08:42.936Z"
   },
   {
    "duration": 166,
    "start_time": "2023-03-05T18:08:43.163Z"
   },
   {
    "duration": 167,
    "start_time": "2023-03-05T18:09:45.681Z"
   },
   {
    "duration": 43,
    "start_time": "2023-03-05T18:12:33.768Z"
   },
   {
    "duration": 45,
    "start_time": "2023-03-05T18:12:38.876Z"
   },
   {
    "duration": 167,
    "start_time": "2023-03-05T18:18:28.106Z"
   },
   {
    "duration": 161,
    "start_time": "2023-03-05T18:20:40.365Z"
   },
   {
    "duration": 273,
    "start_time": "2023-03-05T18:20:54.549Z"
   },
   {
    "duration": 198,
    "start_time": "2023-03-05T18:21:04.220Z"
   },
   {
    "duration": 172,
    "start_time": "2023-03-05T18:22:56.032Z"
   },
   {
    "duration": 163,
    "start_time": "2023-03-05T18:23:26.658Z"
   },
   {
    "duration": 174,
    "start_time": "2023-03-05T18:23:37.106Z"
   },
   {
    "duration": 168,
    "start_time": "2023-03-05T19:04:29.628Z"
   },
   {
    "duration": 163,
    "start_time": "2023-03-05T19:04:51.438Z"
   },
   {
    "duration": 176,
    "start_time": "2023-03-05T19:06:11.477Z"
   },
   {
    "duration": 188,
    "start_time": "2023-03-05T19:06:52.978Z"
   },
   {
    "duration": 59,
    "start_time": "2023-03-05T19:07:58.581Z"
   },
   {
    "duration": 49,
    "start_time": "2023-03-05T19:08:31.497Z"
   },
   {
    "duration": 194,
    "start_time": "2023-03-05T19:08:46.863Z"
   },
   {
    "duration": 168,
    "start_time": "2023-03-05T19:10:57.159Z"
   },
   {
    "duration": 175,
    "start_time": "2023-03-05T19:11:04.063Z"
   },
   {
    "duration": 179,
    "start_time": "2023-03-05T19:11:56.972Z"
   },
   {
    "duration": 285,
    "start_time": "2023-03-05T19:13:05.120Z"
   },
   {
    "duration": 187,
    "start_time": "2023-03-05T19:13:37.274Z"
   },
   {
    "duration": 181,
    "start_time": "2023-03-05T19:13:58.084Z"
   },
   {
    "duration": 177,
    "start_time": "2023-03-05T19:17:02.167Z"
   },
   {
    "duration": 67,
    "start_time": "2023-03-05T19:17:10.033Z"
   },
   {
    "duration": 177,
    "start_time": "2023-03-05T19:17:17.118Z"
   },
   {
    "duration": 193,
    "start_time": "2023-03-05T19:18:05.515Z"
   },
   {
    "duration": 178,
    "start_time": "2023-03-05T19:19:33.988Z"
   },
   {
    "duration": 172,
    "start_time": "2023-03-05T19:19:47.737Z"
   },
   {
    "duration": 178,
    "start_time": "2023-03-05T19:23:24.531Z"
   },
   {
    "duration": 204,
    "start_time": "2023-03-05T19:23:24.711Z"
   },
   {
    "duration": 170,
    "start_time": "2023-03-05T19:23:25.373Z"
   },
   {
    "duration": 170,
    "start_time": "2023-03-05T19:23:26.010Z"
   },
   {
    "duration": 271,
    "start_time": "2023-03-05T19:24:12.177Z"
   },
   {
    "duration": 176,
    "start_time": "2023-03-05T19:24:57.312Z"
   },
   {
    "duration": 178,
    "start_time": "2023-03-05T19:27:24.757Z"
   },
   {
    "duration": 178,
    "start_time": "2023-03-05T19:30:12.016Z"
   },
   {
    "duration": 173,
    "start_time": "2023-03-05T19:31:25.928Z"
   },
   {
    "duration": 159,
    "start_time": "2023-03-05T19:32:14.188Z"
   },
   {
    "duration": 215,
    "start_time": "2023-03-05T19:32:36.871Z"
   },
   {
    "duration": 177,
    "start_time": "2023-03-05T19:34:31.190Z"
   },
   {
    "duration": 187,
    "start_time": "2023-03-05T19:35:30.072Z"
   },
   {
    "duration": 165,
    "start_time": "2023-03-05T19:35:49.693Z"
   },
   {
    "duration": 10,
    "start_time": "2023-03-05T19:42:44.924Z"
   },
   {
    "duration": 11,
    "start_time": "2023-03-05T19:42:55.387Z"
   },
   {
    "duration": 14,
    "start_time": "2023-03-05T19:43:20.888Z"
   },
   {
    "duration": 126,
    "start_time": "2023-03-05T19:43:24.628Z"
   },
   {
    "duration": 9,
    "start_time": "2023-03-05T19:44:36.577Z"
   },
   {
    "duration": 14,
    "start_time": "2023-03-05T19:44:41.488Z"
   },
   {
    "duration": 47,
    "start_time": "2023-03-05T20:03:19.323Z"
   },
   {
    "duration": 8,
    "start_time": "2023-03-05T20:05:05.565Z"
   },
   {
    "duration": 13,
    "start_time": "2023-03-05T20:05:13.912Z"
   },
   {
    "duration": 9,
    "start_time": "2023-03-05T20:05:44.936Z"
   },
   {
    "duration": 592,
    "start_time": "2023-03-05T20:06:00.061Z"
   },
   {
    "duration": 11,
    "start_time": "2023-03-05T20:09:01.855Z"
   },
   {
    "duration": 4,
    "start_time": "2023-03-05T20:09:52.192Z"
   },
   {
    "duration": 11,
    "start_time": "2023-03-05T20:09:57.451Z"
   },
   {
    "duration": 7,
    "start_time": "2023-03-05T20:18:17.656Z"
   },
   {
    "duration": 7,
    "start_time": "2023-03-05T20:18:30.715Z"
   },
   {
    "duration": 8,
    "start_time": "2023-03-05T20:18:34.729Z"
   },
   {
    "duration": 7,
    "start_time": "2023-03-05T20:19:18.866Z"
   },
   {
    "duration": 9,
    "start_time": "2023-03-05T20:19:25.696Z"
   },
   {
    "duration": 9,
    "start_time": "2023-03-05T20:20:31.365Z"
   },
   {
    "duration": 450,
    "start_time": "2023-03-05T20:21:10.781Z"
   },
   {
    "duration": 10,
    "start_time": "2023-03-05T20:21:37.271Z"
   },
   {
    "duration": 485,
    "start_time": "2023-03-05T20:21:38.493Z"
   },
   {
    "duration": 7,
    "start_time": "2023-03-05T20:22:17.813Z"
   },
   {
    "duration": 48,
    "start_time": "2023-03-05T20:27:23.960Z"
   },
   {
    "duration": 9,
    "start_time": "2023-03-05T20:29:48.772Z"
   },
   {
    "duration": 14,
    "start_time": "2023-03-05T20:30:13.322Z"
   },
   {
    "duration": 169,
    "start_time": "2023-03-05T20:31:18.338Z"
   },
   {
    "duration": 198,
    "start_time": "2023-03-05T20:31:24.789Z"
   },
   {
    "duration": 194,
    "start_time": "2023-03-05T20:31:31.816Z"
   },
   {
    "duration": 345,
    "start_time": "2023-03-05T20:31:35.007Z"
   },
   {
    "duration": 183,
    "start_time": "2023-03-05T20:31:39.210Z"
   },
   {
    "duration": 54,
    "start_time": "2023-03-05T20:31:45.769Z"
   },
   {
    "duration": 166,
    "start_time": "2023-03-05T20:31:51.378Z"
   },
   {
    "duration": 172,
    "start_time": "2023-03-05T20:31:59.996Z"
   },
   {
    "duration": 178,
    "start_time": "2023-03-05T20:32:07.502Z"
   },
   {
    "duration": 15,
    "start_time": "2023-03-05T20:32:33.863Z"
   },
   {
    "duration": 158,
    "start_time": "2023-03-05T20:32:42.128Z"
   },
   {
    "duration": 155,
    "start_time": "2023-03-05T20:32:47.085Z"
   },
   {
    "duration": 157,
    "start_time": "2023-03-05T20:32:51.670Z"
   },
   {
    "duration": 155,
    "start_time": "2023-03-05T20:32:56.067Z"
   },
   {
    "duration": 131,
    "start_time": "2023-03-05T20:33:12.020Z"
   },
   {
    "duration": 173,
    "start_time": "2023-03-05T20:34:10.744Z"
   },
   {
    "duration": 191,
    "start_time": "2023-03-05T20:34:17.606Z"
   },
   {
    "duration": 180,
    "start_time": "2023-03-05T20:34:24.667Z"
   },
   {
    "duration": 233,
    "start_time": "2023-03-05T20:34:37.615Z"
   },
   {
    "duration": 174,
    "start_time": "2023-03-05T20:35:08.644Z"
   },
   {
    "duration": 14,
    "start_time": "2023-03-05T20:35:22.858Z"
   },
   {
    "duration": 16,
    "start_time": "2023-03-05T20:35:37.396Z"
   },
   {
    "duration": 14,
    "start_time": "2023-03-05T20:35:42.769Z"
   },
   {
    "duration": 14,
    "start_time": "2023-03-05T20:36:18.316Z"
   },
   {
    "duration": 14,
    "start_time": "2023-03-05T20:36:54.678Z"
   },
   {
    "duration": 129,
    "start_time": "2023-03-05T20:37:33.764Z"
   },
   {
    "duration": 114,
    "start_time": "2023-03-05T20:37:41.964Z"
   },
   {
    "duration": 18,
    "start_time": "2023-03-05T20:37:51.094Z"
   },
   {
    "duration": 124,
    "start_time": "2023-03-05T20:37:58.488Z"
   },
   {
    "duration": 14,
    "start_time": "2023-03-05T20:38:03.275Z"
   },
   {
    "duration": 115,
    "start_time": "2023-03-05T20:38:06.400Z"
   },
   {
    "duration": 122,
    "start_time": "2023-03-05T20:38:26.800Z"
   },
   {
    "duration": 150,
    "start_time": "2023-03-05T20:39:01.078Z"
   },
   {
    "duration": 117,
    "start_time": "2023-03-05T20:39:18.828Z"
   },
   {
    "duration": 13,
    "start_time": "2023-03-05T20:41:38.375Z"
   },
   {
    "duration": 3,
    "start_time": "2023-03-05T20:41:38.856Z"
   },
   {
    "duration": 17,
    "start_time": "2023-03-05T20:41:39.299Z"
   },
   {
    "duration": 384,
    "start_time": "2023-03-05T20:41:39.794Z"
   },
   {
    "duration": 510,
    "start_time": "2023-03-05T20:42:06.444Z"
   },
   {
    "duration": 351,
    "start_time": "2023-03-05T20:42:12.483Z"
   },
   {
    "duration": 65,
    "start_time": "2023-03-05T20:54:29.763Z"
   },
   {
    "duration": 75,
    "start_time": "2023-03-07T10:24:32.724Z"
   },
   {
    "duration": 90,
    "start_time": "2023-03-07T11:16:17.022Z"
   },
   {
    "duration": 83,
    "start_time": "2023-03-07T11:34:39.441Z"
   }
  ],
  "kernelspec": {
   "display_name": "Python 3 (ipykernel)",
   "language": "python",
   "name": "python3"
  },
  "language_info": {
   "codemirror_mode": {
    "name": "ipython",
    "version": 3
   },
   "file_extension": ".py",
   "mimetype": "text/x-python",
   "name": "python",
   "nbconvert_exporter": "python",
   "pygments_lexer": "ipython3",
   "version": "3.9.5"
  },
  "toc": {
   "base_numbering": 1,
   "nav_menu": {},
   "number_sections": true,
   "sideBar": true,
   "skip_h1_title": true,
   "title_cell": "Table of Contents",
   "title_sidebar": "Contents",
   "toc_cell": false,
   "toc_position": {},
   "toc_section_display": true,
   "toc_window_display": false
  }
 },
 "nbformat": 4,
 "nbformat_minor": 2
}
