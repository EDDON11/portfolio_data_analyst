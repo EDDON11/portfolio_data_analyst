{
 "cells": [
  {
   "cell_type": "markdown",
   "metadata": {},
   "source": [
    "<div style=\"border:solid Purple 2px; padding: 40px\">\n",
    "\n",
    "<b>Привет, Эдуард!👋\n",
    "\n",
    "Меня зовут Эльвира, я буду ревьюером твоего проекта. Предлагаю общаться на «ты», но если это не удобно - дай мне знать, и мы перейдем на «вы».\n",
    "\n",
    "\n",
    "Ты можешь найти мои комментарии, обозначенные <font color='green'>зеленым</font>, <font color='gold'>желтым</font> и <font color='red'>красным</font> цветами, например:\n",
    "\n",
    "\n",
    "<div class=\"alert alert-success\">\n",
    "<h2> Комментарий ревьюера 😊<a class=\"tocSkip\"> </h2>\n",
    "    \n",
    "Такими комментариями я буду помечать отлично проделаную работу😉\n",
    "</div>\n",
    "    \n",
    "<div class=\"alert alert-warning\">\n",
    "<h2> Комментарий ревьюера 🤓<a class=\"tocSkip\"> </h2>\n",
    "        \n",
    "В таких комментариях я постараюсь подсказать тебе более элегантное или легкое решение, некоторые хитрости и фишки. Части проекта, помеченные такими комментариями, можно не исправлять, но рекомендую обратить на них внимание.</div>\n",
    "\n",
    "<div class=\"alert alert-block alert-danger\">\n",
    "<h2> Комментарий ревьюера 🤔<a class=\"tocSkip\"></h2>\n",
    "    \n",
    "В случае, когда решение на отдельном шаге требует существенной переработки и внесения правок. Если ты видишь такой комментарий, значит здесть есть недочет, который следует исправить.\n",
    "</div>\n",
    "\n",
    "Ты также можешь реагировать на мои комментарии своими, выделяя их цветами и наиболее понравившимся тебе способом оформления, но явно  отличающимся от моих комментариев. Это нужно, чтобы не создавалась путаница🙃\n",
    "    \n",
    "<div class=\"alert alert-info\"> <b>Комментарий студента:</b> Например, вот так.</div>\n",
    "\n",
    "Чтобы сделать подобный блок, кликни здесь дважды и скопируй всю предыдущую строку ;)\n",
    "    \n",
    "Пожалуйста, не удаляй и не перемещай мои комментарии, они будут особенно полезны для нашей работы в случае повторной проверки проекта.</div></b>"
   ]
  },
  {
   "cell_type": "markdown",
   "metadata": {},
   "source": [
    "Аналитика крупного интернет-магазина. Вместе с маркетологами мы подготовили список гипотез для увеличения выручки.\n",
    "Приоритизировали гипотезы, запустили A/B-тест и проанализировали результаты. "
   ]
  },
  {
   "cell_type": "markdown",
   "metadata": {},
   "source": [
    "<div class=\"alert alert-warning\">\n",
    "<h2> Комментарий ревьюера 🤓<a class=\"tocSkip\"> </h2>\n",
    "    \n",
    "Введение можно улучшить, если в описании проекта мы добавим основные задачи, особенно с позиции бизнес задачи, которая решается, описание данных и краткий план работы, основные этапы, которые мы должны выполнить."
   ]
  },
  {
   "cell_type": "code",
   "execution_count": 39,
   "metadata": {},
   "outputs": [],
   "source": [
    "import pandas as pd\n",
    "import numpy as np\n",
    "from matplotlib import pyplot as plt\n",
    "import scipy.stats as st\n",
    "import scipy.stats as stats\n"
   ]
  },
  {
   "cell_type": "markdown",
   "metadata": {},
   "source": [
    "<div class=\"alert alert-success\">\n",
    "<h2> Комментарий ревьюера 😊<a class=\"tocSkip\"> </h2>\n",
    "\n",
    "Молодец, что загружаешь все библиотеки в начале проекта. Так сложней случайно удалить ячейку с загрузкой нужной библиотеки и сделать код не работающим. А получатель отчета сразу поймет, какие библиотеки ты используешь и какие ему нужно установить для запуска проекта.\n",
    "\n",
    "</div>"
   ]
  },
  {
   "cell_type": "code",
   "execution_count": 40,
   "metadata": {},
   "outputs": [],
   "source": [
    "hypothesis = pd.read_csv('/datasets/hypothesis.csv')\n",
    "orders = pd.read_csv('/datasets/orders.csv')\n",
    "visitors = pd.read_csv('/datasets/visitors.csv')"
   ]
  },
  {
   "cell_type": "code",
   "execution_count": 41,
   "metadata": {},
   "outputs": [],
   "source": [
    "pd.options.display.max_colwidth = 130"
   ]
  },
  {
   "cell_type": "code",
   "execution_count": 42,
   "metadata": {},
   "outputs": [
    {
     "data": {
      "text/html": [
       "<div>\n",
       "<style scoped>\n",
       "    .dataframe tbody tr th:only-of-type {\n",
       "        vertical-align: middle;\n",
       "    }\n",
       "\n",
       "    .dataframe tbody tr th {\n",
       "        vertical-align: top;\n",
       "    }\n",
       "\n",
       "    .dataframe thead th {\n",
       "        text-align: right;\n",
       "    }\n",
       "</style>\n",
       "<table border=\"1\" class=\"dataframe\">\n",
       "  <thead>\n",
       "    <tr style=\"text-align: right;\">\n",
       "      <th></th>\n",
       "      <th>Hypothesis</th>\n",
       "      <th>Reach</th>\n",
       "      <th>Impact</th>\n",
       "      <th>Confidence</th>\n",
       "      <th>Efforts</th>\n",
       "    </tr>\n",
       "  </thead>\n",
       "  <tbody>\n",
       "    <tr>\n",
       "      <th>0</th>\n",
       "      <td>Добавить два новых канала привлечения трафика, что позволит привлекать на 30% больше пользователей</td>\n",
       "      <td>3</td>\n",
       "      <td>10</td>\n",
       "      <td>8</td>\n",
       "      <td>6</td>\n",
       "    </tr>\n",
       "    <tr>\n",
       "      <th>1</th>\n",
       "      <td>Запустить собственную службу доставки, что сократит срок доставки заказов</td>\n",
       "      <td>2</td>\n",
       "      <td>5</td>\n",
       "      <td>4</td>\n",
       "      <td>10</td>\n",
       "    </tr>\n",
       "    <tr>\n",
       "      <th>2</th>\n",
       "      <td>Добавить блоки рекомендаций товаров на сайт интернет магазина, чтобы повысить конверсию и средний чек заказа</td>\n",
       "      <td>8</td>\n",
       "      <td>3</td>\n",
       "      <td>7</td>\n",
       "      <td>3</td>\n",
       "    </tr>\n",
       "    <tr>\n",
       "      <th>3</th>\n",
       "      <td>Изменить структура категорий, что увеличит конверсию, т.к. пользователи быстрее найдут нужный товар</td>\n",
       "      <td>8</td>\n",
       "      <td>3</td>\n",
       "      <td>3</td>\n",
       "      <td>8</td>\n",
       "    </tr>\n",
       "    <tr>\n",
       "      <th>4</th>\n",
       "      <td>Изменить цвет фона главной страницы, чтобы увеличить вовлеченность пользователей</td>\n",
       "      <td>3</td>\n",
       "      <td>1</td>\n",
       "      <td>1</td>\n",
       "      <td>1</td>\n",
       "    </tr>\n",
       "    <tr>\n",
       "      <th>5</th>\n",
       "      <td>Добавить страницу отзывов клиентов о магазине, что позволит увеличить количество заказов</td>\n",
       "      <td>3</td>\n",
       "      <td>2</td>\n",
       "      <td>2</td>\n",
       "      <td>3</td>\n",
       "    </tr>\n",
       "    <tr>\n",
       "      <th>6</th>\n",
       "      <td>Показать на главной странице баннеры с актуальными акциями и распродажами, чтобы увеличить конверсию</td>\n",
       "      <td>5</td>\n",
       "      <td>3</td>\n",
       "      <td>8</td>\n",
       "      <td>3</td>\n",
       "    </tr>\n",
       "    <tr>\n",
       "      <th>7</th>\n",
       "      <td>Добавить форму подписки на все основные страницы, чтобы собрать базу клиентов для email-рассылок</td>\n",
       "      <td>10</td>\n",
       "      <td>7</td>\n",
       "      <td>8</td>\n",
       "      <td>5</td>\n",
       "    </tr>\n",
       "    <tr>\n",
       "      <th>8</th>\n",
       "      <td>Запустить акцию, дающую скидку на товар в день рождения</td>\n",
       "      <td>1</td>\n",
       "      <td>9</td>\n",
       "      <td>9</td>\n",
       "      <td>5</td>\n",
       "    </tr>\n",
       "  </tbody>\n",
       "</table>\n",
       "</div>"
      ],
      "text/plain": [
       "                                                                                                     Hypothesis  \\\n",
       "0            Добавить два новых канала привлечения трафика, что позволит привлекать на 30% больше пользователей   \n",
       "1                                     Запустить собственную службу доставки, что сократит срок доставки заказов   \n",
       "2  Добавить блоки рекомендаций товаров на сайт интернет магазина, чтобы повысить конверсию и средний чек заказа   \n",
       "3           Изменить структура категорий, что увеличит конверсию, т.к. пользователи быстрее найдут нужный товар   \n",
       "4                              Изменить цвет фона главной страницы, чтобы увеличить вовлеченность пользователей   \n",
       "5                      Добавить страницу отзывов клиентов о магазине, что позволит увеличить количество заказов   \n",
       "6          Показать на главной странице баннеры с актуальными акциями и распродажами, чтобы увеличить конверсию   \n",
       "7              Добавить форму подписки на все основные страницы, чтобы собрать базу клиентов для email-рассылок   \n",
       "8                                                       Запустить акцию, дающую скидку на товар в день рождения   \n",
       "\n",
       "   Reach  Impact  Confidence  Efforts  \n",
       "0      3      10           8        6  \n",
       "1      2       5           4       10  \n",
       "2      8       3           7        3  \n",
       "3      8       3           3        8  \n",
       "4      3       1           1        1  \n",
       "5      3       2           2        3  \n",
       "6      5       3           8        3  \n",
       "7     10       7           8        5  \n",
       "8      1       9           9        5  "
      ]
     },
     "execution_count": 42,
     "metadata": {},
     "output_type": "execute_result"
    }
   ],
   "source": [
    "hypothesis.head(10)"
   ]
  },
  {
   "cell_type": "markdown",
   "metadata": {},
   "source": [
    "<div class=\"alert alert-warning\">\n",
    "<h2> Комментарий ревьюера 🤓<a class=\"tocSkip\"> </h2>\n",
    "        \n",
    "Расширить вывод содержимого ячеек мы можем с помощью следующей настройки, так мы сможем увидеть полный текст гипотез:\n",
    "    \n",
    "```python\n",
    "pd.options.display.max_colwidth = 130\n",
    "```\n",
    "</div>"
   ]
  },
  {
   "cell_type": "markdown",
   "metadata": {},
   "source": [
    "<div class=\"alert alert-success\">\n",
    "<h2> Комментарий ревьюера 😊 v_2 <a class=\"tocSkip\"> </h2>\n",
    "\n",
    "👍"
   ]
  },
  {
   "cell_type": "markdown",
   "metadata": {},
   "source": [
    "<h4>Приоритизация гипотез по ICE</h4>"
   ]
  },
  {
   "cell_type": "code",
   "execution_count": 43,
   "metadata": {},
   "outputs": [
    {
     "data": {
      "text/html": [
       "<div>\n",
       "<style scoped>\n",
       "    .dataframe tbody tr th:only-of-type {\n",
       "        vertical-align: middle;\n",
       "    }\n",
       "\n",
       "    .dataframe tbody tr th {\n",
       "        vertical-align: top;\n",
       "    }\n",
       "\n",
       "    .dataframe thead th {\n",
       "        text-align: right;\n",
       "    }\n",
       "</style>\n",
       "<table border=\"1\" class=\"dataframe\">\n",
       "  <thead>\n",
       "    <tr style=\"text-align: right;\">\n",
       "      <th></th>\n",
       "      <th>Hypothesis</th>\n",
       "      <th>Reach</th>\n",
       "      <th>Impact</th>\n",
       "      <th>Confidence</th>\n",
       "      <th>Efforts</th>\n",
       "      <th>ice</th>\n",
       "    </tr>\n",
       "  </thead>\n",
       "  <tbody>\n",
       "    <tr>\n",
       "      <th>8</th>\n",
       "      <td>Запустить акцию, дающую скидку на товар в день рождения</td>\n",
       "      <td>1</td>\n",
       "      <td>9</td>\n",
       "      <td>9</td>\n",
       "      <td>5</td>\n",
       "      <td>16.200</td>\n",
       "    </tr>\n",
       "    <tr>\n",
       "      <th>0</th>\n",
       "      <td>Добавить два новых канала привлечения трафика, что позволит привлекать на 30% больше пользователей</td>\n",
       "      <td>3</td>\n",
       "      <td>10</td>\n",
       "      <td>8</td>\n",
       "      <td>6</td>\n",
       "      <td>13.333</td>\n",
       "    </tr>\n",
       "    <tr>\n",
       "      <th>7</th>\n",
       "      <td>Добавить форму подписки на все основные страницы, чтобы собрать базу клиентов для email-рассылок</td>\n",
       "      <td>10</td>\n",
       "      <td>7</td>\n",
       "      <td>8</td>\n",
       "      <td>5</td>\n",
       "      <td>11.200</td>\n",
       "    </tr>\n",
       "    <tr>\n",
       "      <th>6</th>\n",
       "      <td>Показать на главной странице баннеры с актуальными акциями и распродажами, чтобы увеличить конверсию</td>\n",
       "      <td>5</td>\n",
       "      <td>3</td>\n",
       "      <td>8</td>\n",
       "      <td>3</td>\n",
       "      <td>8.000</td>\n",
       "    </tr>\n",
       "    <tr>\n",
       "      <th>2</th>\n",
       "      <td>Добавить блоки рекомендаций товаров на сайт интернет магазина, чтобы повысить конверсию и средний чек заказа</td>\n",
       "      <td>8</td>\n",
       "      <td>3</td>\n",
       "      <td>7</td>\n",
       "      <td>3</td>\n",
       "      <td>7.000</td>\n",
       "    </tr>\n",
       "    <tr>\n",
       "      <th>1</th>\n",
       "      <td>Запустить собственную службу доставки, что сократит срок доставки заказов</td>\n",
       "      <td>2</td>\n",
       "      <td>5</td>\n",
       "      <td>4</td>\n",
       "      <td>10</td>\n",
       "      <td>2.000</td>\n",
       "    </tr>\n",
       "    <tr>\n",
       "      <th>5</th>\n",
       "      <td>Добавить страницу отзывов клиентов о магазине, что позволит увеличить количество заказов</td>\n",
       "      <td>3</td>\n",
       "      <td>2</td>\n",
       "      <td>2</td>\n",
       "      <td>3</td>\n",
       "      <td>1.333</td>\n",
       "    </tr>\n",
       "    <tr>\n",
       "      <th>3</th>\n",
       "      <td>Изменить структура категорий, что увеличит конверсию, т.к. пользователи быстрее найдут нужный товар</td>\n",
       "      <td>8</td>\n",
       "      <td>3</td>\n",
       "      <td>3</td>\n",
       "      <td>8</td>\n",
       "      <td>1.125</td>\n",
       "    </tr>\n",
       "    <tr>\n",
       "      <th>4</th>\n",
       "      <td>Изменить цвет фона главной страницы, чтобы увеличить вовлеченность пользователей</td>\n",
       "      <td>3</td>\n",
       "      <td>1</td>\n",
       "      <td>1</td>\n",
       "      <td>1</td>\n",
       "      <td>1.000</td>\n",
       "    </tr>\n",
       "  </tbody>\n",
       "</table>\n",
       "</div>"
      ],
      "text/plain": [
       "                                                                                                     Hypothesis  \\\n",
       "8                                                       Запустить акцию, дающую скидку на товар в день рождения   \n",
       "0            Добавить два новых канала привлечения трафика, что позволит привлекать на 30% больше пользователей   \n",
       "7              Добавить форму подписки на все основные страницы, чтобы собрать базу клиентов для email-рассылок   \n",
       "6          Показать на главной странице баннеры с актуальными акциями и распродажами, чтобы увеличить конверсию   \n",
       "2  Добавить блоки рекомендаций товаров на сайт интернет магазина, чтобы повысить конверсию и средний чек заказа   \n",
       "1                                     Запустить собственную службу доставки, что сократит срок доставки заказов   \n",
       "5                      Добавить страницу отзывов клиентов о магазине, что позволит увеличить количество заказов   \n",
       "3           Изменить структура категорий, что увеличит конверсию, т.к. пользователи быстрее найдут нужный товар   \n",
       "4                              Изменить цвет фона главной страницы, чтобы увеличить вовлеченность пользователей   \n",
       "\n",
       "   Reach  Impact  Confidence  Efforts     ice  \n",
       "8      1       9           9        5  16.200  \n",
       "0      3      10           8        6  13.333  \n",
       "7     10       7           8        5  11.200  \n",
       "6      5       3           8        3   8.000  \n",
       "2      8       3           7        3   7.000  \n",
       "1      2       5           4       10   2.000  \n",
       "5      3       2           2        3   1.333  \n",
       "3      8       3           3        8   1.125  \n",
       "4      3       1           1        1   1.000  "
      ]
     },
     "execution_count": 43,
     "metadata": {},
     "output_type": "execute_result"
    }
   ],
   "source": [
    "hypothesis['ice'] = round(hypothesis['Impact'] * hypothesis['Confidence'] / hypothesis['Efforts'], 3)\n",
    "hypothesis.sort_values(by='ice', ascending=False)"
   ]
  },
  {
   "cell_type": "markdown",
   "metadata": {},
   "source": [
    "На основе анализа с помощью фреймворка ICE мы пришли к выводу, что наиболее перспективными гипотезами являются 8, 0 и 7."
   ]
  },
  {
   "cell_type": "markdown",
   "metadata": {},
   "source": [
    "<h4>Приоритизация гипотез по RICE</h4>"
   ]
  },
  {
   "cell_type": "code",
   "execution_count": 44,
   "metadata": {},
   "outputs": [
    {
     "data": {
      "text/html": [
       "<div>\n",
       "<style scoped>\n",
       "    .dataframe tbody tr th:only-of-type {\n",
       "        vertical-align: middle;\n",
       "    }\n",
       "\n",
       "    .dataframe tbody tr th {\n",
       "        vertical-align: top;\n",
       "    }\n",
       "\n",
       "    .dataframe thead th {\n",
       "        text-align: right;\n",
       "    }\n",
       "</style>\n",
       "<table border=\"1\" class=\"dataframe\">\n",
       "  <thead>\n",
       "    <tr style=\"text-align: right;\">\n",
       "      <th></th>\n",
       "      <th>Hypothesis</th>\n",
       "      <th>Reach</th>\n",
       "      <th>Impact</th>\n",
       "      <th>Confidence</th>\n",
       "      <th>Efforts</th>\n",
       "      <th>ice</th>\n",
       "      <th>rice</th>\n",
       "    </tr>\n",
       "  </thead>\n",
       "  <tbody>\n",
       "    <tr>\n",
       "      <th>7</th>\n",
       "      <td>Добавить форму подписки на все основные страницы, чтобы собрать базу клиентов для email-рассылок</td>\n",
       "      <td>10</td>\n",
       "      <td>7</td>\n",
       "      <td>8</td>\n",
       "      <td>5</td>\n",
       "      <td>11.200</td>\n",
       "      <td>112.0</td>\n",
       "    </tr>\n",
       "    <tr>\n",
       "      <th>2</th>\n",
       "      <td>Добавить блоки рекомендаций товаров на сайт интернет магазина, чтобы повысить конверсию и средний чек заказа</td>\n",
       "      <td>8</td>\n",
       "      <td>3</td>\n",
       "      <td>7</td>\n",
       "      <td>3</td>\n",
       "      <td>7.000</td>\n",
       "      <td>56.0</td>\n",
       "    </tr>\n",
       "    <tr>\n",
       "      <th>0</th>\n",
       "      <td>Добавить два новых канала привлечения трафика, что позволит привлекать на 30% больше пользователей</td>\n",
       "      <td>3</td>\n",
       "      <td>10</td>\n",
       "      <td>8</td>\n",
       "      <td>6</td>\n",
       "      <td>13.333</td>\n",
       "      <td>40.0</td>\n",
       "    </tr>\n",
       "    <tr>\n",
       "      <th>6</th>\n",
       "      <td>Показать на главной странице баннеры с актуальными акциями и распродажами, чтобы увеличить конверсию</td>\n",
       "      <td>5</td>\n",
       "      <td>3</td>\n",
       "      <td>8</td>\n",
       "      <td>3</td>\n",
       "      <td>8.000</td>\n",
       "      <td>40.0</td>\n",
       "    </tr>\n",
       "    <tr>\n",
       "      <th>8</th>\n",
       "      <td>Запустить акцию, дающую скидку на товар в день рождения</td>\n",
       "      <td>1</td>\n",
       "      <td>9</td>\n",
       "      <td>9</td>\n",
       "      <td>5</td>\n",
       "      <td>16.200</td>\n",
       "      <td>16.2</td>\n",
       "    </tr>\n",
       "    <tr>\n",
       "      <th>3</th>\n",
       "      <td>Изменить структура категорий, что увеличит конверсию, т.к. пользователи быстрее найдут нужный товар</td>\n",
       "      <td>8</td>\n",
       "      <td>3</td>\n",
       "      <td>3</td>\n",
       "      <td>8</td>\n",
       "      <td>1.125</td>\n",
       "      <td>9.0</td>\n",
       "    </tr>\n",
       "    <tr>\n",
       "      <th>1</th>\n",
       "      <td>Запустить собственную службу доставки, что сократит срок доставки заказов</td>\n",
       "      <td>2</td>\n",
       "      <td>5</td>\n",
       "      <td>4</td>\n",
       "      <td>10</td>\n",
       "      <td>2.000</td>\n",
       "      <td>4.0</td>\n",
       "    </tr>\n",
       "    <tr>\n",
       "      <th>5</th>\n",
       "      <td>Добавить страницу отзывов клиентов о магазине, что позволит увеличить количество заказов</td>\n",
       "      <td>3</td>\n",
       "      <td>2</td>\n",
       "      <td>2</td>\n",
       "      <td>3</td>\n",
       "      <td>1.333</td>\n",
       "      <td>4.0</td>\n",
       "    </tr>\n",
       "    <tr>\n",
       "      <th>4</th>\n",
       "      <td>Изменить цвет фона главной страницы, чтобы увеличить вовлеченность пользователей</td>\n",
       "      <td>3</td>\n",
       "      <td>1</td>\n",
       "      <td>1</td>\n",
       "      <td>1</td>\n",
       "      <td>1.000</td>\n",
       "      <td>3.0</td>\n",
       "    </tr>\n",
       "  </tbody>\n",
       "</table>\n",
       "</div>"
      ],
      "text/plain": [
       "                                                                                                     Hypothesis  \\\n",
       "7              Добавить форму подписки на все основные страницы, чтобы собрать базу клиентов для email-рассылок   \n",
       "2  Добавить блоки рекомендаций товаров на сайт интернет магазина, чтобы повысить конверсию и средний чек заказа   \n",
       "0            Добавить два новых канала привлечения трафика, что позволит привлекать на 30% больше пользователей   \n",
       "6          Показать на главной странице баннеры с актуальными акциями и распродажами, чтобы увеличить конверсию   \n",
       "8                                                       Запустить акцию, дающую скидку на товар в день рождения   \n",
       "3           Изменить структура категорий, что увеличит конверсию, т.к. пользователи быстрее найдут нужный товар   \n",
       "1                                     Запустить собственную службу доставки, что сократит срок доставки заказов   \n",
       "5                      Добавить страницу отзывов клиентов о магазине, что позволит увеличить количество заказов   \n",
       "4                              Изменить цвет фона главной страницы, чтобы увеличить вовлеченность пользователей   \n",
       "\n",
       "   Reach  Impact  Confidence  Efforts     ice   rice  \n",
       "7     10       7           8        5  11.200  112.0  \n",
       "2      8       3           7        3   7.000   56.0  \n",
       "0      3      10           8        6  13.333   40.0  \n",
       "6      5       3           8        3   8.000   40.0  \n",
       "8      1       9           9        5  16.200   16.2  \n",
       "3      8       3           3        8   1.125    9.0  \n",
       "1      2       5           4       10   2.000    4.0  \n",
       "5      3       2           2        3   1.333    4.0  \n",
       "4      3       1           1        1   1.000    3.0  "
      ]
     },
     "execution_count": 44,
     "metadata": {},
     "output_type": "execute_result"
    }
   ],
   "source": [
    "hypothesis['rice'] = hypothesis['Reach'] * hypothesis['Impact'] * hypothesis['Confidence'] / hypothesis['Efforts']\n",
    "hypothesis.sort_values(by='rice', ascending=False)"
   ]
  },
  {
   "cell_type": "markdown",
   "metadata": {},
   "source": [
    "На основе анализа с помощью фреймворка RICE мы пришли к выводу, что наиболее перспективными гипотезами являются 7, 2."
   ]
  },
  {
   "cell_type": "markdown",
   "metadata": {},
   "source": [
    "\n",
    "Исходя из анализа с помощью фреймворка RICE, можно сделать вывод, что наиболее перспективные гипотезы для улучшения сайта интернет-магазина следующие:\n",
    "\n",
    "Добавить форму подписки на все основные страницы, чтобы собрать базу клиентов для email-рассылок.\n",
    "Добавить блоки рекомендаций товаров на сайт интернет-магазина, чтобы повысить конверсию и средний чек заказа.\n",
    "Добавить два новых канала привлечения трафика, что позволит привлекать на 30% больше пользователей.\n",
    "Стоит отметить, что гипотеза о добавлении формы подписки на все основные страницы имеет \n",
    "наивысший рейтинг в сравнении с другими гипотезами, так как охват изменений в данной гипотезе значительно выше, \n",
    "что влияет на ее эффективность. Также гипотеза о добавлении блоков с рекомендациями товаров имеет высокую оценку \n",
    "во всех показателях, кроме охвата изменений."
   ]
  },
  {
   "cell_type": "markdown",
   "metadata": {},
   "source": [
    "<div class=\"alert alert-success\">\n",
    "<h2> Комментарий ревьюера 😊<a class=\"tocSkip\"> </h2>\n",
    "    \n",
    "Приоритизация гипотез проведена успешно! Молодец, что выводишь таблицу дважды, каждый раз с сортировкой по одному из фреймоврков, так различия в их работе будут максимально наглядными. Согласна с твоими выводами по поводу их различия."
   ]
  },
  {
   "cell_type": "markdown",
   "metadata": {},
   "source": [
    "<h3>Анализ A/B-теста</h3>"
   ]
  },
  {
   "cell_type": "code",
   "execution_count": 45,
   "metadata": {},
   "outputs": [
    {
     "data": {
      "text/html": [
       "<div>\n",
       "<style scoped>\n",
       "    .dataframe tbody tr th:only-of-type {\n",
       "        vertical-align: middle;\n",
       "    }\n",
       "\n",
       "    .dataframe tbody tr th {\n",
       "        vertical-align: top;\n",
       "    }\n",
       "\n",
       "    .dataframe thead th {\n",
       "        text-align: right;\n",
       "    }\n",
       "</style>\n",
       "<table border=\"1\" class=\"dataframe\">\n",
       "  <thead>\n",
       "    <tr style=\"text-align: right;\">\n",
       "      <th></th>\n",
       "      <th>transactionId</th>\n",
       "      <th>visitorId</th>\n",
       "      <th>date</th>\n",
       "      <th>revenue</th>\n",
       "      <th>group</th>\n",
       "    </tr>\n",
       "  </thead>\n",
       "  <tbody>\n",
       "    <tr>\n",
       "      <th>0</th>\n",
       "      <td>3667963787</td>\n",
       "      <td>3312258926</td>\n",
       "      <td>2019-08-15</td>\n",
       "      <td>1650</td>\n",
       "      <td>B</td>\n",
       "    </tr>\n",
       "    <tr>\n",
       "      <th>1</th>\n",
       "      <td>2804400009</td>\n",
       "      <td>3642806036</td>\n",
       "      <td>2019-08-15</td>\n",
       "      <td>730</td>\n",
       "      <td>B</td>\n",
       "    </tr>\n",
       "    <tr>\n",
       "      <th>2</th>\n",
       "      <td>2961555356</td>\n",
       "      <td>4069496402</td>\n",
       "      <td>2019-08-15</td>\n",
       "      <td>400</td>\n",
       "      <td>A</td>\n",
       "    </tr>\n",
       "    <tr>\n",
       "      <th>3</th>\n",
       "      <td>3797467345</td>\n",
       "      <td>1196621759</td>\n",
       "      <td>2019-08-15</td>\n",
       "      <td>9759</td>\n",
       "      <td>B</td>\n",
       "    </tr>\n",
       "    <tr>\n",
       "      <th>4</th>\n",
       "      <td>2282983706</td>\n",
       "      <td>2322279887</td>\n",
       "      <td>2019-08-15</td>\n",
       "      <td>2308</td>\n",
       "      <td>B</td>\n",
       "    </tr>\n",
       "  </tbody>\n",
       "</table>\n",
       "</div>"
      ],
      "text/plain": [
       "   transactionId   visitorId        date  revenue group\n",
       "0     3667963787  3312258926  2019-08-15     1650     B\n",
       "1     2804400009  3642806036  2019-08-15      730     B\n",
       "2     2961555356  4069496402  2019-08-15      400     A\n",
       "3     3797467345  1196621759  2019-08-15     9759     B\n",
       "4     2282983706  2322279887  2019-08-15     2308     B"
      ]
     },
     "execution_count": 45,
     "metadata": {},
     "output_type": "execute_result"
    }
   ],
   "source": [
    "orders.head()"
   ]
  },
  {
   "cell_type": "code",
   "execution_count": 46,
   "metadata": {},
   "outputs": [
    {
     "data": {
      "text/html": [
       "<div>\n",
       "<style scoped>\n",
       "    .dataframe tbody tr th:only-of-type {\n",
       "        vertical-align: middle;\n",
       "    }\n",
       "\n",
       "    .dataframe tbody tr th {\n",
       "        vertical-align: top;\n",
       "    }\n",
       "\n",
       "    .dataframe thead th {\n",
       "        text-align: right;\n",
       "    }\n",
       "</style>\n",
       "<table border=\"1\" class=\"dataframe\">\n",
       "  <thead>\n",
       "    <tr style=\"text-align: right;\">\n",
       "      <th></th>\n",
       "      <th>transaction_id</th>\n",
       "      <th>visitor_id</th>\n",
       "      <th>date</th>\n",
       "      <th>revenue</th>\n",
       "      <th>group</th>\n",
       "    </tr>\n",
       "  </thead>\n",
       "  <tbody>\n",
       "    <tr>\n",
       "      <th>0</th>\n",
       "      <td>3667963787</td>\n",
       "      <td>3312258926</td>\n",
       "      <td>2019-08-15</td>\n",
       "      <td>1650</td>\n",
       "      <td>B</td>\n",
       "    </tr>\n",
       "    <tr>\n",
       "      <th>1</th>\n",
       "      <td>2804400009</td>\n",
       "      <td>3642806036</td>\n",
       "      <td>2019-08-15</td>\n",
       "      <td>730</td>\n",
       "      <td>B</td>\n",
       "    </tr>\n",
       "    <tr>\n",
       "      <th>2</th>\n",
       "      <td>2961555356</td>\n",
       "      <td>4069496402</td>\n",
       "      <td>2019-08-15</td>\n",
       "      <td>400</td>\n",
       "      <td>A</td>\n",
       "    </tr>\n",
       "    <tr>\n",
       "      <th>3</th>\n",
       "      <td>3797467345</td>\n",
       "      <td>1196621759</td>\n",
       "      <td>2019-08-15</td>\n",
       "      <td>9759</td>\n",
       "      <td>B</td>\n",
       "    </tr>\n",
       "    <tr>\n",
       "      <th>4</th>\n",
       "      <td>2282983706</td>\n",
       "      <td>2322279887</td>\n",
       "      <td>2019-08-15</td>\n",
       "      <td>2308</td>\n",
       "      <td>B</td>\n",
       "    </tr>\n",
       "  </tbody>\n",
       "</table>\n",
       "</div>"
      ],
      "text/plain": [
       "   transaction_id  visitor_id        date  revenue group\n",
       "0      3667963787  3312258926  2019-08-15     1650     B\n",
       "1      2804400009  3642806036  2019-08-15      730     B\n",
       "2      2961555356  4069496402  2019-08-15      400     A\n",
       "3      3797467345  1196621759  2019-08-15     9759     B\n",
       "4      2282983706  2322279887  2019-08-15     2308     B"
      ]
     },
     "execution_count": 46,
     "metadata": {},
     "output_type": "execute_result"
    }
   ],
   "source": [
    "orders.rename(columns={'transactionId':'transaction_id', 'visitorId':'visitor_id'}, inplace=True)\n",
    "orders.head()"
   ]
  },
  {
   "cell_type": "code",
   "execution_count": 47,
   "metadata": {},
   "outputs": [
    {
     "name": "stdout",
     "output_type": "stream",
     "text": [
      "<class 'pandas.core.frame.DataFrame'>\n",
      "RangeIndex: 1197 entries, 0 to 1196\n",
      "Data columns (total 5 columns):\n",
      " #   Column          Non-Null Count  Dtype \n",
      "---  ------          --------------  ----- \n",
      " 0   transaction_id  1197 non-null   int64 \n",
      " 1   visitor_id      1197 non-null   int64 \n",
      " 2   date            1197 non-null   object\n",
      " 3   revenue         1197 non-null   int64 \n",
      " 4   group           1197 non-null   object\n",
      "dtypes: int64(3), object(2)\n",
      "memory usage: 46.9+ KB\n"
     ]
    }
   ],
   "source": [
    "orders.info()"
   ]
  },
  {
   "cell_type": "code",
   "execution_count": 48,
   "metadata": {},
   "outputs": [
    {
     "data": {
      "text/html": [
       "<div>\n",
       "<style scoped>\n",
       "    .dataframe tbody tr th:only-of-type {\n",
       "        vertical-align: middle;\n",
       "    }\n",
       "\n",
       "    .dataframe tbody tr th {\n",
       "        vertical-align: top;\n",
       "    }\n",
       "\n",
       "    .dataframe thead th {\n",
       "        text-align: right;\n",
       "    }\n",
       "</style>\n",
       "<table border=\"1\" class=\"dataframe\">\n",
       "  <thead>\n",
       "    <tr style=\"text-align: right;\">\n",
       "      <th></th>\n",
       "      <th>transaction_id</th>\n",
       "      <th>visitor_id</th>\n",
       "      <th>revenue</th>\n",
       "    </tr>\n",
       "  </thead>\n",
       "  <tbody>\n",
       "    <tr>\n",
       "      <th>count</th>\n",
       "      <td>1.197000e+03</td>\n",
       "      <td>1.197000e+03</td>\n",
       "      <td>1.197000e+03</td>\n",
       "    </tr>\n",
       "    <tr>\n",
       "      <th>mean</th>\n",
       "      <td>2.155621e+09</td>\n",
       "      <td>2.165960e+09</td>\n",
       "      <td>8.348006e+03</td>\n",
       "    </tr>\n",
       "    <tr>\n",
       "      <th>std</th>\n",
       "      <td>1.229085e+09</td>\n",
       "      <td>1.236014e+09</td>\n",
       "      <td>3.919113e+04</td>\n",
       "    </tr>\n",
       "    <tr>\n",
       "      <th>min</th>\n",
       "      <td>1.062393e+06</td>\n",
       "      <td>5.114589e+06</td>\n",
       "      <td>5.000000e+01</td>\n",
       "    </tr>\n",
       "    <tr>\n",
       "      <th>25%</th>\n",
       "      <td>1.166776e+09</td>\n",
       "      <td>1.111826e+09</td>\n",
       "      <td>1.220000e+03</td>\n",
       "    </tr>\n",
       "    <tr>\n",
       "      <th>50%</th>\n",
       "      <td>2.145194e+09</td>\n",
       "      <td>2.217985e+09</td>\n",
       "      <td>2.978000e+03</td>\n",
       "    </tr>\n",
       "    <tr>\n",
       "      <th>75%</th>\n",
       "      <td>3.237740e+09</td>\n",
       "      <td>3.177606e+09</td>\n",
       "      <td>8.290000e+03</td>\n",
       "    </tr>\n",
       "    <tr>\n",
       "      <th>max</th>\n",
       "      <td>4.293856e+09</td>\n",
       "      <td>4.283872e+09</td>\n",
       "      <td>1.294500e+06</td>\n",
       "    </tr>\n",
       "  </tbody>\n",
       "</table>\n",
       "</div>"
      ],
      "text/plain": [
       "       transaction_id    visitor_id       revenue\n",
       "count    1.197000e+03  1.197000e+03  1.197000e+03\n",
       "mean     2.155621e+09  2.165960e+09  8.348006e+03\n",
       "std      1.229085e+09  1.236014e+09  3.919113e+04\n",
       "min      1.062393e+06  5.114589e+06  5.000000e+01\n",
       "25%      1.166776e+09  1.111826e+09  1.220000e+03\n",
       "50%      2.145194e+09  2.217985e+09  2.978000e+03\n",
       "75%      3.237740e+09  3.177606e+09  8.290000e+03\n",
       "max      4.293856e+09  4.283872e+09  1.294500e+06"
      ]
     },
     "execution_count": 48,
     "metadata": {},
     "output_type": "execute_result"
    }
   ],
   "source": [
    "orders.describe()"
   ]
  },
  {
   "cell_type": "code",
   "execution_count": 49,
   "metadata": {},
   "outputs": [
    {
     "data": {
      "text/html": [
       "<div>\n",
       "<style scoped>\n",
       "    .dataframe tbody tr th:only-of-type {\n",
       "        vertical-align: middle;\n",
       "    }\n",
       "\n",
       "    .dataframe tbody tr th {\n",
       "        vertical-align: top;\n",
       "    }\n",
       "\n",
       "    .dataframe thead th {\n",
       "        text-align: right;\n",
       "    }\n",
       "</style>\n",
       "<table border=\"1\" class=\"dataframe\">\n",
       "  <thead>\n",
       "    <tr style=\"text-align: right;\">\n",
       "      <th></th>\n",
       "      <th>date</th>\n",
       "      <th>group</th>\n",
       "      <th>visitors</th>\n",
       "    </tr>\n",
       "  </thead>\n",
       "  <tbody>\n",
       "    <tr>\n",
       "      <th>0</th>\n",
       "      <td>2019-08-01</td>\n",
       "      <td>A</td>\n",
       "      <td>719</td>\n",
       "    </tr>\n",
       "    <tr>\n",
       "      <th>1</th>\n",
       "      <td>2019-08-02</td>\n",
       "      <td>A</td>\n",
       "      <td>619</td>\n",
       "    </tr>\n",
       "    <tr>\n",
       "      <th>2</th>\n",
       "      <td>2019-08-03</td>\n",
       "      <td>A</td>\n",
       "      <td>507</td>\n",
       "    </tr>\n",
       "    <tr>\n",
       "      <th>3</th>\n",
       "      <td>2019-08-04</td>\n",
       "      <td>A</td>\n",
       "      <td>717</td>\n",
       "    </tr>\n",
       "    <tr>\n",
       "      <th>4</th>\n",
       "      <td>2019-08-05</td>\n",
       "      <td>A</td>\n",
       "      <td>756</td>\n",
       "    </tr>\n",
       "  </tbody>\n",
       "</table>\n",
       "</div>"
      ],
      "text/plain": [
       "         date group  visitors\n",
       "0  2019-08-01     A       719\n",
       "1  2019-08-02     A       619\n",
       "2  2019-08-03     A       507\n",
       "3  2019-08-04     A       717\n",
       "4  2019-08-05     A       756"
      ]
     },
     "execution_count": 49,
     "metadata": {},
     "output_type": "execute_result"
    }
   ],
   "source": [
    "visitors.head()"
   ]
  },
  {
   "cell_type": "code",
   "execution_count": 50,
   "metadata": {},
   "outputs": [
    {
     "name": "stdout",
     "output_type": "stream",
     "text": [
      "<class 'pandas.core.frame.DataFrame'>\n",
      "RangeIndex: 62 entries, 0 to 61\n",
      "Data columns (total 3 columns):\n",
      " #   Column    Non-Null Count  Dtype \n",
      "---  ------    --------------  ----- \n",
      " 0   date      62 non-null     object\n",
      " 1   group     62 non-null     object\n",
      " 2   visitors  62 non-null     int64 \n",
      "dtypes: int64(1), object(2)\n",
      "memory usage: 1.6+ KB\n"
     ]
    }
   ],
   "source": [
    "visitors.info()"
   ]
  },
  {
   "cell_type": "code",
   "execution_count": 51,
   "metadata": {},
   "outputs": [],
   "source": [
    "visitors['date'] = pd.to_datetime(visitors['date'])"
   ]
  },
  {
   "cell_type": "code",
   "execution_count": 52,
   "metadata": {},
   "outputs": [
    {
     "data": {
      "text/html": [
       "<div>\n",
       "<style scoped>\n",
       "    .dataframe tbody tr th:only-of-type {\n",
       "        vertical-align: middle;\n",
       "    }\n",
       "\n",
       "    .dataframe tbody tr th {\n",
       "        vertical-align: top;\n",
       "    }\n",
       "\n",
       "    .dataframe thead th {\n",
       "        text-align: right;\n",
       "    }\n",
       "</style>\n",
       "<table border=\"1\" class=\"dataframe\">\n",
       "  <thead>\n",
       "    <tr style=\"text-align: right;\">\n",
       "      <th></th>\n",
       "      <th>visitors</th>\n",
       "    </tr>\n",
       "  </thead>\n",
       "  <tbody>\n",
       "    <tr>\n",
       "      <th>count</th>\n",
       "      <td>62.000000</td>\n",
       "    </tr>\n",
       "    <tr>\n",
       "      <th>mean</th>\n",
       "      <td>607.290323</td>\n",
       "    </tr>\n",
       "    <tr>\n",
       "      <th>std</th>\n",
       "      <td>114.400560</td>\n",
       "    </tr>\n",
       "    <tr>\n",
       "      <th>min</th>\n",
       "      <td>361.000000</td>\n",
       "    </tr>\n",
       "    <tr>\n",
       "      <th>25%</th>\n",
       "      <td>534.000000</td>\n",
       "    </tr>\n",
       "    <tr>\n",
       "      <th>50%</th>\n",
       "      <td>624.500000</td>\n",
       "    </tr>\n",
       "    <tr>\n",
       "      <th>75%</th>\n",
       "      <td>710.500000</td>\n",
       "    </tr>\n",
       "    <tr>\n",
       "      <th>max</th>\n",
       "      <td>770.000000</td>\n",
       "    </tr>\n",
       "  </tbody>\n",
       "</table>\n",
       "</div>"
      ],
      "text/plain": [
       "         visitors\n",
       "count   62.000000\n",
       "mean   607.290323\n",
       "std    114.400560\n",
       "min    361.000000\n",
       "25%    534.000000\n",
       "50%    624.500000\n",
       "75%    710.500000\n",
       "max    770.000000"
      ]
     },
     "execution_count": 52,
     "metadata": {},
     "output_type": "execute_result"
    }
   ],
   "source": [
    "visitors.describe()"
   ]
  },
  {
   "cell_type": "code",
   "execution_count": 53,
   "metadata": {},
   "outputs": [
    {
     "data": {
      "text/plain": [
       "(0, 0)"
      ]
     },
     "execution_count": 53,
     "metadata": {},
     "output_type": "execute_result"
    }
   ],
   "source": [
    "visitors.duplicated().sum(), orders.duplicated().sum()"
   ]
  },
  {
   "cell_type": "code",
   "execution_count": 54,
   "metadata": {
    "scrolled": true
   },
   "outputs": [
    {
     "data": {
      "text/plain": [
       "0"
      ]
     },
     "execution_count": 54,
     "metadata": {},
     "output_type": "execute_result"
    }
   ],
   "source": [
    "hypothesis.duplicated().sum()"
   ]
  },
  {
   "cell_type": "markdown",
   "metadata": {},
   "source": [
    "Дубликатов не обнаруженно "
   ]
  },
  {
   "cell_type": "code",
   "execution_count": 55,
   "metadata": {},
   "outputs": [
    {
     "data": {
      "text/plain": [
       "(date        0\n",
       " group       0\n",
       " visitors    0\n",
       " dtype: int64,\n",
       " transaction_id    0\n",
       " visitor_id        0\n",
       " date              0\n",
       " revenue           0\n",
       " group             0\n",
       " dtype: int64)"
      ]
     },
     "execution_count": 55,
     "metadata": {},
     "output_type": "execute_result"
    }
   ],
   "source": [
    "visitors.isna().sum(), orders.isna().sum()"
   ]
  },
  {
   "cell_type": "code",
   "execution_count": 56,
   "metadata": {},
   "outputs": [
    {
     "data": {
      "text/plain": [
       "Hypothesis    0\n",
       "Reach         0\n",
       "Impact        0\n",
       "Confidence    0\n",
       "Efforts       0\n",
       "ice           0\n",
       "rice          0\n",
       "dtype: int64"
      ]
     },
     "execution_count": 56,
     "metadata": {},
     "output_type": "execute_result"
    }
   ],
   "source": [
    "hypothesis.isna().sum()"
   ]
  },
  {
   "cell_type": "markdown",
   "metadata": {},
   "source": [
    "Пропусков так же нет "
   ]
  },
  {
   "cell_type": "markdown",
   "metadata": {},
   "source": [
    "<div class=\"alert alert-block alert-danger\">\n",
    "<h2> Комментарий ревьюера 🤔<a class=\"tocSkip\"></h2>\n",
    "    <s>\n",
    "Мы пропустили один важный шаг предобработки - проверка на дубликаты, давай добавим"
   ]
  },
  {
   "cell_type": "markdown",
   "metadata": {},
   "source": [
    "<div class=\"alert alert-success\">\n",
    "<h2> Комментарий ревьюера 😊 v_2 <a class=\"tocSkip\"> </h2>\n",
    "\n",
    "👍"
   ]
  },
  {
   "cell_type": "markdown",
   "metadata": {},
   "source": [
    "<div class=\"alert alert-warning\">\n",
    "<h2> Комментарий ревьюера 🤓<a class=\"tocSkip\"> </h2>\n",
    "        \n",
    "Можно провести дополнительные исследования, например: \n",
    "    \n",
    "* Посмотреть сколько у нас групп в АВ-тесте;\n",
    "* Изучить временной интервал, узнав даты начала и окончания теста;\n",
    "* Рассмотреть количество пользователей в каждой группе - по таблице с заказами;\n",
    "* Посмотреть не попадают ли какие-то пользователи в обе группы - по таблице с заказами.\n",
    "* Посмотреть динамику посетителей по дням по группам (visitos).\n",
    "</div>"
   ]
  },
  {
   "cell_type": "code",
   "execution_count": 59,
   "metadata": {},
   "outputs": [
    {
     "data": {
      "image/png": "[encoded data removed]",
      "text/plain": [
       "<Figure size 1080x360 with 1 Axes>"
      ]
     },
     "metadata": {
      "needs_background": "light"
     },
     "output_type": "display_data"
    }
   ],
   "source": [
    "ordersAggregated['date'] = pd.to_datetime(ordersAggregated['date']) \n",
    "\n",
    "cumulativeData = ordersAggregated.merge(\n",
    "    visitorsAggregated, left_on=['date', 'group'], right_on=['date', 'group']\n",
    ")\n",
    "\n",
    "cumulativeData.columns = [\n",
    "    'date',\n",
    "    'group',\n",
    "    'orders',\n",
    "    'buyers',\n",
    "    'revenue',\n",
    "    'visitors',\n",
    "]\n",
    "\n",
    "cumulativeRevenueA = cumulativeData[cumulativeData['group'] == 'A'][['date', 'revenue', 'orders']]\n",
    "cumulativeRevenueB = cumulativeData[cumulativeData['group'] == 'B'][['date', 'revenue', 'orders']]\n",
    "\n",
    "plt.figure(figsize=(15, 5))\n",
    "plt.plot(cumulativeRevenueA['date'], cumulativeRevenueA['revenue'], label='Кумулятивная выручка группы A')\n",
    "plt.plot(cumulativeRevenueB['date'], cumulativeRevenueB['revenue'], label='Кумулятивная выручка группы B')\n",
    "plt.legend()\n",
    "plt.grid()\n",
    "plt.xticks(rotation=30)\n",
    "plt.xlabel('Дата')\n",
    "plt.ylabel('Выручка')\n",
    "plt.title('График кумулятивной выручки по группам')\n",
    "plt.show()"
   ]
  },
  {
   "cell_type": "markdown",
   "metadata": {},
   "source": [
    "Общая выручка почти равномерно увеличивается в течение всего теста, что является хорошим знаком. Однако, стоит обратить внимание на резкий всплеск выручки в группе В в одной из точек. Это может указывать на возможные всплески числа заказов или появление очень дорогих заказов в выборке."
   ]
  },
  {
   "cell_type": "markdown",
   "metadata": {},
   "source": [
    "<div class=\"alert alert-success\">\n",
    "<h2> Комментарий ревьюера 😊 <a class=\"tocSkip\"> </h2>\n",
    "\n",
    "Верно)"
   ]
  },
  {
   "cell_type": "code",
   "execution_count": 60,
   "metadata": {},
   "outputs": [
    {
     "data": {
      "image/png": "[encoded data removed]",
      "text/plain": [
       "<Figure size 1224x504 with 1 Axes>"
      ]
     },
     "metadata": {
      "needs_background": "light"
     },
     "output_type": "display_data"
    }
   ],
   "source": [
    "plt.figure(figsize=(17,7))\n",
    "plt.plot(cumulativeRevenueA['date'], cumulativeRevenueA['revenue'] / cumulativeRevenueA['orders'], label='A')\n",
    "plt.plot(cumulativeRevenueB['date'], cumulativeRevenueB['revenue'] / cumulativeRevenueB['orders'], label='B')\n",
    "plt.legend()\n",
    "plt.grid()\n",
    "plt.xticks(rotation=30)\n",
    "plt.title('Кумулятивный средний чек по группам')\n",
    "plt.xlabel(\"Дата\")\n",
    "plt.ylabel(\"Сумма среднего чека\")\n",
    "plt.legend()\n",
    "plt.show()"
   ]
  },
  {
   "cell_type": "markdown",
   "metadata": {},
   "source": [
    "Средний чек в группе А имеет ярко выраженный провал 06.08., после чего наблюдается всплеск 13.08. После этого периода происходит корректировка и средний чек стабилизируется. Эти колебания могут указывать на наличие факторов, влияющих на поведение и предпочтения пользователей в эти периоды."
   ]
  },
  {
   "cell_type": "markdown",
   "metadata": {},
   "source": [
    "<h4>Гафик относительного изменения кумулятивного среднего чека группы B к группе A.</h4>"
   ]
  },
  {
   "cell_type": "code",
   "execution_count": 61,
   "metadata": {
    "scrolled": true
   },
   "outputs": [
    {
     "data": {
      "image/png": "[encoded data removed]",
      "text/plain": [
       "<Figure size 720x360 with 1 Axes>"
      ]
     },
     "metadata": {
      "needs_background": "light"
     },
     "output_type": "display_data"
    }
   ],
   "source": [
    "mergedCumulativeRevenue = cumulativeRevenueA.merge(cumulativeRevenueB, left_on='date', \n",
    "                                                   right_on='date', how='left', suffixes=['A', 'B'])\n",
    "plt.figure(figsize=(10, 5))\n",
    "plt.plot(mergedCumulativeRevenue['date'], \n",
    "         (mergedCumulativeRevenue['revenueB']/mergedCumulativeRevenue['ordersB'])/\n",
    "         (mergedCumulativeRevenue['revenueA']/mergedCumulativeRevenue['ordersA']) - 1)\n",
    "plt.axhline(y=0, color='red', linestyle='--')\n",
    "plt.grid()\n",
    "plt.xticks(rotation=30)\n",
    "plt.title('График относительного изменения кумулятивного среднего чека группы B к группе A')\n",
    "plt.xlabel('Дата')\n",
    "plt.ylabel('Относительное изм-е среднего чека группы В к А')\n",
    "plt.show()"
   ]
  },
  {
   "cell_type": "markdown",
   "metadata": {},
   "source": [
    "На графике видны резкие скачки в значениях среднего чека для обеих групп. \n",
    "Эти скачки могут указывать на наличие аномальных заказов или выбросов в данных в этих конкретных датах.\n",
    "\n",
    "Данные скачки могут быть вызваны различными факторами, такими как особые акции, \n",
    "крупные покупки отдельных клиентов или другие случайные события. Однако, \n",
    "без дополнительного анализа и подробной информации о заказах и клиентах, \n",
    "сложно точно определить причины этих скачков."
   ]
  },
  {
   "cell_type": "code",
   "execution_count": 62,
   "metadata": {},
   "outputs": [
    {
     "data": {
      "image/png": "[encoded data removed]",
      "text/plain": [
       "<Figure size 720x360 with 1 Axes>"
      ]
     },
     "metadata": {
      "needs_background": "light"
     },
     "output_type": "display_data"
    }
   ],
   "source": [
    "plt.figure(figsize=(10, 5))\n",
    "cumulativeData['conversion'] = cumulativeData['orders']/cumulativeData['visitors']\n",
    "cumulativeDataA = cumulativeData[cumulativeData['group'] == 'A']\n",
    "cumulativeDataB = cumulativeData[cumulativeData['group'] == 'B']\n",
    "\n",
    "plt.plot(cumulativeDataA['date'], cumulativeDataA['conversion'], label='A')\n",
    "plt.plot(cumulativeDataB['date'], cumulativeDataB['conversion'], label='B')\n",
    "plt.legend()\n",
    "plt.grid()\n",
    "plt.xticks(rotation=30)\n",
    "plt.title('График кумулятивного среднего количества заказов на посетителя по группам')\n",
    "plt.xlabel('Дата')\n",
    "plt.ylabel('Конверсия')\n",
    "plt.show()"
   ]
  },
  {
   "cell_type": "markdown",
   "metadata": {},
   "source": [
    "Из представленного графика можно сделать следующий вывод: в начале теста конверсия группы A значительно превосходила конверсию \n",
    "    группы B. Однако, начиная с шестого дня, ситуация полностью поменялась, и конверсия группы B стала выше конверсии группы A. \n",
    "    Затем, с середины месяца, конверсии обеих групп начали стабилизироваться.\n",
    "\n",
    "Этот результат говорит о том, что изменения, внесенные в группу B, могут оказывать положительное влияние на конверсию."
   ]
  },
  {
   "cell_type": "code",
   "execution_count": 63,
   "metadata": {
    "scrolled": true
   },
   "outputs": [
    {
     "data": {
      "image/png": "[encoded data removed]",
      "text/plain": [
       "<Figure size 1080x360 with 1 Axes>"
      ]
     },
     "metadata": {
      "needs_background": "light"
     },
     "output_type": "display_data"
    }
   ],
   "source": [
    "mergedCumulativeConversions = cumulativeDataA[['date','conversion']].merge(cumulativeDataB[['date','conversion']], \n",
    "                                                                           left_on='date', right_on='date', how='left', \n",
    "                                                                           suffixes=['A', 'B'])\n",
    "\n",
    "plt.figure(figsize=(15,5))\n",
    "\n",
    "plt.plot(mergedCumulativeConversions['date'], \n",
    "         mergedCumulativeConversions['conversionB']/mergedCumulativeConversions['conversionA']-1, \n",
    "         label=\"Относительный прирост конверсии группы B относительно группы A\")\n",
    "\n",
    "plt.axhline(y=0, color='black', linestyle='--')\n",
    "plt.axhline(y=0.15, color='grey', linestyle='--')\n",
    "\n",
    "plt.title('Относительное изменение кумулятивной конверсии В к А', fontsize=15)\n",
    "plt.ylabel('(конверсия В / конверсия А) -1', fontsize=15)\n",
    "plt.xticks(rotation=30)\n",
    "plt.legend()\n",
    "plt.show()\n"
   ]
  },
  {
   "cell_type": "markdown",
   "metadata": {},
   "source": [
    "\n",
    "Как результат проведения теста A/B, можно заметить, что конверсия группы B быстро опередила конверсию группы A \n",
    "вскоре после начала теста и оставалась выше до его окончания. Однако на графике видны значительные колебания, \n",
    "что может указывать на наличие выбросов в данных.\n",
    "\n",
    "Эти колебания говорят о возможном влиянии внешних факторов или аномалий на результаты."
   ]
  },
  {
   "cell_type": "markdown",
   "metadata": {},
   "source": [
    "<div class=\"alert alert-success\">\n",
    "<h2> Комментарий ревьюера 😊 v_2 <a class=\"tocSkip\"> </h2>\n",
    "\n",
    "Графики построены верно, молодец)"
   ]
  },
  {
   "cell_type": "markdown",
   "metadata": {},
   "source": [
    "<div class=\"alert alert-block alert-danger\">\n",
    "<h2> Комментарий ревьюера 🤔<a class=\"tocSkip\"></h2>\n",
    "    <s>\n",
    "Отсутствует вывод и пункт:\n",
    "    \n",
    "    Постройте график относительного изменения кумулятивного среднего количества заказов на посетителя группы B к группе A. Сделайте выводы и предположения.\n",
    "    \n",
    "Давай дополним)"
   ]
  },
  {
   "cell_type": "code",
   "execution_count": 24,
   "metadata": {
    "scrolled": true
   },
   "outputs": [
    {
     "data": {
      "text/html": [
       "<div>\n",
       "<style scoped>\n",
       "    .dataframe tbody tr th:only-of-type {\n",
       "        vertical-align: middle;\n",
       "    }\n",
       "\n",
       "    .dataframe tbody tr th {\n",
       "        vertical-align: top;\n",
       "    }\n",
       "\n",
       "    .dataframe thead th {\n",
       "        text-align: right;\n",
       "    }\n",
       "</style>\n",
       "<table border=\"1\" class=\"dataframe\">\n",
       "  <thead>\n",
       "    <tr style=\"text-align: right;\">\n",
       "      <th></th>\n",
       "      <th>visitor_id</th>\n",
       "      <th>orders</th>\n",
       "    </tr>\n",
       "  </thead>\n",
       "  <tbody>\n",
       "    <tr>\n",
       "      <th>1023</th>\n",
       "      <td>4256040402</td>\n",
       "      <td>11</td>\n",
       "    </tr>\n",
       "    <tr>\n",
       "      <th>591</th>\n",
       "      <td>2458001652</td>\n",
       "      <td>11</td>\n",
       "    </tr>\n",
       "    <tr>\n",
       "      <th>569</th>\n",
       "      <td>2378935119</td>\n",
       "      <td>9</td>\n",
       "    </tr>\n",
       "    <tr>\n",
       "      <th>487</th>\n",
       "      <td>2038680547</td>\n",
       "      <td>8</td>\n",
       "    </tr>\n",
       "    <tr>\n",
       "      <th>44</th>\n",
       "      <td>199603092</td>\n",
       "      <td>5</td>\n",
       "    </tr>\n",
       "    <tr>\n",
       "      <th>744</th>\n",
       "      <td>3062433592</td>\n",
       "      <td>5</td>\n",
       "    </tr>\n",
       "    <tr>\n",
       "      <th>55</th>\n",
       "      <td>237748145</td>\n",
       "      <td>5</td>\n",
       "    </tr>\n",
       "    <tr>\n",
       "      <th>917</th>\n",
       "      <td>3803269165</td>\n",
       "      <td>5</td>\n",
       "    </tr>\n",
       "    <tr>\n",
       "      <th>299</th>\n",
       "      <td>1230306981</td>\n",
       "      <td>5</td>\n",
       "    </tr>\n",
       "    <tr>\n",
       "      <th>897</th>\n",
       "      <td>3717692402</td>\n",
       "      <td>5</td>\n",
       "    </tr>\n",
       "    <tr>\n",
       "      <th>393</th>\n",
       "      <td>1614305549</td>\n",
       "      <td>4</td>\n",
       "    </tr>\n",
       "  </tbody>\n",
       "</table>\n",
       "</div>"
      ],
      "text/plain": [
       "      visitor_id  orders\n",
       "1023  4256040402      11\n",
       "591   2458001652      11\n",
       "569   2378935119       9\n",
       "487   2038680547       8\n",
       "44     199603092       5\n",
       "744   3062433592       5\n",
       "55     237748145       5\n",
       "917   3803269165       5\n",
       "299   1230306981       5\n",
       "897   3717692402       5\n",
       "393   1614305549       4"
      ]
     },
     "execution_count": 24,
     "metadata": {},
     "output_type": "execute_result"
    }
   ],
   "source": [
    "orders_by_user = (orders.drop(['group', 'revenue', 'date'], axis=1)\n",
    "                   .groupby('visitor_id', as_index=False)\n",
    "                   .agg({'transaction_id' : pd.Series.nunique})\n",
    "                  )\n",
    "orders_by_user.columns = ['visitor_id','orders']\n",
    "orders_by_user.sort_values(by='orders', ascending=False).head(11)"
   ]
  },
  {
   "cell_type": "markdown",
   "metadata": {},
   "source": [
    "а основании этих данных можно сделать вывод, что есть группа пользователей, которые делают больше заказов, чем остальные. \n",
    "В данном случае это 11 заказов у двух пользователей с ID 1023, 591. \n",
    "Также можно заметить, что большинство пользователей делают от 4 до 5 заказов."
   ]
  },
  {
   "cell_type": "code",
   "execution_count": 25,
   "metadata": {
    "scrolled": true
   },
   "outputs": [
    {
     "data": {
      "image/png": "[encoded data removed]",
      "text/plain": [
       "<Figure size 1224x504 with 1 Axes>"
      ]
     },
     "metadata": {
      "needs_background": "light"
     },
     "output_type": "display_data"
    }
   ],
   "source": [
    "plt.figure(figsize=(17,7))\n",
    "plt.scatter(pd.Series(range(0,len(orders_by_user['orders']))), orders_by_user['orders'])\n",
    "plt.title('Распределение количества заказов пользователя')\n",
    "plt.ylabel('Количество заказов пользователя')\n",
    "plt.xlabel('Порядковый номер пользователя в таблице')\n",
    "plt.show()"
   ]
  },
  {
   "cell_type": "markdown",
   "metadata": {},
   "source": [
    "Исходя из предоставленной информации, можно сделать вывод, что большинство пользователей совершает только один заказ, \n",
    "а некоторые пользователи делают по два заказа.\n",
    "Также известно, что есть небольшая группа пользователей, которые совершают от 2 до 11 заказов за месяц. \n",
    "В целом, это говорит о том, что повторная покупка не является основным фактором для большинства пользователей,\n",
    "и возможно стоит обратить внимание на то, как увеличить количество заказов у существующих клиентов.\n"
   ]
  },
  {
   "cell_type": "markdown",
   "metadata": {},
   "source": [
    "<div class=\"alert alert-block alert-danger\">\n",
    "<h2> Комментарий ревьюера 🤔<a class=\"tocSkip\"></h2>\n",
    "    <s>\n",
    "Нужно добавить расчет:\n",
    "    \n",
    "    Посчитайте 95-й и 99-й перцентили количества заказов на пользователя. Выберите границу для определения аномальных пользователей."
   ]
  },
  {
   "cell_type": "code",
   "execution_count": 26,
   "metadata": {},
   "outputs": [
    {
     "name": "stdout",
     "output_type": "stream",
     "text": [
      "[2. 4.]\n"
     ]
    }
   ],
   "source": [
    "print(np.percentile(orders_by_user['orders'], [95, 99])) "
   ]
  },
  {
   "cell_type": "markdown",
   "metadata": {},
   "source": [
    "95-й перцентиль равен 2. Это означает, что 95% пользователей делали не более 2 заказов. \n",
    "Иными словами, 95% пользователей имели 2 заказа или меньше.\n",
    "99-й перцентиль равен 4. Это означает, что 99% пользователей делали не более 4 заказов.\n",
    "То есть 99% пользователей имели 4 заказа или меньше."
   ]
  },
  {
   "cell_type": "markdown",
   "metadata": {},
   "source": [
    "<div class=\"alert alert-success\">\n",
    "<h2> Комментарий ревьюера 😊 v_2 <a class=\"tocSkip\"> </h2>\n",
    "\n",
    "👍"
   ]
  },
  {
   "cell_type": "markdown",
   "metadata": {},
   "source": [
    "График стоимости заказов "
   ]
  },
  {
   "cell_type": "code",
   "execution_count": 27,
   "metadata": {
    "scrolled": true
   },
   "outputs": [
    {
     "data": {
      "image/png": "[encoded data removed]",
      "text/plain": [
       "<Figure size 1224x504 with 1 Axes>"
      ]
     },
     "metadata": {
      "needs_background": "light"
     },
     "output_type": "display_data"
    }
   ],
   "source": [
    "plt.figure(figsize=(17,7))\n",
    "plt.scatter(pd.Series(range(0,len(orders['revenue']))), orders['revenue'])\n",
    "plt.title('Распределение стоимости заказов.')\n",
    "plt.xlabel('Количество заказов')\n",
    "plt.ylabel('Стоимость заказа')\n",
    "plt.ylim(0,220000)\n",
    "plt.show()"
   ]
  },
  {
   "cell_type": "markdown",
   "metadata": {},
   "source": [
    "Исходя из предоставленной информации, можно сделать вывод, что заказы общей стоимостью до 20 000 являются типичными"
   ]
  },
  {
   "cell_type": "markdown",
   "metadata": {},
   "source": [
    "<div class=\"alert alert-block alert-danger\">\n",
    "<h2> Комментарий ревьюера 🤔<a class=\"tocSkip\"></h2>\n",
    "<s>\n",
    "Поскольку в этом блоке мы изучаем аномалии, будет хорошо отобразить их на графике. Давай добавим еще один график без ограничения по оси У)"
   ]
  },
  {
   "cell_type": "code",
   "execution_count": 28,
   "metadata": {},
   "outputs": [
    {
     "data": {
      "image/png": "[encoded data removed]",
      "text/plain": [
       "<Figure size 1224x504 with 1 Axes>"
      ]
     },
     "metadata": {
      "needs_background": "light"
     },
     "output_type": "display_data"
    }
   ],
   "source": [
    "plt.figure(figsize=(17,7))\n",
    "plt.scatter(pd.Series(range(0,len(orders['revenue']))), orders['revenue'])\n",
    "plt.title('Распределение стоимости заказов')\n",
    "plt.xlabel('Количество заказов')\n",
    "plt.ylabel('Стоимость заказа')\n",
    "plt.show()"
   ]
  },
  {
   "cell_type": "markdown",
   "metadata": {},
   "source": [
    "<div class=\"alert alert-success\">\n",
    "<h2> Комментарий ревьюера 😊 v_2 <a class=\"tocSkip\"> </h2>\n",
    "\n",
    "👍"
   ]
  },
  {
   "cell_type": "markdown",
   "metadata": {},
   "source": [
    "\n",
    "Из графика распределения стоимости заказов можно сделать следующие выводы:\n",
    "\n",
    "На графике виден выброс в виде заказа стоимостью 1,3 миллиона. Это значение значительно превышает \n",
    "остальные заказы и является аномалией.\n",
    "Также можно заметить, что есть небольшое количество заказов со стоимостью около 200 тысяч. \n",
    "Эти заказы также немного выбиваются из общего распределения.\n",
    "В среднем, большие заказы обычно не превышают стоимость 100 тысяч."
   ]
  },
  {
   "cell_type": "markdown",
   "metadata": {},
   "source": [
    "95-й и 99-й перцентили стоимости заказов."
   ]
  },
  {
   "cell_type": "code",
   "execution_count": 29,
   "metadata": {},
   "outputs": [
    {
     "name": "stdout",
     "output_type": "stream",
     "text": [
      "[18168.  28000.  58233.2]\n"
     ]
    }
   ],
   "source": [
    "print(np.percentile(orders['revenue'], [90, 95, 99]))"
   ]
  },
  {
   "cell_type": "markdown",
   "metadata": {},
   "source": [
    "Из проведенного анализа мы можем сделать вывод, что для определения аномальных заказов были вычислены перцентили \n",
    "стоимостей заказов.\n",
    "\n",
    "На основании результатов анализа видно, что основная масса заказов (около 90%) имеет стоимость до 18 тыс. рублей. \n",
    "Заказы со стоимостью от 18 до 28 тыс. рублей составляют примерно 4% от общего числа заказов, а заказы дороже 28 тыс. рублей\n",
    "- примерно 5%.\n",
    "\n"
   ]
  },
  {
   "cell_type": "markdown",
   "metadata": {},
   "source": [
    "<div class=\"alert alert-warning\">\n",
    "<h2> Комментарий ревьюера 🤓<a class=\"tocSkip\"> </h2>\n",
    "Расчеты верные, а вот по выводам так и не ясно, что же мы будем принимать за аномалии. Можешь детализировать этот момент и указать принятые границы аномалий.\n",
    "</div>"
   ]
  },
  {
   "cell_type": "markdown",
   "metadata": {},
   "source": [
    "Cтатистическая значимость различий в среднем количестве заказов на посетителя между группами по «сырым» данным"
   ]
  },
  {
   "cell_type": "code",
   "execution_count": null,
   "metadata": {},
   "outputs": [],
   "source": []
  },
  {
   "cell_type": "code",
   "execution_count": 30,
   "metadata": {},
   "outputs": [
    {
     "data": {
      "text/html": [
       "<div>\n",
       "<style scoped>\n",
       "    .dataframe tbody tr th:only-of-type {\n",
       "        vertical-align: middle;\n",
       "    }\n",
       "\n",
       "    .dataframe tbody tr th {\n",
       "        vertical-align: top;\n",
       "    }\n",
       "\n",
       "    .dataframe thead th {\n",
       "        text-align: right;\n",
       "    }\n",
       "</style>\n",
       "<table border=\"1\" class=\"dataframe\">\n",
       "  <thead>\n",
       "    <tr style=\"text-align: right;\">\n",
       "      <th></th>\n",
       "      <th>date</th>\n",
       "      <th>ordersPerDateA</th>\n",
       "      <th>revenuePerDateA</th>\n",
       "      <th>ordersPerDateB</th>\n",
       "      <th>revenuePerDateB</th>\n",
       "      <th>ordersCummulativeA</th>\n",
       "      <th>revenueCummulativeA</th>\n",
       "      <th>ordersCummulativeB</th>\n",
       "      <th>revenueCummulativeB</th>\n",
       "      <th>visitorsPerDateA</th>\n",
       "      <th>visitorsPerDateB</th>\n",
       "      <th>visitorsCummulativeA</th>\n",
       "      <th>visitorsCummulativeB</th>\n",
       "    </tr>\n",
       "  </thead>\n",
       "  <tbody>\n",
       "    <tr>\n",
       "      <th>0</th>\n",
       "      <td>2019-08-01</td>\n",
       "      <td>24</td>\n",
       "      <td>148579</td>\n",
       "      <td>21</td>\n",
       "      <td>101217</td>\n",
       "      <td>24</td>\n",
       "      <td>148579</td>\n",
       "      <td>21</td>\n",
       "      <td>101217</td>\n",
       "      <td>719</td>\n",
       "      <td>713</td>\n",
       "      <td>719</td>\n",
       "      <td>713</td>\n",
       "    </tr>\n",
       "    <tr>\n",
       "      <th>1</th>\n",
       "      <td>2019-08-02</td>\n",
       "      <td>20</td>\n",
       "      <td>93822</td>\n",
       "      <td>24</td>\n",
       "      <td>165531</td>\n",
       "      <td>44</td>\n",
       "      <td>242401</td>\n",
       "      <td>45</td>\n",
       "      <td>266748</td>\n",
       "      <td>619</td>\n",
       "      <td>581</td>\n",
       "      <td>1338</td>\n",
       "      <td>1294</td>\n",
       "    </tr>\n",
       "    <tr>\n",
       "      <th>2</th>\n",
       "      <td>2019-08-03</td>\n",
       "      <td>24</td>\n",
       "      <td>112473</td>\n",
       "      <td>16</td>\n",
       "      <td>114248</td>\n",
       "      <td>68</td>\n",
       "      <td>354874</td>\n",
       "      <td>61</td>\n",
       "      <td>380996</td>\n",
       "      <td>507</td>\n",
       "      <td>509</td>\n",
       "      <td>1845</td>\n",
       "      <td>1803</td>\n",
       "    </tr>\n",
       "    <tr>\n",
       "      <th>3</th>\n",
       "      <td>2019-08-04</td>\n",
       "      <td>16</td>\n",
       "      <td>70825</td>\n",
       "      <td>17</td>\n",
       "      <td>108571</td>\n",
       "      <td>84</td>\n",
       "      <td>425699</td>\n",
       "      <td>78</td>\n",
       "      <td>489567</td>\n",
       "      <td>717</td>\n",
       "      <td>770</td>\n",
       "      <td>2562</td>\n",
       "      <td>2573</td>\n",
       "    </tr>\n",
       "    <tr>\n",
       "      <th>4</th>\n",
       "      <td>2019-08-05</td>\n",
       "      <td>25</td>\n",
       "      <td>124218</td>\n",
       "      <td>23</td>\n",
       "      <td>92428</td>\n",
       "      <td>109</td>\n",
       "      <td>549917</td>\n",
       "      <td>101</td>\n",
       "      <td>581995</td>\n",
       "      <td>756</td>\n",
       "      <td>707</td>\n",
       "      <td>3318</td>\n",
       "      <td>3280</td>\n",
       "    </tr>\n",
       "  </tbody>\n",
       "</table>\n",
       "</div>"
      ],
      "text/plain": [
       "        date  ordersPerDateA  revenuePerDateA  ordersPerDateB  \\\n",
       "0 2019-08-01              24           148579              21   \n",
       "1 2019-08-02              20            93822              24   \n",
       "2 2019-08-03              24           112473              16   \n",
       "3 2019-08-04              16            70825              17   \n",
       "4 2019-08-05              25           124218              23   \n",
       "\n",
       "   revenuePerDateB  ordersCummulativeA  revenueCummulativeA  \\\n",
       "0           101217                  24               148579   \n",
       "1           165531                  44               242401   \n",
       "2           114248                  68               354874   \n",
       "3           108571                  84               425699   \n",
       "4            92428                 109               549917   \n",
       "\n",
       "   ordersCummulativeB  revenueCummulativeB  visitorsPerDateA  \\\n",
       "0                  21               101217               719   \n",
       "1                  45               266748               619   \n",
       "2                  61               380996               507   \n",
       "3                  78               489567               717   \n",
       "4                 101               581995               756   \n",
       "\n",
       "   visitorsPerDateB  visitorsCummulativeA  visitorsCummulativeB  \n",
       "0               713                   719                   713  \n",
       "1               581                  1338                  1294  \n",
       "2               509                  1845                  1803  \n",
       "3               770                  2562                  2573  \n",
       "4               707                  3318                  3280  "
      ]
     },
     "metadata": {},
     "output_type": "display_data"
    }
   ],
   "source": [
    "visitorsADaily = visitors[visitors['group']=='A'][['date', 'visitors']]\n",
    "visitorsADaily.columns = ['date', 'visitorsPerDateA']\n",
    "\n",
    "visitorsACummulative = (visitorsADaily\n",
    "                        .apply(lambda x: visitorsADaily[visitorsADaily['date'] <= x['date']]\n",
    "                               .agg({'date':'max', 'visitorsPerDateA':'sum'}), axis=1)\n",
    "                       )\n",
    "visitorsACummulative.columns = ['date', 'visitorsCummulativeA']\n",
    "\n",
    "visitorsBDaily = visitors[visitors['group']=='B'][['date', 'visitors']]\n",
    "visitorsBDaily.columns = ['date', 'visitorsPerDateB']\n",
    "\n",
    "visitorsBCummulative = (visitorsBDaily\n",
    "                        .apply(lambda x: visitorsBDaily[visitorsBDaily['date'] <= x['date']]\n",
    "                               .agg({'date':'max', 'visitorsPerDateB':'sum'}), axis=1)\n",
    "                       )\n",
    "visitorsBCummulative.columns = ['date', 'visitorsCummulativeB']\n",
    "\n",
    "ordersADaily = (orders[orders['group']=='A'][['date', 'transaction_id', 'visitor_id', 'revenue']]\n",
    "                .groupby('date', as_index=False)\n",
    "                .agg({'transaction_id':pd.Series.nunique, 'revenue':'sum'})\n",
    "               )\n",
    "ordersADaily.columns = ['date', 'ordersPerDateA', 'revenuePerDateA']\n",
    "\n",
    "ordersACummulative = (ordersADaily\n",
    "                      .apply(lambda x:ordersADaily[ordersADaily['date'] <= x['date']]\n",
    "                             .agg({\n",
    "                                    'date':'max',\n",
    "                                    'ordersPerDateA':'sum',\n",
    "                                    'revenuePerDateA':'sum'}), axis=1)\n",
    "                      .sort_values(by=['date'])\n",
    "                     )\n",
    "ordersACummulative.columns = ['date', 'ordersCummulativeA', 'revenueCummulativeA']\n",
    "\n",
    "ordersBDaily = (orders[orders['group']=='B'][['date', 'transaction_id', 'visitor_id', 'revenue']]\n",
    "                .groupby('date', as_index=False)\n",
    "                .agg({'transaction_id':pd.Series.nunique, 'revenue':'sum'})\n",
    "               )\n",
    "ordersBDaily.columns = ['date', 'ordersPerDateB', 'revenuePerDateB']\n",
    "\n",
    "ordersBCummulative = (ordersBDaily\n",
    "                      .apply(lambda x: ordersBDaily[ordersBDaily['date'] <= x['date']]\n",
    "                             .agg({\n",
    "                                    'date':'max',\n",
    "                                    'ordersPerDateB':'sum',\n",
    "                                    'revenuePerDateB' : 'sum'}), axis=1)\n",
    "                      .sort_values(by=['date'])\n",
    "                     )\n",
    "ordersBCummulative.columns = ['date', 'ordersCummulativeB', 'revenueCummulativeB']\n",
    "\n",
    "ordersADaily['date'] = pd.to_datetime(ordersADaily['date'])\n",
    "ordersBDaily['date'] = pd.to_datetime(ordersBDaily['date'])\n",
    "ordersACummulative['date'] = pd.to_datetime(ordersACummulative['date'])\n",
    "ordersBCummulative['date'] = pd.to_datetime(ordersBCummulative['date'])\n",
    "visitorsADaily['date'] = pd.to_datetime(visitorsADaily['date'])\n",
    "visitorsBDaily['date'] = pd.to_datetime(visitorsBDaily['date'])\n",
    "visitorsACummulative['date'] = pd.to_datetime(visitorsACummulative['date'])\n",
    "visitorsBCummulative['date'] = pd.to_datetime(visitorsBCummulative['date'])\n",
    "\n",
    "\n",
    "data = (ordersADaily\n",
    "        .merge(ordersBDaily, left_on='date', right_on='date', how='left')\n",
    "        .merge(ordersACummulative, left_on='date', right_on='date', how='left')\n",
    "        .merge(ordersBCummulative, left_on='date', right_on='date', how='left')\n",
    "        .merge(visitorsADaily, left_on='date', right_on='date', how='left')\n",
    "        .merge(visitorsBDaily, left_on='date', right_on='date', how='left')\n",
    "        .merge(visitorsACummulative, left_on='date', right_on='date', how='left')\n",
    "        .merge(visitorsBCummulative, left_on='date', right_on='date', how='left')\n",
    "       )\n",
    "\n",
    "display(data.head(5))\n"
   ]
  },
  {
   "cell_type": "markdown",
   "metadata": {},
   "source": [
    "<div class=\"alert alert-warning\">\n",
    "<h2> Комментарий ревьюера 🤓<a class=\"tocSkip\"> </h2>\n",
    "\n",
    "Нужно ли нам собирать всю таблицу, если мы используем не все показатели в расчетах?)"
   ]
  },
  {
   "cell_type": "code",
   "execution_count": 31,
   "metadata": {},
   "outputs": [],
   "source": [
    "ordersByUsersA = orders[orders['group']=='A'].groupby('visitor_id', as_index=False).agg({'transaction_id':pd.Series.nunique})\n",
    "ordersByUsersA.columns = ['visitor_id', 'orders']\n",
    "\n",
    "ordersByUsersB = orders[orders['group']=='B'].groupby('visitor_id', as_index=False).agg({'transaction_id':pd.Series.nunique})\n",
    "ordersByUsersB.columns = ['visitor_id', 'orders']\n",
    "\n",
    "sampleA = pd.concat([ordersByUsersA['orders'],\n",
    "                     pd.Series(0, index=np.arange(data['visitorsPerDateA'].sum() - len(ordersByUsersA['orders'])), \n",
    "                               name='orders')],axis=0)\n",
    "sampleB = pd.concat([ordersByUsersB['orders'],\n",
    "                     pd.Series(0, index=np.arange(data['visitorsPerDateB'].sum() - len(ordersByUsersB['orders'])), \n",
    "                               name='orders')],axis=0)"
   ]
  },
  {
   "cell_type": "markdown",
   "metadata": {},
   "source": [
    "Определим гипотезы:\n",
    "\n",
    "H₀ - статистически значимых различий в конверсии между группами нет\n",
    "\n",
    "H₁ - статистически значимые различия в конверсии между группами есть\n",
    "\n",
    "alpha = 0.05"
   ]
  },
  {
   "cell_type": "code",
   "execution_count": 32,
   "metadata": {},
   "outputs": [
    {
     "name": "stdout",
     "output_type": "stream",
     "text": [
      "p-value                  = 0.017\n",
      "Отвергаем нулевую гипотезу\n",
      "Относительный показатель = 0.138\n"
     ]
    }
   ],
   "source": [
    "print(\"p-value                  = {0:.3f}\".format(stats.mannwhitneyu(sampleA, sampleB)[1]))\n",
    "if st.mannwhitneyu(sampleA, sampleB)[1] < 0.05:\n",
    "    print(\"Отвергаем нулевую гипотезу\")\n",
    "else:\n",
    "    print(\"Не получилось отвергнуть нулевую гипотезу\")\n",
    "print(\"Относительный показатель = {0:.3f}\".format(sampleB.mean() / sampleA.mean() - 1))"
   ]
  },
  {
   "cell_type": "markdown",
   "metadata": {},
   "source": [
    "Конверсия группы B оказалась выше, чем у группы A по сырым данным. \n",
    "При этом статистический анализ показал значимые различия в конверсии между группами, \n",
    "так как p-value (0.017) меньше 0.05. Это говорит о том, что мы можем отвергнуть нулевую гипотезу \n",
    "об отсутствии значимых различий в конверсии между группами A и B. Вывод: группа B имеет лучшую конверсию, \n",
    "чем группа A, и этот результат статистически значим.\n",
    "\n",
    "\n",
    "\n",
    "\n"
   ]
  },
  {
   "cell_type": "markdown",
   "metadata": {},
   "source": [
    "<div class=\"alert alert-success\">\n",
    "<h2> Комментарий ревьюера 😊<a class=\"tocSkip\"> </h2>\n",
    "Гипотезы сформулированы верно и значение p-value интерпретировано правильно. Хорошая работа.\n",
    "</div>"
   ]
  },
  {
   "cell_type": "markdown",
   "metadata": {},
   "source": [
    "H₀ - статистически значимых различий в среднем чеке между группами нет\n",
    "\n",
    "H₁ - статистически значимые различия в среднем чеке между группами есть"
   ]
  },
  {
   "cell_type": "code",
   "execution_count": 33,
   "metadata": {},
   "outputs": [
    {
     "name": "stdout",
     "output_type": "stream",
     "text": [
      "Значение p-value для среднего чека: 0.729\n",
      "Не получилось отвергнуть нулевую гипотезу\n",
      "Относительный прирост среднего чека группы B: 25.87%\n"
     ]
    }
   ],
   "source": [
    "pvalue_check = st.mannwhitneyu(orders.query('group == \"A\"')['revenue'], orders.query('group == \"B\"')['revenue'])[1]\n",
    "\n",
    "print('Значение p-value для среднего чека: {:.3f}'.format(pvalue_check))\n",
    "\n",
    "if pvalue_check < 0.05:\n",
    "    print(\"Отвергаем нулевую гипотезу\")\n",
    "else:\n",
    "    print(\"Не получилось отвергнуть нулевую гипотезу\")\n",
    "\n",
    "print('Относительный прирост среднего чека группы B: {:.2%}'\n",
    "        .format((orders.query('group == \"B\"')['revenue'].mean() / orders.query('group == \"A\"')['revenue'].mean()) - 1))"
   ]
  },
  {
   "cell_type": "markdown",
   "metadata": {},
   "source": [
    "\n",
    "Исходя из проведенного анализа, на основе значения p-value равного 0.729, мы не можем отвергнуть нулевую гипотезу (H₀), что статистически значимых различий в среднем чеке между группами нет. Таким образом, нет оснований считать, что средний чек в группе B отличается от среднего чека в группе A.\n",
    "\n",
    "Относительный прирост среднего чека группы B составляет 25.87%, что означает, что средний чек в группе B на 25.87% больше, чем в группе A. Однако, эта разница не является статистически значимой."
   ]
  },
  {
   "cell_type": "markdown",
   "metadata": {},
   "source": [
    "<div class=\"alert alert-block alert-danger\">\n",
    "<h2> Комментарий ревьюера 🤔 v_2 <a class=\"tocSkip\"></h2>\n",
    "    <s>\n",
    "Вывод по тесту выше нужно скорректировать, ведь тестирование было по среднему чеку и не указаны гиптезы к тестам. "
   ]
  },
  {
   "cell_type": "markdown",
   "metadata": {},
   "source": [
    "<div class=\"alert alert-block alert-danger\">\n",
    "<h2> Комментарий ревьюера 🤔<a class=\"tocSkip\"></h2>\n",
    "    <s>\n",
    "Отсутствуют статистические гипотезы по которым проводится проверка. Давай добавим нулевую и альтернативную гипотезы к каждому тесту)\n",
    "    \n",
    "Вывод по конверсии, а расчет по среднему чеку, нужно скорректировать\n",
    "</div>"
   ]
  },
  {
   "cell_type": "code",
   "execution_count": 34,
   "metadata": {},
   "outputs": [
    {
     "name": "stdout",
     "output_type": "stream",
     "text": [
      "Конверсия:\n",
      "Нулевая гипотеза: Конверсия в группе A равна конверсии в группе B\n",
      "Альтернативная гипотеза: Конверсия в группе A отличается от конверсии в группе B\n",
      "p-value = 0.017\n",
      "Отвергаем нулевую гипотезу\n"
     ]
    }
   ],
   "source": [
    "ordersByUsersA = orders[orders['group'] == 'A'].groupby('visitor_id', as_index=False).agg({'transaction_id': pd.Series.nunique})\n",
    "ordersByUsersA.columns = ['visitor_id', 'orders']\n",
    "\n",
    "ordersByUsersB = orders[orders['group'] == 'B'].groupby('visitor_id', as_index=False).agg({'transaction_id': pd.Series.nunique})\n",
    "ordersByUsersB.columns = ['visitor_id', 'orders']\n",
    "\n",
    "sampleA = pd.concat([ordersByUsersA['orders'],\n",
    "                     pd.Series(0, index=np.arange(data['visitorsPerDateA'].sum() - len(ordersByUsersA['orders'])), \n",
    "                               name='orders')], axis=0)\n",
    "sampleB = pd.concat([ordersByUsersB['orders'],\n",
    "                     pd.Series(0, index=np.arange(data['visitorsPerDateB'].sum() - len(ordersByUsersB['orders'])), \n",
    "                               name='orders')], axis=0)\n",
    "\n",
    "print(\"Конверсия:\")\n",
    "print(\"Нулевая гипотеза: Конверсия в группе A равна конверсии в группе B\")\n",
    "print(\"Альтернативная гипотеза: Конверсия в группе A отличается от конверсии в группе B\")\n",
    "print(\"p-value = {0:.3f}\".format(stats.mannwhitneyu(sampleA, sampleB)[1]))\n",
    "\n",
    "if stats.mannwhitneyu(sampleA, sampleB)[1] < 0.05:\n",
    "    print(\"Отвергаем нулевую гипотезу\")\n",
    "else:\n",
    "    print(\"Не получилось отвергнуть нулевую гипотезу\")\n"
   ]
  },
  {
   "cell_type": "markdown",
   "metadata": {},
   "source": [
    "Теперь очищенные данные\n"
   ]
  },
  {
   "cell_type": "code",
   "execution_count": 35,
   "metadata": {},
   "outputs": [
    {
     "name": "stdout",
     "output_type": "stream",
     "text": [
      "Количество аномальных пользователей: 63\n"
     ]
    }
   ],
   "source": [
    "usersOrders = pd.concat([ordersByUsersA[ordersByUsersA['orders'] > \n",
    "                                                (np.percentile(ordersByUsersA['orders'], [95, 99])[0]+1)]['visitor_id'],\n",
    "                                 ordersByUsersB[ordersByUsersB['orders'] > (np.percentile(ordersByUsersB['orders'], \n",
    "                                                                                          [95, 99])[0]+1)]['visitor_id']], \n",
    "                                axis = 0)\n",
    "usersWithOrders = orders[orders['revenue'] > np.percentile(orders['revenue'], [95, 99])[0]]['visitor_id']\n",
    "abnormalUsers = pd.concat([usersOrders, usersWithOrders], axis = 0).drop_duplicates().sort_values()\n",
    "print('Количество аномальных пользователей:', abnormalUsers.shape[0])"
   ]
  },
  {
   "cell_type": "markdown",
   "metadata": {},
   "source": [
    "<div class=\"alert alert-warning\">\n",
    "<h2> Комментарий ревьюера 🤓<a class=\"tocSkip\"> </h2>\n",
    "   \n",
    "Можно использовать `np.percentile(ordersByUsersA['orders'], 99)`"
   ]
  },
  {
   "cell_type": "markdown",
   "metadata": {},
   "source": [
    "Из проведенного анализа было выявлено, что количество аномальных пользователей равно 63. \n",
    "Это означает, что в выборке присутствует 63 пользователя, чье поведение сильно отличается от основной\n",
    "группы и может вносить искажения в результаты эксперимента."
   ]
  },
  {
   "cell_type": "markdown",
   "metadata": {},
   "source": [
    "H₀ - статистически значимых различий в конверсии между группами нет\n",
    "\n",
    "H₁ - статистически значимые различия в конверсии между группами есть"
   ]
  },
  {
   "cell_type": "code",
   "execution_count": 36,
   "metadata": {},
   "outputs": [],
   "source": [
    "sampleAFiltered = pd.concat([ordersByUsersA[~(ordersByUsersA['visitor_id'].isin(abnormalUsers))]['orders'],\n",
    "                             pd.Series(0, index=np.arange(data['visitorsPerDateA'].sum() - len(ordersByUsersA['orders'])),\n",
    "                                       name='orders')],axis=0)\n",
    "sampleBFiltered = pd.concat([ordersByUsersB[~(ordersByUsersB['visitor_id'].isin(abnormalUsers))]['orders'],\n",
    "                             pd.Series(0, index=np.arange(data['visitorsPerDateB'].sum() - len(ordersByUsersA['orders'])),\n",
    "                                       name='orders')],axis=0)"
   ]
  },
  {
   "cell_type": "code",
   "execution_count": 37,
   "metadata": {},
   "outputs": [
    {
     "name": "stdout",
     "output_type": "stream",
     "text": [
      "p-value                  = 0.022\n",
      "Отвергаем нулевую гипотезу\n",
      "Относительный показатель = 0.143\n"
     ]
    }
   ],
   "source": [
    "print(\"p-value                  = {0:.3f}\".format(stats.mannwhitneyu(sampleAFiltered, sampleBFiltered)[1]))\n",
    "if st.mannwhitneyu(sampleAFiltered, sampleBFiltered)[1] < 0.05:\n",
    "    print(\"Отвергаем нулевую гипотезу\")\n",
    "else:\n",
    "    print(\"Не получилось отвергнуть нулевую гипотезу\")\n",
    "print(\"Относительный показатель = {0:.3f}\".format(sampleBFiltered.mean() / sampleAFiltered.mean() - 1))"
   ]
  },
  {
   "cell_type": "markdown",
   "metadata": {},
   "source": [
    "Можно сделать вывод, что между группами А и В есть статистически значимая разница, так как значение p-value равно 0.022,\n",
    "что меньше уровня значимости в 0.05. Это означает, что мы отвергаем нулевую гипотезу о том,\n",
    "что средние значения двух групп не различаются.\n",
    "\n",
    "Кроме того, по результатам тестирования было выявлено, что относительный показатель для группы B составил 0.143. \n",
    "Это говорит о том, что среднее значение в группе B на 14.3% больше, чем в группе A."
   ]
  },
  {
   "cell_type": "markdown",
   "metadata": {},
   "source": [
    "<div class=\"alert alert-success\">\n",
    "<h2> Комментарий ревьюера 😊 <a class=\"tocSkip\"> </h2>\n",
    "\n",
    "Верно)"
   ]
  },
  {
   "cell_type": "markdown",
   "metadata": {},
   "source": [
    "<div class=\"alert alert-block alert-danger\">\n",
    "<h2> Комментарий ревьюера 🤔<a class=\"tocSkip\"></h2>\n",
    "    <s>\n",
    "Нужно добавить расчет по очищенным данным по среднему чеку)"
   ]
  },
  {
   "cell_type": "markdown",
   "metadata": {},
   "source": [
    "H₀ - статистически значимых различий в средних чеках между группами нет\n",
    "\n",
    "H₁ - статистически значимые различия в средних чеках между группами есть"
   ]
  },
  {
   "cell_type": "code",
   "execution_count": 38,
   "metadata": {},
   "outputs": [
    {
     "name": "stdout",
     "output_type": "stream",
     "text": [
      "Средний чек:\n",
      "Нулевая гипотеза: Средний чек в группе A равен среднему чеку в группе B\n",
      "Альтернативная гипотеза: Средний чек в группе A отличается от среднего чека в группе B\n",
      "Значение p-value для среднего чека (очищенные данные): 0.977\n",
      "Не получилось отвергнуть нулевую гипотезу\n",
      "Относительный прирост среднего чека группы B (очищенные данные): -1.68%\n"
     ]
    }
   ],
   "source": [
    "print(\"Средний чек:\")\n",
    "print(\"Нулевая гипотеза: Средний чек в группе A равен среднему чеку в группе B\")\n",
    "print(\"Альтернативная гипотеза: Средний чек в группе A отличается от среднего чека в группе B\")\n",
    "pvalue_check = st.mannwhitneyu(orders.query('group == \"A\" and visitor_id not in @abnormalUsers')['revenue'],\n",
    "                               orders.query('group == \"B\" and visitor_id not in @abnormalUsers')['revenue'])[1]\n",
    "print('Значение p-value для среднего чека (очищенные данные): {:.3f}'.format(pvalue_check))\n",
    "\n",
    "if pvalue_check < 0.05:\n",
    "    print(\"Отвергаем нулевую гипотезу\")\n",
    "else:\n",
    "    print(\"Не получилось отвергнуть нулевую гипотезу\")\n",
    "\n",
    "print('Относительный прирост среднего чека группы B (очищенные данные): {:.2%}'\n",
    "      .format((orders.query('group == \"B\" and visitor_id not in @abnormalUsers')['revenue'].mean() /\n",
    "               orders.query('group == \"A\" and visitor_id not in @abnormalUsers')['revenue'].mean()) - 1))\n"
   ]
  },
  {
   "cell_type": "markdown",
   "metadata": {},
   "source": [
    "Значение p-value для среднего чека составило 0.977. Поскольку это значение не превышает уровень значимости 0.05, мы не можем отвергнуть нулевую гипотезу. Таким образом, статистически значимых различий в средних чеках между группами не обнаружено.\n",
    "\n",
    "Кроме того, относительный прирост среднего чека группы B по сравнению с группой A составил -1.68%. Это означает, что средний чек группы B оказался на 1.68% ниже среднего чека группы A.\n",
    "\n",
    "Вывод: На основании проведенного исследования нет оснований считать, что средний чек в группе B статистически значимо отличается от среднего чека в группе A."
   ]
  },
  {
   "cell_type": "markdown",
   "metadata": {},
   "source": [
    "<div class=\"alert alert-block alert-danger\">\n",
    "<h2> Комментарий ревьюера 🤔 v_2 <a class=\"tocSkip\"></h2>\n",
    "    <s>\n",
    "По выводам ранее мы указывали, что гипотезы по конверсии отвергаются, а тут в выводе указываем, что не отвергаем. Где верное?"
   ]
  },
  {
   "cell_type": "markdown",
   "metadata": {},
   "source": [
    "<div class=\"alert alert-success\">\n",
    "<h2> Комментарий ревьюера 😊 <a class=\"tocSkip\"> </h2>\n",
    "\n",
    "Правильно)"
   ]
  },
  {
   "cell_type": "markdown",
   "metadata": {},
   "source": [
    "<div class=\"alert alert-block alert-danger\">\n",
    "<h2> Комментарий ревьюера 🤔<a class=\"tocSkip\"></h2>\n",
    "    <s>\n",
    "Общий вывод это главный итог твоей работы, то что мы можем предоставить нашему заказчику. Давай дополним его результатами твоей работы и основными выводами) Можно  начать общий вывод с того, с какими данными мы работали и какие действия провели на этапе предобработки, а закончить аргументами принятого решения и рекомендациями заказчику по улучшению. </div>"
   ]
  },
  {
   "cell_type": "markdown",
   "metadata": {},
   "source": [
    "Общий вывод:\n",
    "\n",
    "В результате проведенного анализа данных и теста A/B, можно сделать следующий общий вывод:\n",
    "\n",
    "Конверсия: Группа B демонстрирует статистически значимо высокий уровень конверсии по сравнению с группой A. Это означает, что изменения, внесенные в группу B, могут положительно влиять на конверсию и приводить к большему количеству пользователей, совершающих целевые действия.\n",
    "\n",
    "Средний чек: Не обнаружено статистически значимых различий в среднем чеке между группами A и B. Однако, при анализе очищенных данных выявлено, что группа B имеет незначительное снижение среднего чека. Для увеличения выручки и максимизации доходов, следует обратить внимание на оптимизацию среднего чека, возможно, путем проведения дополнительных маркетинговых мероприятий или предложений.\n",
    "\n",
    "На основании этих выводов, рекомендую следующие действия:\n",
    "\n",
    "Остановить тест: Учитывая статистически значимый рост конверсии в группе B и стабилизацию показателей метрик, рекомендуется остановить тест и принять группу B в качестве предпочтительной варианта.\n",
    "\n",
    "Анализировать причины различий в среднем чеке: Провести более детальный анализ данных и исследовать факторы, которые могут влиять на средний чек в обеих группах. Идентифицировать потенциальные причины снижения среднего чека в группе B и разработать стратегии для его улучшения. Это может включать в себя предложение персонализированных акций, улучшение процесса оформления заказа или дополнительные стимулы для повышения среднего чека.\n",
    "\n",
    "Дальнейшая оптимизация: После принятия группы B в качестве предпочтительного варианта, продолжить мониторинг показателей конверсии и среднего чека. Проводить регулярные анализы, чтобы выявлять дополнительные возможности для оптимизации и повышения эффективности работы интернет-магазина.\n",
    "\n"
   ]
  },
  {
   "cell_type": "markdown",
   "metadata": {},
   "source": [
    "<div class=\"alert alert-success\">\n",
    "<h2> Комментарий ревьюера 😊 v_2 <a class=\"tocSkip\"> </h2>\n",
    "\n",
    "Эдуард, осталось совсем немного)"
   ]
  },
  {
   "cell_type": "markdown",
   "metadata": {},
   "source": [
    "<div style=\"border:solid Purple 2px; padding: 40px\">\n",
    "\n",
    "<h2> Общий комментарий ревьюера 😊 v_2<a class=\"tocSkip\"> </h2>\n",
    "    <br/>\n",
    "Эдуард, спасибо за проект! Успехов в дальнейшем обучении!)\n",
    "    "
   ]
  },
  {
   "cell_type": "markdown",
   "metadata": {},
   "source": [
    "<div style=\"border:solid Purple 2px; padding: 40px\">\n",
    "\n",
    "<h2> Общий комментарий ревьюера 😊<a class=\"tocSkip\"> </h2>\n",
    "    <br/>\n",
    "Эдуард, ты хорошо поработал, но есть несколько моментов, которые нужно доработать)\n",
    "    \n",
    "Необходимо доработать:\n",
    "    \n",
    "* Добавить график и выводы\n",
    "* Добавить расчет по очищенным данным\n",
    "* Общий вывод\n",
    "* Остальные комментарии ты найдешь в работе\n",
    "    \n",
    " \n",
    "**Желаю удачи и жду твой проект на повторное ревью! Если вдруг у тебя возникнут вопросы, то я с радостью отвечу на них.    😊**\n",
    "    \n",
    "![gif](https://i.gifer.com/378.gif)\n",
    "    \n",
    "<br>   \n",
    "             \n",
    "**Дополнительные материалы:**\n",
    " \n",
    "[Вебинары под эгидой Практикума](https://vk.com/yandex.praktikum?w=wall-176471180_2144), \n",
    "    \n",
    "[Лекции Анатолия Карпова 1](https://www.youtube.com/watch?v=jnFVmtaeSA0&list=WL&index=19&t=2s) [2](https://www.youtube.com/watch?v=gljfGAkgX_o&list=WL&index=4)\n",
    "    \n",
    "Материалы [gopractice](https://gopractice.ru/summary/)\n",
    "\n",
    "Лекцию Карта статистических методов [Смотреть видео](https://www.youtube.com/watch?v=-zps6hm0nX8&t=1269s)\n",
    "        \n",
    "</div>"
   ]
  },
  {
   "cell_type": "code",
   "execution_count": null,
   "metadata": {},
   "outputs": [],
   "source": []
  },
  {
   "cell_type": "code",
   "execution_count": null,
   "metadata": {},
   "outputs": [],
   "source": []
  },
  {
   "cell_type": "code",
   "execution_count": null,
   "metadata": {},
   "outputs": [],
   "source": []
  },
  {
   "cell_type": "code",
   "execution_count": null,
   "metadata": {},
   "outputs": [],
   "source": []
  },
  {
   "cell_type": "code",
   "execution_count": null,
   "metadata": {},
   "outputs": [],
   "source": []
  },
  {
   "cell_type": "code",
   "execution_count": null,
   "metadata": {},
   "outputs": [],
   "source": []
  },
  {
   "cell_type": "code",
   "execution_count": null,
   "metadata": {},
   "outputs": [],
   "source": []
  },
  {
   "cell_type": "code",
   "execution_count": null,
   "metadata": {},
   "outputs": [],
   "source": []
  }
 ],
 "metadata": {
  "ExecuteTimeLog": [
   {
    "duration": 750,
    "start_time": "2023-05-10T12:11:44.089Z"
   },
   {
    "duration": 87,
    "start_time": "2023-05-10T12:11:58.603Z"
   },
   {
    "duration": 17,
    "start_time": "2023-05-10T12:12:06.739Z"
   },
   {
    "duration": 208,
    "start_time": "2023-05-10T12:13:20.783Z"
   },
   {
    "duration": 963,
    "start_time": "2023-05-10T12:52:49.250Z"
   },
   {
    "duration": 189,
    "start_time": "2023-05-10T12:53:21.921Z"
   },
   {
    "duration": 78,
    "start_time": "2023-05-10T12:53:30.257Z"
   },
   {
    "duration": 9,
    "start_time": "2023-05-10T12:54:40.284Z"
   },
   {
    "duration": 10,
    "start_time": "2023-05-10T12:54:46.822Z"
   },
   {
    "duration": 10,
    "start_time": "2023-05-10T12:54:52.201Z"
   },
   {
    "duration": 6,
    "start_time": "2023-05-10T12:54:57.283Z"
   },
   {
    "duration": 9,
    "start_time": "2023-05-10T12:55:01.482Z"
   },
   {
    "duration": 17,
    "start_time": "2023-05-10T12:56:11.612Z"
   },
   {
    "duration": 14,
    "start_time": "2023-05-10T12:59:57.571Z"
   },
   {
    "duration": 9,
    "start_time": "2023-05-10T14:19:46.209Z"
   },
   {
    "duration": 15,
    "start_time": "2023-05-10T14:19:56.288Z"
   },
   {
    "duration": 20,
    "start_time": "2023-05-10T14:20:13.649Z"
   },
   {
    "duration": 8,
    "start_time": "2023-05-10T14:20:28.496Z"
   },
   {
    "duration": 12,
    "start_time": "2023-05-10T14:20:36.272Z"
   },
   {
    "duration": 12,
    "start_time": "2023-05-10T14:20:47.418Z"
   },
   {
    "duration": 10,
    "start_time": "2023-05-10T14:21:36.937Z"
   },
   {
    "duration": 8,
    "start_time": "2023-05-10T14:21:55.000Z"
   },
   {
    "duration": 11,
    "start_time": "2023-05-10T14:21:55.205Z"
   },
   {
    "duration": 12,
    "start_time": "2023-05-10T14:21:55.398Z"
   },
   {
    "duration": 18,
    "start_time": "2023-05-10T14:21:55.581Z"
   },
   {
    "duration": 8,
    "start_time": "2023-05-10T14:21:55.748Z"
   },
   {
    "duration": 10,
    "start_time": "2023-05-10T14:21:55.911Z"
   },
   {
    "duration": 12,
    "start_time": "2023-05-10T14:21:56.049Z"
   },
   {
    "duration": 123,
    "start_time": "2023-05-10T14:27:13.804Z"
   },
   {
    "duration": 563,
    "start_time": "2023-05-10T14:27:46.952Z"
   },
   {
    "duration": 4,
    "start_time": "2023-05-10T14:29:01.071Z"
   },
   {
    "duration": 12,
    "start_time": "2023-05-10T14:29:01.788Z"
   },
   {
    "duration": 318,
    "start_time": "2023-05-10T14:29:05.408Z"
   },
   {
    "duration": 5,
    "start_time": "2023-05-10T14:29:32.252Z"
   },
   {
    "duration": 28,
    "start_time": "2023-05-10T14:29:32.833Z"
   },
   {
    "duration": 7,
    "start_time": "2023-05-10T14:29:33.008Z"
   },
   {
    "duration": 10,
    "start_time": "2023-05-10T14:29:33.156Z"
   },
   {
    "duration": 4,
    "start_time": "2023-05-10T14:29:33.333Z"
   },
   {
    "duration": 11,
    "start_time": "2023-05-10T14:29:33.487Z"
   },
   {
    "duration": 601,
    "start_time": "2023-05-10T14:29:33.630Z"
   },
   {
    "duration": 14,
    "start_time": "2023-05-10T14:34:06.549Z"
   },
   {
    "duration": 14,
    "start_time": "2023-05-10T14:34:37.473Z"
   },
   {
    "duration": 259,
    "start_time": "2023-05-10T14:34:49.203Z"
   },
   {
    "duration": 399,
    "start_time": "2023-05-10T14:42:20.985Z"
   },
   {
    "duration": 308,
    "start_time": "2023-05-10T14:42:37.067Z"
   },
   {
    "duration": 411,
    "start_time": "2023-05-10T14:43:22.495Z"
   },
   {
    "duration": 12,
    "start_time": "2023-05-10T15:11:11.168Z"
   },
   {
    "duration": 357,
    "start_time": "2023-05-10T15:11:55.745Z"
   },
   {
    "duration": 292,
    "start_time": "2023-05-10T15:12:41.462Z"
   },
   {
    "duration": 168,
    "start_time": "2023-05-10T15:14:29.260Z"
   },
   {
    "duration": 17,
    "start_time": "2023-05-10T15:14:40.755Z"
   },
   {
    "duration": 14,
    "start_time": "2023-05-10T15:14:52.258Z"
   },
   {
    "duration": 274,
    "start_time": "2023-05-10T15:15:00.596Z"
   },
   {
    "duration": 219,
    "start_time": "2023-05-10T15:16:25.951Z"
   },
   {
    "duration": 8,
    "start_time": "2023-05-10T15:17:26.120Z"
   },
   {
    "duration": 58,
    "start_time": "2023-05-14T19:03:28.666Z"
   },
   {
    "duration": 1328,
    "start_time": "2023-05-14T19:03:32.981Z"
   },
   {
    "duration": 233,
    "start_time": "2023-05-14T19:03:34.311Z"
   },
   {
    "duration": 20,
    "start_time": "2023-05-14T19:03:34.546Z"
   },
   {
    "duration": 27,
    "start_time": "2023-05-14T19:03:34.568Z"
   },
   {
    "duration": 19,
    "start_time": "2023-05-14T19:03:34.601Z"
   },
   {
    "duration": 14,
    "start_time": "2023-05-14T19:03:34.622Z"
   },
   {
    "duration": 27,
    "start_time": "2023-05-14T19:03:34.639Z"
   },
   {
    "duration": 16,
    "start_time": "2023-05-14T19:03:34.784Z"
   },
   {
    "duration": 6,
    "start_time": "2023-05-14T19:03:34.931Z"
   },
   {
    "duration": 19,
    "start_time": "2023-05-14T19:03:35.078Z"
   },
   {
    "duration": 9,
    "start_time": "2023-05-14T19:03:35.224Z"
   },
   {
    "duration": 13,
    "start_time": "2023-05-14T19:03:35.373Z"
   },
   {
    "duration": 4,
    "start_time": "2023-05-14T19:03:35.512Z"
   },
   {
    "duration": 14,
    "start_time": "2023-05-14T19:03:35.675Z"
   },
   {
    "duration": 579,
    "start_time": "2023-05-14T19:03:35.822Z"
   },
   {
    "duration": 321,
    "start_time": "2023-05-14T19:03:36.404Z"
   },
   {
    "duration": 374,
    "start_time": "2023-05-14T19:03:36.728Z"
   },
   {
    "duration": 307,
    "start_time": "2023-05-14T19:03:37.104Z"
   },
   {
    "duration": 224,
    "start_time": "2023-05-14T19:03:37.414Z"
   },
   {
    "duration": 127,
    "start_time": "2023-05-14T19:03:37.640Z"
   },
   {
    "duration": 217,
    "start_time": "2023-05-14T19:03:37.769Z"
   },
   {
    "duration": 182,
    "start_time": "2023-05-14T19:03:37.988Z"
   },
   {
    "duration": 4,
    "start_time": "2023-05-14T19:03:38.172Z"
   },
   {
    "duration": 241,
    "start_time": "2023-05-14T19:03:38.178Z"
   },
   {
    "duration": 75,
    "start_time": "2023-05-14T19:04:35.253Z"
   },
   {
    "duration": 1285,
    "start_time": "2023-05-16T13:54:26.403Z"
   },
   {
    "duration": 189,
    "start_time": "2023-05-16T13:54:27.690Z"
   },
   {
    "duration": 12,
    "start_time": "2023-05-16T13:54:27.881Z"
   },
   {
    "duration": 13,
    "start_time": "2023-05-16T13:54:27.895Z"
   },
   {
    "duration": 12,
    "start_time": "2023-05-16T13:54:27.910Z"
   },
   {
    "duration": 8,
    "start_time": "2023-05-16T13:54:28.107Z"
   },
   {
    "duration": 8,
    "start_time": "2023-05-16T13:54:28.267Z"
   },
   {
    "duration": 12,
    "start_time": "2023-05-16T13:54:28.422Z"
   },
   {
    "duration": 5,
    "start_time": "2023-05-16T13:54:28.595Z"
   },
   {
    "duration": 17,
    "start_time": "2023-05-16T13:54:28.723Z"
   },
   {
    "duration": 9,
    "start_time": "2023-05-16T13:54:28.851Z"
   },
   {
    "duration": 10,
    "start_time": "2023-05-16T13:54:28.994Z"
   },
   {
    "duration": 3,
    "start_time": "2023-05-16T13:54:29.111Z"
   },
   {
    "duration": 11,
    "start_time": "2023-05-16T13:54:29.256Z"
   },
   {
    "duration": 601,
    "start_time": "2023-05-16T13:54:29.426Z"
   },
   {
    "duration": 233,
    "start_time": "2023-05-16T13:54:30.029Z"
   },
   {
    "duration": 374,
    "start_time": "2023-05-16T13:54:30.264Z"
   },
   {
    "duration": 320,
    "start_time": "2023-05-16T13:54:30.640Z"
   },
   {
    "duration": 231,
    "start_time": "2023-05-16T13:54:30.961Z"
   },
   {
    "duration": 128,
    "start_time": "2023-05-16T13:54:31.194Z"
   },
   {
    "duration": 182,
    "start_time": "2023-05-16T13:54:31.325Z"
   },
   {
    "duration": 194,
    "start_time": "2023-05-16T13:54:31.509Z"
   },
   {
    "duration": 4,
    "start_time": "2023-05-16T13:54:31.705Z"
   },
   {
    "duration": 263,
    "start_time": "2023-05-16T13:54:31.710Z"
   },
   {
    "duration": 105,
    "start_time": "2023-05-16T13:54:31.975Z"
   },
   {
    "duration": 10,
    "start_time": "2023-05-16T13:57:45.758Z"
   },
   {
    "duration": 1501,
    "start_time": "2023-05-16T13:58:26.203Z"
   },
   {
    "duration": 1481,
    "start_time": "2023-05-25T09:38:58.018Z"
   },
   {
    "duration": 243,
    "start_time": "2023-05-25T09:38:59.508Z"
   },
   {
    "duration": 14,
    "start_time": "2023-05-25T09:38:59.753Z"
   },
   {
    "duration": 39,
    "start_time": "2023-05-25T09:38:59.770Z"
   },
   {
    "duration": 14,
    "start_time": "2023-05-25T09:38:59.811Z"
   },
   {
    "duration": 14,
    "start_time": "2023-05-25T09:38:59.827Z"
   },
   {
    "duration": 18,
    "start_time": "2023-05-25T09:38:59.843Z"
   },
   {
    "duration": 31,
    "start_time": "2023-05-25T09:38:59.863Z"
   },
   {
    "duration": 9,
    "start_time": "2023-05-25T09:38:59.896Z"
   },
   {
    "duration": 23,
    "start_time": "2023-05-25T09:38:59.908Z"
   },
   {
    "duration": 15,
    "start_time": "2023-05-25T09:38:59.933Z"
   },
   {
    "duration": 15,
    "start_time": "2023-05-25T09:38:59.950Z"
   },
   {
    "duration": 38,
    "start_time": "2023-05-25T09:38:59.970Z"
   },
   {
    "duration": 54,
    "start_time": "2023-05-25T09:39:00.010Z"
   },
   {
    "duration": 722,
    "start_time": "2023-05-25T09:39:00.067Z"
   },
   {
    "duration": 283,
    "start_time": "2023-05-25T09:39:00.791Z"
   },
   {
    "duration": 373,
    "start_time": "2023-05-25T09:39:01.076Z"
   },
   {
    "duration": 383,
    "start_time": "2023-05-25T09:39:01.452Z"
   },
   {
    "duration": 322,
    "start_time": "2023-05-25T09:39:01.837Z"
   },
   {
    "duration": 206,
    "start_time": "2023-05-25T09:39:02.162Z"
   },
   {
    "duration": 232,
    "start_time": "2023-05-25T09:39:02.371Z"
   },
   {
    "duration": 217,
    "start_time": "2023-05-25T09:39:02.606Z"
   },
   {
    "duration": 5,
    "start_time": "2023-05-25T09:39:02.825Z"
   },
   {
    "duration": 283,
    "start_time": "2023-05-25T09:39:02.833Z"
   },
   {
    "duration": 2095,
    "start_time": "2023-05-25T09:39:03.118Z"
   },
   {
    "duration": 0,
    "start_time": "2023-05-25T09:39:05.216Z"
   },
   {
    "duration": 87,
    "start_time": "2023-05-25T09:44:41.294Z"
   },
   {
    "duration": 81,
    "start_time": "2023-05-25T10:08:10.986Z"
   },
   {
    "duration": 151,
    "start_time": "2023-05-25T10:08:55.131Z"
   },
   {
    "duration": 190,
    "start_time": "2023-05-25T10:09:17.765Z"
   },
   {
    "duration": 12,
    "start_time": "2023-05-25T10:11:45.294Z"
   },
   {
    "duration": 4,
    "start_time": "2023-05-25T10:12:23.812Z"
   },
   {
    "duration": 3,
    "start_time": "2023-05-25T10:12:30.182Z"
   },
   {
    "duration": 82,
    "start_time": "2023-05-25T10:12:31.807Z"
   },
   {
    "duration": 12,
    "start_time": "2023-05-25T10:12:31.971Z"
   },
   {
    "duration": 13,
    "start_time": "2023-05-25T10:12:32.251Z"
   },
   {
    "duration": 21,
    "start_time": "2023-05-25T10:12:32.672Z"
   },
   {
    "duration": 13,
    "start_time": "2023-05-25T10:12:33.215Z"
   },
   {
    "duration": 10,
    "start_time": "2023-05-25T10:12:33.350Z"
   },
   {
    "duration": 12,
    "start_time": "2023-05-25T10:12:33.492Z"
   },
   {
    "duration": 7,
    "start_time": "2023-05-25T10:12:33.631Z"
   },
   {
    "duration": 21,
    "start_time": "2023-05-25T10:12:33.760Z"
   },
   {
    "duration": 10,
    "start_time": "2023-05-25T10:12:33.892Z"
   },
   {
    "duration": 11,
    "start_time": "2023-05-25T10:12:34.031Z"
   },
   {
    "duration": 4,
    "start_time": "2023-05-25T10:12:34.163Z"
   },
   {
    "duration": 15,
    "start_time": "2023-05-25T10:12:34.312Z"
   },
   {
    "duration": 667,
    "start_time": "2023-05-25T10:12:34.445Z"
   },
   {
    "duration": 271,
    "start_time": "2023-05-25T10:12:35.114Z"
   },
   {
    "duration": 356,
    "start_time": "2023-05-25T10:12:35.387Z"
   },
   {
    "duration": 393,
    "start_time": "2023-05-25T10:12:35.746Z"
   },
   {
    "duration": 253,
    "start_time": "2023-05-25T10:12:36.142Z"
   },
   {
    "duration": 156,
    "start_time": "2023-05-25T10:12:36.397Z"
   },
   {
    "duration": 201,
    "start_time": "2023-05-25T10:12:36.555Z"
   },
   {
    "duration": 217,
    "start_time": "2023-05-25T10:12:36.758Z"
   },
   {
    "duration": 5,
    "start_time": "2023-05-25T10:12:36.977Z"
   },
   {
    "duration": 278,
    "start_time": "2023-05-25T10:12:36.984Z"
   },
   {
    "duration": 150,
    "start_time": "2023-05-25T10:12:37.271Z"
   },
   {
    "duration": 23,
    "start_time": "2023-05-25T10:12:37.424Z"
   },
   {
    "duration": 85,
    "start_time": "2023-05-25T10:13:44.516Z"
   },
   {
    "duration": 12,
    "start_time": "2023-05-25T10:20:44.728Z"
   },
   {
    "duration": 17,
    "start_time": "2023-05-25T10:22:19.910Z"
   },
   {
    "duration": 15,
    "start_time": "2023-05-25T10:22:23.538Z"
   },
   {
    "duration": 95,
    "start_time": "2023-05-25T10:26:35.383Z"
   },
   {
    "duration": 15,
    "start_time": "2023-05-25T11:13:29.191Z"
   },
   {
    "duration": 1983,
    "start_time": "2023-05-25T13:14:38.912Z"
   },
   {
    "duration": 2268,
    "start_time": "2023-05-25T14:50:32.293Z"
   },
   {
    "duration": 18,
    "start_time": "2023-05-25T14:51:36.076Z"
   },
   {
    "duration": 20,
    "start_time": "2023-05-25T15:04:05.553Z"
   },
   {
    "duration": 1191,
    "start_time": "2023-05-25T15:04:45.424Z"
   },
   {
    "duration": 97,
    "start_time": "2023-05-25T15:05:55.217Z"
   },
   {
    "duration": 120,
    "start_time": "2023-05-25T15:06:09.773Z"
   },
   {
    "duration": 131,
    "start_time": "2023-05-25T15:06:21.635Z"
   },
   {
    "duration": 166,
    "start_time": "2023-05-25T15:06:33.156Z"
   },
   {
    "duration": 41,
    "start_time": "2023-05-25T15:06:43.485Z"
   },
   {
    "duration": 41,
    "start_time": "2023-05-25T15:07:50.047Z"
   },
   {
    "duration": 5,
    "start_time": "2023-05-25T15:08:14.021Z"
   },
   {
    "duration": 230,
    "start_time": "2023-05-25T15:08:24.337Z"
   },
   {
    "duration": 173,
    "start_time": "2023-05-25T15:08:24.657Z"
   },
   {
    "duration": 24,
    "start_time": "2023-05-25T15:08:25.607Z"
   },
   {
    "duration": 12,
    "start_time": "2023-05-25T15:08:26.733Z"
   },
   {
    "duration": 42,
    "start_time": "2023-05-25T15:08:26.746Z"
   },
   {
    "duration": 45,
    "start_time": "2023-05-25T15:12:50.328Z"
   },
   {
    "duration": 33,
    "start_time": "2023-05-25T15:12:58.307Z"
   },
   {
    "duration": 43,
    "start_time": "2023-05-25T15:13:40.909Z"
   },
   {
    "duration": 29,
    "start_time": "2023-05-25T15:14:05.733Z"
   },
   {
    "duration": 43,
    "start_time": "2023-05-25T15:14:46.591Z"
   },
   {
    "duration": 18,
    "start_time": "2023-05-25T15:14:53.881Z"
   },
   {
    "duration": 17,
    "start_time": "2023-05-25T15:15:10.934Z"
   },
   {
    "duration": 14,
    "start_time": "2023-05-25T15:15:58.782Z"
   },
   {
    "duration": 14,
    "start_time": "2023-05-25T15:57:33.478Z"
   },
   {
    "duration": 12,
    "start_time": "2023-05-25T15:58:47.374Z"
   },
   {
    "duration": 14,
    "start_time": "2023-05-25T15:59:47.330Z"
   },
   {
    "duration": 14,
    "start_time": "2023-05-25T16:00:05.077Z"
   },
   {
    "duration": 118,
    "start_time": "2023-05-25T16:00:36.630Z"
   },
   {
    "duration": 9,
    "start_time": "2023-05-25T16:01:08.541Z"
   },
   {
    "duration": 23,
    "start_time": "2023-05-25T16:01:27.289Z"
   },
   {
    "duration": 37,
    "start_time": "2023-05-25T16:02:00.054Z"
   },
   {
    "duration": 41,
    "start_time": "2023-05-25T16:02:31.180Z"
   },
   {
    "duration": 14,
    "start_time": "2023-05-25T16:12:18.355Z"
   },
   {
    "duration": 16,
    "start_time": "2023-05-25T16:12:36.433Z"
   },
   {
    "duration": 13,
    "start_time": "2023-05-25T16:12:45.025Z"
   },
   {
    "duration": 17,
    "start_time": "2023-05-25T16:15:50.345Z"
   },
   {
    "duration": 17,
    "start_time": "2023-05-25T16:16:38.166Z"
   },
   {
    "duration": 193,
    "start_time": "2023-05-25T16:28:27.267Z"
   },
   {
    "duration": 193,
    "start_time": "2023-05-25T16:28:31.894Z"
   },
   {
    "duration": 201,
    "start_time": "2023-05-25T16:29:54.734Z"
   },
   {
    "duration": 284,
    "start_time": "2023-05-25T16:31:17.397Z"
   },
   {
    "duration": 201,
    "start_time": "2023-05-25T16:32:04.937Z"
   },
   {
    "duration": 187,
    "start_time": "2023-05-25T16:32:22.348Z"
   },
   {
    "duration": 324,
    "start_time": "2023-05-25T16:46:38.184Z"
   },
   {
    "duration": 492,
    "start_time": "2023-05-25T16:46:59.715Z"
   },
   {
    "duration": 231,
    "start_time": "2023-05-25T16:48:52.726Z"
   },
   {
    "duration": 507,
    "start_time": "2023-05-25T16:49:25.227Z"
   },
   {
    "duration": 520,
    "start_time": "2023-05-25T16:50:07.277Z"
   },
   {
    "duration": 3,
    "start_time": "2023-05-25T16:50:19.732Z"
   },
   {
    "duration": 78,
    "start_time": "2023-05-25T16:50:21.013Z"
   },
   {
    "duration": 9,
    "start_time": "2023-05-25T16:50:21.093Z"
   },
   {
    "duration": 28,
    "start_time": "2023-05-25T16:50:21.104Z"
   },
   {
    "duration": 66,
    "start_time": "2023-05-25T16:50:21.134Z"
   },
   {
    "duration": 9,
    "start_time": "2023-05-25T16:50:21.346Z"
   },
   {
    "duration": 9,
    "start_time": "2023-05-25T16:50:21.746Z"
   },
   {
    "duration": 12,
    "start_time": "2023-05-25T16:50:21.907Z"
   },
   {
    "duration": 5,
    "start_time": "2023-05-25T16:50:22.055Z"
   },
   {
    "duration": 27,
    "start_time": "2023-05-25T16:50:22.206Z"
   },
   {
    "duration": 8,
    "start_time": "2023-05-25T16:50:22.358Z"
   },
   {
    "duration": 11,
    "start_time": "2023-05-25T16:50:22.510Z"
   },
   {
    "duration": 4,
    "start_time": "2023-05-25T16:50:22.665Z"
   },
   {
    "duration": 13,
    "start_time": "2023-05-25T16:50:22.821Z"
   },
   {
    "duration": 535,
    "start_time": "2023-05-25T16:50:22.976Z"
   },
   {
    "duration": 348,
    "start_time": "2023-05-25T16:58:21.800Z"
   },
   {
    "duration": 1202,
    "start_time": "2023-05-25T19:41:25.110Z"
   },
   {
    "duration": 178,
    "start_time": "2023-05-25T19:41:26.314Z"
   },
   {
    "duration": 14,
    "start_time": "2023-05-25T19:41:26.493Z"
   },
   {
    "duration": 14,
    "start_time": "2023-05-25T19:41:26.509Z"
   },
   {
    "duration": 13,
    "start_time": "2023-05-25T19:41:26.525Z"
   },
   {
    "duration": 7,
    "start_time": "2023-05-25T19:41:27.256Z"
   },
   {
    "duration": 9,
    "start_time": "2023-05-25T19:41:27.430Z"
   },
   {
    "duration": 10,
    "start_time": "2023-05-25T19:41:27.612Z"
   },
   {
    "duration": 6,
    "start_time": "2023-05-25T19:41:27.785Z"
   },
   {
    "duration": 17,
    "start_time": "2023-05-25T19:41:27.968Z"
   },
   {
    "duration": 8,
    "start_time": "2023-05-25T19:41:28.127Z"
   },
   {
    "duration": 11,
    "start_time": "2023-05-25T19:41:28.318Z"
   },
   {
    "duration": 4,
    "start_time": "2023-05-25T19:41:28.482Z"
   },
   {
    "duration": 10,
    "start_time": "2023-05-25T19:41:28.652Z"
   },
   {
    "duration": 412,
    "start_time": "2023-05-25T19:41:28.836Z"
   },
   {
    "duration": 0,
    "start_time": "2023-05-25T19:41:29.256Z"
   },
   {
    "duration": 385,
    "start_time": "2023-05-25T19:41:29.793Z"
   },
   {
    "duration": 297,
    "start_time": "2023-05-25T19:41:30.180Z"
   },
   {
    "duration": 222,
    "start_time": "2023-05-25T19:41:30.479Z"
   },
   {
    "duration": 160,
    "start_time": "2023-05-25T19:41:30.702Z"
   },
   {
    "duration": 187,
    "start_time": "2023-05-25T19:41:30.865Z"
   },
   {
    "duration": 202,
    "start_time": "2023-05-25T19:41:31.646Z"
   },
   {
    "duration": 5,
    "start_time": "2023-05-25T19:41:32.203Z"
   },
   {
    "duration": 206,
    "start_time": "2023-05-25T19:41:32.812Z"
   },
   {
    "duration": 152,
    "start_time": "2023-05-25T19:41:33.020Z"
   },
   {
    "duration": 28,
    "start_time": "2023-05-25T19:41:33.306Z"
   },
   {
    "duration": 19,
    "start_time": "2023-05-25T19:41:33.667Z"
   },
   {
    "duration": 10,
    "start_time": "2023-05-25T19:41:34.206Z"
   },
   {
    "duration": 8,
    "start_time": "2023-05-25T19:41:34.572Z"
   },
   {
    "duration": 38,
    "start_time": "2023-05-25T19:41:34.736Z"
   },
   {
    "duration": 10,
    "start_time": "2023-05-25T19:41:35.096Z"
   },
   {
    "duration": 457,
    "start_time": "2023-05-25T19:42:16.593Z"
   },
   {
    "duration": 26,
    "start_time": "2023-05-25T19:42:28.795Z"
   },
   {
    "duration": 223,
    "start_time": "2023-05-25T19:42:33.903Z"
   },
   {
    "duration": 3,
    "start_time": "2023-05-25T19:42:38.527Z"
   },
   {
    "duration": 68,
    "start_time": "2023-05-25T19:42:38.899Z"
   },
   {
    "duration": 7,
    "start_time": "2023-05-25T19:42:39.268Z"
   },
   {
    "duration": 11,
    "start_time": "2023-05-25T19:42:40.029Z"
   },
   {
    "duration": 18,
    "start_time": "2023-05-25T19:42:41.038Z"
   },
   {
    "duration": 8,
    "start_time": "2023-05-25T19:42:42.393Z"
   },
   {
    "duration": 9,
    "start_time": "2023-05-25T19:42:42.705Z"
   },
   {
    "duration": 16,
    "start_time": "2023-05-25T19:42:43.073Z"
   },
   {
    "duration": 6,
    "start_time": "2023-05-25T19:42:43.413Z"
   },
   {
    "duration": 19,
    "start_time": "2023-05-25T19:42:43.768Z"
   },
   {
    "duration": 11,
    "start_time": "2023-05-25T19:42:44.124Z"
   },
   {
    "duration": 10,
    "start_time": "2023-05-25T19:42:44.495Z"
   },
   {
    "duration": 3,
    "start_time": "2023-05-25T19:42:44.848Z"
   },
   {
    "duration": 11,
    "start_time": "2023-05-25T19:42:45.178Z"
   },
   {
    "duration": 496,
    "start_time": "2023-05-25T19:42:45.682Z"
   },
   {
    "duration": 309,
    "start_time": "2023-05-25T19:42:46.738Z"
   },
   {
    "duration": 324,
    "start_time": "2023-05-25T19:42:47.926Z"
   },
   {
    "duration": 309,
    "start_time": "2023-05-25T19:42:48.316Z"
   },
   {
    "duration": 234,
    "start_time": "2023-05-25T19:42:48.695Z"
   },
   {
    "duration": 162,
    "start_time": "2023-05-25T19:42:49.048Z"
   },
   {
    "duration": 160,
    "start_time": "2023-05-25T19:42:49.797Z"
   },
   {
    "duration": 194,
    "start_time": "2023-05-25T19:42:51.106Z"
   },
   {
    "duration": 5,
    "start_time": "2023-05-25T19:42:52.479Z"
   },
   {
    "duration": 238,
    "start_time": "2023-05-25T19:42:53.590Z"
   },
   {
    "duration": 167,
    "start_time": "2023-05-25T19:42:53.995Z"
   },
   {
    "duration": 28,
    "start_time": "2023-05-25T19:42:55.092Z"
   },
   {
    "duration": 17,
    "start_time": "2023-05-25T19:42:56.092Z"
   },
   {
    "duration": 11,
    "start_time": "2023-05-25T19:42:57.452Z"
   },
   {
    "duration": 8,
    "start_time": "2023-05-25T19:42:58.231Z"
   },
   {
    "duration": 49,
    "start_time": "2023-05-25T19:42:58.567Z"
   },
   {
    "duration": 13,
    "start_time": "2023-05-25T19:42:59.322Z"
   },
   {
    "duration": 1424,
    "start_time": "2023-05-26T11:43:25.333Z"
   },
   {
    "duration": 192,
    "start_time": "2023-05-26T11:43:26.760Z"
   },
   {
    "duration": 16,
    "start_time": "2023-05-26T11:43:26.954Z"
   },
   {
    "duration": 21,
    "start_time": "2023-05-26T11:43:26.973Z"
   },
   {
    "duration": 19,
    "start_time": "2023-05-26T11:43:26.996Z"
   },
   {
    "duration": 46,
    "start_time": "2023-05-26T11:43:27.017Z"
   },
   {
    "duration": 14,
    "start_time": "2023-05-26T11:43:27.066Z"
   },
   {
    "duration": 19,
    "start_time": "2023-05-26T11:43:27.087Z"
   },
   {
    "duration": 9,
    "start_time": "2023-05-26T11:43:27.175Z"
   },
   {
    "duration": 31,
    "start_time": "2023-05-26T11:43:27.260Z"
   },
   {
    "duration": 11,
    "start_time": "2023-05-26T11:43:27.346Z"
   },
   {
    "duration": 15,
    "start_time": "2023-05-26T11:43:27.432Z"
   },
   {
    "duration": 6,
    "start_time": "2023-05-26T11:43:27.532Z"
   },
   {
    "duration": 29,
    "start_time": "2023-05-26T11:43:27.601Z"
   },
   {
    "duration": 563,
    "start_time": "2023-05-26T11:43:27.702Z"
   },
   {
    "duration": 0,
    "start_time": "2023-05-26T11:43:28.268Z"
   },
   {
    "duration": 0,
    "start_time": "2023-05-26T11:43:28.269Z"
   },
   {
    "duration": 0,
    "start_time": "2023-05-26T11:43:28.270Z"
   },
   {
    "duration": 357,
    "start_time": "2023-05-26T11:43:28.317Z"
   },
   {
    "duration": 197,
    "start_time": "2023-05-26T11:43:28.677Z"
   },
   {
    "duration": 206,
    "start_time": "2023-05-26T11:43:28.877Z"
   },
   {
    "duration": 210,
    "start_time": "2023-05-26T11:43:29.234Z"
   },
   {
    "duration": 5,
    "start_time": "2023-05-26T11:43:29.939Z"
   },
   {
    "duration": 343,
    "start_time": "2023-05-26T11:43:30.507Z"
   },
   {
    "duration": 228,
    "start_time": "2023-05-26T11:43:30.853Z"
   },
   {
    "duration": 32,
    "start_time": "2023-05-26T11:43:31.083Z"
   },
   {
    "duration": 0,
    "start_time": "2023-05-26T11:43:31.117Z"
   },
   {
    "duration": 0,
    "start_time": "2023-05-26T11:43:31.119Z"
   },
   {
    "duration": 0,
    "start_time": "2023-05-26T11:43:31.120Z"
   },
   {
    "duration": 0,
    "start_time": "2023-05-26T11:43:31.122Z"
   },
   {
    "duration": 0,
    "start_time": "2023-05-26T11:43:31.123Z"
   },
   {
    "duration": 540,
    "start_time": "2023-05-26T12:19:17.336Z"
   },
   {
    "duration": 21,
    "start_time": "2023-05-26T12:19:31.118Z"
   },
   {
    "duration": 29,
    "start_time": "2023-05-26T12:19:36.431Z"
   },
   {
    "duration": 3,
    "start_time": "2023-05-26T12:19:43.816Z"
   },
   {
    "duration": 82,
    "start_time": "2023-05-26T12:19:44.067Z"
   },
   {
    "duration": 9,
    "start_time": "2023-05-26T12:19:44.326Z"
   },
   {
    "duration": 14,
    "start_time": "2023-05-26T12:19:44.796Z"
   },
   {
    "duration": 12,
    "start_time": "2023-05-26T12:19:45.488Z"
   },
   {
    "duration": 8,
    "start_time": "2023-05-26T12:19:46.378Z"
   },
   {
    "duration": 9,
    "start_time": "2023-05-26T12:19:46.591Z"
   },
   {
    "duration": 11,
    "start_time": "2023-05-26T12:19:46.813Z"
   },
   {
    "duration": 5,
    "start_time": "2023-05-26T12:19:47.025Z"
   },
   {
    "duration": 25,
    "start_time": "2023-05-26T12:19:47.245Z"
   },
   {
    "duration": 20,
    "start_time": "2023-05-26T12:19:47.478Z"
   },
   {
    "duration": 11,
    "start_time": "2023-05-26T12:19:47.678Z"
   },
   {
    "duration": 4,
    "start_time": "2023-05-26T12:19:47.891Z"
   },
   {
    "duration": 11,
    "start_time": "2023-05-26T12:19:48.100Z"
   },
   {
    "duration": 551,
    "start_time": "2023-05-26T12:19:48.322Z"
   },
   {
    "duration": 247,
    "start_time": "2023-05-26T12:19:48.875Z"
   },
   {
    "duration": 348,
    "start_time": "2023-05-26T12:19:49.377Z"
   },
   {
    "duration": 405,
    "start_time": "2023-05-26T12:19:49.727Z"
   },
   {
    "duration": 256,
    "start_time": "2023-05-26T12:19:50.134Z"
   },
   {
    "duration": 140,
    "start_time": "2023-05-26T12:19:50.391Z"
   },
   {
    "duration": 165,
    "start_time": "2023-05-26T12:19:50.776Z"
   },
   {
    "duration": 209,
    "start_time": "2023-05-26T12:19:51.616Z"
   },
   {
    "duration": 9,
    "start_time": "2023-05-26T12:19:52.451Z"
   },
   {
    "duration": 235,
    "start_time": "2023-05-26T12:19:53.278Z"
   },
   {
    "duration": 134,
    "start_time": "2023-05-26T12:19:53.576Z"
   },
   {
    "duration": 29,
    "start_time": "2023-05-26T12:19:54.722Z"
   },
   {
    "duration": 32,
    "start_time": "2023-05-26T12:19:55.749Z"
   },
   {
    "duration": 20,
    "start_time": "2023-05-26T12:19:56.456Z"
   },
   {
    "duration": 9,
    "start_time": "2023-05-26T12:19:56.797Z"
   },
   {
    "duration": 41,
    "start_time": "2023-05-26T12:19:56.976Z"
   },
   {
    "duration": 14,
    "start_time": "2023-05-26T12:19:57.289Z"
   },
   {
    "duration": 37,
    "start_time": "2023-05-26T14:35:27.064Z"
   },
   {
    "duration": 43,
    "start_time": "2023-05-26T14:36:04.574Z"
   },
   {
    "duration": 17,
    "start_time": "2023-05-26T14:36:18.277Z"
   },
   {
    "duration": 16,
    "start_time": "2023-05-26T14:36:25.356Z"
   },
   {
    "duration": 256,
    "start_time": "2023-05-26T14:39:34.567Z"
   },
   {
    "duration": 332,
    "start_time": "2023-05-26T14:40:32.317Z"
   },
   {
    "duration": 291,
    "start_time": "2023-05-26T14:40:37.799Z"
   },
   {
    "duration": 227,
    "start_time": "2023-05-26T14:40:48.947Z"
   },
   {
    "duration": 12,
    "start_time": "2023-05-26T14:41:45.414Z"
   },
   {
    "duration": 11,
    "start_time": "2023-05-26T14:44:11.449Z"
   },
   {
    "duration": 27,
    "start_time": "2023-05-26T15:34:19.592Z"
   },
   {
    "duration": 1788,
    "start_time": "2023-05-26T15:41:14.009Z"
   },
   {
    "duration": 12,
    "start_time": "2023-05-26T15:41:46.213Z"
   },
   {
    "duration": 11,
    "start_time": "2023-05-26T15:43:11.795Z"
   },
   {
    "duration": 7,
    "start_time": "2023-05-26T15:43:15.085Z"
   },
   {
    "duration": 36,
    "start_time": "2023-05-26T15:43:18.102Z"
   },
   {
    "duration": 1041,
    "start_time": "2023-05-26T16:49:21.173Z"
   },
   {
    "duration": 271,
    "start_time": "2023-05-26T16:49:22.215Z"
   },
   {
    "duration": 14,
    "start_time": "2023-05-26T16:49:22.488Z"
   },
   {
    "duration": 16,
    "start_time": "2023-05-26T16:49:22.504Z"
   },
   {
    "duration": 15,
    "start_time": "2023-05-26T16:49:22.521Z"
   },
   {
    "duration": 20,
    "start_time": "2023-05-26T16:49:22.538Z"
   },
   {
    "duration": 16,
    "start_time": "2023-05-26T16:49:22.560Z"
   },
   {
    "duration": 19,
    "start_time": "2023-05-26T16:49:22.578Z"
   },
   {
    "duration": 22,
    "start_time": "2023-05-26T16:49:22.598Z"
   },
   {
    "duration": 35,
    "start_time": "2023-05-26T16:49:22.622Z"
   },
   {
    "duration": 8,
    "start_time": "2023-05-26T16:49:22.659Z"
   },
   {
    "duration": 32,
    "start_time": "2023-05-26T16:49:22.669Z"
   },
   {
    "duration": 19,
    "start_time": "2023-05-26T16:49:22.703Z"
   },
   {
    "duration": 28,
    "start_time": "2023-05-26T16:49:22.724Z"
   },
   {
    "duration": 594,
    "start_time": "2023-05-26T16:49:22.754Z"
   },
   {
    "duration": 230,
    "start_time": "2023-05-26T16:49:23.349Z"
   },
   {
    "duration": 344,
    "start_time": "2023-05-26T16:49:23.580Z"
   },
   {
    "duration": 220,
    "start_time": "2023-05-26T16:49:23.926Z"
   },
   {
    "duration": 144,
    "start_time": "2023-05-26T16:49:24.148Z"
   },
   {
    "duration": 175,
    "start_time": "2023-05-26T16:49:24.293Z"
   },
   {
    "duration": 199,
    "start_time": "2023-05-26T16:49:24.470Z"
   },
   {
    "duration": 4,
    "start_time": "2023-05-26T16:49:24.671Z"
   },
   {
    "duration": 220,
    "start_time": "2023-05-26T16:49:24.677Z"
   },
   {
    "duration": 155,
    "start_time": "2023-05-26T16:49:24.899Z"
   },
   {
    "duration": 34,
    "start_time": "2023-05-26T16:49:25.056Z"
   },
   {
    "duration": 33,
    "start_time": "2023-05-26T16:49:25.091Z"
   },
   {
    "duration": 13,
    "start_time": "2023-05-26T16:49:25.126Z"
   },
   {
    "duration": 7,
    "start_time": "2023-05-26T16:49:25.144Z"
   },
   {
    "duration": 97,
    "start_time": "2023-05-26T16:49:25.153Z"
   },
   {
    "duration": 5,
    "start_time": "2023-05-26T17:00:35.441Z"
   },
   {
    "duration": 1921,
    "start_time": "2023-05-27T09:39:39.851Z"
   },
   {
    "duration": 256,
    "start_time": "2023-05-27T09:39:41.774Z"
   },
   {
    "duration": 27,
    "start_time": "2023-05-27T09:39:42.033Z"
   },
   {
    "duration": 10,
    "start_time": "2023-05-27T09:39:47.123Z"
   },
   {
    "duration": 13,
    "start_time": "2023-05-27T09:39:47.623Z"
   },
   {
    "duration": 41,
    "start_time": "2023-05-27T09:39:49.620Z"
   },
   {
    "duration": 31,
    "start_time": "2023-05-27T09:39:50.601Z"
   },
   {
    "duration": 30,
    "start_time": "2023-05-27T09:40:05.395Z"
   },
   {
    "duration": 21,
    "start_time": "2023-05-27T09:40:05.567Z"
   },
   {
    "duration": 38,
    "start_time": "2023-05-27T09:40:05.738Z"
   },
   {
    "duration": 9,
    "start_time": "2023-05-27T09:40:05.916Z"
   },
   {
    "duration": 46,
    "start_time": "2023-05-27T09:40:06.053Z"
   },
   {
    "duration": 17,
    "start_time": "2023-05-27T09:40:06.197Z"
   },
   {
    "duration": 35,
    "start_time": "2023-05-27T09:40:06.344Z"
   },
   {
    "duration": 10,
    "start_time": "2023-05-27T09:40:06.491Z"
   },
   {
    "duration": 28,
    "start_time": "2023-05-27T09:40:06.632Z"
   },
   {
    "duration": 11,
    "start_time": "2023-05-27T09:41:36.308Z"
   },
   {
    "duration": 16,
    "start_time": "2023-05-27T09:41:55.600Z"
   },
   {
    "duration": 15,
    "start_time": "2023-05-27T09:42:10.094Z"
   },
   {
    "duration": 6,
    "start_time": "2023-05-27T09:42:27.020Z"
   },
   {
    "duration": 8,
    "start_time": "2023-05-27T09:44:39.636Z"
   },
   {
    "duration": 9,
    "start_time": "2023-05-27T09:44:52.924Z"
   },
   {
    "duration": 147,
    "start_time": "2023-05-27T09:46:29.207Z"
   },
   {
    "duration": 16,
    "start_time": "2023-05-27T09:46:39.648Z"
   },
   {
    "duration": 21,
    "start_time": "2023-05-27T09:54:40.493Z"
   },
   {
    "duration": 43,
    "start_time": "2023-05-27T09:56:41.711Z"
   },
   {
    "duration": 40,
    "start_time": "2023-05-27T09:56:44.698Z"
   },
   {
    "duration": 33,
    "start_time": "2023-05-27T10:13:26.740Z"
   },
   {
    "duration": 10,
    "start_time": "2023-05-27T10:21:43.995Z"
   },
   {
    "duration": 17,
    "start_time": "2023-05-27T10:22:08.465Z"
   },
   {
    "duration": 11,
    "start_time": "2023-05-27T10:22:17.940Z"
   },
   {
    "duration": 1945,
    "start_time": "2023-05-27T10:40:57.985Z"
   },
   {
    "duration": 11,
    "start_time": "2023-05-27T10:42:58.804Z"
   },
   {
    "duration": 28,
    "start_time": "2023-05-27T10:43:04.881Z"
   },
   {
    "duration": 16,
    "start_time": "2023-05-27T10:43:09.107Z"
   },
   {
    "duration": 3,
    "start_time": "2023-05-27T10:43:14.989Z"
   },
   {
    "duration": 105,
    "start_time": "2023-05-27T10:43:15.334Z"
   },
   {
    "duration": 4,
    "start_time": "2023-05-27T10:43:15.492Z"
   },
   {
    "duration": 21,
    "start_time": "2023-05-27T10:43:15.655Z"
   },
   {
    "duration": 18,
    "start_time": "2023-05-27T10:43:16.225Z"
   },
   {
    "duration": 54,
    "start_time": "2023-05-27T10:43:16.741Z"
   },
   {
    "duration": 33,
    "start_time": "2023-05-27T10:43:17.572Z"
   },
   {
    "duration": 33,
    "start_time": "2023-05-27T10:43:17.741Z"
   },
   {
    "duration": 15,
    "start_time": "2023-05-27T10:43:17.903Z"
   },
   {
    "duration": 30,
    "start_time": "2023-05-27T10:43:18.076Z"
   },
   {
    "duration": 23,
    "start_time": "2023-05-27T10:43:18.267Z"
   },
   {
    "duration": 13,
    "start_time": "2023-05-27T10:43:18.411Z"
   },
   {
    "duration": 5,
    "start_time": "2023-05-27T10:43:18.581Z"
   },
   {
    "duration": 16,
    "start_time": "2023-05-27T10:43:18.744Z"
   },
   {
    "duration": 10,
    "start_time": "2023-05-27T10:43:18.902Z"
   },
   {
    "duration": 9,
    "start_time": "2023-05-27T10:43:19.078Z"
   },
   {
    "duration": 11,
    "start_time": "2023-05-27T10:43:19.407Z"
   },
   {
    "duration": 9,
    "start_time": "2023-05-27T10:43:19.590Z"
   },
   {
    "duration": 449,
    "start_time": "2023-05-27T10:43:20.245Z"
   },
   {
    "duration": 20,
    "start_time": "2023-05-27T10:43:20.810Z"
   },
   {
    "duration": 55,
    "start_time": "2023-05-27T10:43:21.746Z"
   },
   {
    "duration": 45,
    "start_time": "2023-05-27T10:43:23.269Z"
   },
   {
    "duration": 14,
    "start_time": "2023-05-27T10:43:24.197Z"
   },
   {
    "duration": 23,
    "start_time": "2023-05-27T10:43:24.977Z"
   },
   {
    "duration": 252,
    "start_time": "2023-05-27T10:43:26.114Z"
   },
   {
    "duration": 269,
    "start_time": "2023-05-27T10:43:26.601Z"
   },
   {
    "duration": 2052,
    "start_time": "2023-05-27T10:43:28.881Z"
   },
   {
    "duration": 7,
    "start_time": "2023-05-27T10:43:45.821Z"
   },
   {
    "duration": 11,
    "start_time": "2023-05-27T10:43:53.019Z"
   },
   {
    "duration": 388,
    "start_time": "2023-05-27T10:43:53.452Z"
   },
   {
    "duration": 8,
    "start_time": "2023-05-27T10:43:54.218Z"
   },
   {
    "duration": 321,
    "start_time": "2023-05-27T10:43:56.204Z"
   },
   {
    "duration": 218,
    "start_time": "2023-05-27T10:43:56.780Z"
   },
   {
    "duration": 17,
    "start_time": "2023-05-27T10:43:58.120Z"
   },
   {
    "duration": 28,
    "start_time": "2023-05-27T10:43:58.947Z"
   },
   {
    "duration": 17,
    "start_time": "2023-05-27T10:44:00.217Z"
   },
   {
    "duration": 8,
    "start_time": "2023-05-27T10:44:00.424Z"
   },
   {
    "duration": 461,
    "start_time": "2023-05-27T11:04:11.740Z"
   },
   {
    "duration": 3,
    "start_time": "2023-05-27T11:04:55.091Z"
   },
   {
    "duration": 267,
    "start_time": "2023-05-27T11:04:55.474Z"
   },
   {
    "duration": 13,
    "start_time": "2023-05-27T11:04:55.743Z"
   },
   {
    "duration": 22,
    "start_time": "2023-05-27T11:04:55.812Z"
   },
   {
    "duration": 22,
    "start_time": "2023-05-27T11:04:56.341Z"
   },
   {
    "duration": 39,
    "start_time": "2023-05-27T11:04:56.863Z"
   },
   {
    "duration": 21,
    "start_time": "2023-05-27T11:04:57.646Z"
   },
   {
    "duration": 13,
    "start_time": "2023-05-27T11:04:57.809Z"
   },
   {
    "duration": 22,
    "start_time": "2023-05-27T11:04:57.990Z"
   },
   {
    "duration": 29,
    "start_time": "2023-05-27T11:04:58.141Z"
   },
   {
    "duration": 11,
    "start_time": "2023-05-27T11:04:58.307Z"
   },
   {
    "duration": 16,
    "start_time": "2023-05-27T11:04:58.474Z"
   },
   {
    "duration": 4,
    "start_time": "2023-05-27T11:04:58.637Z"
   },
   {
    "duration": 23,
    "start_time": "2023-05-27T11:04:58.789Z"
   },
   {
    "duration": 10,
    "start_time": "2023-05-27T11:04:58.950Z"
   },
   {
    "duration": 8,
    "start_time": "2023-05-27T11:04:59.111Z"
   },
   {
    "duration": 31,
    "start_time": "2023-05-27T11:04:59.442Z"
   },
   {
    "duration": 14,
    "start_time": "2023-05-27T11:04:59.610Z"
   },
   {
    "duration": 382,
    "start_time": "2023-05-27T11:05:00.673Z"
   },
   {
    "duration": 16,
    "start_time": "2023-05-27T11:06:38.712Z"
   },
   {
    "duration": 2075,
    "start_time": "2023-05-27T11:06:48.936Z"
   },
   {
    "duration": 418,
    "start_time": "2023-05-27T11:07:14.119Z"
   },
   {
    "duration": 280,
    "start_time": "2023-05-27T11:07:27.121Z"
   },
   {
    "duration": 272,
    "start_time": "2023-05-27T11:07:32.122Z"
   },
   {
    "duration": 2909,
    "start_time": "2023-05-27T11:10:05.111Z"
   },
   {
    "duration": 2501,
    "start_time": "2023-05-27T11:10:40.637Z"
   },
   {
    "duration": 5,
    "start_time": "2023-05-27T11:10:49.932Z"
   },
   {
    "duration": 286,
    "start_time": "2023-05-27T11:10:51.822Z"
   },
   {
    "duration": 19,
    "start_time": "2023-05-27T11:14:30.516Z"
   },
   {
    "duration": 24,
    "start_time": "2023-05-27T11:18:00.189Z"
   },
   {
    "duration": 4,
    "start_time": "2023-05-27T11:42:26.288Z"
   },
   {
    "duration": 96,
    "start_time": "2023-05-27T11:42:26.670Z"
   },
   {
    "duration": 3,
    "start_time": "2023-05-27T11:42:26.811Z"
   },
   {
    "duration": 10,
    "start_time": "2023-05-27T11:42:27.006Z"
   },
   {
    "duration": 27,
    "start_time": "2023-05-27T11:42:27.365Z"
   },
   {
    "duration": 15,
    "start_time": "2023-05-27T11:42:27.912Z"
   },
   {
    "duration": 10,
    "start_time": "2023-05-27T11:42:28.809Z"
   },
   {
    "duration": 12,
    "start_time": "2023-05-27T11:42:29.001Z"
   },
   {
    "duration": 26,
    "start_time": "2023-05-27T11:42:29.174Z"
   },
   {
    "duration": 19,
    "start_time": "2023-05-27T11:42:29.325Z"
   },
   {
    "duration": 9,
    "start_time": "2023-05-27T11:42:29.499Z"
   },
   {
    "duration": 16,
    "start_time": "2023-05-27T11:42:29.672Z"
   },
   {
    "duration": 4,
    "start_time": "2023-05-27T11:42:29.815Z"
   },
   {
    "duration": 21,
    "start_time": "2023-05-27T11:42:29.991Z"
   },
   {
    "duration": 15,
    "start_time": "2023-05-27T11:42:30.171Z"
   },
   {
    "duration": 7,
    "start_time": "2023-05-27T11:42:30.321Z"
   },
   {
    "duration": 15,
    "start_time": "2023-05-27T11:42:30.676Z"
   },
   {
    "duration": 8,
    "start_time": "2023-05-27T11:42:30.857Z"
   },
   {
    "duration": 359,
    "start_time": "2023-05-27T11:42:31.523Z"
   },
   {
    "duration": 15,
    "start_time": "2023-05-27T11:42:32.219Z"
   },
   {
    "duration": 349,
    "start_time": "2023-05-27T11:43:39.873Z"
   },
   {
    "duration": 16,
    "start_time": "2023-05-27T11:45:08.900Z"
   },
   {
    "duration": 15,
    "start_time": "2023-05-27T11:45:09.802Z"
   },
   {
    "duration": 2947,
    "start_time": "2023-05-27T11:45:10.171Z"
   },
   {
    "duration": 0,
    "start_time": "2023-05-27T11:45:13.120Z"
   },
   {
    "duration": 0,
    "start_time": "2023-05-27T11:45:13.122Z"
   },
   {
    "duration": 0,
    "start_time": "2023-05-27T11:45:13.125Z"
   },
   {
    "duration": 17,
    "start_time": "2023-05-27T11:46:26.517Z"
   },
   {
    "duration": 12,
    "start_time": "2023-05-27T11:46:29.704Z"
   },
   {
    "duration": 3,
    "start_time": "2023-05-27T11:47:00.268Z"
   },
   {
    "duration": 109,
    "start_time": "2023-05-27T11:47:00.992Z"
   },
   {
    "duration": 10,
    "start_time": "2023-05-27T11:47:01.273Z"
   },
   {
    "duration": 16,
    "start_time": "2023-05-27T11:47:01.497Z"
   },
   {
    "duration": 35,
    "start_time": "2023-05-27T11:47:02.660Z"
   },
   {
    "duration": 14,
    "start_time": "2023-05-27T11:47:03.818Z"
   },
   {
    "duration": 18,
    "start_time": "2023-05-27T11:47:05.595Z"
   },
   {
    "duration": 18,
    "start_time": "2023-05-27T11:47:05.897Z"
   },
   {
    "duration": 13,
    "start_time": "2023-05-27T11:47:06.202Z"
   },
   {
    "duration": 28,
    "start_time": "2023-05-27T11:47:06.492Z"
   },
   {
    "duration": 18,
    "start_time": "2023-05-27T11:47:06.803Z"
   },
   {
    "duration": 12,
    "start_time": "2023-05-27T11:47:07.102Z"
   },
   {
    "duration": 5,
    "start_time": "2023-05-27T11:47:07.327Z"
   },
   {
    "duration": 15,
    "start_time": "2023-05-27T11:47:07.612Z"
   },
   {
    "duration": 16,
    "start_time": "2023-05-27T11:47:07.900Z"
   },
   {
    "duration": 6,
    "start_time": "2023-05-27T11:47:08.114Z"
   },
   {
    "duration": 9,
    "start_time": "2023-05-27T11:47:08.706Z"
   },
   {
    "duration": 8,
    "start_time": "2023-05-27T11:47:09.011Z"
   },
   {
    "duration": 366,
    "start_time": "2023-05-27T11:47:10.208Z"
   },
   {
    "duration": 547,
    "start_time": "2023-05-27T11:48:57.167Z"
   },
   {
    "duration": 353,
    "start_time": "2023-05-27T11:49:07.600Z"
   },
   {
    "duration": 346,
    "start_time": "2023-05-27T12:14:32.927Z"
   },
   {
    "duration": 391,
    "start_time": "2023-05-27T12:14:45.075Z"
   },
   {
    "duration": 303,
    "start_time": "2023-05-27T12:14:49.128Z"
   },
   {
    "duration": 363,
    "start_time": "2023-05-27T12:14:53.801Z"
   },
   {
    "duration": 23,
    "start_time": "2023-05-27T12:18:36.771Z"
   },
   {
    "duration": 362,
    "start_time": "2023-05-27T12:18:58.374Z"
   },
   {
    "duration": 278,
    "start_time": "2023-05-27T12:21:30.428Z"
   },
   {
    "duration": 407,
    "start_time": "2023-05-27T12:21:36.337Z"
   },
   {
    "duration": 339,
    "start_time": "2023-05-27T12:21:45.475Z"
   },
   {
    "duration": 347,
    "start_time": "2023-05-27T12:21:55.091Z"
   },
   {
    "duration": 1892,
    "start_time": "2023-05-27T12:22:12.733Z"
   },
   {
    "duration": 215,
    "start_time": "2023-05-27T13:09:28.092Z"
   },
   {
    "duration": 310,
    "start_time": "2023-05-27T13:11:58.546Z"
   },
   {
    "duration": 213,
    "start_time": "2023-05-27T13:12:01.812Z"
   },
   {
    "duration": 5,
    "start_time": "2023-05-27T13:12:02.282Z"
   },
   {
    "duration": 259,
    "start_time": "2023-05-27T13:12:02.925Z"
   },
   {
    "duration": 32,
    "start_time": "2023-05-27T13:12:50.537Z"
   },
   {
    "duration": 274,
    "start_time": "2023-05-27T13:12:50.734Z"
   },
   {
    "duration": 10,
    "start_time": "2023-05-27T13:12:57.103Z"
   },
   {
    "duration": 256,
    "start_time": "2023-05-27T13:12:57.667Z"
   },
   {
    "duration": 187,
    "start_time": "2023-05-27T13:12:58.728Z"
   },
   {
    "duration": 235,
    "start_time": "2023-05-27T13:13:08.501Z"
   },
   {
    "duration": 50,
    "start_time": "2023-05-27T13:14:03.928Z"
   },
   {
    "duration": 34,
    "start_time": "2023-05-27T13:14:15.890Z"
   },
   {
    "duration": 179,
    "start_time": "2023-05-27T13:14:16.831Z"
   },
   {
    "duration": 67,
    "start_time": "2023-05-27T13:14:19.721Z"
   },
   {
    "duration": 17,
    "start_time": "2023-05-27T13:14:21.606Z"
   },
   {
    "duration": 12,
    "start_time": "2023-05-27T13:14:22.892Z"
   },
   {
    "duration": 7,
    "start_time": "2023-05-27T13:14:23.686Z"
   },
   {
    "duration": 44,
    "start_time": "2023-05-27T13:14:23.899Z"
   },
   {
    "duration": 255,
    "start_time": "2023-05-27T13:14:38.914Z"
   },
   {
    "duration": 281,
    "start_time": "2023-05-27T13:14:47.293Z"
   },
   {
    "duration": 154,
    "start_time": "2023-05-27T13:14:51.167Z"
   },
   {
    "duration": 48,
    "start_time": "2023-05-27T13:14:52.085Z"
   },
   {
    "duration": 21,
    "start_time": "2023-05-27T13:14:52.588Z"
   },
   {
    "duration": 11,
    "start_time": "2023-05-27T13:14:53.190Z"
   },
   {
    "duration": 243,
    "start_time": "2023-05-27T13:16:29.080Z"
   },
   {
    "duration": 216,
    "start_time": "2023-05-27T13:17:05.892Z"
   },
   {
    "duration": 72,
    "start_time": "2023-05-27T13:18:44.388Z"
   },
   {
    "duration": 21,
    "start_time": "2023-05-27T13:20:04.985Z"
   },
   {
    "duration": 112,
    "start_time": "2023-05-27T13:23:03.312Z"
   },
   {
    "duration": 92,
    "start_time": "2023-05-27T13:32:47.481Z"
   },
   {
    "duration": 3,
    "start_time": "2023-05-27T13:32:47.691Z"
   },
   {
    "duration": 8,
    "start_time": "2023-05-27T13:32:47.898Z"
   },
   {
    "duration": 16,
    "start_time": "2023-05-27T13:32:49.280Z"
   },
   {
    "duration": 14,
    "start_time": "2023-05-27T13:32:50.430Z"
   },
   {
    "duration": 8,
    "start_time": "2023-05-27T13:32:51.930Z"
   },
   {
    "duration": 14,
    "start_time": "2023-05-27T13:32:52.292Z"
   },
   {
    "duration": 15,
    "start_time": "2023-05-27T13:32:52.676Z"
   },
   {
    "duration": 21,
    "start_time": "2023-05-27T13:32:53.273Z"
   },
   {
    "duration": 15,
    "start_time": "2023-05-27T13:32:53.868Z"
   },
   {
    "duration": 10,
    "start_time": "2023-05-27T13:32:54.094Z"
   },
   {
    "duration": 7,
    "start_time": "2023-05-27T13:32:54.358Z"
   },
   {
    "duration": 12,
    "start_time": "2023-05-27T13:32:54.590Z"
   },
   {
    "duration": 8,
    "start_time": "2023-05-27T13:32:54.833Z"
   },
   {
    "duration": 12,
    "start_time": "2023-05-27T13:32:55.070Z"
   },
   {
    "duration": 7,
    "start_time": "2023-05-27T13:32:55.308Z"
   },
   {
    "duration": 6,
    "start_time": "2023-05-27T13:32:55.490Z"
   },
   {
    "duration": 279,
    "start_time": "2023-05-27T13:32:56.300Z"
   },
   {
    "duration": 306,
    "start_time": "2023-05-27T13:32:57.618Z"
   },
   {
    "duration": 376,
    "start_time": "2023-05-27T13:32:58.230Z"
   },
   {
    "duration": 278,
    "start_time": "2023-05-27T13:32:58.608Z"
   },
   {
    "duration": 349,
    "start_time": "2023-05-27T13:32:58.989Z"
   },
   {
    "duration": 143,
    "start_time": "2023-05-27T13:32:59.964Z"
   },
   {
    "duration": 193,
    "start_time": "2023-05-27T13:33:00.383Z"
   },
   {
    "duration": 4,
    "start_time": "2023-05-27T13:33:01.339Z"
   },
   {
    "duration": 213,
    "start_time": "2023-05-27T13:33:02.010Z"
   },
   {
    "duration": 208,
    "start_time": "2023-05-27T13:33:02.842Z"
   },
   {
    "duration": 4,
    "start_time": "2023-05-27T13:33:22.212Z"
   },
   {
    "duration": 106,
    "start_time": "2023-05-27T13:33:23.509Z"
   },
   {
    "duration": 3,
    "start_time": "2023-05-27T13:33:24.098Z"
   },
   {
    "duration": 9,
    "start_time": "2023-05-27T13:33:25.493Z"
   },
   {
    "duration": 13,
    "start_time": "2023-05-27T13:33:27.431Z"
   },
   {
    "duration": 15,
    "start_time": "2023-05-27T13:33:28.921Z"
   },
   {
    "duration": 9,
    "start_time": "2023-05-27T13:33:29.788Z"
   },
   {
    "duration": 12,
    "start_time": "2023-05-27T13:33:29.977Z"
   },
   {
    "duration": 18,
    "start_time": "2023-05-27T13:33:30.466Z"
   },
   {
    "duration": 33,
    "start_time": "2023-05-27T13:33:30.827Z"
   },
   {
    "duration": 9,
    "start_time": "2023-05-27T13:33:31.181Z"
   },
   {
    "duration": 12,
    "start_time": "2023-05-27T13:33:31.410Z"
   },
   {
    "duration": 10,
    "start_time": "2023-05-27T13:33:31.644Z"
   },
   {
    "duration": 12,
    "start_time": "2023-05-27T13:33:31.830Z"
   },
   {
    "duration": 8,
    "start_time": "2023-05-27T13:33:32.002Z"
   },
   {
    "duration": 7,
    "start_time": "2023-05-27T13:33:32.182Z"
   },
   {
    "duration": 8,
    "start_time": "2023-05-27T13:33:32.487Z"
   },
   {
    "duration": 10,
    "start_time": "2023-05-27T13:33:32.682Z"
   },
   {
    "duration": 285,
    "start_time": "2023-05-27T13:33:33.725Z"
   },
   {
    "duration": 381,
    "start_time": "2023-05-27T13:33:35.620Z"
   },
   {
    "duration": 338,
    "start_time": "2023-05-27T13:33:37.112Z"
   },
   {
    "duration": 278,
    "start_time": "2023-05-27T13:33:38.283Z"
   },
   {
    "duration": 360,
    "start_time": "2023-05-27T13:33:39.272Z"
   },
   {
    "duration": 156,
    "start_time": "2023-05-27T13:33:40.589Z"
   },
   {
    "duration": 200,
    "start_time": "2023-05-27T13:33:41.008Z"
   },
   {
    "duration": 9,
    "start_time": "2023-05-27T13:33:41.573Z"
   },
   {
    "duration": 221,
    "start_time": "2023-05-27T13:33:42.109Z"
   },
   {
    "duration": 215,
    "start_time": "2023-05-27T13:33:43.577Z"
   },
   {
    "duration": 8,
    "start_time": "2023-05-27T13:33:44.776Z"
   },
   {
    "duration": 253,
    "start_time": "2023-05-27T13:33:45.852Z"
   },
   {
    "duration": 161,
    "start_time": "2023-05-27T13:33:46.864Z"
   },
   {
    "duration": 61,
    "start_time": "2023-05-27T13:33:47.820Z"
   },
   {
    "duration": 20,
    "start_time": "2023-05-27T13:33:48.978Z"
   },
   {
    "duration": 231,
    "start_time": "2023-05-27T13:33:50.471Z"
   },
   {
    "duration": 207,
    "start_time": "2023-05-27T13:34:50.480Z"
   },
   {
    "duration": 13,
    "start_time": "2023-05-27T13:34:51.610Z"
   },
   {
    "duration": 12,
    "start_time": "2023-05-27T13:34:52.682Z"
   },
   {
    "duration": 44,
    "start_time": "2023-05-27T13:34:52.882Z"
   },
   {
    "duration": 18,
    "start_time": "2023-05-27T13:34:53.810Z"
   },
   {
    "duration": 60,
    "start_time": "2023-05-28T12:58:14.495Z"
   },
   {
    "duration": 16,
    "start_time": "2023-05-28T12:58:14.673Z"
   },
   {
    "duration": 6,
    "start_time": "2023-05-28T12:58:14.851Z"
   },
   {
    "duration": 1382,
    "start_time": "2023-05-28T12:58:22.151Z"
   },
   {
    "duration": 313,
    "start_time": "2023-05-28T12:58:23.540Z"
   },
   {
    "duration": 2,
    "start_time": "2023-05-28T12:58:23.855Z"
   },
   {
    "duration": 64,
    "start_time": "2023-05-28T12:58:23.859Z"
   },
   {
    "duration": 21,
    "start_time": "2023-05-28T12:58:25.003Z"
   },
   {
    "duration": 20,
    "start_time": "2023-05-28T12:58:25.520Z"
   },
   {
    "duration": 22,
    "start_time": "2023-05-28T12:58:26.402Z"
   },
   {
    "duration": 10,
    "start_time": "2023-05-28T12:58:26.556Z"
   },
   {
    "duration": 15,
    "start_time": "2023-05-28T12:58:26.806Z"
   },
   {
    "duration": 21,
    "start_time": "2023-05-28T12:58:26.902Z"
   },
   {
    "duration": 19,
    "start_time": "2023-05-28T12:58:27.105Z"
   },
   {
    "duration": 18,
    "start_time": "2023-05-28T12:58:27.302Z"
   },
   {
    "duration": 4,
    "start_time": "2023-05-28T12:58:27.448Z"
   },
   {
    "duration": 14,
    "start_time": "2023-05-28T12:58:27.659Z"
   },
   {
    "duration": 14,
    "start_time": "2023-05-28T12:58:27.810Z"
   },
   {
    "duration": 15,
    "start_time": "2023-05-28T12:58:28.001Z"
   },
   {
    "duration": 8,
    "start_time": "2023-05-28T12:58:28.351Z"
   },
   {
    "duration": 7,
    "start_time": "2023-05-28T12:58:28.527Z"
   },
   {
    "duration": 68,
    "start_time": "2023-05-28T12:58:29.404Z"
   },
   {
    "duration": 12,
    "start_time": "2023-05-28T12:58:30.061Z"
   },
   {
    "duration": 15,
    "start_time": "2023-05-28T12:58:30.602Z"
   },
   {
    "duration": 12,
    "start_time": "2023-05-28T12:58:30.947Z"
   },
   {
    "duration": 10,
    "start_time": "2023-05-28T12:58:32.151Z"
   },
   {
    "duration": 133,
    "start_time": "2023-05-28T12:58:33.626Z"
   },
   {
    "duration": 209,
    "start_time": "2023-05-28T12:58:34.102Z"
   },
   {
    "duration": 11,
    "start_time": "2023-05-28T12:58:53.357Z"
   },
   {
    "duration": 24,
    "start_time": "2023-05-28T12:58:54.898Z"
   },
   {
    "duration": 16,
    "start_time": "2023-05-28T12:58:55.402Z"
   },
   {
    "duration": 11,
    "start_time": "2023-05-28T12:58:55.757Z"
   },
   {
    "duration": 18,
    "start_time": "2023-05-28T12:58:56.102Z"
   },
   {
    "duration": 160,
    "start_time": "2023-05-28T12:58:56.761Z"
   },
   {
    "duration": 227,
    "start_time": "2023-05-28T12:58:57.108Z"
   },
   {
    "duration": 6,
    "start_time": "2023-05-28T12:58:57.606Z"
   },
   {
    "duration": 224,
    "start_time": "2023-05-28T12:58:58.299Z"
   },
   {
    "duration": 204,
    "start_time": "2023-05-28T12:58:58.822Z"
   },
   {
    "duration": 5,
    "start_time": "2023-05-28T12:58:59.508Z"
   },
   {
    "duration": 275,
    "start_time": "2023-05-28T12:59:00.355Z"
   },
   {
    "duration": 148,
    "start_time": "2023-05-28T12:59:00.703Z"
   },
   {
    "duration": 64,
    "start_time": "2023-05-28T12:59:01.060Z"
   },
   {
    "duration": 25,
    "start_time": "2023-05-28T12:59:01.584Z"
   },
   {
    "duration": 207,
    "start_time": "2023-05-28T12:59:02.351Z"
   },
   {
    "duration": 17,
    "start_time": "2023-05-28T12:59:02.720Z"
   },
   {
    "duration": 7,
    "start_time": "2023-05-28T12:59:03.244Z"
   },
   {
    "duration": 54,
    "start_time": "2023-05-28T12:59:03.403Z"
   },
   {
    "duration": 28,
    "start_time": "2023-05-28T12:59:04.106Z"
   },
   {
    "duration": 1357,
    "start_time": "2023-05-28T17:17:35.368Z"
   },
   {
    "duration": 211,
    "start_time": "2023-05-28T17:17:36.728Z"
   },
   {
    "duration": 5,
    "start_time": "2023-05-28T17:17:36.942Z"
   },
   {
    "duration": 26,
    "start_time": "2023-05-28T17:17:36.949Z"
   },
   {
    "duration": 13,
    "start_time": "2023-05-28T17:17:36.976Z"
   },
   {
    "duration": 17,
    "start_time": "2023-05-28T17:17:37.335Z"
   },
   {
    "duration": 11,
    "start_time": "2023-05-28T17:17:38.115Z"
   },
   {
    "duration": 10,
    "start_time": "2023-05-28T17:17:38.284Z"
   },
   {
    "duration": 15,
    "start_time": "2023-05-28T17:17:38.458Z"
   },
   {
    "duration": 28,
    "start_time": "2023-05-28T17:17:38.596Z"
   },
   {
    "duration": 9,
    "start_time": "2023-05-28T17:17:38.752Z"
   },
   {
    "duration": 12,
    "start_time": "2023-05-28T17:17:38.909Z"
   },
   {
    "duration": 5,
    "start_time": "2023-05-28T17:17:39.083Z"
   },
   {
    "duration": 13,
    "start_time": "2023-05-28T17:17:39.220Z"
   },
   {
    "duration": 8,
    "start_time": "2023-05-28T17:17:39.379Z"
   },
   {
    "duration": 6,
    "start_time": "2023-05-28T17:17:39.571Z"
   },
   {
    "duration": 7,
    "start_time": "2023-05-28T17:17:40.257Z"
   },
   {
    "duration": 5,
    "start_time": "2023-05-28T17:17:40.406Z"
   },
   {
    "duration": 99,
    "start_time": "2023-05-28T17:17:41.554Z"
   },
   {
    "duration": 15,
    "start_time": "2023-05-28T17:17:43.023Z"
   },
   {
    "duration": 12,
    "start_time": "2023-05-28T17:17:43.383Z"
   },
   {
    "duration": 14,
    "start_time": "2023-05-28T17:17:43.713Z"
   },
   {
    "duration": 12,
    "start_time": "2023-05-28T17:17:44.063Z"
   },
   {
    "duration": 129,
    "start_time": "2023-05-28T17:17:44.695Z"
   },
   {
    "duration": 199,
    "start_time": "2023-05-28T17:17:44.999Z"
   },
   {
    "duration": 5,
    "start_time": "2023-05-28T17:17:45.488Z"
   },
   {
    "duration": 203,
    "start_time": "2023-05-28T17:17:46.158Z"
   },
   {
    "duration": 189,
    "start_time": "2023-05-28T17:17:46.660Z"
   },
   {
    "duration": 5,
    "start_time": "2023-05-28T17:17:47.394Z"
   },
   {
    "duration": 228,
    "start_time": "2023-05-28T17:17:49.721Z"
   },
   {
    "duration": 226,
    "start_time": "2023-05-28T17:17:50.860Z"
   },
   {
    "duration": 39,
    "start_time": "2023-05-28T17:17:51.303Z"
   },
   {
    "duration": 17,
    "start_time": "2023-05-28T17:17:52.016Z"
   },
   {
    "duration": 184,
    "start_time": "2023-05-28T17:17:53.716Z"
   },
   {
    "duration": 12,
    "start_time": "2023-05-28T17:17:54.016Z"
   },
   {
    "duration": 8,
    "start_time": "2023-05-28T17:17:54.491Z"
   },
   {
    "duration": 43,
    "start_time": "2023-05-28T17:17:54.661Z"
   },
   {
    "duration": 20,
    "start_time": "2023-05-28T17:17:55.200Z"
   },
   {
    "duration": 18,
    "start_time": "2023-05-28T17:46:32.504Z"
   },
   {
    "duration": 5,
    "start_time": "2023-05-28T17:46:56.549Z"
   },
   {
    "duration": 74,
    "start_time": "2023-05-28T17:46:56.901Z"
   },
   {
    "duration": 3,
    "start_time": "2023-05-28T17:46:57.071Z"
   },
   {
    "duration": 12,
    "start_time": "2023-05-28T17:46:57.252Z"
   },
   {
    "duration": 13,
    "start_time": "2023-05-28T17:46:57.951Z"
   },
   {
    "duration": 17,
    "start_time": "2023-05-28T17:46:58.464Z"
   },
   {
    "duration": 12,
    "start_time": "2023-05-28T17:46:59.337Z"
   },
   {
    "duration": 13,
    "start_time": "2023-05-28T17:46:59.500Z"
   },
   {
    "duration": 14,
    "start_time": "2023-05-28T17:46:59.686Z"
   },
   {
    "duration": 19,
    "start_time": "2023-05-28T17:46:59.877Z"
   },
   {
    "duration": 10,
    "start_time": "2023-05-28T17:47:00.062Z"
   },
   {
    "duration": 14,
    "start_time": "2023-05-28T17:47:00.251Z"
   },
   {
    "duration": 4,
    "start_time": "2023-05-28T17:47:00.395Z"
   },
   {
    "duration": 12,
    "start_time": "2023-05-28T17:47:00.572Z"
   },
   {
    "duration": 9,
    "start_time": "2023-05-28T17:47:00.767Z"
   },
   {
    "duration": 6,
    "start_time": "2023-05-28T17:47:00.956Z"
   },
   {
    "duration": 8,
    "start_time": "2023-05-28T17:47:01.296Z"
   },
   {
    "duration": 8,
    "start_time": "2023-05-28T17:47:01.451Z"
   },
   {
    "duration": 14,
    "start_time": "2023-05-28T17:47:02.367Z"
   },
   {
    "duration": 15,
    "start_time": "2023-05-28T17:47:03.070Z"
   },
   {
    "duration": 14,
    "start_time": "2023-05-28T17:48:04.370Z"
   },
   {
    "duration": 317,
    "start_time": "2023-05-28T17:48:27.260Z"
   },
   {
    "duration": 327,
    "start_time": "2023-05-28T17:48:34.743Z"
   },
   {
    "duration": 296,
    "start_time": "2023-05-28T17:48:35.400Z"
   },
   {
    "duration": 261,
    "start_time": "2023-05-28T17:49:02.065Z"
   },
   {
    "duration": 405,
    "start_time": "2023-05-28T17:49:03.301Z"
   },
   {
    "duration": 347,
    "start_time": "2023-05-28T17:49:03.708Z"
   },
   {
    "duration": 336,
    "start_time": "2023-05-28T17:49:04.074Z"
   },
   {
    "duration": 152,
    "start_time": "2023-05-28T17:49:06.006Z"
   },
   {
    "duration": 227,
    "start_time": "2023-05-28T17:49:07.340Z"
   },
   {
    "duration": 5,
    "start_time": "2023-05-28T17:49:08.856Z"
   },
   {
    "duration": 221,
    "start_time": "2023-05-28T17:49:09.502Z"
   },
   {
    "duration": 219,
    "start_time": "2023-05-28T17:49:10.043Z"
   },
   {
    "duration": 5,
    "start_time": "2023-05-28T17:49:11.102Z"
   },
   {
    "duration": 225,
    "start_time": "2023-05-28T17:49:12.076Z"
   },
   {
    "duration": 136,
    "start_time": "2023-05-28T17:49:12.406Z"
   },
   {
    "duration": 37,
    "start_time": "2023-05-28T17:49:12.767Z"
   },
   {
    "duration": 18,
    "start_time": "2023-05-28T17:49:13.537Z"
   },
   {
    "duration": 3,
    "start_time": "2023-05-28T17:51:16.937Z"
   },
   {
    "duration": 73,
    "start_time": "2023-05-28T17:51:17.259Z"
   },
   {
    "duration": 7,
    "start_time": "2023-05-28T17:51:17.440Z"
   },
   {
    "duration": 10,
    "start_time": "2023-05-28T17:51:17.606Z"
   },
   {
    "duration": 15,
    "start_time": "2023-05-28T17:51:18.258Z"
   },
   {
    "duration": 19,
    "start_time": "2023-05-28T17:51:18.733Z"
   },
   {
    "duration": 11,
    "start_time": "2023-05-28T17:51:19.504Z"
   },
   {
    "duration": 9,
    "start_time": "2023-05-28T17:51:19.664Z"
   },
   {
    "duration": 14,
    "start_time": "2023-05-28T17:51:19.840Z"
   },
   {
    "duration": 20,
    "start_time": "2023-05-28T17:51:19.984Z"
   },
   {
    "duration": 9,
    "start_time": "2023-05-28T17:51:20.153Z"
   },
   {
    "duration": 16,
    "start_time": "2023-05-28T17:51:20.336Z"
   },
   {
    "duration": 5,
    "start_time": "2023-05-28T17:51:20.484Z"
   },
   {
    "duration": 15,
    "start_time": "2023-05-28T17:51:20.653Z"
   },
   {
    "duration": 10,
    "start_time": "2023-05-28T17:51:20.808Z"
   },
   {
    "duration": 6,
    "start_time": "2023-05-28T17:51:20.961Z"
   },
   {
    "duration": 10,
    "start_time": "2023-05-28T17:51:21.290Z"
   },
   {
    "duration": 7,
    "start_time": "2023-05-28T17:51:21.461Z"
   },
   {
    "duration": 264,
    "start_time": "2023-05-28T17:51:22.263Z"
   },
   {
    "duration": 252,
    "start_time": "2023-05-28T17:51:22.763Z"
   },
   {
    "duration": 355,
    "start_time": "2023-05-28T17:51:24.136Z"
   },
   {
    "duration": 238,
    "start_time": "2023-05-28T17:51:24.682Z"
   },
   {
    "duration": 337,
    "start_time": "2023-05-28T17:51:25.270Z"
   },
   {
    "duration": 131,
    "start_time": "2023-05-28T17:51:26.456Z"
   },
   {
    "duration": 251,
    "start_time": "2023-05-28T17:51:26.961Z"
   },
   {
    "duration": 5,
    "start_time": "2023-05-28T17:51:27.582Z"
   },
   {
    "duration": 235,
    "start_time": "2023-05-28T17:51:28.301Z"
   },
   {
    "duration": 178,
    "start_time": "2023-05-28T17:51:28.858Z"
   },
   {
    "duration": 5,
    "start_time": "2023-05-28T17:51:29.884Z"
   },
   {
    "duration": 234,
    "start_time": "2023-05-28T17:51:30.789Z"
   },
   {
    "duration": 154,
    "start_time": "2023-05-28T17:51:31.154Z"
   },
   {
    "duration": 49,
    "start_time": "2023-05-28T17:51:31.532Z"
   },
   {
    "duration": 16,
    "start_time": "2023-05-28T17:51:32.077Z"
   },
   {
    "duration": 205,
    "start_time": "2023-05-28T17:51:32.801Z"
   },
   {
    "duration": 11,
    "start_time": "2023-05-28T17:51:33.580Z"
   },
   {
    "duration": 10,
    "start_time": "2023-05-28T17:51:34.233Z"
   },
   {
    "duration": 47,
    "start_time": "2023-05-28T17:51:34.432Z"
   },
   {
    "duration": 24,
    "start_time": "2023-05-28T17:51:36.241Z"
   },
   {
    "duration": 1265,
    "start_time": "2023-05-28T20:34:40.778Z"
   },
   {
    "duration": 227,
    "start_time": "2023-05-28T20:34:42.045Z"
   },
   {
    "duration": 3,
    "start_time": "2023-05-28T20:34:42.274Z"
   },
   {
    "duration": 16,
    "start_time": "2023-05-28T20:34:42.279Z"
   },
   {
    "duration": 23,
    "start_time": "2023-05-28T20:34:42.296Z"
   },
   {
    "duration": 13,
    "start_time": "2023-05-28T20:34:42.558Z"
   },
   {
    "duration": 10,
    "start_time": "2023-05-28T20:34:43.262Z"
   },
   {
    "duration": 8,
    "start_time": "2023-05-28T20:34:43.391Z"
   },
   {
    "duration": 11,
    "start_time": "2023-05-28T20:34:43.570Z"
   },
   {
    "duration": 20,
    "start_time": "2023-05-28T20:34:43.691Z"
   },
   {
    "duration": 7,
    "start_time": "2023-05-28T20:34:43.866Z"
   },
   {
    "duration": 11,
    "start_time": "2023-05-28T20:34:43.993Z"
   },
   {
    "duration": 5,
    "start_time": "2023-05-28T20:34:44.154Z"
   },
   {
    "duration": 17,
    "start_time": "2023-05-28T20:34:44.299Z"
   },
   {
    "duration": 7,
    "start_time": "2023-05-28T20:34:44.478Z"
   },
   {
    "duration": 6,
    "start_time": "2023-05-28T20:34:44.601Z"
   },
   {
    "duration": 8,
    "start_time": "2023-05-28T20:34:44.910Z"
   },
   {
    "duration": 7,
    "start_time": "2023-05-28T20:34:45.054Z"
   },
   {
    "duration": 90,
    "start_time": "2023-05-28T20:34:45.825Z"
   },
   {
    "duration": 14,
    "start_time": "2023-05-28T20:34:46.296Z"
   },
   {
    "duration": 11,
    "start_time": "2023-05-28T20:34:46.775Z"
   },
   {
    "duration": 13,
    "start_time": "2023-05-28T20:34:47.393Z"
   },
   {
    "duration": 13,
    "start_time": "2023-05-28T20:34:47.694Z"
   },
   {
    "duration": 173,
    "start_time": "2023-05-28T20:34:48.306Z"
   },
   {
    "duration": 183,
    "start_time": "2023-05-28T20:34:48.658Z"
   },
   {
    "duration": 5,
    "start_time": "2023-05-28T20:34:49.110Z"
   },
   {
    "duration": 184,
    "start_time": "2023-05-28T20:34:49.791Z"
   },
   {
    "duration": 183,
    "start_time": "2023-05-28T20:34:50.288Z"
   },
   {
    "duration": 5,
    "start_time": "2023-05-28T20:34:51.318Z"
   },
   {
    "duration": 231,
    "start_time": "2023-05-28T20:34:52.525Z"
   },
   {
    "duration": 144,
    "start_time": "2023-05-28T20:34:53.543Z"
   },
   {
    "duration": 47,
    "start_time": "2023-05-28T20:34:54.266Z"
   },
   {
    "duration": 19,
    "start_time": "2023-05-28T20:34:55.592Z"
   },
   {
    "duration": 173,
    "start_time": "2023-05-28T20:34:57.221Z"
   },
   {
    "duration": 11,
    "start_time": "2023-05-28T20:34:58.024Z"
   },
   {
    "duration": 8,
    "start_time": "2023-05-28T20:34:59.886Z"
   },
   {
    "duration": 37,
    "start_time": "2023-05-28T20:35:00.358Z"
   },
   {
    "duration": 18,
    "start_time": "2023-05-28T20:35:02.357Z"
   },
   {
    "duration": 3,
    "start_time": "2023-05-28T20:38:18.287Z"
   },
   {
    "duration": 73,
    "start_time": "2023-05-28T20:38:18.670Z"
   },
   {
    "duration": 3,
    "start_time": "2023-05-28T20:38:18.862Z"
   },
   {
    "duration": 8,
    "start_time": "2023-05-28T20:38:19.004Z"
   },
   {
    "duration": 13,
    "start_time": "2023-05-28T20:38:19.679Z"
   },
   {
    "duration": 13,
    "start_time": "2023-05-28T20:38:20.192Z"
   },
   {
    "duration": 9,
    "start_time": "2023-05-28T20:38:21.095Z"
   },
   {
    "duration": 9,
    "start_time": "2023-05-28T20:38:21.263Z"
   },
   {
    "duration": 11,
    "start_time": "2023-05-28T20:38:21.416Z"
   },
   {
    "duration": 17,
    "start_time": "2023-05-28T20:38:21.594Z"
   },
   {
    "duration": 8,
    "start_time": "2023-05-28T20:38:21.887Z"
   },
   {
    "duration": 11,
    "start_time": "2023-05-28T20:38:22.096Z"
   },
   {
    "duration": 4,
    "start_time": "2023-05-28T20:38:22.282Z"
   },
   {
    "duration": 12,
    "start_time": "2023-05-28T20:38:22.421Z"
   },
   {
    "duration": 7,
    "start_time": "2023-05-28T20:38:22.588Z"
   },
   {
    "duration": 6,
    "start_time": "2023-05-28T20:38:22.746Z"
   },
   {
    "duration": 7,
    "start_time": "2023-05-28T20:38:23.058Z"
   },
   {
    "duration": 7,
    "start_time": "2023-05-28T20:38:23.222Z"
   },
   {
    "duration": 12,
    "start_time": "2023-05-28T20:38:24.070Z"
   },
   {
    "duration": 288,
    "start_time": "2023-05-28T20:38:47.969Z"
   },
   {
    "duration": 358,
    "start_time": "2023-05-28T20:38:48.789Z"
   },
   {
    "duration": 226,
    "start_time": "2023-05-28T20:39:01.508Z"
   },
   {
    "duration": 386,
    "start_time": "2023-05-28T20:39:03.124Z"
   },
   {
    "duration": 309,
    "start_time": "2023-05-28T20:39:03.671Z"
   },
   {
    "duration": 286,
    "start_time": "2023-05-28T20:39:04.206Z"
   }
  ],
  "kernelspec": {
   "display_name": "Python 3 (ipykernel)",
   "language": "python",
   "name": "python3"
  },
  "language_info": {
   "codemirror_mode": {
    "name": "ipython",
    "version": 3
   },
   "file_extension": ".py",
   "mimetype": "text/x-python",
   "name": "python",
   "nbconvert_exporter": "python",
   "pygments_lexer": "ipython3",
   "version": "3.9.5"
  },
  "toc": {
   "base_numbering": 1,
   "nav_menu": {},
   "number_sections": true,
   "sideBar": true,
   "skip_h1_title": true,
   "title_cell": "Table of Contents",
   "title_sidebar": "Contents",
   "toc_cell": false,
   "toc_position": {},
   "toc_section_display": true,
   "toc_window_display": false
  }
 },
 "nbformat": 4,
 "nbformat_minor": 2
}
